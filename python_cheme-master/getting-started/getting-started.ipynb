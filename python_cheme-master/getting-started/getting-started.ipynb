{
 "cells": [
  {
   "cell_type": "markdown",
   "metadata": {},
   "source": [
    "<!--NOTEBOOK_HEADER-->\n",
    "*This notebook is adapted from course material from [CBE20255](https://jckantor.github.io/CBE20255)\n",
    "by Jeffrey Kantor (jeff at nd.edu); see original content [on Github](https://github.com/jckantor/CBE20255.git).\n",
    "The text is released under the [CC-BY-NC-ND-4.0 license](https://creativecommons.org/licenses/by-nc-nd/4.0/legalcode),\n",
    "and code is released under the [MIT license](https://opensource.org/licenses/MIT).*"
   ]
  },
  {
   "cell_type": "markdown",
   "metadata": {
    "colab_type": "text",
    "id": "ub8jClemdOv-"
   },
   "source": [
    "# Jupyter Notebooks"
   ]
  },
  {
   "cell_type": "markdown",
   "metadata": {
    "colab_type": "text",
    "id": "HlCqwbAEg6Fw"
   },
   "source": [
    "**[Jupyter Notebooks](https://Jupyter.org)**:\n",
    "\n",
    "- are interactive documents, like this one, that include formatted text and code\n",
    "- are simple JSON documents with a suffix `.ipynb`\n",
    "- can be uploaded, downloaded, and shared like any other digital document\n",
    "- are composed of individual cells containing either text (Markdown format), code, the output of a calculation, or raw \"NBConvert\" content\n",
    "\n",
    "The code cells can be written in different programming languages such as Python, R, and Julia."
   ]
  },
  {
   "cell_type": "raw",
   "metadata": {},
   "source": [
    "\\newpage"
   ]
  },
  {
   "cell_type": "markdown",
   "metadata": {},
   "source": [
    "## [Markdown cells](https://jupyter-notebook.readthedocs.io/en/stable/examples/Notebook/Working%20With%20Markdown%20Cells.html) \n",
    "\n",
    "Markdown is a popular markup language that is a superset of HTML. Its complete specification can be found [here](https://daringfireball.net/projects/markdown/).\n",
    "\n",
    "With Markdown, you can format the text portion of your notebook however you like.\n",
    "\n",
    "For example, you can make headings...\n",
    "```md\n",
    "#### This is a Fourth-Level Heading\n",
    "```\n",
    "#### This is a Fourth-Level Heading"
   ]
  },
  {
   "cell_type": "markdown",
   "metadata": {},
   "source": [
    "Or, you can make a list...\n",
    "```md\n",
    "- first item\n",
    "- second item\n",
    "- third item\n",
    "```\n",
    "- first item\n",
    "- second item\n",
    "- third item\n",
    "\n",
    "Or, you can use LaTeX for math equations...\n",
    "```md\n",
    "$E = m c^2$\n",
    "```\n",
    "$E = m c^2$"
   ]
  },
  {
   "cell_type": "raw",
   "metadata": {},
   "source": [
    "\\newpage"
   ]
  },
  {
   "cell_type": "markdown",
   "metadata": {},
   "source": [
    "## Code cells\n",
    "\n",
    "These are cells containing Python (or R or an other language depending on what your Jupyter installation supports).  \n",
    "You decide when you create the notebook.\n",
    "\n",
    "For example, the following cell demonstrates some basic Python types, arithmetic, and printing."
   ]
  },
  {
   "cell_type": "code",
   "execution_count": 1,
   "metadata": {
    "colab": {},
    "colab_type": "code",
    "id": "tHiS8xANdOwL",
    "outputId": "3c0fb60e-eda8-4b50-9932-ef5abf5e04cb",
    "scrolled": true
   },
   "outputs": [
    {
     "name": "stdout",
     "output_type": "stream",
     "text": [
      "a + b = 14\n",
      "type(a+b): <class 'int'>\n",
      "\n",
      "a**b = 144\n",
      "type(a**b): <class 'int'>\n",
      "\n",
      "a/b = 6.0\n",
      "type(a/b): <class 'float'>\n"
     ]
    }
   ],
   "source": [
    "a = 12\n",
    "b = 2\n",
    "print('a + b = {}'.format(a + b))\n",
    "print('type(a+b): {}'.format(type(a+b)))\n",
    "\n",
    "print('\\na**b = {}'.format(a**b))\n",
    "print('type(a**b): {}'.format(type(a**b)))\n",
    "\n",
    "print('\\na/b = {}'.format(a/b))\n",
    "print('type(a/b): {}'.format(type(a/b)))"
   ]
  },
  {
   "cell_type": "raw",
   "metadata": {},
   "source": [
    "\\newpage"
   ]
  },
  {
   "cell_type": "markdown",
   "metadata": {},
   "source": [
    "## Raw NBConvert cells\n",
    "\n",
    "A raw cell is defined as content that should be included unmodified when the notebook is converted with the commandline tool `nbconver` or via the `File -> Download As` dialog.\n",
    "\n",
    "For example, an NBConvert cell could include raw LaTeX for use when creating a pdf or restructured text for use in Sphinx documentation.\n",
    "\n",
    "In this notebook, there are NBConvert cells with the LaTeX command `\\newpage` for adding page breaks when the file is converted to a pdf with `pdfLatex`."
   ]
  },
  {
   "cell_type": "raw",
   "metadata": {},
   "source": [
    "\\newpage"
   ]
  },
  {
   "cell_type": "markdown",
   "metadata": {},
   "source": [
    "# Modules \n",
    "\n",
    "One of the best features of Python is the ability to extend it's functionality by importing special purpose libraries of functions, or modules. Three different ways to define a module in Python:\n",
    "\n",
    "- A module can be written in Python itself.\n",
    "- A module can be written in C and loaded dynamically at run-time, like the re (regular expression) module.\n",
    "- A built-in module is intrinsically contained in the interpreter, like the itertools module.\n",
    "- A module’s contents are accessed the same way in all three cases: with the import statement."
   ]
  },
  {
   "cell_type": "raw",
   "metadata": {},
   "source": [
    "\\newpage"
   ]
  },
  {
   "cell_type": "markdown",
   "metadata": {},
   "source": [
    "# Packages\n",
    "\n",
    "- A way to organize large modules of methods, functions, classes, etc, into separate namespaces.\n",
    "\n",
    "- Hierarchical dot namespace notation.\n",
    "\n",
    "- Also helps by allowing you to import only specific portions of your code, saving memory."
   ]
  },
  {
   "cell_type": "raw",
   "metadata": {},
   "source": [
    "\\newpage"
   ]
  },
  {
   "cell_type": "markdown",
   "metadata": {},
   "source": [
    "## Package heirarchy = file system heirarchy\n",
    "\n",
    "Packages use the operating system’s inherent hierarchical file structure.\n",
    "\n",
    "<img src=\"fig/package_heirarchy.png\">\n",
    "\n",
    "```python\n",
    "import pkg.mod1, pkg.mod2\n",
    "pkg.mod1.method_in_mod1()\n",
    "pkg.mod2.method_in_mod2()\n",
    "```"
   ]
  },
  {
   "cell_type": "raw",
   "metadata": {},
   "source": [
    "\\includegraphics[scale=1.0]{fig/package_heirarchy.png}\n",
    "\\newpage"
   ]
  },
  {
   "cell_type": "markdown",
   "metadata": {
    "colab_type": "text",
    "id": "NLvYtMzqdOwI"
   },
   "source": [
    "# Some Basic Python for Science and Engineering"
   ]
  },
  {
   "cell_type": "markdown",
   "metadata": {},
   "source": [
    "## Scientific computing with numpy"
   ]
  },
  {
   "cell_type": "markdown",
   "metadata": {
    "colab_type": "text",
    "id": "MoVqT__pdOwP"
   },
   "source": [
    "The [`numpy` library](https://numpy.org/) is the fundamental package for scientific computing with Python. It contains, among other things:\n",
    "\n",
    "- a powerful N-dimensional array object\n",
    "- sophisticated (broadcasting) functions\n",
    "- tools for integrating C/C++ and Fortran code\n",
    "- useful linear algebra, Fourier transform, and random number capabilities\n",
    "\n",
    "This next cell shows how to import `numpy` with the prefix `np`, then use it to call a common function:"
   ]
  },
  {
   "cell_type": "code",
   "execution_count": 2,
   "metadata": {
    "colab": {},
    "colab_type": "code",
    "id": "qaWjJLpPdOwQ",
    "outputId": "b592d447-a49e-4261-f36b-7d19188ea5d3"
   },
   "outputs": [
    {
     "data": {
      "text/plain": [
       "1.0"
      ]
     },
     "execution_count": 2,
     "metadata": {},
     "output_type": "execute_result"
    }
   ],
   "source": [
    "import numpy as np\n",
    "np.sin(np.pi/2)"
   ]
  },
  {
   "cell_type": "raw",
   "metadata": {},
   "source": [
    "\\newpage"
   ]
  },
  {
   "cell_type": "markdown",
   "metadata": {
    "colab_type": "text",
    "id": "FEQz3ZaddOwT"
   },
   "source": [
    "## Lists"
   ]
  },
  {
   "cell_type": "markdown",
   "metadata": {
    "colab_type": "text",
    "id": "PuQyiwjwdOwT"
   },
   "source": [
    "Lists are a versatile way of organizing your data in Python."
   ]
  },
  {
   "cell_type": "code",
   "execution_count": 3,
   "metadata": {
    "colab": {},
    "colab_type": "code",
    "id": "KNekErcidOwV",
    "outputId": "027d078b-6ce8-42f2-c8fb-eb4ca6eddb2c"
   },
   "outputs": [
    {
     "name": "stdout",
     "output_type": "stream",
     "text": [
      "[1, 2, 3, 4]\n"
     ]
    }
   ],
   "source": [
    "xList = [1, 2, 3, 4]\n",
    "print(xList)"
   ]
  },
  {
   "cell_type": "markdown",
   "metadata": {
    "colab_type": "text",
    "id": "Qx1TyoKPdOwY"
   },
   "source": [
    "Concatentation is the operation of joining one list to another. "
   ]
  },
  {
   "cell_type": "code",
   "execution_count": 4,
   "metadata": {
    "colab": {},
    "colab_type": "code",
    "id": "27RQ4lVCdOwZ",
    "outputId": "45135d5b-f30d-492b-ca60-c816f2c06eb5"
   },
   "outputs": [
    {
     "data": {
      "text/plain": [
       "[1, 2, 3, 4, 5, 6, 7, 8]"
      ]
     },
     "execution_count": 4,
     "metadata": {},
     "output_type": "execute_result"
    }
   ],
   "source": [
    "# Concatenation\n",
    "x = [1, 2, 3, 4];\n",
    "y = [5, 6, 7, 8];\n",
    "\n",
    "x + y"
   ]
  },
  {
   "cell_type": "raw",
   "metadata": {},
   "source": [
    "\\newpage"
   ]
  },
  {
   "cell_type": "markdown",
   "metadata": {
    "colab_type": "text",
    "id": "WFvsUiyOdOwb"
   },
   "source": [
    "A common operation is to apply a binary operation to elements of a single list. For an example such as arithmetic addition, this can be done using the `sum` function from `numpy`."
   ]
  },
  {
   "cell_type": "code",
   "execution_count": 5,
   "metadata": {
    "colab": {},
    "colab_type": "code",
    "id": "3uvuKZRTdOwc",
    "outputId": "06b2040c-63bb-4905-d090-6a61367c20a4"
   },
   "outputs": [
    {
     "name": "stdout",
     "output_type": "stream",
     "text": [
      "10\n"
     ]
    }
   ],
   "source": [
    "# Two ways to sum a list of numbers\n",
    "print(np.sum(x))"
   ]
  },
  {
   "cell_type": "markdown",
   "metadata": {
    "colab_type": "text",
    "id": "ERV4Nw5UdOwf"
   },
   "source": [
    "A **for loop** is a means for iterating over the elements of a list. The colon marks the start of code that will be executed for each element of a list. \n",
    "\n",
    "**Indentation** is very important in Python. \n",
    "\n",
    "In the cell below, everything in the indented block will be executed on each iteration of the for loop."
   ]
  },
  {
   "cell_type": "code",
   "execution_count": 6,
   "metadata": {
    "colab": {},
    "colab_type": "code",
    "id": "2lQNC1GddOwg",
    "outputId": "70335dd5-1449-4c3f-b16c-351f72895d5b"
   },
   "outputs": [
    {
     "name": "stdout",
     "output_type": "stream",
     "text": [
      "x: 1\tsin(x): 1.2246467991473532e-16\n",
      "x: 2\tsin(x): 1.0\n",
      "x: 3\tsin(x): 0.8660254037844386\n",
      "x: 4\tsin(x): 0.7071067811865475\n"
     ]
    }
   ],
   "source": [
    "for x in xList:\n",
    "    print('x: {}\\tsin(x): {}'.format(x, np.sin(np.pi/x)))"
   ]
  },
  {
   "cell_type": "raw",
   "metadata": {},
   "source": [
    "\\newpage"
   ]
  },
  {
   "cell_type": "markdown",
   "metadata": {
    "colab_type": "text",
    "id": "azHKUfrHdOwj"
   },
   "source": [
    "**List comprehension** is a very useful tool for creating a new list using data from an existing list. For example, suppose you want a list consisting random numbers.  The `random.random()` function below returns a random floating point number in the range $[0.0, 1.0)$."
   ]
  },
  {
   "cell_type": "code",
   "execution_count": 7,
   "metadata": {
    "colab": {},
    "colab_type": "code",
    "id": "v-wqo344dOwl",
    "outputId": "527aabbe-7ddb-4d77-bb35-b70b6026995a",
    "scrolled": true
   },
   "outputs": [
    {
     "data": {
      "text/plain": [
       "[0.9655671267273181,\n",
       " 1.7768231524796403,\n",
       " 2.111193336375665,\n",
       " 3.277954787209489,\n",
       " 4.744107677608763,\n",
       " 5.62074341883594,\n",
       " 6.633566843920021,\n",
       " 7.514551643135531,\n",
       " 8.469561311177692,\n",
       " 9.478905635245377]"
      ]
     },
     "execution_count": 7,
     "metadata": {},
     "output_type": "execute_result"
    }
   ],
   "source": [
    "from random import random\n",
    "\n",
    "[i + random() for i in range(0,10)]"
   ]
  },
  {
   "cell_type": "raw",
   "metadata": {},
   "source": [
    "\\newpage"
   ]
  },
  {
   "cell_type": "markdown",
   "metadata": {
    "colab_type": "text",
    "id": "K3IUohOGdOwo"
   },
   "source": [
    "## Dictionaries"
   ]
  },
  {
   "cell_type": "markdown",
   "metadata": {
    "colab_type": "text",
    "id": "A0wFoRPIdOwp"
   },
   "source": [
    "Dictionaries are useful for storing and retrieving data as **key-value pairs**.  For example, here is a short dictionary of molar masses. The keys are molecular formulas, and the values are the corresponding molar masses."
   ]
  },
  {
   "cell_type": "code",
   "execution_count": 8,
   "metadata": {
    "colab": {},
    "colab_type": "code",
    "id": "tdy5Uz0YdOwr",
    "outputId": "1660f0ad-da69-49f2-b44d-571b0a86441b"
   },
   "outputs": [
    {
     "name": "stdout",
     "output_type": "stream",
     "text": [
      "{'CH4': 16.04, 'H2O': 18.02, 'O2': 32.0, 'CO2': 44.01}\n"
     ]
    }
   ],
   "source": [
    "mw = {'CH4': 16.04, 'H2O': 18.02, 'O2':32.00, 'CO2': 44.01}\n",
    "print(mw)"
   ]
  },
  {
   "cell_type": "markdown",
   "metadata": {
    "colab_type": "text",
    "id": "7z0wjD94dOwu"
   },
   "source": [
    "We can add a value to an existing dictionary by simply specifying the variable with a new key and equating it to a value."
   ]
  },
  {
   "cell_type": "code",
   "execution_count": 9,
   "metadata": {
    "colab": {},
    "colab_type": "code",
    "id": "PsDuwnM_dOww",
    "outputId": "273fd808-4aec-4f1e-a1b5-c74509d46fb1"
   },
   "outputs": [
    {
     "name": "stdout",
     "output_type": "stream",
     "text": [
      "{'CH4': 16.04, 'H2O': 18.02, 'O2': 32.0, 'CO2': 44.01, 'C8H18': 114.23}\n"
     ]
    }
   ],
   "source": [
    "mw['C8H18'] = 114.23\n",
    "print(mw)"
   ]
  },
  {
   "cell_type": "markdown",
   "metadata": {
    "colab_type": "text",
    "id": "2bv2O_vhdOw1"
   },
   "source": [
    "We can retrieve a value from a dictionary."
   ]
  },
  {
   "cell_type": "code",
   "execution_count": 10,
   "metadata": {
    "colab": {},
    "colab_type": "code",
    "id": "FsfBuSZbdOw1",
    "outputId": "ede088e7-0f45-4529-d9f5-17dd3860eea4"
   },
   "outputs": [
    {
     "data": {
      "text/plain": [
       "16.04"
      ]
     },
     "execution_count": 10,
     "metadata": {},
     "output_type": "execute_result"
    }
   ],
   "source": [
    "mw['CH4']"
   ]
  },
  {
   "cell_type": "raw",
   "metadata": {},
   "source": [
    "\\newpage"
   ]
  },
  {
   "cell_type": "markdown",
   "metadata": {
    "colab_type": "text",
    "id": "6P6YjVDwdOw6"
   },
   "source": [
    "A for loop is a useful means of interating over all key-value pairs of a dictionary."
   ]
  },
  {
   "cell_type": "code",
   "execution_count": 11,
   "metadata": {
    "colab": {},
    "colab_type": "code",
    "id": "YkPMDAw-dOw7",
    "outputId": "965778f0-b25c-457e-8002-dd9f82b94fad",
    "scrolled": true
   },
   "outputs": [
    {
     "name": "stdout",
     "output_type": "stream",
     "text": [
      "The molar mass of CH4 is 16.04  \n",
      "The molar mass of H2O is 18.02  \n",
      "The molar mass of O2 is 32.00  \n",
      "The molar mass of CO2 is 44.01  \n",
      "The molar mass of C8H18 is 114.23 \n"
     ]
    }
   ],
   "source": [
    "for species in mw.keys():\n",
    "    print('The molar mass of {:<s} is {:<7.2f}'.format(species, mw[species]))"
   ]
  },
  {
   "cell_type": "raw",
   "metadata": {},
   "source": [
    "\\newpage"
   ]
  },
  {
   "cell_type": "markdown",
   "metadata": {
    "colab_type": "text",
    "id": "bTxvlcVZdOw-"
   },
   "source": [
    "Dictionaries can be sorted by key or by value."
   ]
  },
  {
   "cell_type": "code",
   "execution_count": 12,
   "metadata": {
    "colab": {},
    "colab_type": "code",
    "id": "c6cUv4AddOw_",
    "outputId": "83d25f78-d34c-4c5a-94b8-0e1b075269b1"
   },
   "outputs": [
    {
     "name": "stdout",
     "output_type": "stream",
     "text": [
      " C8H18      114.23\n",
      " CH4         16.04\n",
      " CO2         44.01\n",
      " H2O         18.02\n",
      " O2          32.00\n"
     ]
    }
   ],
   "source": [
    "for species in sorted(mw):\n",
    "    print(\" {:<8s}  {:>7.2f}\".format(species, mw[species]))"
   ]
  },
  {
   "cell_type": "code",
   "execution_count": 13,
   "metadata": {
    "colab": {},
    "colab_type": "code",
    "id": "0CQdhGm9dOxF",
    "outputId": "1a7d2441-7574-4dff-d972-793129e26bc9"
   },
   "outputs": [
    {
     "name": "stdout",
     "output_type": "stream",
     "text": [
      " CH4         16.04\n",
      " H2O         18.02\n",
      " O2          32.00\n",
      " CO2         44.01\n",
      " C8H18      114.23\n"
     ]
    }
   ],
   "source": [
    "for species in sorted(mw, key = mw.get):\n",
    "    print(\" {:<8s}  {:>7.2f}\".format(species, mw[species]))"
   ]
  },
  {
   "cell_type": "raw",
   "metadata": {},
   "source": [
    "\\newpage"
   ]
  },
  {
   "cell_type": "markdown",
   "metadata": {
    "colab_type": "text",
    "id": "tCAFS5j6dOxI"
   },
   "source": [
    "## Plotting with matplotlib"
   ]
  },
  {
   "cell_type": "markdown",
   "metadata": {
    "colab_type": "text",
    "id": "3Vneyg9wdOxI"
   },
   "source": [
    "Importing the [`matplotlib.pyplot`](https://matplotlib.org) library gives Jupyter notebooks plotting functionality very similar to Matlab's. Here are some examples using functions from the library."
   ]
  },
  {
   "cell_type": "code",
   "execution_count": 14,
   "metadata": {
    "colab": {},
    "colab_type": "code",
    "id": "A1RIkEcPdOxJ",
    "outputId": "cdc4220b-756a-4d36-f407-f687e0fa816a"
   },
   "outputs": [
    {
     "data": {
      "image/png": "[encoded data removed]",
      "text/plain": [
       "<Figure size 432x288 with 1 Axes>"
      ]
     },
     "metadata": {
      "needs_background": "light"
     },
     "output_type": "display_data"
    }
   ],
   "source": [
    "import matplotlib.pyplot as plt\n",
    "import numpy as np # note: this isn't necessary to do again in the same Python session\n",
    "# sets matplotlib backend to 'inline'; if omitted, you need a plt.show() command\n",
    "%matplotlib inline \n",
    "\n",
    "x = np.linspace(0,10)\n",
    "y = np.sin(x)\n",
    "z = np.cos(x)\n",
    "plt.plot(x,y,'b', x,z,'r')\n",
    "plt.xlabel('Radians');\n",
    "plt.ylabel('Value');\n",
    "plt.title('Plotting Demonstration')\n",
    "plt.legend(['Sin','Cos'])\n",
    "plt.grid(True)"
   ]
  },
  {
   "cell_type": "raw",
   "metadata": {},
   "source": [
    "\\newpage"
   ]
  },
  {
   "cell_type": "code",
   "execution_count": 15,
   "metadata": {
    "colab": {},
    "colab_type": "code",
    "id": "EsQgcqBqdOxO",
    "outputId": "ad1b2c5b-ac14-45fe-98a6-76270c63523d",
    "scrolled": true
   },
   "outputs": [
    {
     "data": {
      "image/png": "[encoded data removed]",
      "text/plain": [
       "<Figure size 432x288 with 2 Axes>"
      ]
     },
     "metadata": {
      "needs_background": "light"
     },
     "output_type": "display_data"
    }
   ],
   "source": [
    "plt.subplot(2,1,1) # 2 rows, 1 column, 1st plot\n",
    "plt.plot(x,y)\n",
    "plt.title('Sin(x)')\n",
    "plt.subplot(2,1,2) # 2 rows, 1 column, 2nd plot\n",
    "plt.plot(x,z)\n",
    "plt.title('Cos(x)');"
   ]
  }
 ],
 "metadata": {
  "colab": {
   "collapsed_sections": [],
   "name": "Getting_Started_with_Jupyter_Notebooks_and_Python.ipynb",
   "provenance": [],
   "toc_visible": true,
   "version": "0.3.2"
  },
  "kernelspec": {
   "display_name": "Python 3",
   "language": "python",
   "name": "python3"
  },
  "language_info": {
   "codemirror_mode": {
    "name": "ipython",
    "version": 3
   },
   "file_extension": ".py",
   "mimetype": "text/x-python",
   "name": "python",
   "nbconvert_exporter": "python",
   "pygments_lexer": "ipython3",
   "version": "3.7.2"
  }
 },
 "nbformat": 4,
 "nbformat_minor": 2
}
