{
 "cells": [
  {
   "cell_type": "markdown",
   "metadata": {},
   "source": [
    "# Using Python for Research Homework: Week 5, Case Study Part 2\n",
    "\n",
    "The [movie dataset on which this case study is based](https://www.kaggle.com/tmdb/tmdb-movie-metadata) is a database of 5000 movies catalogued by [The Movie Database (TMDb)](https://www.themoviedb.org/?language=en). The information available about each movie is its budget, revenue, rating, actors and actresses, etc. In this case study, we will use this dataset to determine whether any information about a movie can predict the total revenue of a movie. We will also attempt to predict whether a movie's revenue will exceed its budget.\n",
    "\n",
    "In Part 2, we will use the dataset prepared in Part 1 for an applied analysis."
   ]
  },
  {
   "cell_type": "code",
<<<<<<< HEAD
   "execution_count": 5,
   "metadata": {},
   "outputs": [
    {
     "data": {
      "text/html": [
       "<div>\n",
       "<style scoped>\n",
       "    .dataframe tbody tr th:only-of-type {\n",
       "        vertical-align: middle;\n",
       "    }\n",
       "\n",
       "    .dataframe tbody tr th {\n",
       "        vertical-align: top;\n",
       "    }\n",
       "\n",
       "    .dataframe thead th {\n",
       "        text-align: right;\n",
       "    }\n",
       "</style>\n",
       "<table border=\"1\" class=\"dataframe\">\n",
       "  <thead>\n",
       "    <tr style=\"text-align: right;\">\n",
       "      <th></th>\n",
       "      <th>Unnamed: 0</th>\n",
       "      <th>index</th>\n",
       "      <th>budget</th>\n",
       "      <th>genres</th>\n",
       "      <th>homepage</th>\n",
       "      <th>id</th>\n",
       "      <th>keywords</th>\n",
       "      <th>original_language</th>\n",
       "      <th>original_title</th>\n",
       "      <th>overview</th>\n",
       "      <th>...</th>\n",
       "      <th>Crime</th>\n",
       "      <th>Thriller</th>\n",
       "      <th>Horror</th>\n",
       "      <th>Animation</th>\n",
       "      <th>Documentary</th>\n",
       "      <th>Music</th>\n",
       "      <th>Mystery</th>\n",
       "      <th>TV Movie</th>\n",
       "      <th>War</th>\n",
       "      <th>Fantasy</th>\n",
       "    </tr>\n",
       "  </thead>\n",
       "  <tbody>\n",
       "    <tr>\n",
       "      <th>1401</th>\n",
       "      <td>1401</td>\n",
       "      <td>4758</td>\n",
       "      <td>4000000</td>\n",
       "      <td>Thriller, Science Fiction</td>\n",
       "      <td>https://www.facebook.com/thesignalfilm</td>\n",
       "      <td>242095</td>\n",
       "      <td>hacker, supernatural powers, road trip, indepe...</td>\n",
       "      <td>en</td>\n",
       "      <td>The Signal</td>\n",
       "      <td>Three college students on a road trip across t...</td>\n",
       "      <td>...</td>\n",
       "      <td>0</td>\n",
       "      <td>1</td>\n",
       "      <td>0</td>\n",
       "      <td>0</td>\n",
       "      <td>0</td>\n",
       "      <td>0</td>\n",
       "      <td>0</td>\n",
       "      <td>0</td>\n",
       "      <td>0</td>\n",
       "      <td>0</td>\n",
       "    </tr>\n",
       "    <tr>\n",
       "      <th>1402</th>\n",
       "      <td>1402</td>\n",
       "      <td>4766</td>\n",
       "      <td>0</td>\n",
       "      <td>Documentary, Music</td>\n",
       "      <td>http://www.mgm.com/#/our-titles/1092/The-Last-...</td>\n",
       "      <td>13963</td>\n",
       "      <td>1970s, music</td>\n",
       "      <td>en</td>\n",
       "      <td>The Last Waltz</td>\n",
       "      <td>Martin Scorsese's rockumentary intertwines foo...</td>\n",
       "      <td>...</td>\n",
       "      <td>0</td>\n",
       "      <td>0</td>\n",
       "      <td>0</td>\n",
       "      <td>0</td>\n",
       "      <td>1</td>\n",
       "      <td>1</td>\n",
       "      <td>0</td>\n",
       "      <td>0</td>\n",
       "      <td>0</td>\n",
       "      <td>0</td>\n",
       "    </tr>\n",
       "    <tr>\n",
       "      <th>1403</th>\n",
       "      <td>1403</td>\n",
       "      <td>4773</td>\n",
       "      <td>27000</td>\n",
       "      <td>Comedy</td>\n",
       "      <td>http://www.miramax.com/movie/clerks/</td>\n",
       "      <td>2292</td>\n",
       "      <td>salesclerk, loser, aftercreditsstinger</td>\n",
       "      <td>en</td>\n",
       "      <td>Clerks</td>\n",
       "      <td>Convenience and video store clerks Dante and R...</td>\n",
       "      <td>...</td>\n",
       "      <td>0</td>\n",
       "      <td>0</td>\n",
       "      <td>0</td>\n",
       "      <td>0</td>\n",
       "      <td>0</td>\n",
       "      <td>0</td>\n",
       "      <td>0</td>\n",
       "      <td>0</td>\n",
       "      <td>0</td>\n",
       "      <td>0</td>\n",
       "    </tr>\n",
       "    <tr>\n",
       "      <th>1404</th>\n",
       "      <td>1404</td>\n",
       "      <td>4791</td>\n",
       "      <td>13</td>\n",
       "      <td>Horror</td>\n",
       "      <td>http://tincanmanthemovie.com/</td>\n",
       "      <td>157185</td>\n",
       "      <td>home invasion</td>\n",
       "      <td>en</td>\n",
       "      <td>Tin Can Man</td>\n",
       "      <td>Recently dumped by his girlfirend for another ...</td>\n",
       "      <td>...</td>\n",
       "      <td>0</td>\n",
       "      <td>0</td>\n",
       "      <td>1</td>\n",
       "      <td>0</td>\n",
       "      <td>0</td>\n",
       "      <td>0</td>\n",
       "      <td>0</td>\n",
       "      <td>0</td>\n",
       "      <td>0</td>\n",
       "      <td>0</td>\n",
       "    </tr>\n",
       "    <tr>\n",
       "      <th>1405</th>\n",
       "      <td>1405</td>\n",
       "      <td>4796</td>\n",
       "      <td>7000</td>\n",
       "      <td>Science Fiction, Drama, Thriller</td>\n",
       "      <td>http://www.primermovie.com</td>\n",
       "      <td>14337</td>\n",
       "      <td>distrust, garage, identity crisis, time travel...</td>\n",
       "      <td>en</td>\n",
       "      <td>Primer</td>\n",
       "      <td>Friends/fledgling entrepreneurs invent a devic...</td>\n",
       "      <td>...</td>\n",
       "      <td>0</td>\n",
       "      <td>1</td>\n",
       "      <td>0</td>\n",
       "      <td>0</td>\n",
       "      <td>0</td>\n",
       "      <td>0</td>\n",
       "      <td>0</td>\n",
       "      <td>0</td>\n",
       "      <td>0</td>\n",
       "      <td>0</td>\n",
       "    </tr>\n",
       "  </tbody>\n",
       "</table>\n",
       "<p>5 rows × 45 columns</p>\n",
       "</div>"
      ],
      "text/plain": [
       "      Unnamed: 0  index   budget                            genres  \\\n",
       "1401        1401   4758  4000000         Thriller, Science Fiction   \n",
       "1402        1402   4766        0                Documentary, Music   \n",
       "1403        1403   4773    27000                            Comedy   \n",
       "1404        1404   4791       13                            Horror   \n",
       "1405        1405   4796     7000  Science Fiction, Drama, Thriller   \n",
       "\n",
       "                                               homepage      id  \\\n",
       "1401             https://www.facebook.com/thesignalfilm  242095   \n",
       "1402  http://www.mgm.com/#/our-titles/1092/The-Last-...   13963   \n",
       "1403               http://www.miramax.com/movie/clerks/    2292   \n",
       "1404                      http://tincanmanthemovie.com/  157185   \n",
       "1405                         http://www.primermovie.com   14337   \n",
       "\n",
       "                                               keywords original_language  \\\n",
       "1401  hacker, supernatural powers, road trip, indepe...                en   \n",
       "1402                                       1970s, music                en   \n",
       "1403             salesclerk, loser, aftercreditsstinger                en   \n",
       "1404                                      home invasion                en   \n",
       "1405  distrust, garage, identity crisis, time travel...                en   \n",
       "\n",
       "      original_title                                           overview  ...  \\\n",
       "1401      The Signal  Three college students on a road trip across t...  ...   \n",
       "1402  The Last Waltz  Martin Scorsese's rockumentary intertwines foo...  ...   \n",
       "1403          Clerks  Convenience and video store clerks Dante and R...  ...   \n",
       "1404     Tin Can Man  Recently dumped by his girlfirend for another ...  ...   \n",
       "1405          Primer  Friends/fledgling entrepreneurs invent a devic...  ...   \n",
       "\n",
       "      Crime Thriller Horror Animation  Documentary  Music Mystery TV Movie  \\\n",
       "1401      0        1      0         0            0      0       0        0   \n",
       "1402      0        0      0         0            1      1       0        0   \n",
       "1403      0        0      0         0            0      0       0        0   \n",
       "1404      0        0      1         0            0      0       0        0   \n",
       "1405      0        1      0         0            0      0       0        0   \n",
       "\n",
       "     War Fantasy  \n",
       "1401   0       0  \n",
       "1402   0       0  \n",
       "1403   0       0  \n",
       "1404   0       0  \n",
       "1405   0       0  \n",
       "\n",
       "[5 rows x 45 columns]"
      ]
     },
     "execution_count": 5,
     "metadata": {},
     "output_type": "execute_result"
    }
   ],
=======
   "execution_count": null,
   "metadata": {},
   "outputs": [],
>>>>>>> Initial commit
   "source": [
    "# DO NOT EDIT THIS CODE\n",
    "import pandas as pd\n",
    "import numpy as np\n",
    "\n",
    "from sklearn.model_selection import cross_val_score\n",
    "from sklearn.linear_model import LinearRegression\n",
    "from sklearn.linear_model import LogisticRegression\n",
    "from sklearn.ensemble import RandomForestRegressor\n",
    "from sklearn.ensemble import RandomForestClassifier\n",
    "\n",
    "from sklearn.metrics import accuracy_score\n",
    "from sklearn.metrics import r2_score\n",
    "\n",
    "import matplotlib.pyplot as plt\n",
    "\n",
    "import warnings\n",
    "warnings.filterwarnings(\"ignore\")\n",
    "\n",
    "# EDIT THIS CODE TO LOAD THE SAVED DF FROM THE LAST HOMEWORK\n",
<<<<<<< HEAD
    "df = pd.read_csv('movies_clean.csv')\n",
    "df.tail()"
=======
    "df = pd.read_csv('movies_clean.csv')"
>>>>>>> Initial commit
   ]
  },
  {
   "cell_type": "markdown",
   "metadata": {},
   "source": [
    "### Exercise 1\n",
    "\n",
    "In Part 2 of this case study, we will primarily use the two models we recently discussed: linear/logistic regression and random forests to perform prediction and classification. We will use these methods to predict revenue, and we will use logistic regression to classify whether a movie was profitable.\n",
    "\n",
    "In this exercise, we will instantiate regression and classification models. Code is provided that prepares the covariates and outcomes we will use for data analysis.\n",
    "\n",
    "#### Instructions\n",
    "- Instantiate `LinearRegression()`, `LogisticRegression()`, `RandomForestRegressor()`, and `RandomForestClassifier()` objects, and assign them to `linear_regression`, `logistic_regression`, `forest_regression`, and `forest_classifier`, respectively.\n",
    "- For the random forests models, specify `max_depth=4` and `random_state=0`."
   ]
  },
  {
   "cell_type": "code",
<<<<<<< HEAD
   "execution_count": 6,
=======
   "execution_count": null,
>>>>>>> Initial commit
   "metadata": {},
   "outputs": [],
   "source": [
    "# Define all covariates and outcomes from `df`.\n",
    "regression_target = 'revenue'\n",
    "classification_target = 'profitable'\n",
    "all_covariates = ['budget', 'popularity', 'runtime', 'vote_count', 'vote_average', 'Action', 'Adventure', 'Fantasy', \n",
    "                  'Science Fiction', 'Crime', 'Drama', 'Thriller', 'Animation', 'Family', 'Western', 'Comedy', 'Romance', \n",
    "                  'Horror', 'Mystery', 'War', 'History', 'Music', 'Documentary', 'TV Movie', 'Foreign']\n",
    "\n",
    "regression_outcome = df[regression_target]\n",
    "classification_outcome = df[classification_target]\n",
    "covariates = df[all_covariates]\n",
    "\n",
    "# Instantiate all regression models and classifiers.\n",
<<<<<<< HEAD
    "linear_regression = LinearRegression(fit_intercept=True)\n",
    "logistic_regression = LogisticRegression()\n",
    "forest_regression = RandomForestRegressor(max_depth=4, random_state=0)\n",
    "forest_classifier = RandomForestClassifier(max_depth=4, random_state=0)"
=======
    "linear_regression = \n",
    "logistic_regression = \n",
    "forest_regression = \n",
    "forest_classifier = "
>>>>>>> Initial commit
   ]
  },
  {
   "cell_type": "markdown",
   "metadata": {},
   "source": [
    "### Exercise 2\n",
    "\n",
    "In this exercise, we will create two functions that compute a model's score. For regression models, we will use correlation as the score. For classification models, we will use accuracy as the score.\n",
    "\n",
    "#### Instructions \n",
    "- Define a function called `correlation` with arguments `estimator`, `X`, and `y`. The function should compute the correlation between the observed outcome `y` and the outcome predicted by the model.\n",
    "    - To obtain predictions, the function should first use the `fit` method of `estimator` and then use the `predict` method from the fitted object.\n",
    "    - The function should return the first argument from `r2_score` comparing `predictions` and `y`.\n",
    "- Define a function called `accuracy` with the same arguments and code, substituting `accuracy_score` for `r2_score`."
   ]
  },
  {
   "cell_type": "code",
<<<<<<< HEAD
   "execution_count": 17,
   "metadata": {},
   "outputs": [
    {
     "name": "stdout",
     "output_type": "stream",
     "text": [
      "0.6682857144707257\n",
      "0.7633427590432711\n",
      "0.7375533428165008\n",
      "0.8406827880512091\n"
     ]
    }
   ],
   "source": [
    "# Enter your code here.\n",
    "def correlation(estimator, X, y):\n",
    "    predictions = estimator.fit(X,y).predict(X)\n",
    "    return r2_score(predictions,y)\n",
    "    \n",
    "print(correlation(linear_regression, covariates, regression_outcome))   \n",
    "print(correlation(forest_regression, covariates, regression_outcome))\n",
    "\n",
    "def accuracy(estimator, X, y):\n",
    "    classifications = estimator.fit(X,y).predict(X)\n",
    "    return accuracy_score(classifications,y)\n",
    "\n",
    "print(accuracy(logistic_regression, covariates, classification_outcome))   \n",
    "print(accuracy(forest_classifier, covariates, classification_outcome))"
=======
   "execution_count": null,
   "metadata": {},
   "outputs": [],
   "source": [
    "# Enter your code here.\n"
>>>>>>> Initial commit
   ]
  },
  {
   "cell_type": "markdown",
   "metadata": {},
   "source": [
    "### Exercise 3\n",
    "\n",
    "In this exercise, we will compute the cross-validated performance for the linear and random forest regression models.\n",
    "\n",
    "#### Instructions \n",
    "\n",
    "- Call `cross_val_score` using `linear_regression` and `forest regression` as models. Store the output as `linear_regression_scores` and `forest_regression_scores`, respectively.\n",
    "    - Set the parameters `cv=10` to use 10-fold cross-validation and `scoring=correlation` to use our `correlation` function defined in the previous exercise.\n",
    "- Plotting code has been provided to compare the performance of the two models. Use `plt.show()` to plot the correlation between actual and predicted revenue for each cross-validation fold using the linear and random forest regression models.\n",
    "- Which of the two models exhibits a better fit?"
   ]
  },
  {
   "cell_type": "code",
<<<<<<< HEAD
   "execution_count": 23,
   "metadata": {},
   "outputs": [
    {
     "data": {
      "image/png": "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\n",
      "text/plain": [
       "<Figure size 432x288 with 1 Axes>"
      ]
     },
     "metadata": {
      "needs_background": "light"
     },
     "output_type": "display_data"
    }
   ],
   "source": [
    "# Determine the cross-validated correlation for linear and random forest models.\n",
    "linear_regression_scores = cross_val_score(linear_regression,covariates,regression_outcome,cv=10,scoring=correlation)\n",
    "forest_regression_scores = cross_val_score(forest_regression,covariates,regression_outcome,cv=10,scoring=correlation)\n",
=======
   "execution_count": null,
   "metadata": {},
   "outputs": [],
   "source": [
    "# Determine the cross-validated correlation for linear and random forest models.\n",
    "\n",
>>>>>>> Initial commit
    "# Plot Results\n",
    "plt.axes().set_aspect('equal', 'box')\n",
    "plt.scatter(linear_regression_scores, forest_regression_scores)\n",
    "plt.plot((0, 1), (0, 1), 'k-')\n",
    "\n",
    "plt.xlim(0, 1)\n",
    "plt.ylim(0, 1)\n",
    "plt.xlabel(\"Linear Regression Score\")\n",
    "plt.ylabel(\"Forest Regression Score\")\n",
    "\n",
<<<<<<< HEAD
    "# Show the plot.\n",
    "plt.show()"
=======
    "# Show the plot."
>>>>>>> Initial commit
   ]
  },
  {
   "cell_type": "markdown",
   "metadata": {},
   "source": [
    "### Exercise 4\n",
    "\n",
    "In this exercise, we will compute cross-validated performance for the linear and random forest classification models.\n",
    "\n",
    "#### Instructions \n",
    "- Call `cross_val_score` using `logistic_regression` and `forest_classifier` as models. Store the output as `logistic_regression_scores` and `forest_classification_scores`, respectively.\n",
    "    - Set the parameters `cv=10` to use 10-fold cross-validation and `scoring=accuracy` to use our accuracy function defined in the previous exercise.\n",
    "- Plotting code has been provided to compare the performance of the two models. Use `plt.show()` to plot the accuracy of predicted profitability for each cross-validation fold using the logistic and random forest classification models.\n",
    "- Which of the two models exhibits a better fit?"
   ]
  },
  {
   "cell_type": "code",
<<<<<<< HEAD
   "execution_count": 25,
   "metadata": {},
   "outputs": [
    {
     "data": {
      "image/png": "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\n",
      "text/plain": [
       "<Figure size 432x288 with 1 Axes>"
      ]
     },
     "metadata": {
      "needs_background": "light"
     },
     "output_type": "display_data"
    }
   ],
   "source": [
    "# Determine the cross-validated accuracy for logistic and random forest models.\n",
    "logistic_regression_scores=cross_val_score(logistic_regression,covariates,classification_outcome,cv=10,scoring=accuracy)\n",
    "forest_classification_scores=cross_val_score(forest_classifier,covariates,classification_outcome,cv=10,scoring=accuracy)\n",
=======
   "execution_count": null,
   "metadata": {},
   "outputs": [],
   "source": [
    "# Determine the cross-validated accuracy for logistic and random forest models.\n",
    "\n",
>>>>>>> Initial commit
    "# Plot Results\n",
    "plt.axes().set_aspect('equal', 'box')\n",
    "plt.scatter(logistic_regression_scores, forest_classification_scores)\n",
    "plt.plot((0, 1), (0, 1), 'k-')\n",
    "\n",
    "plt.xlim(0, 1)\n",
    "plt.ylim(0, 1)\n",
    "plt.xlabel(\"Linear Classification Score\")\n",
    "plt.ylabel(\"Forest Classification Score\")\n",
    "\n",
<<<<<<< HEAD
    "# Show the plot.\n",
    "plt.show()"
=======
    "# Show the plot.\n"
>>>>>>> Initial commit
   ]
  },
  {
   "cell_type": "markdown",
   "metadata": {},
   "source": [
    "### Exercise 5 \n",
    "\n",
    "In Exercise 3, we saw that predicting revenue was only moderately successful. It might be the case that predicting movies that generated precisely no revenue is difficult. In the next three exercises, we will exclude these movies, and rerun the analyses to determine if the fits improve. In this exercise, we will rerun the regression analysis for this subsetted dataset.\n",
    "\n",
    "#### Instructions \n",
    "\n",
    "- Define `positive_revenue_df` as the subset of movies in `df` with `revenue` greater than zero.\n",
    "- Code is provided below that creates new instances of model objects. Replace all instances of `df` with `positive_revenue_df`, and run the given code."
   ]
  },
  {
   "cell_type": "code",
<<<<<<< HEAD
   "execution_count": 27,
   "metadata": {},
   "outputs": [
    {
     "data": {
      "text/plain": [
       "0.6552077406450942"
      ]
     },
     "execution_count": 27,
     "metadata": {},
     "output_type": "execute_result"
    }
   ],
   "source": [
    "positive_revenue_df = df[df['revenue'] > 0] \n",
    "\n",
    "# Replace the dataframe in the following code, and run.\n",
    "\n",
    "regression_outcome = positive_revenue_df[regression_target]\n",
    "classification_outcome = positive_revenue_df[classification_target]\n",
    "covariates = positive_revenue_df[all_covariates]\n",
=======
   "execution_count": null,
   "metadata": {},
   "outputs": [],
   "source": [
    "positive_revenue_df = \n",
    "\n",
    "# Replace the dataframe in the following code, and run.\n",
    "\n",
    "regression_outcome = df[regression_target]\n",
    "classification_outcome = df[classification_target]\n",
    "covariates = df[all_covariates]\n",
>>>>>>> Initial commit
    "\n",
    "# Reinstantiate all regression models and classifiers.\n",
    "linear_regression = LinearRegression()\n",
    "logistic_regression = LogisticRegression()\n",
    "forest_regression = RandomForestRegressor(max_depth=4, random_state=0)\n",
    "forest_classifier = RandomForestClassifier(max_depth=4, random_state=0)\n",
    "linear_regression_scores = cross_val_score(linear_regression, covariates, regression_outcome, cv=10, scoring=correlation)\n",
    "forest_regression_scores = cross_val_score(forest_regression, covariates, regression_outcome, cv=10, scoring=correlation)\n",
    "logistic_regression_scores = cross_val_score(logistic_regression, covariates, classification_outcome, cv=10, scoring=accuracy)\n",
<<<<<<< HEAD
    "forest_classification_scores = cross_val_score(forest_classifier, covariates, classification_outcome, cv=10, scoring=accuracy)\n",
    "forest_regression_scores.mean()"
=======
    "forest_classification_scores = cross_val_score(forest_classifier, covariates, classification_outcome, cv=10, scoring=accuracy)"
>>>>>>> Initial commit
   ]
  },
  {
   "cell_type": "markdown",
   "metadata": {},
   "source": [
    "### Exercise 6\n",
    "\n",
    "In this exercise, we will compute the cross-validated performance for the linear and random forest regression models for positive revenue movies only.\n",
    "\n",
    "#### Instructions \n",
    "\n",
    "- Call `cross_val_score` using `linear_regression` and `forest regression` as models. Store the output as `linear_regression_scores` and `forest_regression_scores`, respectively.\n",
    "    - Set the parameters `cv=10` to use 10-fold cross-validation and `scoring=correlation` to use our `correlation` function defined in the previous exercise.\n",
    "- Plotting code has been provided to compare the performance of the two models. Use `plt.show()` to plot the correlation between actual and predicted revenue for each cross-validation fold using the linear and random forest regression models.\n",
    "- Which of the two models exhibits a better fit? Is this result different from what we observed when considering all movies?\n",
    "- Code is provided for you that prints the importance of each covariate in predicting revenue using the random forests classifier. \n",
    "    - Which variables are most important?"
   ]
  },
  {
   "cell_type": "code",
<<<<<<< HEAD
   "execution_count": 28,
   "metadata": {},
   "outputs": [
    {
     "data": {
      "image/png": "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\n",
      "text/plain": [
       "<Figure size 432x288 with 1 Axes>"
      ]
     },
     "metadata": {
      "needs_background": "light"
     },
     "output_type": "display_data"
    },
    {
     "data": {
      "text/plain": [
       "[('Crime', 0.0),\n",
       " ('Horror', 0.0),\n",
       " ('History', 0.0),\n",
       " ('Documentary', 0.0),\n",
       " ('TV Movie', 0.0),\n",
       " ('Foreign', 0.0),\n",
       " ('Mystery', 7.769341284509233e-06),\n",
       " ('War', 3.4067063103918207e-05),\n",
       " ('Comedy', 6.286923292426862e-05),\n",
       " ('Action', 7.437495630224172e-05),\n",
       " ('Music', 7.808539379431398e-05),\n",
       " ('Western', 0.00012283577803508472),\n",
       " ('Thriller', 0.00038353138027223335),\n",
       " ('Drama', 0.0005533327091101716),\n",
       " ('Romance', 0.0008341831724411225),\n",
       " ('Science Fiction', 0.0010966107749331086),\n",
       " ('Fantasy', 0.0030529984565164747),\n",
       " ('Animation', 0.00508509244737388),\n",
       " ('Family', 0.005972730801411629),\n",
       " ('vote_average', 0.007482667648857095),\n",
       " ('Adventure', 0.016251035989070177),\n",
       " ('runtime', 0.019258512652334536),\n",
       " ('popularity', 0.02458271995973818),\n",
       " ('budget', 0.2925750517568105),\n",
       " ('vote_count', 0.6224915304856866)]"
      ]
     },
     "execution_count": 28,
     "metadata": {},
     "output_type": "execute_result"
    }
   ],
=======
   "execution_count": null,
   "metadata": {},
   "outputs": [],
>>>>>>> Initial commit
   "source": [
    "# Determine the cross-validated correlation for linear and random forest models.\n",
    "\n",
    "# Plot Results\n",
    "plt.axes().set_aspect('equal', 'box')\n",
    "plt.scatter(linear_regression_scores, forest_regression_scores)\n",
    "plt.plot((0, 1), (0, 1), 'k-')\n",
    "\n",
    "plt.xlim(0, 1)\n",
    "plt.ylim(0, 1)\n",
    "plt.xlabel(\"Linear Regression Score\")\n",
    "plt.ylabel(\"Forest Regression Score\")\n",
    "\n",
    "# Show the plot.\n",
<<<<<<< HEAD
    "plt.show()\n",
=======
    "\n",
>>>>>>> Initial commit
    "# Print the importance of each covariate in the random forest regression.\n",
    "forest_regression.fit(positive_revenue_df[all_covariates], positive_revenue_df[regression_target])    \n",
    "sorted(list(zip(all_covariates, forest_regression.feature_importances_)), key=lambda tup: tup[1])"
   ]
  },
  {
   "cell_type": "markdown",
   "metadata": {},
   "source": [
    "### Exercise 7\n",
    "\n",
    "In this exercise, we will compute cross-validated performance for the linear and random forest classification models for positive revenue movies only.\n",
    "\n",
    "#### Instructions \n",
    "\n",
    "- Call `cross_val_score` using `logistic_regression` and `forest classifer` as models. Store the output as `logistic_regression_scores` and `forest_classification_scores`, respectively.\n",
    "    - Set the parameters `cv=10` to use 10-fold cross-validation and `scoring=accuracy` to use our `accuracy` function defined in the previous exercise.\n",
    "- Plotting code has been provided to compare the performance of the two models. Use `plt.show()` to plot the correlation between actual and predicted revenue for each cross-validation fold using the linear and random forest regression models.\n",
    "- Which of the two models exhibits a better fit? Is this result different from what we observed when considering all movies?\n",
    "- Code is provided for you that prints the importance of each covariate in predicting profitabilitiy using the random forests classifier. \n",
    "    - Which variables are most important?"
   ]
  },
  {
   "cell_type": "code",
   "execution_count": null,
   "metadata": {},
   "outputs": [],
   "source": [
    "# Determine the cross-validated accuracy for logistic and random forest models.\n",
    "\n",
    "\n",
    "# Plot Results\n",
    "plt.axes().set_aspect('equal', 'box')\n",
    "plt.scatter(logistic_regression_scores, forest_classification_scores)\n",
    "plt.plot((0, 1), (0, 1), 'k-')\n",
    "\n",
    "plt.xlim(0, 1)\n",
    "plt.ylim(0, 1)\n",
    "plt.xlabel(\"Linear Classification Score\")\n",
    "plt.ylabel(\"Forest Classification Score\")\n",
    "\n",
    "# Show the plot.\n",
<<<<<<< HEAD
    "plt.show()\n",
=======
    "\n",
>>>>>>> Initial commit
    "# Print the importance of each covariate in the random forest classification.\n",
    "forest_classifier.fit(positive_revenue_df[all_covariates], positive_revenue_df[classification_target])\n",
    "sorted(list(zip(all_covariates, forest_classifier.feature_importances_)), key=lambda tup: tup[1])"
   ]
  }
 ],
 "metadata": {
  "kernelspec": {
   "display_name": "Python 3",
   "language": "python",
   "name": "python3"
  },
  "language_info": {
   "codemirror_mode": {
    "name": "ipython",
    "version": 3
   },
   "file_extension": ".py",
   "mimetype": "text/x-python",
   "name": "python",
   "nbconvert_exporter": "python",
   "pygments_lexer": "ipython3",
   "version": "3.7.6"
  },
  "toc": {
   "base_numbering": 1,
   "nav_menu": {},
   "number_sections": true,
   "sideBar": true,
   "skip_h1_title": false,
   "title_cell": "Table of Contents",
   "title_sidebar": "Contents",
   "toc_cell": false,
   "toc_position": {},
   "toc_section_display": true,
   "toc_window_display": false
  }
 },
 "nbformat": 4,
 "nbformat_minor": 2
}
