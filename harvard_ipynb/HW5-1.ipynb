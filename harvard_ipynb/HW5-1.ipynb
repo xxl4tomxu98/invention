{
 "cells": [
  {
   "cell_type": "markdown",
   "metadata": {},
   "source": [
    "# Using Python for Research Homework: Week 5, Case Study Part 1\n",
    "\n",
    "The [movie dataset on which this case study is based](https://www.kaggle.com/tmdb/tmdb-movie-metadata) is a database of 5000 movies catalogued by [The Movie Database (TMDb)](https://www.themoviedb.org/?language=en). The information available about each movie is its budget, revenue, rating, actors and actresses, etc. In this case study, we will use this dataset to determine whether any information about a movie can predict the total revenue of a movie. We will also attempt to predict whether a movie's revenue will exceed its budget.\n",
    "\n",
    "In Part 1, we will inspect, clean, and transform the data."
   ]
  },
  {
   "cell_type": "markdown",
   "metadata": {},
   "source": [
    "### Exercise 1\n",
    "\n",
    "First, we will import several libraries. `scikit-learn` (**sklearn**) contains helpful statistical models, and we'll use the `matplotlib.pyplot` library for visualizations. Of course, we will use `numpy` and `pandas` for data manipulation throughout.\n",
    "\n",
    "#### Instructions \n",
    "\n",
    "- Read and execute the given code.\n",
    "- Call `df.head()` to take a look at the data."
   ]
  },
  {
   "cell_type": "code",
<<<<<<< HEAD
   "execution_count": 179,
   "metadata": {},
   "outputs": [
    {
     "data": {
      "text/plain": [
       "(4803, 22)"
      ]
     },
     "execution_count": 179,
     "metadata": {},
     "output_type": "execute_result"
    }
   ],
   "source": [
    "import pandas as pd\n",
    "import numpy as np\n",
    "%matplotlib inline\n",
    "# to fix random seeds\n",
    "import random, os\n",
=======
   "execution_count": null,
   "metadata": {},
   "outputs": [],
   "source": [
    "import pandas as pd\n",
    "import numpy as np\n",
    "\n",
>>>>>>> Initial commit
    "from sklearn.model_selection import cross_val_predict\n",
    "from sklearn.linear_model import LinearRegression\n",
    "from sklearn.linear_model import LogisticRegression\n",
    "from sklearn.ensemble import RandomForestRegressor\n",
    "from sklearn.ensemble import RandomForestClassifier\n",
    "from sklearn.metrics import accuracy_score\n",
    "from sklearn.metrics import r2_score\n",
    "\n",
    "import matplotlib.pyplot as plt\n",
    "\n",
    "df = pd.read_csv(\"https://courses.edx.org/asset-v1:HarvardX+PH526x+2T2019+type@asset+block@movie_data.csv\", index_col=0)\n",
    "\n",
<<<<<<< HEAD
    "# Enter code here.\n",
    "df.shape"
   ]
  },
  {
   "cell_type": "code",
   "execution_count": 150,
   "metadata": {},
   "outputs": [],
   "source": [
    "def seed_everything(seed):\n",
    "    random.seed(seed)\n",
    "    np.random.seed(seed)\n",
    "    os.environ['PYTHONHASHSEED'] = str(seed)\n",
    "\n",
    "# We fix all the random seed so that, we can reproduce the results.\n",
    "seed_everything(2020)"
=======
    "# Enter code here.\n"
>>>>>>> Initial commit
   ]
  },
  {
   "cell_type": "markdown",
   "metadata": {},
   "source": [
    "### Exercise 2\n",
    "\n",
    "In this exercise, we will define the regression and classification outcomes. Specifically, we will use the `revenue` column as the target for regression. For classification, we will construct an indicator of profitability for each movie.\n",
    "\n",
    "#### Instructions \n",
    "- Create a new column in `df` called `profitable`, defined as 1 if the movie `revenue` is greater than the movie `budget`, and 0 otherwise.\n",
    "- Next, define and store the outcomes we will use for regression and classification.\n",
    "    - Define `regression_target` as the string `'revenue'`.\n",
    "    - Define `classification_target` as the string `'profitable'`."
   ]
  },
  {
   "cell_type": "code",
<<<<<<< HEAD
   "execution_count": 180,
   "metadata": {},
   "outputs": [
    {
     "data": {
      "text/plain": [
       "(4803, 23)"
      ]
     },
     "execution_count": 180,
     "metadata": {},
     "output_type": "execute_result"
    }
   ],
   "source": [
    "# Enter code here.\n",
    "for ind in range(df.shape[0]):\n",
    "    if df.loc[ind,'revenue'] > df.loc[ind,'budget']:\n",
    "        df.loc[ind,'profitable'] = 1\n",
    "    else:\n",
    "        df.loc[ind,'profitable'] = 0\n",
    "\n",
    "regression_target = 'revenue'\n",
    "classification_target = 'profitable' \n",
    "df.shape"
   ]
  },
  {
   "cell_type": "code",
   "execution_count": 9,
   "metadata": {},
   "outputs": [
    {
     "data": {
      "text/html": [
       "<div>\n",
       "<style scoped>\n",
       "    .dataframe tbody tr th:only-of-type {\n",
       "        vertical-align: middle;\n",
       "    }\n",
       "\n",
       "    .dataframe tbody tr th {\n",
       "        vertical-align: top;\n",
       "    }\n",
       "\n",
       "    .dataframe thead th {\n",
       "        text-align: right;\n",
       "    }\n",
       "</style>\n",
       "<table border=\"1\" class=\"dataframe\">\n",
       "  <thead>\n",
       "    <tr style=\"text-align: right;\">\n",
       "      <th></th>\n",
       "      <th>budget</th>\n",
       "      <th>id</th>\n",
       "      <th>popularity</th>\n",
       "      <th>revenue</th>\n",
       "      <th>runtime</th>\n",
       "      <th>vote_average</th>\n",
       "      <th>vote_count</th>\n",
       "      <th>movie_id</th>\n",
       "      <th>profitable</th>\n",
       "    </tr>\n",
       "  </thead>\n",
       "  <tbody>\n",
       "    <tr>\n",
       "      <th>count</th>\n",
       "      <td>4.803000e+03</td>\n",
       "      <td>4803.000000</td>\n",
       "      <td>4803.000000</td>\n",
       "      <td>4.803000e+03</td>\n",
       "      <td>4801.000000</td>\n",
       "      <td>4803.000000</td>\n",
       "      <td>4803.000000</td>\n",
       "      <td>4803.000000</td>\n",
       "      <td>4803.000000</td>\n",
       "    </tr>\n",
       "    <tr>\n",
       "      <th>mean</th>\n",
       "      <td>2.904504e+07</td>\n",
       "      <td>57165.484281</td>\n",
       "      <td>21.492301</td>\n",
       "      <td>8.226064e+07</td>\n",
       "      <td>106.875859</td>\n",
       "      <td>6.092172</td>\n",
       "      <td>690.217989</td>\n",
       "      <td>57165.484281</td>\n",
       "      <td>0.538205</td>\n",
       "    </tr>\n",
       "    <tr>\n",
       "      <th>std</th>\n",
       "      <td>4.072239e+07</td>\n",
       "      <td>88694.614033</td>\n",
       "      <td>31.816650</td>\n",
       "      <td>1.628571e+08</td>\n",
       "      <td>22.611935</td>\n",
       "      <td>1.194612</td>\n",
       "      <td>1234.585891</td>\n",
       "      <td>88694.614033</td>\n",
       "      <td>0.498590</td>\n",
       "    </tr>\n",
       "    <tr>\n",
       "      <th>min</th>\n",
       "      <td>0.000000e+00</td>\n",
       "      <td>5.000000</td>\n",
       "      <td>0.000000</td>\n",
       "      <td>0.000000e+00</td>\n",
       "      <td>0.000000</td>\n",
       "      <td>0.000000</td>\n",
       "      <td>0.000000</td>\n",
       "      <td>5.000000</td>\n",
       "      <td>0.000000</td>\n",
       "    </tr>\n",
       "    <tr>\n",
       "      <th>25%</th>\n",
       "      <td>7.900000e+05</td>\n",
       "      <td>9014.500000</td>\n",
       "      <td>4.668070</td>\n",
       "      <td>0.000000e+00</td>\n",
       "      <td>94.000000</td>\n",
       "      <td>5.600000</td>\n",
       "      <td>54.000000</td>\n",
       "      <td>9014.500000</td>\n",
       "      <td>0.000000</td>\n",
       "    </tr>\n",
       "    <tr>\n",
       "      <th>50%</th>\n",
       "      <td>1.500000e+07</td>\n",
       "      <td>14629.000000</td>\n",
       "      <td>12.921594</td>\n",
       "      <td>1.917000e+07</td>\n",
       "      <td>103.000000</td>\n",
       "      <td>6.200000</td>\n",
       "      <td>235.000000</td>\n",
       "      <td>14629.000000</td>\n",
       "      <td>1.000000</td>\n",
       "    </tr>\n",
       "    <tr>\n",
       "      <th>75%</th>\n",
       "      <td>4.000000e+07</td>\n",
       "      <td>58610.500000</td>\n",
       "      <td>28.313505</td>\n",
       "      <td>9.291719e+07</td>\n",
       "      <td>118.000000</td>\n",
       "      <td>6.800000</td>\n",
       "      <td>737.000000</td>\n",
       "      <td>58610.500000</td>\n",
       "      <td>1.000000</td>\n",
       "    </tr>\n",
       "    <tr>\n",
       "      <th>max</th>\n",
       "      <td>3.800000e+08</td>\n",
       "      <td>459488.000000</td>\n",
       "      <td>875.581305</td>\n",
       "      <td>2.787965e+09</td>\n",
       "      <td>338.000000</td>\n",
       "      <td>10.000000</td>\n",
       "      <td>13752.000000</td>\n",
       "      <td>459488.000000</td>\n",
       "      <td>1.000000</td>\n",
       "    </tr>\n",
       "  </tbody>\n",
       "</table>\n",
       "</div>"
      ],
      "text/plain": [
       "             budget             id   popularity       revenue      runtime  \\\n",
       "count  4.803000e+03    4803.000000  4803.000000  4.803000e+03  4801.000000   \n",
       "mean   2.904504e+07   57165.484281    21.492301  8.226064e+07   106.875859   \n",
       "std    4.072239e+07   88694.614033    31.816650  1.628571e+08    22.611935   \n",
       "min    0.000000e+00       5.000000     0.000000  0.000000e+00     0.000000   \n",
       "25%    7.900000e+05    9014.500000     4.668070  0.000000e+00    94.000000   \n",
       "50%    1.500000e+07   14629.000000    12.921594  1.917000e+07   103.000000   \n",
       "75%    4.000000e+07   58610.500000    28.313505  9.291719e+07   118.000000   \n",
       "max    3.800000e+08  459488.000000   875.581305  2.787965e+09   338.000000   \n",
       "\n",
       "       vote_average    vote_count       movie_id   profitable  \n",
       "count   4803.000000   4803.000000    4803.000000  4803.000000  \n",
       "mean       6.092172    690.217989   57165.484281     0.538205  \n",
       "std        1.194612   1234.585891   88694.614033     0.498590  \n",
       "min        0.000000      0.000000       5.000000     0.000000  \n",
       "25%        5.600000     54.000000    9014.500000     0.000000  \n",
       "50%        6.200000    235.000000   14629.000000     1.000000  \n",
       "75%        6.800000    737.000000   58610.500000     1.000000  \n",
       "max       10.000000  13752.000000  459488.000000     1.000000  "
      ]
     },
     "execution_count": 9,
     "metadata": {},
     "output_type": "execute_result"
    }
   ],
   "source": [
    "df.describe()"
   ]
  },
  {
   "cell_type": "code",
   "execution_count": 10,
   "metadata": {},
   "outputs": [
    {
     "data": {
      "text/html": [
       "<div>\n",
       "<style scoped>\n",
       "    .dataframe tbody tr th:only-of-type {\n",
       "        vertical-align: middle;\n",
       "    }\n",
       "\n",
       "    .dataframe tbody tr th {\n",
       "        vertical-align: top;\n",
       "    }\n",
       "\n",
       "    .dataframe thead th {\n",
       "        text-align: right;\n",
       "    }\n",
       "</style>\n",
       "<table border=\"1\" class=\"dataframe\">\n",
       "  <thead>\n",
       "    <tr style=\"text-align: right;\">\n",
       "      <th></th>\n",
       "      <th>genres</th>\n",
       "      <th>homepage</th>\n",
       "      <th>keywords</th>\n",
       "      <th>original_language</th>\n",
       "      <th>original_title</th>\n",
       "      <th>overview</th>\n",
       "      <th>production_companies</th>\n",
       "      <th>production_countries</th>\n",
       "      <th>release_date</th>\n",
       "      <th>spoken_languages</th>\n",
       "      <th>status</th>\n",
       "      <th>tagline</th>\n",
       "      <th>title</th>\n",
       "      <th>cast</th>\n",
       "    </tr>\n",
       "  </thead>\n",
       "  <tbody>\n",
       "    <tr>\n",
       "      <th>count</th>\n",
       "      <td>4775</td>\n",
       "      <td>1712</td>\n",
       "      <td>4391</td>\n",
       "      <td>4803</td>\n",
       "      <td>4803</td>\n",
       "      <td>4800</td>\n",
       "      <td>4452</td>\n",
       "      <td>4629</td>\n",
       "      <td>4802</td>\n",
       "      <td>4716</td>\n",
       "      <td>4803</td>\n",
       "      <td>3959</td>\n",
       "      <td>4803</td>\n",
       "      <td>4760</td>\n",
       "    </tr>\n",
       "    <tr>\n",
       "      <th>unique</th>\n",
       "      <td>1174</td>\n",
       "      <td>1691</td>\n",
       "      <td>4221</td>\n",
       "      <td>37</td>\n",
       "      <td>4801</td>\n",
       "      <td>4800</td>\n",
       "      <td>3696</td>\n",
       "      <td>468</td>\n",
       "      <td>3280</td>\n",
       "      <td>528</td>\n",
       "      <td>3</td>\n",
       "      <td>3944</td>\n",
       "      <td>4800</td>\n",
       "      <td>4760</td>\n",
       "    </tr>\n",
       "    <tr>\n",
       "      <th>top</th>\n",
       "      <td>Drama</td>\n",
       "      <td>http://www.missionimpossible.com/</td>\n",
       "      <td>independent film</td>\n",
       "      <td>en</td>\n",
       "      <td>Batman</td>\n",
       "      <td>A fantasy movie about an arrogant, lazy prince...</td>\n",
       "      <td>Paramount Pictures</td>\n",
       "      <td>United States of America</td>\n",
       "      <td>2006-01-01</td>\n",
       "      <td>English</td>\n",
       "      <td>Released</td>\n",
       "      <td>Based on a true story.</td>\n",
       "      <td>Batman</td>\n",
       "      <td>Jordana Brewster, Taylor Handley, Diora Baird,...</td>\n",
       "    </tr>\n",
       "    <tr>\n",
       "      <th>freq</th>\n",
       "      <td>370</td>\n",
       "      <td>4</td>\n",
       "      <td>55</td>\n",
       "      <td>4505</td>\n",
       "      <td>2</td>\n",
       "      <td>1</td>\n",
       "      <td>58</td>\n",
       "      <td>2977</td>\n",
       "      <td>10</td>\n",
       "      <td>3171</td>\n",
       "      <td>4795</td>\n",
       "      <td>3</td>\n",
       "      <td>2</td>\n",
       "      <td>1</td>\n",
       "    </tr>\n",
       "  </tbody>\n",
       "</table>\n",
       "</div>"
      ],
      "text/plain": [
       "       genres                           homepage          keywords  \\\n",
       "count    4775                               1712              4391   \n",
       "unique   1174                               1691              4221   \n",
       "top     Drama  http://www.missionimpossible.com/  independent film   \n",
       "freq      370                                  4                55   \n",
       "\n",
       "       original_language original_title  \\\n",
       "count               4803           4803   \n",
       "unique                37           4801   \n",
       "top                   en         Batman   \n",
       "freq                4505              2   \n",
       "\n",
       "                                                 overview  \\\n",
       "count                                                4800   \n",
       "unique                                               4800   \n",
       "top     A fantasy movie about an arrogant, lazy prince...   \n",
       "freq                                                    1   \n",
       "\n",
       "       production_companies      production_countries release_date  \\\n",
       "count                  4452                      4629         4802   \n",
       "unique                 3696                       468         3280   \n",
       "top      Paramount Pictures  United States of America   2006-01-01   \n",
       "freq                     58                      2977           10   \n",
       "\n",
       "       spoken_languages    status                 tagline   title  \\\n",
       "count              4716      4803                    3959    4803   \n",
       "unique              528         3                    3944    4800   \n",
       "top             English  Released  Based on a true story.  Batman   \n",
       "freq               3171      4795                       3       2   \n",
       "\n",
       "                                                     cast  \n",
       "count                                                4760  \n",
       "unique                                               4760  \n",
       "top     Jordana Brewster, Taylor Handley, Diora Baird,...  \n",
       "freq                                                    1  "
      ]
     },
     "execution_count": 10,
     "metadata": {},
     "output_type": "execute_result"
    }
   ],
   "source": [
    "df.describe(include = 'O')"
=======
   "execution_count": null,
   "metadata": {},
   "outputs": [],
   "source": [
    "# Enter code here.\n"
>>>>>>> Initial commit
   ]
  },
  {
   "cell_type": "markdown",
   "metadata": {},
   "source": [
    "### Exercise 3\n",
    "\n",
    "For simplicity, we will proceed by analyzing only the rows without any missing data. In this exercise, we will remove rows with any infinite or missing values.\n",
    "\n",
    "#### Instructions \n",
    "\n",
    "- Use `df.replace()` to replace any cells with type `np.inf` or `-np.inf` with `np.nan`.\n",
    "- Drop all rows with any `np.nan` values in that row using `df.dropna()`. Do any further arguments need to be specified in this function to remove rows with any such values?"
   ]
  },
  {
   "cell_type": "code",
<<<<<<< HEAD
   "execution_count": 181,
   "metadata": {},
   "outputs": [
    {
     "data": {
      "text/plain": [
       "(1406, 24)"
      ]
     },
     "execution_count": 181,
     "metadata": {},
     "output_type": "execute_result"
    }
   ],
   "source": [
    "# Enter code here.\n",
    "df.replace(to_replace = np.inf, value = np.nan)\n",
    "df.replace(to_replace = -np.inf, value = np.nan)\n",
    "df.dropna(axis=0, how='any', inplace= True)\n",
    "df.tail(20)\n",
    "df.isna().sum()\n",
    "df.reset_index(inplace=True)\n",
    "df.shape"
=======
   "execution_count": null,
   "metadata": {},
   "outputs": [],
   "source": [
    "# Enter code here.\n"
>>>>>>> Initial commit
   ]
  },
  {
   "cell_type": "markdown",
   "metadata": {},
   "source": [
    "### Exercise 4\n",
    "\n",
    "Many of the variables in our dataframe contain the names of genre, actors/actresses, and keywords. Let's add indicator columns for each genre.\n",
    "\n",
    "#### Instructions \n",
    "\n",
    "- Determine all the genres in the genre column. Make sure to use the `strip()` function on each genre to remove trailing characters.\n",
    "- Next, include each listed genre as a new column in the dataframe. Each element of these genre columns should be 1 if the movie belongs to that particular genre, and 0 otherwise. Keep in mind, a movie may belong to several genres at once.\n",
    "- Call `df[genres].head()` to view your results."
   ]
  },
  {
   "cell_type": "code",
<<<<<<< HEAD
   "execution_count": 182,
   "metadata": {},
   "outputs": [
    {
     "data": {
      "text/html": [
       "<div>\n",
       "<style scoped>\n",
       "    .dataframe tbody tr th:only-of-type {\n",
       "        vertical-align: middle;\n",
       "    }\n",
       "\n",
       "    .dataframe tbody tr th {\n",
       "        vertical-align: top;\n",
       "    }\n",
       "\n",
       "    .dataframe thead th {\n",
       "        text-align: right;\n",
       "    }\n",
       "</style>\n",
       "<table border=\"1\" class=\"dataframe\">\n",
       "  <thead>\n",
       "    <tr style=\"text-align: right;\">\n",
       "      <th></th>\n",
       "      <th>index</th>\n",
       "      <th>budget</th>\n",
       "      <th>genres</th>\n",
       "      <th>homepage</th>\n",
       "      <th>id</th>\n",
       "      <th>keywords</th>\n",
       "      <th>original_language</th>\n",
       "      <th>original_title</th>\n",
       "      <th>overview</th>\n",
       "      <th>popularity</th>\n",
       "      <th>...</th>\n",
       "      <th>Crime</th>\n",
       "      <th>Thriller</th>\n",
       "      <th>Horror</th>\n",
       "      <th>Animation</th>\n",
       "      <th>Documentary</th>\n",
       "      <th>Music</th>\n",
       "      <th>Mystery</th>\n",
       "      <th>TV Movie</th>\n",
       "      <th>War</th>\n",
       "      <th>Fantasy</th>\n",
       "    </tr>\n",
       "  </thead>\n",
       "  <tbody>\n",
       "    <tr>\n",
       "      <th>1401</th>\n",
       "      <td>4758</td>\n",
       "      <td>4000000</td>\n",
       "      <td>Thriller, Science Fiction</td>\n",
       "      <td>https://www.facebook.com/thesignalfilm</td>\n",
       "      <td>242095</td>\n",
       "      <td>hacker, supernatural powers, road trip, indepe...</td>\n",
       "      <td>en</td>\n",
       "      <td>The Signal</td>\n",
       "      <td>Three college students on a road trip across t...</td>\n",
       "      <td>27.662696</td>\n",
       "      <td>...</td>\n",
       "      <td>0</td>\n",
       "      <td>1</td>\n",
       "      <td>0</td>\n",
       "      <td>0</td>\n",
       "      <td>0</td>\n",
       "      <td>0</td>\n",
       "      <td>0</td>\n",
       "      <td>0</td>\n",
       "      <td>0</td>\n",
       "      <td>0</td>\n",
       "    </tr>\n",
       "    <tr>\n",
       "      <th>1402</th>\n",
       "      <td>4766</td>\n",
       "      <td>0</td>\n",
       "      <td>Documentary, Music</td>\n",
       "      <td>http://www.mgm.com/#/our-titles/1092/The-Last-...</td>\n",
       "      <td>13963</td>\n",
       "      <td>1970s, music</td>\n",
       "      <td>en</td>\n",
       "      <td>The Last Waltz</td>\n",
       "      <td>Martin Scorsese's rockumentary intertwines foo...</td>\n",
       "      <td>3.277287</td>\n",
       "      <td>...</td>\n",
       "      <td>0</td>\n",
       "      <td>0</td>\n",
       "      <td>0</td>\n",
       "      <td>0</td>\n",
       "      <td>1</td>\n",
       "      <td>1</td>\n",
       "      <td>0</td>\n",
       "      <td>0</td>\n",
       "      <td>0</td>\n",
       "      <td>0</td>\n",
       "    </tr>\n",
       "    <tr>\n",
       "      <th>1403</th>\n",
       "      <td>4773</td>\n",
       "      <td>27000</td>\n",
       "      <td>Comedy</td>\n",
       "      <td>http://www.miramax.com/movie/clerks/</td>\n",
       "      <td>2292</td>\n",
       "      <td>salesclerk, loser, aftercreditsstinger</td>\n",
       "      <td>en</td>\n",
       "      <td>Clerks</td>\n",
       "      <td>Convenience and video store clerks Dante and R...</td>\n",
       "      <td>19.748658</td>\n",
       "      <td>...</td>\n",
       "      <td>0</td>\n",
       "      <td>0</td>\n",
       "      <td>0</td>\n",
       "      <td>0</td>\n",
       "      <td>0</td>\n",
       "      <td>0</td>\n",
       "      <td>0</td>\n",
       "      <td>0</td>\n",
       "      <td>0</td>\n",
       "      <td>0</td>\n",
       "    </tr>\n",
       "    <tr>\n",
       "      <th>1404</th>\n",
       "      <td>4791</td>\n",
       "      <td>13</td>\n",
       "      <td>Horror</td>\n",
       "      <td>http://tincanmanthemovie.com/</td>\n",
       "      <td>157185</td>\n",
       "      <td>home invasion</td>\n",
       "      <td>en</td>\n",
       "      <td>Tin Can Man</td>\n",
       "      <td>Recently dumped by his girlfirend for another ...</td>\n",
       "      <td>0.332679</td>\n",
       "      <td>...</td>\n",
       "      <td>0</td>\n",
       "      <td>0</td>\n",
       "      <td>1</td>\n",
       "      <td>0</td>\n",
       "      <td>0</td>\n",
       "      <td>0</td>\n",
       "      <td>0</td>\n",
       "      <td>0</td>\n",
       "      <td>0</td>\n",
       "      <td>0</td>\n",
       "    </tr>\n",
       "    <tr>\n",
       "      <th>1405</th>\n",
       "      <td>4796</td>\n",
       "      <td>7000</td>\n",
       "      <td>Science Fiction, Drama, Thriller</td>\n",
       "      <td>http://www.primermovie.com</td>\n",
       "      <td>14337</td>\n",
       "      <td>distrust, garage, identity crisis, time travel...</td>\n",
       "      <td>en</td>\n",
       "      <td>Primer</td>\n",
       "      <td>Friends/fledgling entrepreneurs invent a devic...</td>\n",
       "      <td>23.307949</td>\n",
       "      <td>...</td>\n",
       "      <td>0</td>\n",
       "      <td>1</td>\n",
       "      <td>0</td>\n",
       "      <td>0</td>\n",
       "      <td>0</td>\n",
       "      <td>0</td>\n",
       "      <td>0</td>\n",
       "      <td>0</td>\n",
       "      <td>0</td>\n",
       "      <td>0</td>\n",
       "    </tr>\n",
       "  </tbody>\n",
       "</table>\n",
       "<p>5 rows × 44 columns</p>\n",
       "</div>"
      ],
      "text/plain": [
       "      index   budget                            genres  \\\n",
       "1401   4758  4000000         Thriller, Science Fiction   \n",
       "1402   4766        0                Documentary, Music   \n",
       "1403   4773    27000                            Comedy   \n",
       "1404   4791       13                            Horror   \n",
       "1405   4796     7000  Science Fiction, Drama, Thriller   \n",
       "\n",
       "                                               homepage      id  \\\n",
       "1401             https://www.facebook.com/thesignalfilm  242095   \n",
       "1402  http://www.mgm.com/#/our-titles/1092/The-Last-...   13963   \n",
       "1403               http://www.miramax.com/movie/clerks/    2292   \n",
       "1404                      http://tincanmanthemovie.com/  157185   \n",
       "1405                         http://www.primermovie.com   14337   \n",
       "\n",
       "                                               keywords original_language  \\\n",
       "1401  hacker, supernatural powers, road trip, indepe...                en   \n",
       "1402                                       1970s, music                en   \n",
       "1403             salesclerk, loser, aftercreditsstinger                en   \n",
       "1404                                      home invasion                en   \n",
       "1405  distrust, garage, identity crisis, time travel...                en   \n",
       "\n",
       "      original_title                                           overview  \\\n",
       "1401      The Signal  Three college students on a road trip across t...   \n",
       "1402  The Last Waltz  Martin Scorsese's rockumentary intertwines foo...   \n",
       "1403          Clerks  Convenience and video store clerks Dante and R...   \n",
       "1404     Tin Can Man  Recently dumped by his girlfirend for another ...   \n",
       "1405          Primer  Friends/fledgling entrepreneurs invent a devic...   \n",
       "\n",
       "      popularity  ... Crime Thriller Horror  Animation  Documentary Music  \\\n",
       "1401   27.662696  ...     0        1      0          0            0     0   \n",
       "1402    3.277287  ...     0        0      0          0            1     1   \n",
       "1403   19.748658  ...     0        0      0          0            0     0   \n",
       "1404    0.332679  ...     0        0      1          0            0     0   \n",
       "1405   23.307949  ...     0        1      0          0            0     0   \n",
       "\n",
       "     Mystery TV Movie War  Fantasy  \n",
       "1401       0        0   0        0  \n",
       "1402       0        0   0        0  \n",
       "1403       0        0   0        0  \n",
       "1404       0        0   0        0  \n",
       "1405       0        0   0        0  \n",
       "\n",
       "[5 rows x 44 columns]"
      ]
     },
     "execution_count": 182,
     "metadata": {},
     "output_type": "execute_result"
    }
   ],
   "source": [
    "# Enter code here.\n",
    "def Format_data(df): \n",
    "    # iterate over all the rows \n",
    "    genre = []\n",
    "    # reassign the values to the genres column \n",
    "    # we will strip the whitespaces using strip() function \n",
    "    for i in range(df.shape[0]):\n",
    "        gen_list = str(df.iloc[i]['genres']).strip().split(',')\n",
    "        gen_list1 = []\n",
    "        for char in gen_list:\n",
    "            gen_list1.append(char.strip())\n",
    "        genre.append(gen_list1)\n",
    "    return genre\n",
    "# Let's call the function \n",
    "raw_genre = Format_data(df)\n",
    "len(raw_genre)\n",
    "\n",
    "flatten_genre = [j for sub in raw_genre for j in sub]\n",
    "#flatten_genre[0:10]\n",
    "genres_list = list(set(flatten_genre))\n",
    "num_of_genres = len(genres_list)\n",
    "genres_list\n",
    "# create all zero matrix of columns=all single genres and rows=all raw_genre rows\n",
    "single_genre = np.array([[0 for x in range(num_of_genres)] for y in range(len(raw_genre))])\n",
    "for i in range(len(raw_genre)):\n",
    "    for j in range(num_of_genres):\n",
    "        if genres_list[j] in raw_genre[i]:\n",
    "            single_genre[i][j] = 1\n",
    "#single_genre_df = pd.DataFrame.from_records(single_genre)\n",
    "single_genre_df = pd.DataFrame(data=single_genre, columns=genres_list)\n",
    "df = pd.concat([df,single_genre_df], axis=1)        \n",
    "#single_genre_df.tail()\n",
    "df.tail()"
=======
   "execution_count": null,
   "metadata": {},
   "outputs": [],
   "source": [
    "# Enter code here.\n"
>>>>>>> Initial commit
   ]
  },
  {
   "cell_type": "markdown",
   "metadata": {},
   "source": [
    "### Exercise 5\n",
    "\n",
    "Some variables in the dataset are already numeric and perhaps useful for regression and classification. In this exercise, we will store the names of these variables for future use. We will also take a look at some of the continuous variables and outcomes by plotting each pair in a scatter plot. Finally, we will evaluate the skew of each variable.\n",
    "\n",
    "#### Instructions \n",
    "- Call `plt.show()` to observe the plot below.\n",
    "    - Which of the covariates and/or outcomes are correlated with each other?\n",
    "- Call `skew()` on the columns `outcomes_and_continuous_covariates` in df.\n",
    "    - Is the skew above 1 for any of these variables?"
   ]
  },
  {
   "cell_type": "code",
<<<<<<< HEAD
   "execution_count": 183,
   "metadata": {},
   "outputs": [
    {
     "data": {
      "image/png": "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\n",
      "text/plain": [
       "<Figure size 432x288 with 9 Axes>"
      ]
     },
     "metadata": {
      "needs_background": "light"
     },
     "output_type": "display_data"
    },
    {
     "data": {
      "text/plain": [
       "budget          1.754872\n",
       "popularity      7.968139\n",
       "runtime         1.059804\n",
       "vote_count      2.461041\n",
       "vote_average   -1.080038\n",
       "revenue         3.084680\n",
       "profitable     -1.081030\n",
       "dtype: float64"
      ]
     },
     "execution_count": 183,
     "metadata": {},
     "output_type": "execute_result"
    }
   ],
=======
   "execution_count": null,
   "metadata": {},
   "outputs": [],
>>>>>>> Initial commit
   "source": [
    "continuous_covariates = ['budget', 'popularity', 'runtime', 'vote_count', 'vote_average']\n",
    "outcomes_and_continuous_covariates = continuous_covariates + [regression_target, classification_target]\n",
    "plotting_variables = ['budget', 'popularity', regression_target]\n",
    "\n",
    "axes = pd.plotting.scatter_matrix(df[plotting_variables], alpha=0.15, \\\n",
    "       color=(0,0,0), hist_kwds={\"color\":(0,0,0)}, facecolor=(1,0,0))\n",
    "# show the plot.\n",
<<<<<<< HEAD
    "plt.show()\n",
    "# determine the skew.\n",
    "df_new = df[outcomes_and_continuous_covariates]\n",
    "#df_new.head()\n",
    "df_new.skew()"
=======
    "\n",
    "# determine the skew."
>>>>>>> Initial commit
   ]
  },
  {
   "cell_type": "markdown",
   "metadata": {},
   "source": [
    "### Exercise 6\n",
    "\n",
    "It appears that the variables `budget`, `popularity`, `runtime`, `vote_count`, and `revenue` are all right-skewed. In this exercise, we will transform these variables to eliminate this skewness. Specifically, we will use the `np.log10()` method. Because some of these variable values are exactly 0, we will add a small positive value to each to ensure it is defined; this is necessary because log(0) is negative infinity.\n",
    "\n",
    "#### Instructions \n",
    "- For each above-mentioned variable in `df`, transform value `x` into `np.log10(1+x)`."
   ]
  },
  {
   "cell_type": "code",
<<<<<<< HEAD
   "execution_count": 191,
   "metadata": {},
   "outputs": [
    {
     "data": {
      "text/plain": [
       "budget         -3.257869\n",
       "popularity     -1.452472\n",
       "runtime         0.441835\n",
       "vote_count     -2.206345\n",
       "vote_average   -7.753053\n",
       "revenue        -2.177372\n",
       "profitable     -1.081030\n",
       "dtype: float64"
      ]
     },
     "execution_count": 191,
     "metadata": {},
     "output_type": "execute_result"
    }
   ],
   "source": [
    "# Enter your code here.\n",
    "new_list = ['budget', 'popularity', 'runtime', 'vote_count', 'revenue']\n",
    "\n",
    "for i in range(df_new.shape[0]):\n",
    "    for j in range(len(new_list)):\n",
    "        df_new.iloc[i][j] = np.log10(df_new.iloc[i][j] + 1)\n",
    "df_new.skew()"
=======
   "execution_count": null,
   "metadata": {},
   "outputs": [],
   "source": [
    "# Enter your code here.\n"
>>>>>>> Initial commit
   ]
  },
  {
   "cell_type": "markdown",
   "metadata": {},
   "source": [
    "### Exercise 7\n",
    "\n",
    "Let's now save our dataset. \n",
    "\n",
    "#### Instructions \n",
    "- Use `to_csv()` to save the `df` object as `movies_clean.csv`."
   ]
  },
  {
   "cell_type": "code",
<<<<<<< HEAD
   "execution_count": 192,
   "metadata": {},
   "outputs": [],
   "source": [
    "# Enter your code here\n",
    "df.to_csv('movies_clean.csv')"
=======
   "execution_count": null,
   "metadata": {},
   "outputs": [],
   "source": [
    "# Enter your code here\n"
>>>>>>> Initial commit
   ]
  }
 ],
 "metadata": {
  "kernelspec": {
   "display_name": "Python 3",
   "language": "python",
   "name": "python3"
  },
  "language_info": {
   "codemirror_mode": {
    "name": "ipython",
    "version": 3
   },
   "file_extension": ".py",
   "mimetype": "text/x-python",
   "name": "python",
   "nbconvert_exporter": "python",
   "pygments_lexer": "ipython3",
<<<<<<< HEAD
   "version": "3.7.6"
=======
   "version": "3.7.3"
>>>>>>> Initial commit
  }
 },
 "nbformat": 4,
 "nbformat_minor": 2
}
