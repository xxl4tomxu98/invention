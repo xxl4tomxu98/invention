{
 "cells": [
  {
   "cell_type": "code",
   "execution_count": 1,
   "metadata": {
    "scrolled": false
   },
   "outputs": [],
   "source": [
    "import numpy as np\n",
    "import pandas as pd\n",
    "import matplotlib.pyplot as plt\n",
    "from sklearn.model_selection import train_test_split, GridSearchCV\n",
    "from sklearn.neighbors import KNeighborsClassifier\n",
    "from sklearn.metrics import f1_score, precision_score, recall_score, accuracy_score, classification_report\n",
    "from sklearn.decomposition import PCA\n",
    "\n",
    "%matplotlib inline"
   ]
  },
  {
   "cell_type": "code",
   "execution_count": 21,
   "metadata": {},
   "outputs": [],
   "source": [
    "from skimage.measure import regionprops, label\n",
    "from skimage.filters import threshold_otsu\n",
    "from skimage.transform import resize, AffineTransform, rotate, warp,SimilarityTransform\n",
    "from skimage.util import crop"
   ]
  },
  {
   "cell_type": "code",
   "execution_count": 3,
   "metadata": {},
   "outputs": [
    {
     "name": "stdout",
     "output_type": "stream",
     "text": [
      "60000\n"
     ]
    }
   ],
   "source": [
    "df = pd.read_csv('data/train.csv')\n",
    "print(len(df))"
   ]
  },
  {
   "cell_type": "code",
   "execution_count": 4,
   "metadata": {
    "scrolled": true
   },
   "outputs": [
    {
     "data": {
      "text/plain": [
       "<matplotlib.image.AxesImage at 0x17986ab0f88>"
      ]
     },
     "execution_count": 4,
     "metadata": {},
     "output_type": "execute_result"
    },
    {
     "data": {
      "image/png": "[encoded data removed]",
      "text/plain": [
       "<Figure size 288x288 with 1 Axes>"
      ]
     },
     "metadata": {
      "needs_background": "light"
     },
     "output_type": "display_data"
    }
   ],
   "source": [
    "images = df[df.columns[1:]]\n",
    "given_label = df['label']\n",
    "\n",
    "#to visualize, reshape it as a 28x28 box\n",
    "boximages = np.array(images).reshape(len(images),28,28)\n",
    "plt.matshow(boximages[800],cmap=plt.cm.Greys)"
   ]
  },
  {
   "cell_type": "markdown",
   "metadata": {},
   "source": [
    "# Bounding Box Conceptualize"
   ]
  },
  {
   "cell_type": "code",
   "execution_count": 5,
   "metadata": {},
   "outputs": [
    {
     "name": "stdout",
     "output_type": "stream",
     "text": [
      "10000\n"
     ]
    }
   ],
   "source": [
    "df_test = pd.read_csv('data/test.csv')\n",
    "print(len(df_test))"
   ]
  },
  {
   "cell_type": "code",
   "execution_count": 6,
   "metadata": {},
   "outputs": [],
   "source": [
    "X_test = df_test[df_test.columns[1:]]\n",
    "y_test = df_test['label']"
   ]
  },
  {
   "cell_type": "code",
   "execution_count": 7,
   "metadata": {},
   "outputs": [],
   "source": [
    "boximages = np.array(X_test).reshape(len(X_test),28,28)"
   ]
  },
  {
   "cell_type": "code",
   "execution_count": 8,
   "metadata": {},
   "outputs": [],
   "source": [
    "image = boximages[800]"
   ]
  },
  {
   "cell_type": "code",
   "execution_count": 27,
   "metadata": {},
   "outputs": [],
   "source": [
    "thresh = threshold_otsu(image)\n",
    "image = image > thresh\n",
    "#binary = regionprops(image)[0].image.astype(float)\n",
    "binary = np.array(image, dtype=np.uint8)"
   ]
  },
  {
   "cell_type": "code",
   "execution_count": 28,
   "metadata": {
    "scrolled": true
   },
   "outputs": [
    {
     "data": {
      "text/plain": [
       "<matplotlib.image.AxesImage at 0x17986a99f48>"
      ]
     },
     "execution_count": 28,
     "metadata": {},
     "output_type": "execute_result"
    },
    {
     "data": {
      "image/png": "[encoded data removed]",
      "text/plain": [
       "<Figure size 288x288 with 1 Axes>"
      ]
     },
     "metadata": {
      "needs_background": "light"
     },
     "output_type": "display_data"
    }
   ],
   "source": [
    "plt.matshow(binary)"
   ]
  },
  {
   "cell_type": "code",
   "execution_count": 29,
   "metadata": {
    "scrolled": false
   },
   "outputs": [
    {
     "data": {
      "text/plain": [
       "<matplotlib.image.AxesImage at 0x179869e5388>"
      ]
     },
     "execution_count": 29,
     "metadata": {},
     "output_type": "execute_result"
    },
    {
     "data": {
      "image/png": "[encoded data removed]",
      "text/plain": [
       "<Figure size 288x288 with 1 Axes>"
      ]
     },
     "metadata": {
      "needs_background": "light"
     },
     "output_type": "display_data"
    }
   ],
   "source": [
    "plt.matshow(resize(binary,(28,28)))"
   ]
  },
  {
   "cell_type": "markdown",
   "metadata": {},
   "source": [
    "# Pre-Processing:\n",
    "# DESKEW Conceptualizing"
   ]
  },
  {
   "cell_type": "code",
   "execution_count": 30,
   "metadata": {},
   "outputs": [],
   "source": [
    "binary = np.pad(binary,[[0,5],[5,5]],mode='constant')"
   ]
  },
  {
   "cell_type": "code",
   "execution_count": 31,
   "metadata": {},
   "outputs": [
    {
     "data": {
      "text/plain": [
       "<matplotlib.image.AxesImage at 0x179868d0648>"
      ]
     },
     "execution_count": 31,
     "metadata": {},
     "output_type": "execute_result"
    },
    {
     "data": {
      "image/png": "[encoded data removed]",
      "text/plain": [
       "<Figure size 331.636x288 with 1 Axes>"
      ]
     },
     "metadata": {
      "needs_background": "light"
     },
     "output_type": "display_data"
    }
   ],
   "source": [
    "plt.matshow(binary)"
   ]
  },
  {
   "cell_type": "code",
   "execution_count": 32,
   "metadata": {},
   "outputs": [],
   "source": [
    "thresh = threshold_otsu(binary)\n",
    "binary = binary > thresh"
   ]
  },
  {
   "cell_type": "code",
   "execution_count": 33,
   "metadata": {},
   "outputs": [],
   "source": [
    "i, j=np.nonzero(regionprops(binary.astype(int))[0].image)"
   ]
  },
  {
   "cell_type": "code",
   "execution_count": 34,
   "metadata": {},
   "outputs": [
    {
     "data": {
      "text/plain": [
       "(28, 0)"
      ]
     },
     "execution_count": 34,
     "metadata": {},
     "output_type": "execute_result"
    },
    {
     "data": {
      "image/png": "[encoded data removed]",
      "text/plain": [
       "<Figure size 360x360 with 1 Axes>"
      ]
     },
     "metadata": {
      "needs_background": "light"
     },
     "output_type": "display_data"
    }
   ],
   "source": [
    "plt.figure(figsize=(5,5))\n",
    "plt.scatter(j,i)\n",
    "plt.xlim(0,28)\n",
    "plt.ylim(28,0)"
   ]
  },
  {
   "cell_type": "code",
   "execution_count": 36,
   "metadata": {},
   "outputs": [
    {
     "name": "stdout",
     "output_type": "stream",
     "text": [
      "1.6522504806599296\n",
      "3.06013849972476\n"
     ]
    }
   ],
   "source": [
    "deskew = PCA()\n",
    "deskew.fit(np.array([i,j]).T)\n",
    "theta = np.arccos(np.dot(np.array([1,0]),deskew.components_[0]))\n",
    "if deskew.components_[0][1] >=0:\n",
    "    theta *= -1\n",
    "print(np.arccos(np.dot(np.array([1,0]),deskew.components_[1])))\n",
    "print(theta)\n",
    "\n",
    "shears = AffineTransform(shear=theta)"
   ]
  },
  {
   "cell_type": "code",
   "execution_count": 38,
   "metadata": {},
   "outputs": [
    {
     "name": "stdout",
     "output_type": "stream",
     "text": [
      "[-0.99668444 -0.08136411]\n",
      "[-0.08136411  0.99668444]\n"
     ]
    }
   ],
   "source": [
    "print(deskew.components_[0])\n",
    "print(deskew.components_[1])"
   ]
  },
  {
   "cell_type": "code",
   "execution_count": 44,
   "metadata": {},
   "outputs": [],
   "source": [
    "moved = warp(binary.astype(float),shears)"
   ]
  },
  {
   "cell_type": "code",
   "execution_count": 45,
   "metadata": {},
   "outputs": [
    {
     "data": {
      "text/plain": [
       "<matplotlib.image.AxesImage at 0x17986c15348>"
      ]
     },
     "execution_count": 45,
     "metadata": {},
     "output_type": "execute_result"
    },
    {
     "data": {
      "image/png": "[encoded data removed]",
      "text/plain": [
       "<Figure size 331.636x288 with 1 Axes>"
      ]
     },
     "metadata": {
      "needs_background": "light"
     },
     "output_type": "display_data"
    }
   ],
   "source": [
    "plt.matshow(moved)"
   ]
  },
  {
   "cell_type": "markdown",
   "metadata": {},
   "source": [
    "# Rotation"
   ]
  },
  {
   "cell_type": "code",
   "execution_count": 46,
   "metadata": {},
   "outputs": [],
   "source": [
    "rotated = rotate(binary,theta*180/np.pi)"
   ]
  },
  {
   "cell_type": "code",
   "execution_count": 47,
   "metadata": {},
   "outputs": [
    {
     "data": {
      "text/plain": [
       "<matplotlib.image.AxesImage at 0x17986c85708>"
      ]
     },
     "execution_count": 47,
     "metadata": {},
     "output_type": "execute_result"
    },
    {
     "data": {
      "image/png": "[encoded data removed]",
      "text/plain": [
       "<Figure size 331.636x288 with 1 Axes>"
      ]
     },
     "metadata": {
      "needs_background": "light"
     },
     "output_type": "display_data"
    }
   ],
   "source": [
    "plt.matshow(rotated)"
   ]
  },
  {
   "cell_type": "markdown",
   "metadata": {},
   "source": [
    "# Pre-processing: All the data!"
   ]
  },
  {
   "cell_type": "code",
   "execution_count": 48,
   "metadata": {},
   "outputs": [],
   "source": [
    "#Rotate and bounding box\n",
    "def r_bb(num):\n",
    "    #Binary, get bounding box\n",
    "    thresh = threshold_otsu(num)\n",
    "    binary = num > thresh\n",
    "    \n",
    "    bb = regionprops(binary.astype(int))[0].image.astype(float)\n",
    "    bb_pad = np.pad(bb,[[0,7],[0,7]],mode='constant')\n",
    "    ## Shear\n",
    "    i, j=np.nonzero(bb_pad)\n",
    "    deskew = PCA()\n",
    "    deskew.fit(np.array([i,j]).T)\n",
    "    theta = np.arccos(np.dot(np.array([1,0]),deskew.components_[0]))\n",
    "    \n",
    "    x_reshape = int(bb.shape[0] * 28./max(bb.shape))\n",
    "    y_reshape = int(bb.shape[1] * 28./max(bb.shape))\n",
    "    if x_reshape %2 == 1:\n",
    "        x_reshape += 1\n",
    "    if y_reshape %2 == 1:\n",
    "        y_reshape +=1\n",
    "    \n",
    "    bb = resize(bb,(x_reshape,y_reshape))\n",
    "    \n",
    "    if theta >= np.pi/4:\n",
    "        return np.pad(bb,[[(28-bb.shape[0])/2,(28-bb.shape[0])/2],[(28-bb.shape[1])/2,(28-bb.shape[1])/2]],mode='constant')\n",
    "    if deskew.components_[0][1] >=0:\n",
    "        theta *= -1\n",
    "    \n",
    "\n",
    "#     shears = AffineTransform(shear=theta)\n",
    "    moved = rotate(bb_pad.astype(float),theta*180/np.pi)\n",
    "#     moved = warp(bb_pad.astype(float),shears)\n",
    "\n",
    "    thresh = threshold_otsu(moved)\n",
    "    moved = moved > thresh\n",
    "    new_box = regionprops(moved.astype(int))[0].image.astype(float)\n",
    "    \n",
    "    x_reshape = int(new_box.shape[0] * 28./max(new_box.shape))\n",
    "    y_reshape = int(new_box.shape[1] * 28./max(new_box.shape))\n",
    "    if x_reshape %2 == 1:\n",
    "        x_reshape += 1\n",
    "    if y_reshape %2 == 1:\n",
    "        y_reshape +=1\n",
    "    \n",
    "    new_box = resize(new_box,(x_reshape,y_reshape))\n",
    "    return np.pad(new_box,[[(28-new_box.shape[0])/2,(28-new_box.shape[0])/2],[(28-new_box.shape[1])/2,(28-new_box.shape[1])/2]],mode='constant')\n",
    "#     return resize(new_box,(28,28))"
   ]
  },
  {
   "cell_type": "code",
   "execution_count": 49,
   "metadata": {},
   "outputs": [],
   "source": [
    "#Just bounding box\n",
    "def preprocess(num):\n",
    "    thresh = threshold_otsu(num)\n",
    "    binary = num > thresh\n",
    "    binary = binary.astype(int)\n",
    "    return resize(regionprops(binary)[0].image.astype(float),(28,28))\n",
    "\n",
    "#     Use this if you want more than one blob\n",
    "#     return resize(regionprops(label(binary))[0].image.astype(float),(28,28))"
   ]
  },
  {
   "cell_type": "code",
   "execution_count": 51,
   "metadata": {},
   "outputs": [],
   "source": [
    "def blob_count(img):\n",
    "    pass"
   ]
  },
  {
   "cell_type": "code",
   "execution_count": 53,
   "metadata": {},
   "outputs": [],
   "source": [
    "def binarize(matrix):\n",
    "    new_matrix = np.empty(matrix.shape)\n",
    "    for i, img in enumerate(matrix):\n",
    "        print(img)\n",
    "        img = img.reshape(28,28)\n",
    "        thresh = threshold_otsu(img)\n",
    "        img = img > thresh\n",
    "        new_matrix[i] = regionprops(img.astype(int))[0].image.astype(float).ravel()\n",
    "    return new_matrix"
   ]
  },
  {
   "cell_type": "markdown",
   "metadata": {},
   "source": [
    "Test cases, 3, 800, 10"
   ]
  },
  {
   "cell_type": "code",
   "execution_count": 54,
   "metadata": {},
   "outputs": [],
   "source": [
    "boxxed = np.empty([42000,28,28])"
   ]
  },
  {
   "cell_type": "code",
   "execution_count": 55,
   "metadata": {},
   "outputs": [],
   "source": [
    "resized = np.empty([42000,28,28])"
   ]
  },
  {
   "cell_type": "code",
   "execution_count": 56,
   "metadata": {},
   "outputs": [],
   "source": [
    "for i, pic in enumerate(boximages):\n",
    "    boxxed[i] = preprocess(pic)"
   ]
  },
  {
   "cell_type": "code",
   "execution_count": 57,
   "metadata": {},
   "outputs": [
    {
     "ename": "TypeError",
     "evalue": "`pad_width` must be of integral type.",
     "output_type": "error",
     "traceback": [
      "\u001b[1;31m---------------------------------------------------------------------------\u001b[0m",
      "\u001b[1;31mTypeError\u001b[0m                                 Traceback (most recent call last)",
      "\u001b[1;32m<ipython-input-57-344521ae6a3d>\u001b[0m in \u001b[0;36m<module>\u001b[1;34m\u001b[0m\n\u001b[0;32m      1\u001b[0m \u001b[1;32mfor\u001b[0m \u001b[0mi\u001b[0m\u001b[1;33m,\u001b[0m \u001b[0mpic\u001b[0m \u001b[1;32min\u001b[0m \u001b[0menumerate\u001b[0m\u001b[1;33m(\u001b[0m\u001b[0mboximages\u001b[0m\u001b[1;33m)\u001b[0m\u001b[1;33m:\u001b[0m\u001b[1;33m\u001b[0m\u001b[1;33m\u001b[0m\u001b[0m\n\u001b[1;32m----> 2\u001b[1;33m     \u001b[0mresized\u001b[0m\u001b[1;33m[\u001b[0m\u001b[0mi\u001b[0m\u001b[1;33m]\u001b[0m \u001b[1;33m=\u001b[0m \u001b[0mr_bb\u001b[0m\u001b[1;33m(\u001b[0m\u001b[0mpic\u001b[0m\u001b[1;33m)\u001b[0m\u001b[1;33m\u001b[0m\u001b[1;33m\u001b[0m\u001b[0m\n\u001b[0m",
      "\u001b[1;32m<ipython-input-48-cf2888aabbe0>\u001b[0m in \u001b[0;36mr_bb\u001b[1;34m(num)\u001b[0m\n\u001b[0;32m     44\u001b[0m \u001b[1;33m\u001b[0m\u001b[0m\n\u001b[0;32m     45\u001b[0m     \u001b[0mnew_box\u001b[0m \u001b[1;33m=\u001b[0m \u001b[0mresize\u001b[0m\u001b[1;33m(\u001b[0m\u001b[0mnew_box\u001b[0m\u001b[1;33m,\u001b[0m\u001b[1;33m(\u001b[0m\u001b[0mx_reshape\u001b[0m\u001b[1;33m,\u001b[0m\u001b[0my_reshape\u001b[0m\u001b[1;33m)\u001b[0m\u001b[1;33m)\u001b[0m\u001b[1;33m\u001b[0m\u001b[1;33m\u001b[0m\u001b[0m\n\u001b[1;32m---> 46\u001b[1;33m     \u001b[1;32mreturn\u001b[0m \u001b[0mnp\u001b[0m\u001b[1;33m.\u001b[0m\u001b[0mpad\u001b[0m\u001b[1;33m(\u001b[0m\u001b[0mnew_box\u001b[0m\u001b[1;33m,\u001b[0m\u001b[1;33m[\u001b[0m\u001b[1;33m[\u001b[0m\u001b[1;33m(\u001b[0m\u001b[1;36m28\u001b[0m\u001b[1;33m-\u001b[0m\u001b[0mnew_box\u001b[0m\u001b[1;33m.\u001b[0m\u001b[0mshape\u001b[0m\u001b[1;33m[\u001b[0m\u001b[1;36m0\u001b[0m\u001b[1;33m]\u001b[0m\u001b[1;33m)\u001b[0m\u001b[1;33m/\u001b[0m\u001b[1;36m2\u001b[0m\u001b[1;33m,\u001b[0m\u001b[1;33m(\u001b[0m\u001b[1;36m28\u001b[0m\u001b[1;33m-\u001b[0m\u001b[0mnew_box\u001b[0m\u001b[1;33m.\u001b[0m\u001b[0mshape\u001b[0m\u001b[1;33m[\u001b[0m\u001b[1;36m0\u001b[0m\u001b[1;33m]\u001b[0m\u001b[1;33m)\u001b[0m\u001b[1;33m/\u001b[0m\u001b[1;36m2\u001b[0m\u001b[1;33m]\u001b[0m\u001b[1;33m,\u001b[0m\u001b[1;33m[\u001b[0m\u001b[1;33m(\u001b[0m\u001b[1;36m28\u001b[0m\u001b[1;33m-\u001b[0m\u001b[0mnew_box\u001b[0m\u001b[1;33m.\u001b[0m\u001b[0mshape\u001b[0m\u001b[1;33m[\u001b[0m\u001b[1;36m1\u001b[0m\u001b[1;33m]\u001b[0m\u001b[1;33m)\u001b[0m\u001b[1;33m/\u001b[0m\u001b[1;36m2\u001b[0m\u001b[1;33m,\u001b[0m\u001b[1;33m(\u001b[0m\u001b[1;36m28\u001b[0m\u001b[1;33m-\u001b[0m\u001b[0mnew_box\u001b[0m\u001b[1;33m.\u001b[0m\u001b[0mshape\u001b[0m\u001b[1;33m[\u001b[0m\u001b[1;36m1\u001b[0m\u001b[1;33m]\u001b[0m\u001b[1;33m)\u001b[0m\u001b[1;33m/\u001b[0m\u001b[1;36m2\u001b[0m\u001b[1;33m]\u001b[0m\u001b[1;33m]\u001b[0m\u001b[1;33m,\u001b[0m\u001b[0mmode\u001b[0m\u001b[1;33m=\u001b[0m\u001b[1;34m'constant'\u001b[0m\u001b[1;33m)\u001b[0m\u001b[1;33m\u001b[0m\u001b[1;33m\u001b[0m\u001b[0m\n\u001b[0m\u001b[0;32m     47\u001b[0m \u001b[1;31m#     return resize(new_box,(28,28))\u001b[0m\u001b[1;33m\u001b[0m\u001b[1;33m\u001b[0m\u001b[1;33m\u001b[0m\u001b[0m\n",
      "\u001b[1;32m<__array_function__ internals>\u001b[0m in \u001b[0;36mpad\u001b[1;34m(*args, **kwargs)\u001b[0m\n",
      "\u001b[1;32m~\\.conda\\envs\\tensorflow\\lib\\site-packages\\numpy\\lib\\arraypad.py\u001b[0m in \u001b[0;36mpad\u001b[1;34m(array, pad_width, mode, **kwargs)\u001b[0m\n\u001b[0;32m    743\u001b[0m \u001b[1;33m\u001b[0m\u001b[0m\n\u001b[0;32m    744\u001b[0m     \u001b[1;32mif\u001b[0m \u001b[1;32mnot\u001b[0m \u001b[0mpad_width\u001b[0m\u001b[1;33m.\u001b[0m\u001b[0mdtype\u001b[0m\u001b[1;33m.\u001b[0m\u001b[0mkind\u001b[0m \u001b[1;33m==\u001b[0m \u001b[1;34m'i'\u001b[0m\u001b[1;33m:\u001b[0m\u001b[1;33m\u001b[0m\u001b[1;33m\u001b[0m\u001b[0m\n\u001b[1;32m--> 745\u001b[1;33m         \u001b[1;32mraise\u001b[0m \u001b[0mTypeError\u001b[0m\u001b[1;33m(\u001b[0m\u001b[1;34m'`pad_width` must be of integral type.'\u001b[0m\u001b[1;33m)\u001b[0m\u001b[1;33m\u001b[0m\u001b[1;33m\u001b[0m\u001b[0m\n\u001b[0m\u001b[0;32m    746\u001b[0m \u001b[1;33m\u001b[0m\u001b[0m\n\u001b[0;32m    747\u001b[0m     \u001b[1;31m# Broadcast to shape (array.ndim, 2)\u001b[0m\u001b[1;33m\u001b[0m\u001b[1;33m\u001b[0m\u001b[1;33m\u001b[0m\u001b[0m\n",
      "\u001b[1;31mTypeError\u001b[0m: `pad_width` must be of integral type."
     ]
    }
   ],
   "source": [
    "for i, pic in enumerate(boximages):\n",
    "    resized[i] = r_bb(pic)"
   ]
  },
  {
   "cell_type": "code",
   "execution_count": 56,
   "metadata": {},
   "outputs": [],
   "source": [
    "flatten = resized.reshape(42000,784)"
   ]
  },
  {
   "cell_type": "code",
   "execution_count": 57,
   "metadata": {
    "scrolled": true
   },
   "outputs": [
    {
     "data": {
      "text/plain": [
       "<matplotlib.image.AxesImage at 0x7f860f4f3910>"
      ]
     },
     "execution_count": 57,
     "metadata": {},
     "output_type": "execute_result"
    },
    {
     "data": {
      "image/png": "[encoded data removed]",
      "text/plain": [
       "<matplotlib.figure.Figure at 0x7f860f63c890>"
      ]
     },
     "metadata": {},
     "output_type": "display_data"
    }
   ],
   "source": [
    "plt.matshow(resized[12])"
   ]
  },
  {
   "cell_type": "markdown",
   "metadata": {},
   "source": [
    "# Fitting a Model: KNN Grid Search"
   ]
  },
  {
   "cell_type": "code",
   "execution_count": 232,
   "metadata": {},
   "outputs": [],
   "source": [
    "X_train, X_test, y_train, y_test = train_test_split(flatten,\n",
    "                                                    given_label,\n",
    "                                                    test_size = .1,random_state=4444)"
   ]
  },
  {
   "cell_type": "code",
   "execution_count": 133,
   "metadata": {},
   "outputs": [],
   "source": [
    "param_grid = {'n_neighbors':[2,4,6,8,10]}\n",
    "grid_search = GridSearchCV(KNeighborsClassifier(),param_grid,verbose=3,cv=5, n_jobs=-1)"
   ]
  },
  {
   "cell_type": "code",
   "execution_count": 134,
   "metadata": {
    "collapsed": true
   },
   "outputs": [
    {
     "name": "stdout",
     "output_type": "stream",
     "text": [
      "Fitting 5 folds for each of 5 candidates, totalling 25 fits\n"
     ]
    },
    {
     "name": "stderr",
     "output_type": "stream",
     "text": [
      "[Parallel(n_jobs=-1)]: Done   1 jobs       | elapsed: 11.2min\n",
      "[Parallel(n_jobs=-1)]: Done  20 out of  25 | elapsed: 33.1min remaining:  8.3min\n",
      "[Parallel(n_jobs=-1)]: Done  25 out of  25 | elapsed: 37.0min finished\n"
     ]
    },
    {
     "name": "stdout",
     "output_type": "stream",
     "text": [
      "[CV] n_neighbors=2 ...................................................\n",
      "[CV] n_neighbors=2 ...................................................\n",
      "[CV] n_neighbors=2 ...................................................\n",
      "[CV] n_neighbors=2 ...................................................\n",
      "[CV] n_neighbors=2 ...................................................\n",
      "[CV] n_neighbors=4 ...................................................\n",
      "[CV] n_neighbors=4 ...................................................\n",
      "[CV] n_neighbors=4 ...................................................\n",
      "[CV] .......................... n_neighbors=2, score=0.944599 -11.2min[CV] .......................... n_neighbors=2, score=0.948691 -11.4min[CV] .......................... n_neighbors=2, score=0.948287 -11.2min[CV] .......................... n_neighbors=2, score=0.946017 -11.1min[CV] .......................... n_neighbors=2, score=0.945606 -11.3min[CV] .......................... n_neighbors=4, score=0.955177 -11.4min[CV] .......................... n_neighbors=4, score=0.957286 -11.3min[CV] .......................... n_neighbors=4, score=0.956884 -11.2min\n",
      "\n",
      "\n",
      "\n",
      "\n",
      "\n",
      "\n",
      "\n",
      "[CV] n_neighbors=6 ...................................................\n",
      "[CV] n_neighbors=8 ...................................................\n",
      "[CV] n_neighbors=4 ...................................................\n",
      "[CV] n_neighbors=4 ...................................................\n",
      "[CV] n_neighbors=6 ...................................................\n",
      "[CV] n_neighbors=6 ...................................................\n",
      "[CV] n_neighbors=6 ...................................................\n",
      "[CV] n_neighbors=6 ...................................................\n",
      "[CV] .......................... n_neighbors=6, score=0.953193 -10.9min[CV] .......................... n_neighbors=8, score=0.952664 -10.8min[CV] .......................... n_neighbors=4, score=0.951959 -10.9min[CV] .......................... n_neighbors=4, score=0.953162 -10.9min[CV] .......................... n_neighbors=6, score=0.954503 -10.8min[CV] .......................... n_neighbors=6, score=0.950635 -10.8min[CV] .......................... n_neighbors=6, score=0.950384 -10.9min[CV] .......................... n_neighbors=6, score=0.953716 -11.0min\n",
      "\n",
      "\n",
      "\n",
      "\n",
      "\n",
      "\n",
      "\n",
      "[CV] n_neighbors=8 ...................................................\n",
      "[CV] n_neighbors=10 ..................................................\n",
      "[CV] n_neighbors=8 ...................................................\n",
      "[CV] n_neighbors=8 ...................................................\n",
      "[CV] n_neighbors=8 ...................................................\n",
      "[CV] n_neighbors=10 ..................................................\n",
      "[CV] n_neighbors=10 ..................................................\n",
      "[CV] n_neighbors=10 ..................................................\n",
      "[CV] .......................... n_neighbors=8, score=0.953313 -11.1min[CV] ......................... n_neighbors=10, score=0.947208 -10.9min[CV] .......................... n_neighbors=8, score=0.948928 -11.0min[CV] .......................... n_neighbors=8, score=0.952658 -10.9min[CV] .......................... n_neighbors=8, score=0.950106 -11.0min[CV] ......................... n_neighbors=10, score=0.951732 -11.0min[CV] ......................... n_neighbors=10, score=0.950549 -11.1min[CV] ......................... n_neighbors=10, score=0.951594 -11.0min\n",
      "\n",
      "\n",
      "\n",
      "\n",
      "\n",
      "\n",
      "\n",
      "[CV] n_neighbors=10 ..................................................\n",
      "[CV] ......................... n_neighbors=10, score=0.947988 - 4.2min\n"
     ]
    },
    {
     "data": {
      "text/plain": [
       "GridSearchCV(cv=5, error_score='raise',\n",
       "       estimator=KNeighborsClassifier(algorithm='auto', leaf_size=30, metric='minkowski',\n",
       "           metric_params=None, n_neighbors=5, p=2, weights='uniform'),\n",
       "       fit_params={}, iid=True, loss_func=None, n_jobs=-1,\n",
       "       param_grid={'n_neighbors': [2, 4, 6, 8, 10]},\n",
       "       pre_dispatch='2*n_jobs', refit=True, score_func=None, scoring=None,\n",
       "       verbose=3)"
      ]
     },
     "execution_count": 134,
     "metadata": {},
     "output_type": "execute_result"
    }
   ],
   "source": [
    "grid_search.fit(X_train,y_train)"
   ]
  },
  {
   "cell_type": "code",
   "execution_count": 27,
   "metadata": {},
   "outputs": [],
   "source": [
    "import pickle\n",
    "with open('grid_search.pickle','wb') as handle:\n",
    "    pickle.dump(grid_search,handle)"
   ]
  },
  {
   "cell_type": "code",
   "execution_count": 184,
   "metadata": {},
   "outputs": [
    {
     "data": {
      "text/plain": [
       "[mean: 0.94664, std: 0.00158, params: {'n_neighbors': 2},\n",
       " mean: 0.95489, std: 0.00207, params: {'n_neighbors': 4},\n",
       " mean: 0.95249, std: 0.00167, params: {'n_neighbors': 6},\n",
       " mean: 0.95153, std: 0.00171, params: {'n_neighbors': 8},\n",
       " mean: 0.94981, std: 0.00187, params: {'n_neighbors': 10}]"
      ]
     },
     "execution_count": 184,
     "metadata": {},
     "output_type": "execute_result"
    }
   ],
   "source": [
    "grid_search.grid_scores_"
   ]
  },
  {
   "cell_type": "code",
   "execution_count": 29,
   "metadata": {},
   "outputs": [
    {
     "data": {
      "text/plain": [
       "0.96838624338624335"
      ]
     },
     "execution_count": 29,
     "metadata": {},
     "output_type": "execute_result"
    }
   ],
   "source": [
    "grid_search.best_score_"
   ]
  },
  {
   "cell_type": "code",
   "execution_count": 25,
   "metadata": {
    "scrolled": true
   },
   "outputs": [
    {
     "data": {
      "text/plain": [
       "{'n_neighbors': 1}"
      ]
     },
     "execution_count": 25,
     "metadata": {},
     "output_type": "execute_result"
    }
   ],
   "source": [
    "grid_search.best_params_"
   ]
  },
  {
   "cell_type": "markdown",
   "metadata": {},
   "source": [
    "# KNN K = 4 Best Fit"
   ]
  },
  {
   "cell_type": "code",
   "execution_count": 59,
   "metadata": {},
   "outputs": [
    {
     "data": {
      "text/plain": [
       "KNeighborsClassifier(algorithm='auto', leaf_size=30, metric='minkowski',\n",
       "           metric_params=None, n_jobs=-1, n_neighbors=4, p=2,\n",
       "           weights='uniform')"
      ]
     },
     "execution_count": 59,
     "metadata": {},
     "output_type": "execute_result"
    }
   ],
   "source": [
    "knn = KNeighborsClassifier(n_neighbors = 4,n_jobs=-1)\n",
    "knn.fit(X_train,y_train)"
   ]
  },
  {
   "cell_type": "code",
   "execution_count": 60,
   "metadata": {},
   "outputs": [],
   "source": [
    "y_fit = knn.predict(X_test)"
   ]
  },
  {
   "cell_type": "code",
   "execution_count": 165,
   "metadata": {},
   "outputs": [
    {
     "data": {
      "text/plain": [
       "0.97166666666666668"
      ]
     },
     "execution_count": 165,
     "metadata": {},
     "output_type": "execute_result"
    }
   ],
   "source": [
    "accuracy_score(y_test,y_fit)"
   ]
  },
  {
   "cell_type": "markdown",
   "metadata": {},
   "source": [
    "# KNN: Visualizing Averages"
   ]
  },
  {
   "cell_type": "code",
   "execution_count": 166,
   "metadata": {},
   "outputs": [],
   "source": [
    "average_ones = np.mean(boximages[np.array(given_label==1)], axis=0)"
   ]
  },
  {
   "cell_type": "code",
   "execution_count": 167,
   "metadata": {
    "collapsed": true
   },
   "outputs": [],
   "source": [
    "def plot_averages(data,actual):\n",
    "    fig = plt.figure(figsize = (10,6))\n",
    "    for i in range(10):\n",
    "        plt.subplot(2,5,i+1).matshow(np.mean(data[np.array(actual==i)], axis=0),cmap=plt.cm.Greys)\n",
    "        plt.title('Number: {}'.format(i))\n",
    "        plt.subplot(2,5,i+1).xaxis.set_ticks_position('bottom')\n"
   ]
  },
  {
   "cell_type": "code",
   "execution_count": 263,
   "metadata": {},
   "outputs": [
    {
     "data": {
      "image/png": "[encoded data removed]",
      "text/plain": [
       "<matplotlib.figure.Figure at 0x7f860cbce990>"
      ]
     },
     "metadata": {},
     "output_type": "display_data"
    }
   ],
   "source": [
    "plot_averages(np.array(images).reshape(len(images),28,28),given_label)"
   ]
  },
  {
   "cell_type": "code",
   "execution_count": 168,
   "metadata": {},
   "outputs": [
    {
     "data": {
      "image/png": "[encoded data removed]",
      "text/plain": [
       "<matplotlib.figure.Figure at 0x7f860cef3f90>"
      ]
     },
     "metadata": {},
     "output_type": "display_data"
    }
   ],
   "source": [
    "plot_averages(resized,given_label)"
   ]
  },
  {
   "cell_type": "markdown",
   "metadata": {},
   "source": [
    "# KNN: Visualizing Errors"
   ]
  },
  {
   "cell_type": "code",
   "execution_count": 169,
   "metadata": {
    "collapsed": true
   },
   "outputs": [],
   "source": [
    "residual_index = [i for i, (val,valb) in enumerate(zip(y_test,y_fit)) if val!=valb]"
   ]
  },
  {
   "cell_type": "code",
   "execution_count": 170,
   "metadata": {},
   "outputs": [],
   "source": [
    "residual = [val!=valb for i, (val,valb) in enumerate(zip(y_test,y_fit))]\n",
    "residual = np.array(residual)\n",
    "X_images = np.array(X_test).reshape(len(X_test),28,28)\n",
    "X_residual = X_images[residual]"
   ]
  },
  {
   "cell_type": "code",
   "execution_count": 171,
   "metadata": {},
   "outputs": [
    {
     "data": {
      "image/png": "[encoded data removed]",
      "text/plain": [
       "<matplotlib.figure.Figure at 0x7f860c4378d0>"
      ]
     },
     "metadata": {},
     "output_type": "display_data"
    }
   ],
   "source": [
    "plot_averages(X_residual,y_test[residual])"
   ]
  },
  {
   "cell_type": "code",
   "execution_count": 172,
   "metadata": {},
   "outputs": [],
   "source": [
    "# plt.matshow(np.mean(X_residual[np.array(y_test[residual]==2)],axis=0),cmap=plt.cm.Greys)"
   ]
  },
  {
   "cell_type": "code",
   "execution_count": 173,
   "metadata": {},
   "outputs": [],
   "source": [
    "def show_img(i):\n",
    "    boximages = np.array(X_test).reshape(len(X_test),28,28)\n",
    "    print 'Actual:', list(y_test)[i]\n",
    "    print 'Predicted:', list(y_fit)[i]\n",
    "    plt.matshow(boximages[i],cmap=plt.cm.Greys)"
   ]
  },
  {
   "cell_type": "code",
   "execution_count": 175,
   "metadata": {},
   "outputs": [
    {
     "name": "stdout",
     "output_type": "stream",
     "text": [
      "Actual: 5\n",
      "Predicted: 6\n"
     ]
    },
    {
     "data": {
      "image/png": "[encoded data removed]",
      "text/plain": [
       "<matplotlib.figure.Figure at 0x7f860c2e8fd0>"
      ]
     },
     "metadata": {},
     "output_type": "display_data"
    }
   ],
   "source": [
    "show_img(8)"
   ]
  },
  {
   "cell_type": "code",
   "execution_count": 176,
   "metadata": {},
   "outputs": [],
   "source": [
    "confusion = np.zeros([10,10])\n",
    "for i,j in zip(y_test,y_fit):\n",
    "    confusion[i][j]+=1"
   ]
  },
  {
   "cell_type": "code",
   "execution_count": 177,
   "metadata": {},
   "outputs": [
    {
     "name": "stdout",
     "output_type": "stream",
     "text": [
      "[[ 431.    0.    0.    0.    0.    0.    1.    0.    0.    0.]\n",
      " [   0.  456.    2.    0.    0.    0.    0.    1.    0.    0.]\n",
      " [   5.    4.  421.    1.    0.    0.    0.    7.    0.    0.]\n",
      " [   0.    0.    1.  451.    0.    6.    0.    2.    1.    1.]\n",
      " [   0.    5.    0.    0.  402.    0.    2.    0.    0.    5.]\n",
      " [   1.    0.    0.    6.    0.  376.    4.    0.    2.    0.]\n",
      " [   3.    0.    0.    0.    0.    1.  371.    0.    0.    0.]\n",
      " [   0.    3.    1.    1.    1.    0.    0.  419.    0.    6.]\n",
      " [   0.    7.    1.    6.    0.    7.    1.    2.  365.    1.]\n",
      " [   1.    2.    1.    2.    5.    1.    0.    7.    2.  389.]]\n"
     ]
    }
   ],
   "source": [
    "print confusion"
   ]
  },
  {
   "cell_type": "code",
   "execution_count": 178,
   "metadata": {},
   "outputs": [],
   "source": [
    "percentage = confusion/np.sum(confusion, axis=1)"
   ]
  },
  {
   "cell_type": "code",
   "execution_count": 179,
   "metadata": {
    "collapsed": true
   },
   "outputs": [],
   "source": [
    "for i in range(10):\n",
    "    percentage[i][i] = 0"
   ]
  },
  {
   "cell_type": "code",
   "execution_count": 180,
   "metadata": {},
   "outputs": [
    {
     "data": {
      "image/png": "[encoded data removed]",
      "text/plain": [
       "<matplotlib.figure.Figure at 0x7f860d33c210>"
      ]
     },
     "metadata": {},
     "output_type": "display_data"
    }
   ],
   "source": [
    "%matplotlib inline\n",
    "\n",
    "fig, ax = plt.subplots(figsize=(10,10))\n",
    "# plt.figure()\n",
    "c = ax.matshow(percentage,cmap=plt.cm.rainbow)\n",
    "fig.colorbar(c)\n",
    "plt.xticks(range(10))\n",
    "plt.yticks(range(10))\n",
    "plt.xlabel('Predicted Number')\n",
    "plt.ylabel('Actual Number')\n",
    "\n",
    "for (i, j), z in np.ndenumerate(percentage):\n",
    "    ax.text(j, i, '{:0.2f}'.format(z*100), ha='center', va='center')\n",
    "    ax.xaxis.set_ticks_position('bottom')"
   ]
  },
  {
   "cell_type": "code",
   "execution_count": 260,
   "metadata": {},
   "outputs": [
    {
     "name": "stdout",
     "output_type": "stream",
     "text": [
      "             precision    recall  f1-score   support\n",
      "\n",
      "          0    0.97732   0.99769   0.98740       432\n",
      "          1    0.95597   0.99346   0.97436       459\n",
      "          2    0.98595   0.96119   0.97341       438\n",
      "          3    0.96574   0.97619   0.97094       462\n",
      "          4    0.98529   0.97101   0.97810       414\n",
      "          5    0.96164   0.96658   0.96410       389\n",
      "          6    0.97889   0.98933   0.98408       375\n",
      "          7    0.95662   0.97216   0.96433       431\n",
      "          8    0.98649   0.93590   0.96053       390\n",
      "          9    0.96766   0.94878   0.95813       410\n",
      "\n",
      "avg / total    0.97187   0.97167   0.97161      4200\n",
      "\n"
     ]
    }
   ],
   "source": [
    "print classification_report(y_test,y_fit,digits=5)"
   ]
  },
  {
   "cell_type": "markdown",
   "metadata": {},
   "source": [
    "# Neural Network"
   ]
  },
  {
   "cell_type": "code",
   "execution_count": 187,
   "metadata": {},
   "outputs": [],
   "source": [
    "from sklearn.neural_network import BernoulliRBM\n",
    "from sklearn.pipeline import Pipeline\n",
    "from sklearn.linear_model import LogisticRegression"
   ]
  },
  {
   "cell_type": "code",
   "execution_count": 252,
   "metadata": {
    "collapsed": true
   },
   "outputs": [],
   "source": [
    "boxxed = boxxed.reshape(42000,784)"
   ]
  },
  {
   "cell_type": "code",
   "execution_count": 273,
   "metadata": {},
   "outputs": [],
   "source": [
    "X_train, X_test, y_train, y_test = train_test_split(boxxed,\n",
    "                                                    given_label,\n",
    "                                                    test_size = .1,random_state=4444)"
   ]
  },
  {
   "cell_type": "code",
   "execution_count": 274,
   "metadata": {},
   "outputs": [],
   "source": [
    "logistic = LogisticRegression(n_jobs=-1)"
   ]
  },
  {
   "cell_type": "code",
   "execution_count": 275,
   "metadata": {},
   "outputs": [],
   "source": [
    "nn_knn = KNeighborsClassifier(n_neighbors = 4, n_jobs = 8)\n",
    "# nn = BernoulliRBM(random_state=0, verbose=True, learning_rate = .01, n_iter = 20,n_components=500)\n",
    "nn = BernoulliRBM(random_state=0, verbose=True, learning_rate = .01, n_iter = 10,n_components=500)\n",
    "nn2 = BernoulliRBM(random_state=0, verbose=True, learning_rate = .001, n_iter = 10,n_components=250)\n",
    "\n",
    "classifier = Pipeline(steps=[('nn2',nn2),('rbm', nn), ('kneighborsclassifier', knn)])"
   ]
  },
  {
   "cell_type": "code",
   "execution_count": 276,
   "metadata": {},
   "outputs": [
    {
     "name": "stdout",
     "output_type": "stream",
     "text": [
      "[BernoulliRBM] Iteration 1, pseudo-likelihood = -342.17, time = 8.83s\n",
      "[BernoulliRBM] Iteration 2, pseudo-likelihood = -298.61, time = 9.21s\n",
      "[BernoulliRBM] Iteration 3, pseudo-likelihood = -276.04, time = 9.13s\n",
      "[BernoulliRBM] Iteration 4, pseudo-likelihood = -261.17, time = 12.44s\n",
      "[BernoulliRBM] Iteration 5, pseudo-likelihood = -248.05, time = 11.31s\n",
      "[BernoulliRBM] Iteration 6, pseudo-likelihood = -238.74, time = 11.27s\n",
      "[BernoulliRBM] Iteration 7, pseudo-likelihood = -231.47, time = 11.82s\n",
      "[BernoulliRBM] Iteration 8, pseudo-likelihood = -224.98, time = 12.16s\n",
      "[BernoulliRBM] Iteration 9, pseudo-likelihood = -219.86, time = 12.87s\n",
      "[BernoulliRBM] Iteration 10, pseudo-likelihood = -215.59, time = 12.73s\n",
      "[BernoulliRBM] Iteration 1, pseudo-likelihood = -48.67, time = 6.34s\n",
      "[BernoulliRBM] Iteration 2, pseudo-likelihood = -42.53, time = 8.20s\n",
      "[BernoulliRBM] Iteration 3, pseudo-likelihood = -38.69, time = 8.60s\n",
      "[BernoulliRBM] Iteration 4, pseudo-likelihood = -36.78, time = 7.91s\n",
      "[BernoulliRBM] Iteration 5, pseudo-likelihood = -37.37, time = 7.99s\n",
      "[BernoulliRBM] Iteration 6, pseudo-likelihood = -36.29, time = 7.99s\n",
      "[BernoulliRBM] Iteration 7, pseudo-likelihood = -36.28, time = 7.85s\n",
      "[BernoulliRBM] Iteration 8, pseudo-likelihood = -38.35, time = 7.96s\n",
      "[BernoulliRBM] Iteration 9, pseudo-likelihood = -36.13, time = 9.08s\n",
      "[BernoulliRBM] Iteration 10, pseudo-likelihood = -35.82, time = 9.41s\n"
     ]
    },
    {
     "data": {
      "text/plain": [
       "Pipeline(steps=[('nn2', BernoulliRBM(batch_size=10, learning_rate=0.001, n_components=250, n_iter=10,\n",
       "       random_state=0, verbose=True)), ('rbm', BernoulliRBM(batch_size=10, learning_rate=0.01, n_components=500, n_iter=10,\n",
       "       random_state=0, verbose=True)), ('kneighborsclassifier', KNeighborsClassifier(algorithm='auto', leaf_size=30, metric='minkowski',\n",
       "           metric_params=None, n_jobs=-1, n_neighbors=4, p=2,\n",
       "           weights='uniform'))])"
      ]
     },
     "execution_count": 276,
     "metadata": {},
     "output_type": "execute_result"
    }
   ],
   "source": [
    "classifier.fit(X_train,y_train)"
   ]
  },
  {
   "cell_type": "code",
   "execution_count": 277,
   "metadata": {
    "collapsed": true
   },
   "outputs": [],
   "source": [
    "nn_y = classifier.predict(X_test)"
   ]
  },
  {
   "cell_type": "code",
   "execution_count": 278,
   "metadata": {},
   "outputs": [
    {
     "name": "stdout",
     "output_type": "stream",
     "text": [
      "             precision    recall  f1-score   support\n",
      "\n",
      "          0    0.98624   0.99537   0.99078       432\n",
      "          1    0.93750   0.98039   0.95847       459\n",
      "          2    0.97471   0.96804   0.97136       438\n",
      "          3    0.97155   0.96104   0.96627       462\n",
      "          4    0.95694   0.96618   0.96154       414\n",
      "          5    0.95584   0.94602   0.95090       389\n",
      "          6    0.97638   0.99200   0.98413       375\n",
      "          7    0.97011   0.97912   0.97460       431\n",
      "          8    0.97844   0.93077   0.95401       390\n",
      "          9    0.95274   0.93415   0.94335       410\n",
      "\n",
      "avg / total    0.96586   0.96571   0.96565      4200\n",
      "\n"
     ]
    }
   ],
   "source": [
    "print classification_report(y_test,nn_y,digits=5)"
   ]
  },
  {
   "cell_type": "code",
   "execution_count": 267,
   "metadata": {},
   "outputs": [
    {
     "name": "stdout",
     "output_type": "stream",
     "text": [
      "             precision    recall  f1-score   support\n",
      "\n",
      "          0    0.94855   0.98148   0.96473       432\n",
      "          1    0.85312   0.92375   0.88703       459\n",
      "          2    0.90300   0.89269   0.89782       438\n",
      "          3    0.90244   0.88095   0.89157       462\n",
      "          4    0.75165   0.82609   0.78711       414\n",
      "          5    0.84536   0.84319   0.84427       389\n",
      "          6    0.88071   0.92533   0.90247       375\n",
      "          7    0.89703   0.90951   0.90323       431\n",
      "          8    0.83954   0.75128   0.79296       390\n",
      "          9    0.81948   0.69756   0.75362       410\n",
      "\n",
      "avg / total    0.86527   0.86524   0.86412      4200\n",
      "\n"
     ]
    }
   ],
   "source": [
    "print classification_report(y_test,nn_y,digits=5)"
   ]
  },
  {
   "cell_type": "code",
   "execution_count": 259,
   "metadata": {},
   "outputs": [
    {
     "name": "stdout",
     "output_type": "stream",
     "text": [
      "             precision    recall  f1-score   support\n",
      "\n",
      "          0    0.98169   0.99306   0.98734       432\n",
      "          1    0.94770   0.98693   0.96692       459\n",
      "          2    0.98848   0.97945   0.98394       438\n",
      "          3    0.98261   0.97835   0.98048       462\n",
      "          4    0.97337   0.97101   0.97219       414\n",
      "          5    0.97895   0.95630   0.96749       389\n",
      "          6    0.96867   0.98933   0.97889       375\n",
      "          7    0.96796   0.98144   0.97465       431\n",
      "          8    0.98413   0.95385   0.96875       390\n",
      "          9    0.96500   0.94146   0.95309       410\n",
      "\n",
      "avg / total    0.97374   0.97357   0.97354      4200\n",
      "\n"
     ]
    }
   ],
   "source": [
    "print classification_report(y_test,nn_y,digits=5)"
   ]
  },
  {
   "cell_type": "code",
   "execution_count": 215,
   "metadata": {},
   "outputs": [
    {
     "name": "stdout",
     "output_type": "stream",
     "text": [
      "             precision    recall  f1-score   support\n",
      "\n",
      "          0    0.97945   0.99306   0.98621       432\n",
      "          1    0.97419   0.98693   0.98052       459\n",
      "          2    0.96110   0.95890   0.96000       438\n",
      "          3    0.96368   0.97619   0.96989       462\n",
      "          4    0.95332   0.93720   0.94519       414\n",
      "          5    0.96477   0.91517   0.93931       389\n",
      "          6    0.93434   0.98667   0.95979       375\n",
      "          7    0.94353   0.93039   0.93692       431\n",
      "          8    0.97403   0.96154   0.96774       390\n",
      "          9    0.91951   0.91951   0.91951       410\n",
      "\n",
      "avg / total    0.95722   0.95714   0.95703      4200\n",
      "\n"
     ]
    }
   ],
   "source": [
    "#items=300\n",
    "print classification_report(y_test,nn_y,digits=5)"
   ]
  },
  {
   "cell_type": "code",
   "execution_count": 211,
   "metadata": {},
   "outputs": [
    {
     "name": "stdout",
     "output_type": "stream",
     "text": [
      "             precision    recall  f1-score   support\n",
      "\n",
      "          0    0.96847   0.99537   0.98174       432\n",
      "          1    0.97624   0.98475   0.98048       459\n",
      "          2    0.96544   0.95662   0.96101       438\n",
      "          3    0.96753   0.96753   0.96753       462\n",
      "          4    0.95500   0.92271   0.93857       414\n",
      "          5    0.97548   0.92031   0.94709       389\n",
      "          6    0.94643   0.98933   0.96741       375\n",
      "          7    0.95991   0.94432   0.95205       431\n",
      "          8    0.96164   0.96410   0.96287       390\n",
      "          9    0.90544   0.93415   0.91957       410\n",
      "\n",
      "avg / total    0.95859   0.95833   0.95826      4200\n",
      "\n"
     ]
    }
   ],
   "source": [
    "#n_items 1000\n",
    "print classification_report(y_test,nn_y,digits=5)"
   ]
  },
  {
   "cell_type": "markdown",
   "metadata": {},
   "source": [
    "Logistic has worse performance than KNN.  Higher components higher n_iter better results"
   ]
  },
  {
   "cell_type": "markdown",
   "metadata": {},
   "source": [
    "# Random Forest"
   ]
  },
  {
   "cell_type": "code",
   "execution_count": 38,
   "metadata": {
    "collapsed": true
   },
   "outputs": [],
   "source": [
    "from sklearn.ensemble import RandomForestClassifier"
   ]
  },
  {
   "cell_type": "code",
   "execution_count": 44,
   "metadata": {
    "collapsed": true
   },
   "outputs": [],
   "source": [
    "param_grid = {'n_estimators':[8,9,10,11]}\n",
    "grid_search = GridSearchCV(RandomForestClassifier(),param_grid,verbose=3,cv=5, n_jobs=-1)"
   ]
  },
  {
   "cell_type": "code",
   "execution_count": 45,
   "metadata": {},
   "outputs": [
    {
     "name": "stdout",
     "output_type": "stream",
     "text": [
      "Fitting 5 folds for each of 4 candidates, totalling 20 fits\n"
     ]
    },
    {
     "name": "stderr",
     "output_type": "stream",
     "text": [
      "[Parallel(n_jobs=-1)]: Done   1 jobs       | elapsed:    4.4s\n",
      "[Parallel(n_jobs=-1)]: Done   6 out of  20 | elapsed:    5.0s remaining:   11.7s\n",
      "[Parallel(n_jobs=-1)]: Done  13 out of  20 | elapsed:    9.3s remaining:    5.0s\n",
      "[Parallel(n_jobs=-1)]: Done  20 out of  20 | elapsed:   12.5s finished\n"
     ]
    },
    {
     "name": "stdout",
     "output_type": "stream",
     "text": [
      "[CV] n_estimators=8 ..................................................\n",
      "[CV] n_estimators=8 ..................................................\n",
      "[CV] n_estimators=8 ..................................................\n",
      "[CV] n_estimators=8 ..................................................\n",
      "[CV] n_estimators=8 ..................................................\n",
      "[CV] n_estimators=9 ..................................................\n",
      "[CV] n_estimators=9 ..................................................\n",
      "[CV] n_estimators=9 ..................................................\n",
      "[CV] ......................... n_estimators=8, score=0.942219 -   4.3s[CV] ......................... n_estimators=8, score=0.942740 -   4.3s[CV] ......................... n_estimators=8, score=0.942071 -   4.3s[CV] ......................... n_estimators=8, score=0.940857 -   4.2s[CV] ......................... n_estimators=8, score=0.944680 -   4.2s[CV] ......................... n_estimators=9, score=0.949094 -   4.8s[CV] ......................... n_estimators=9, score=0.945253 -   4.9s[CV] ......................... n_estimators=9, score=0.944716 -   4.9s\n",
      "\n",
      "\n",
      "\n",
      "\n",
      "\n",
      "\n",
      "\n",
      "[CV] n_estimators=9 ..................................................\n",
      "[CV] n_estimators=10 .................................................\n",
      "[CV] n_estimators=10 .................................................\n",
      "[CV] n_estimators=9 ..................................................\n",
      "[CV] n_estimators=10 .................................................\n",
      "[CV] n_estimators=10 .................................................\n",
      "[CV] n_estimators=10 .................................................\n",
      "[CV] n_estimators=11 .................................................\n",
      "[CV] ......................... n_estimators=9, score=0.944150 -   4.4s[CV] ........................ n_estimators=10, score=0.951210 -   4.8s[CV] ........................ n_estimators=10, score=0.953055 -   4.9s[CV] ......................... n_estimators=9, score=0.946811 -   4.5s[CV] ........................ n_estimators=10, score=0.948816 -   4.9s[CV] ........................ n_estimators=10, score=0.948002 -   4.7s[CV] ........................ n_estimators=10, score=0.949047 -   4.6s[CV] ........................ n_estimators=11, score=0.952003 -   5.0s\n",
      "\n",
      "\n",
      "\n",
      "\n",
      "\n",
      "\n",
      "\n",
      "[CV] n_estimators=11 .................................................\n",
      "[CV] n_estimators=11 .................................................[CV] n_estimators=11 .................................................\n",
      "[CV] n_estimators=11 .................................................\n",
      "[CV] ........................ n_estimators=11, score=0.954774 -   3.3s\n",
      "[CV] ........................ n_estimators=11, score=0.950106 -   3.1s[CV] ........................ n_estimators=11, score=0.952784 -   3.3s\n",
      "[CV] ........................ n_estimators=11, score=0.949722 -   3.1s\n",
      "\n",
      "\n"
     ]
    },
    {
     "data": {
      "text/plain": [
       "GridSearchCV(cv=5, error_score='raise',\n",
       "       estimator=RandomForestClassifier(bootstrap=True, class_weight=None, criterion='gini',\n",
       "            max_depth=None, max_features='auto', max_leaf_nodes=None,\n",
       "            min_samples_leaf=1, min_samples_split=2,\n",
       "            min_weight_fraction_leaf=0.0, n_estimators=10, n_jobs=1,\n",
       "            oob_score=False, random_state=None, verbose=0,\n",
       "            warm_start=False),\n",
       "       fit_params={}, iid=True, loss_func=None, n_jobs=-1,\n",
       "       param_grid={'n_estimators': [8, 9, 10, 11]},\n",
       "       pre_dispatch='2*n_jobs', refit=True, score_func=None, scoring=None,\n",
       "       verbose=3)"
      ]
     },
     "execution_count": 45,
     "metadata": {},
     "output_type": "execute_result"
    }
   ],
   "source": [
    "grid_search.fit(X_train,y_train)"
   ]
  },
  {
   "cell_type": "code",
   "execution_count": 43,
   "metadata": {
    "scrolled": true
   },
   "outputs": [
    {
     "data": {
      "text/plain": [
       "array([  3.76872353e-05,   1.54387705e-04,   1.27699346e-04,\n",
       "         1.26985234e-04,   1.96682050e-04,   1.43213255e-04,\n",
       "         5.18941563e-04,   1.50089995e-04,   2.22586357e-04,\n",
       "         4.84810513e-04,   1.40332216e-04,   1.85867081e-04,\n",
       "         4.31477299e-04,   2.28246985e-04,   1.93104664e-03,\n",
       "         7.06283512e-04,   1.02672563e-03,   2.21420177e-03,\n",
       "         4.96008828e-04,   3.58277505e-04,   2.52002760e-04,\n",
       "         4.33667380e-04,   4.43936695e-04,   3.53099460e-04,\n",
       "         2.03054588e-04,   4.44415580e-04,   1.98609553e-03,\n",
       "         8.27707586e-04,   3.21585956e-04,   3.10126079e-04,\n",
       "         2.85771924e-04,   3.01792383e-04,   5.58308395e-04,\n",
       "         2.84673515e-04,   7.11959575e-04,   4.66900877e-04,\n",
       "         7.39361062e-04,   9.04279567e-04,   6.56382688e-04,\n",
       "         9.74832693e-04,   2.60212375e-03,   9.71419174e-04,\n",
       "         6.80508335e-04,   5.95452024e-04,   2.11011011e-03,\n",
       "         1.06371209e-03,   3.03945964e-03,   1.16858231e-03,\n",
       "         6.82645201e-04,   6.61883434e-04,   4.88056469e-04,\n",
       "         3.33432681e-04,   3.94477230e-04,   7.81329769e-04,\n",
       "         9.09172353e-04,   2.36715462e-03,   5.46580766e-04,\n",
       "         6.11364845e-04,   1.14732825e-03,   5.02257146e-04,\n",
       "         1.11105302e-03,   7.10902207e-04,   1.09543777e-03,\n",
       "         7.62969482e-04,   1.41883995e-03,   1.16140629e-03,\n",
       "         2.23232046e-03,   1.02991956e-03,   1.62767250e-03,\n",
       "         1.14086044e-02,   7.90120763e-03,   5.64707337e-03,\n",
       "         6.50571432e-03,   1.09888811e-03,   1.40944594e-03,\n",
       "         3.46310470e-03,   1.55116008e-03,   1.75539307e-03,\n",
       "         3.71074797e-04,   9.30640958e-04,   2.30382128e-03,\n",
       "         2.53586469e-03,   6.87098465e-04,   4.61420721e-04,\n",
       "         1.72983074e-04,   3.78830709e-04,   2.62393507e-04,\n",
       "         1.76436233e-04,   1.97091783e-04,   2.15352020e-04,\n",
       "         1.82555844e-04,   4.97838548e-04,   3.39713897e-04,\n",
       "         7.80686039e-04,   1.65926887e-04,   1.50987579e-03,\n",
       "         2.66376914e-03,   3.81395024e-04,   2.06769477e-03,\n",
       "         3.56669750e-04,   6.22141572e-04,   7.04609791e-04,\n",
       "         3.02276473e-04,   4.70623610e-04,   2.52153073e-04,\n",
       "         4.93956876e-04,   3.15455716e-04,   4.68674214e-04,\n",
       "         3.35167495e-04,   5.79282912e-04,   4.08608264e-04,\n",
       "         1.29485775e-04,   1.79314893e-04,   1.66480264e-03,\n",
       "         3.66737460e-04,   2.48616667e-04,   4.19697161e-04,\n",
       "         5.08866184e-04,   1.10956637e-03,   1.88949703e-04,\n",
       "         2.46722454e-03,   2.41294472e-03,   2.15348483e-03,\n",
       "         5.71341074e-04,   1.04543092e-03,   8.86188009e-04,\n",
       "         9.09849595e-04,   3.58231105e-04,   4.83096217e-04,\n",
       "         6.42487089e-04,   1.88819624e-03,   4.73449815e-04,\n",
       "         6.23406158e-04,   8.05949500e-04,   3.37184983e-04,\n",
       "         3.03882141e-04,   1.45990993e-03,   1.23832692e-03,\n",
       "         3.79123501e-04,   2.62608526e-04,   1.98143929e-04,\n",
       "         2.86166989e-04,   1.59489525e-04,   6.00614224e-04,\n",
       "         7.48645103e-04,   4.58151477e-04,   5.49100105e-04,\n",
       "         4.43403105e-04,   6.72517649e-04,   3.84878796e-04,\n",
       "         4.26411941e-04,   5.79232652e-04,   5.68692067e-04,\n",
       "         6.79026188e-04,   7.19248802e-04,   1.15930395e-03,\n",
       "         8.17442657e-04,   3.22238898e-04,   6.43055774e-04,\n",
       "         3.55737810e-04,   3.70765822e-04,   4.04610778e-04,\n",
       "         6.69511628e-04,   3.84373278e-04,   4.47750816e-04,\n",
       "         1.92958568e-03,   1.23973429e-03,   1.85547445e-04,\n",
       "         2.06131468e-04,   4.14365782e-04,   4.95111295e-04,\n",
       "         6.76007751e-04,   7.23806771e-04,   4.32765744e-04,\n",
       "         4.62232950e-04,   3.43137354e-04,   3.99292560e-04,\n",
       "         5.13806974e-04,   4.68909908e-04,   1.60420865e-03,\n",
       "         4.43611697e-04,   5.66765852e-04,   8.63635050e-04,\n",
       "         6.84340293e-04,   1.93811632e-03,   6.78507792e-04,\n",
       "         7.74046563e-04,   1.75847763e-03,   2.44049465e-03,\n",
       "         5.43277292e-03,   7.78424102e-04,   3.54113825e-03,\n",
       "         1.22938904e-03,   1.98190284e-03,   1.25188037e-03,\n",
       "         5.17822148e-04,   9.37796293e-04,   9.37976053e-04,\n",
       "         3.71950184e-03,   6.20434745e-04,   1.03593064e-03,\n",
       "         8.18174901e-04,   9.39770209e-04,   6.62330641e-04,\n",
       "         1.48371619e-03,   1.00560558e-03,   5.63380130e-04,\n",
       "         1.41703505e-03,   1.01780926e-03,   3.62133225e-03,\n",
       "         1.08740998e-03,   9.72407226e-04,   9.58540720e-04,\n",
       "         2.07097656e-03,   1.38605101e-03,   6.87846819e-04,\n",
       "         3.78515244e-03,   1.10558438e-03,   5.82013271e-03,\n",
       "         4.23966839e-03,   7.42340321e-03,   8.20234911e-04,\n",
       "         5.66055027e-04,   4.56535907e-04,   3.30990253e-04,\n",
       "         5.18059437e-04,   5.35545212e-04,   7.53936818e-04,\n",
       "         2.04599359e-03,   1.14233146e-03,   7.57900224e-04,\n",
       "         8.98753724e-04,   2.93233312e-03,   1.42599554e-03,\n",
       "         3.89004620e-04,   6.85152356e-04,   1.06507454e-03,\n",
       "         1.04813807e-03,   1.61708781e-03,   5.61526807e-03,\n",
       "         1.53935194e-03,   1.80532429e-03,   8.95798566e-04,\n",
       "         6.89107362e-04,   5.23908808e-03,   1.85147198e-03,\n",
       "         1.83975240e-03,   1.51510232e-02,   1.10910432e-03,\n",
       "         2.49191266e-03,   1.61687595e-03,   3.20991128e-04,\n",
       "         2.59867472e-04,   9.67598084e-04,   1.90744701e-03,\n",
       "         1.34180896e-03,   2.52618291e-03,   1.36805620e-03,\n",
       "         1.63710708e-03,   2.07884900e-03,   2.06309603e-03,\n",
       "         1.54678267e-03,   2.22183768e-03,   2.59473927e-03,\n",
       "         2.15550348e-03,   2.00349883e-03,   2.37339059e-03,\n",
       "         4.64530877e-03,   9.02609936e-04,   9.60076448e-04,\n",
       "         5.17869473e-03,   8.87308042e-04,   1.04274163e-03,\n",
       "         7.16899879e-04,   3.34528035e-03,   1.59347479e-03,\n",
       "         4.47426033e-03,   1.31847874e-03,   6.77041017e-03,\n",
       "         3.18407800e-04,   1.78091856e-04,   2.57184627e-04,\n",
       "         7.93061908e-04,   1.62143284e-03,   3.75715518e-03,\n",
       "         9.69524141e-04,   1.13944712e-03,   1.13667851e-03,\n",
       "         7.82992487e-04,   1.51858338e-03,   2.69003901e-03,\n",
       "         1.79354877e-03,   8.65638758e-04,   9.75121896e-04,\n",
       "         8.70500690e-04,   1.88200229e-03,   9.13152660e-04,\n",
       "         8.11556263e-04,   3.98029622e-03,   1.52843926e-03,\n",
       "         9.08272647e-04,   6.35854159e-04,   5.99338504e-04,\n",
       "         6.43293041e-04,   1.16254936e-03,   1.09828888e-03,\n",
       "         3.77802964e-04,   2.99505425e-04,   2.99579924e-04,\n",
       "         3.88272135e-03,   5.43278579e-04,   6.13393999e-04,\n",
       "         1.02543173e-03,   6.52355946e-03,   3.96081531e-03,\n",
       "         8.27866150e-04,   7.88866991e-04,   1.14255985e-03,\n",
       "         1.03656131e-03,   4.62512237e-03,   3.29664201e-03,\n",
       "         1.31772139e-03,   2.30694958e-03,   9.84039609e-04,\n",
       "         1.76873627e-03,   7.48547724e-04,   1.10083907e-03,\n",
       "         5.53300642e-04,   1.85101068e-03,   2.46853029e-03,\n",
       "         8.65928803e-04,   9.12451451e-04,   4.72325441e-04,\n",
       "         1.42490048e-03,   5.45186053e-03,   5.68110482e-04,\n",
       "         5.06020925e-04,   1.47569152e-03,   8.80188987e-03,\n",
       "         1.22350891e-03,   5.77698892e-03,   4.21280890e-03,\n",
       "         7.80679736e-04,   2.60313607e-03,   3.09093772e-03,\n",
       "         2.33721700e-03,   2.07118522e-03,   3.70406041e-03,\n",
       "         1.05780360e-03,   4.88011656e-03,   3.68082798e-03,\n",
       "         2.65793889e-03,   8.31979016e-04,   3.77408610e-04,\n",
       "         1.12399444e-03,   1.23300803e-03,   8.41075581e-04,\n",
       "         9.02338919e-04,   3.97935988e-04,   5.06514856e-04,\n",
       "         7.50330280e-04,   5.01985611e-04,   2.33660983e-03,\n",
       "         4.25429040e-04,   2.36593025e-04,   5.39832270e-04,\n",
       "         2.29544501e-03,   4.10953913e-03,   3.54720804e-03,\n",
       "         5.31505607e-04,   1.44632053e-03,   1.51455567e-03,\n",
       "         5.73649035e-03,   1.05334556e-03,   1.54324723e-03,\n",
       "         6.75516048e-04,   1.35055583e-03,   4.92384731e-03,\n",
       "         1.31014540e-03,   5.29120845e-03,   4.68024312e-03,\n",
       "         3.81701386e-04,   5.99613101e-04,   6.14344303e-04,\n",
       "         3.33238176e-04,   3.97274377e-04,   3.61915598e-04,\n",
       "         4.05064419e-04,   2.73236761e-04,   4.63498213e-04,\n",
       "         1.07962249e-03,   5.87959714e-04,   2.00637809e-04,\n",
       "         2.50362796e-03,   3.33961858e-03,   1.32157250e-03,\n",
       "         4.04868220e-04,   1.41322955e-03,   1.00404144e-03,\n",
       "         8.20911432e-04,   1.14822242e-03,   2.06358110e-03,\n",
       "         7.24178659e-04,   1.52785857e-03,   6.61752550e-04,\n",
       "         1.17532493e-03,   6.83591488e-04,   9.53894600e-03,\n",
       "         1.08170953e-03,   6.09112896e-04,   8.15583917e-04,\n",
       "         3.04596569e-04,   8.50639106e-04,   4.10788415e-04,\n",
       "         3.41420224e-04,   1.13412729e-03,   4.17267120e-04,\n",
       "         3.05328894e-03,   4.54529840e-04,   2.86145387e-04,\n",
       "         7.02069766e-04,   1.52712325e-03,   1.67960358e-03,\n",
       "         5.44634932e-03,   6.88933076e-04,   1.41184669e-03,\n",
       "         3.41097641e-04,   3.58712556e-04,   4.80114570e-04,\n",
       "         5.55647907e-04,   4.45069741e-04,   6.63801003e-04,\n",
       "         1.12425216e-03,   9.26826721e-04,   7.38526907e-04,\n",
       "         4.39496546e-04,   5.20811382e-03,   4.46158846e-04,\n",
       "         3.93655520e-04,   2.67951694e-04,   2.82634111e-04,\n",
       "         1.25590922e-04,   2.55823760e-04,   9.42742921e-04,\n",
       "         1.70568922e-03,   1.00792708e-03,   3.37301834e-04,\n",
       "         3.03987508e-04,   6.72147362e-04,   5.14797090e-04,\n",
       "         2.49389756e-03,   1.00569664e-02,   6.09404912e-04,\n",
       "         1.10634177e-03,   2.24577015e-03,   1.67283556e-03,\n",
       "         7.34084709e-04,   4.49054684e-04,   2.88735561e-03,\n",
       "         1.24201616e-03,   5.30062981e-03,   6.27166740e-04,\n",
       "         4.69550339e-04,   6.44222300e-04,   3.93032416e-03,\n",
       "         4.36235438e-04,   3.28177232e-04,   5.01127477e-04,\n",
       "         3.17424414e-04,   2.22602503e-04,   1.00239938e-03,\n",
       "         6.24950301e-04,   1.32855870e-03,   1.21249328e-03,\n",
       "         4.70428887e-04,   2.85428854e-04,   2.02815695e-03,\n",
       "         6.00431590e-04,   2.10196863e-03,   1.00715406e-02,\n",
       "         8.19075326e-04,   4.50451128e-04,   5.97856662e-03,\n",
       "         1.27139265e-03,   5.06630047e-04,   6.63412618e-04,\n",
       "         2.70746732e-04,   3.15854031e-03,   8.67931574e-04,\n",
       "         6.79595654e-04,   3.20664653e-03,   3.77825352e-04,\n",
       "         3.11123111e-04,   1.95063689e-04,   1.11423181e-04,\n",
       "         2.75857402e-04,   2.02318939e-04,   2.07155803e-04,\n",
       "         2.99917297e-04,   4.68643843e-04,   4.79202815e-04,\n",
       "         2.65514966e-04,   1.14273046e-03,   2.14156041e-04,\n",
       "         5.64004771e-04,   8.40417610e-04,   5.92845253e-03,\n",
       "         2.66287825e-03,   9.70219551e-04,   6.81426287e-03,\n",
       "         2.91205783e-03,   1.72297438e-03,   1.33923813e-03,\n",
       "         5.98584066e-03,   2.75182883e-03,   4.55189751e-03,\n",
       "         4.36822561e-04,   5.87343298e-04,   3.75462903e-03,\n",
       "         8.18303858e-04,   2.55121046e-04,   2.28880366e-03,\n",
       "         4.77257445e-04,   4.46990526e-04,   5.23516438e-04,\n",
       "         3.55621576e-04,   1.24723729e-04,   8.07836882e-04,\n",
       "         1.14537349e-03,   5.38280531e-03,   3.75970218e-03,\n",
       "         2.88862388e-04,   3.46311368e-04,   9.79123479e-04,\n",
       "         7.33082826e-04,   1.97830503e-03,   7.19136855e-04,\n",
       "         8.40918134e-03,   6.93100352e-04,   1.60280653e-03,\n",
       "         2.05156264e-03,   5.89092427e-03,   2.98060204e-03,\n",
       "         2.78348841e-03,   1.02760706e-03,   3.84932086e-03,\n",
       "         1.02293264e-03,   8.97220167e-04,   7.44076711e-04,\n",
       "         3.12489253e-04,   4.90292397e-04,   4.26694987e-04,\n",
       "         7.01667434e-04,   2.72442941e-04,   2.81321039e-04,\n",
       "         4.32362004e-04,   5.53970894e-04,   1.95126510e-03,\n",
       "         3.72366444e-03,   1.76770619e-04,   3.07609077e-04,\n",
       "         2.40299805e-03,   1.23625020e-03,   8.16655565e-04,\n",
       "         3.45375217e-03,   1.12534777e-03,   1.43565091e-03,\n",
       "         6.53062376e-04,   1.77536943e-03,   5.11447393e-03,\n",
       "         6.82956023e-04,   2.16818783e-03,   2.08372022e-03,\n",
       "         1.28347690e-03,   8.21527832e-04,   4.07442216e-04,\n",
       "         8.92407539e-04,   3.10020590e-04,   6.61566674e-04,\n",
       "         8.02415495e-04,   4.54336902e-04,   4.50544474e-04,\n",
       "         7.05977763e-04,   4.75537810e-04,   3.93881132e-04,\n",
       "         2.92601735e-03,   3.99168967e-04,   2.17767722e-04,\n",
       "         6.79952948e-04,   7.12092028e-04,   1.39855352e-03,\n",
       "         6.21532752e-04,   4.29323524e-03,   6.23446062e-04,\n",
       "         7.08371255e-04,   2.95214420e-03,   2.19908413e-03,\n",
       "         6.39029865e-04,   1.49673473e-03,   6.95428003e-04,\n",
       "         7.70810815e-04,   3.36163785e-04,   2.89404075e-04,\n",
       "         4.18018641e-04,   1.02882638e-03,   4.19544852e-04,\n",
       "         4.86429051e-04,   5.24321272e-04,   4.15983443e-04,\n",
       "         2.47906908e-04,   7.97995921e-04,   1.34343563e-03,\n",
       "         8.81276381e-04,   4.01412468e-04,   1.92253497e-04,\n",
       "         2.33352964e-04,   1.77345574e-04,   7.16345363e-03,\n",
       "         6.61309326e-03,   2.65254852e-03,   4.44715050e-04,\n",
       "         3.51462056e-04,   4.49506064e-04,   2.59738089e-04,\n",
       "         5.81045571e-04,   6.14198962e-04,   7.88568293e-04,\n",
       "         7.00054366e-04,   3.75603696e-04,   2.78091893e-04,\n",
       "         3.30616848e-04,   4.10575255e-04,   2.21764776e-04,\n",
       "         2.55040476e-04,   3.97385941e-04,   6.90492975e-04,\n",
       "         3.13966317e-04,   3.65713436e-04,   1.67828674e-03,\n",
       "         1.01783692e-03,   5.74332996e-04,   3.92385024e-03,\n",
       "         1.06943401e-03,   2.08213696e-04,   3.51863855e-04,\n",
       "         5.87899307e-04,   8.41802367e-04,   5.22749633e-04,\n",
       "         4.04420399e-03,   5.58200727e-03,   7.64841961e-04,\n",
       "         2.62166552e-04,   1.20162776e-03,   2.71762177e-04,\n",
       "         3.28952667e-04,   4.63715414e-04,   6.24928006e-04,\n",
       "         5.88808556e-04,   2.22058950e-03,   6.12780222e-04,\n",
       "         4.75749635e-04,   3.46122058e-04,   7.96782253e-04,\n",
       "         8.62398141e-04,   2.36942121e-03,   2.61330377e-04,\n",
       "         1.02388890e-03,   8.58163836e-04,   2.09325981e-03,\n",
       "         1.12253904e-03,   3.80388422e-04,   1.66409727e-03,\n",
       "         3.92756960e-04,   3.17110166e-04,   2.23577096e-03,\n",
       "         2.58488441e-04,   3.44778601e-04,   1.59122557e-04,\n",
       "         2.44081393e-04,   5.05000103e-04,   3.07394604e-04,\n",
       "         1.34169566e-04,   4.20747619e-04,   5.88856968e-04,\n",
       "         1.61495033e-04,   2.66563191e-04,   5.21290390e-04,\n",
       "         3.75063238e-04,   2.58168312e-04,   2.00314096e-04,\n",
       "         5.85993094e-04,   4.90431477e-04,   5.55471196e-04,\n",
       "         2.20101459e-04,   3.51161889e-04,   5.34636500e-04,\n",
       "         2.13609472e-04,   1.59990417e-04,   5.97258917e-04,\n",
       "         1.53075034e-04,   1.44044973e-04,   1.77032274e-03,\n",
       "         4.12319945e-03,   4.84546116e-04,   1.31350945e-03,\n",
       "         5.53119300e-04,   4.78443758e-03,   8.33035269e-04,\n",
       "         1.53916002e-03,   5.58646671e-03,   1.52140014e-03,\n",
       "         1.79348077e-03,   1.22038427e-03,   7.67308675e-04,\n",
       "         2.02507978e-03,   1.50472467e-03,   5.19791486e-04,\n",
       "         8.34811436e-04,   4.17376102e-04,   5.94273719e-04,\n",
       "         3.87446873e-04,   5.26221751e-04,   1.13368427e-03,\n",
       "         7.69522469e-04,   2.49818154e-04,   8.00710560e-04,\n",
       "         6.75300569e-04,   4.86271283e-04,   1.02584816e-04,\n",
       "         7.12355029e-04,   1.00016495e-03,   3.62272797e-04,\n",
       "         8.41746149e-04,   3.53421112e-04,   5.20171407e-04,\n",
       "         1.12872642e-03,   3.67661767e-04,   1.62525091e-03,\n",
       "         9.87168692e-04,   1.08403218e-03,   7.64631771e-04,\n",
       "         7.19264536e-04,   2.31790678e-03,   5.45142450e-04,\n",
       "         4.29773514e-04,   6.58609548e-04,   5.89702652e-04,\n",
       "         3.85656894e-04,   5.58853131e-04,   2.78147599e-04,\n",
       "         4.83446105e-04,   2.54016095e-04,   4.19163608e-04,\n",
       "         3.25749935e-04,   3.93068450e-04,   2.58297529e-04,\n",
       "         7.10631875e-05,   1.97237066e-04,   2.36272556e-04,\n",
       "         1.01161596e-03,   2.58744807e-04,   2.47906125e-04,\n",
       "         3.23802005e-04,   3.09697431e-04,   3.66563407e-04,\n",
       "         4.14193161e-04,   1.99452522e-04,   3.83463667e-04,\n",
       "         4.50600912e-04,   1.28346779e-03,   5.08734479e-04,\n",
       "         2.55672831e-04,   4.79279824e-04,   1.75268081e-04,\n",
       "         4.27838850e-04,   3.06797396e-04,   1.87104864e-04,\n",
       "         3.80487026e-04,   4.49129969e-04,   3.08930907e-04,\n",
       "         3.09059710e-04,   2.97900165e-04,   1.66413775e-04,\n",
       "         5.72226580e-05])"
      ]
     },
     "execution_count": 43,
     "metadata": {},
     "output_type": "execute_result"
    }
   ],
   "source": [
    "rfc = RandomForestClassifier()\n",
    "rfc.fit(X_train,y_train)\n",
    "rfc.feature_importances_"
   ]
  },
  {
   "cell_type": "markdown",
   "metadata": {},
   "source": [
    "# Naive Bayes"
   ]
  },
  {
   "cell_type": "code",
   "execution_count": 136,
   "metadata": {
    "collapsed": true
   },
   "outputs": [],
   "source": [
    "from sklearn.naive_bayes import MultinomialNB"
   ]
  },
  {
   "cell_type": "code",
   "execution_count": 143,
   "metadata": {
    "collapsed": true
   },
   "outputs": [],
   "source": [
    "multi_nb = MultinomialNB()"
   ]
  },
  {
   "cell_type": "code",
   "execution_count": 144,
   "metadata": {},
   "outputs": [
    {
     "data": {
      "text/plain": [
       "MultinomialNB(alpha=1.0, class_prior=None, fit_prior=True)"
      ]
     },
     "execution_count": 144,
     "metadata": {},
     "output_type": "execute_result"
    }
   ],
   "source": [
    "multi_nb.fit(X_train,y_train)"
   ]
  },
  {
   "cell_type": "code",
   "execution_count": 145,
   "metadata": {
    "collapsed": true
   },
   "outputs": [],
   "source": [
    "multi_y = multi_nb.predict(X_test)"
   ]
  },
  {
   "cell_type": "code",
   "execution_count": 146,
   "metadata": {},
   "outputs": [
    {
     "name": "stdout",
     "output_type": "stream",
     "text": [
      "             precision    recall  f1-score   support\n",
      "\n",
      "          0    0.94676   0.94676   0.94676       432\n",
      "          1    0.55500   0.72549   0.62890       459\n",
      "          2    0.89663   0.85160   0.87354       438\n",
      "          3    0.85376   0.85931   0.85653       462\n",
      "          4    0.78827   0.74638   0.76675       414\n",
      "          5    0.87926   0.73008   0.79775       389\n",
      "          6    0.84433   0.85333   0.84881       375\n",
      "          7    0.90028   0.75406   0.82071       431\n",
      "          8    0.69697   0.64872   0.67198       390\n",
      "          9    0.68230   0.78049   0.72810       410\n",
      "\n",
      "avg / total    0.80369   0.79119   0.79437      4200\n",
      "\n"
     ]
    }
   ],
   "source": [
    "print classification_report(y_test,multi_y,digits=5)"
   ]
  },
  {
   "cell_type": "code",
   "execution_count": null,
   "metadata": {
    "collapsed": true
   },
   "outputs": [],
   "source": [
    "accuracy_score(y_test,y_fit)"
   ]
  },
  {
   "cell_type": "markdown",
   "metadata": {},
   "source": [
    "# PCA Experiment"
   ]
  },
  {
   "cell_type": "markdown",
   "metadata": {},
   "source": [
    "PCA Doesn't actually do anything if I leave all the features in.  Using it as a method for feature reduction would likely reduce the accuracy of my predictions since the model loses data."
   ]
  },
  {
   "cell_type": "code",
   "execution_count": 159,
   "metadata": {
    "collapsed": true
   },
   "outputs": [],
   "source": []
  },
  {
   "cell_type": "code",
   "execution_count": 15,
   "metadata": {
    "collapsed": true
   },
   "outputs": [],
   "source": [
    "pca = PCA(n_components = 500)"
   ]
  },
  {
   "cell_type": "code",
   "execution_count": 16,
   "metadata": {},
   "outputs": [
    {
     "data": {
      "text/plain": [
       "PCA(copy=True, n_components=500, whiten=False)"
      ]
     },
     "execution_count": 16,
     "metadata": {},
     "output_type": "execute_result"
    }
   ],
   "source": [
    "pca.fit(X_train)"
   ]
  },
  {
   "cell_type": "code",
   "execution_count": 17,
   "metadata": {},
   "outputs": [],
   "source": [
    "X_train_pca = pca.transform(X_train)"
   ]
  },
  {
   "cell_type": "code",
   "execution_count": 18,
   "metadata": {
    "collapsed": true
   },
   "outputs": [],
   "source": [
    "X_test_pca = pca.transform(X_test)"
   ]
  },
  {
   "cell_type": "code",
   "execution_count": 22,
   "metadata": {},
   "outputs": [],
   "source": [
    "param_grid = {'n_neighbors':[1,2,3,4,5]}\n",
    "grid_search = GridSearchCV(KNeighborsClassifier(),param_grid,verbose=3,cv=5, n_jobs=-1)"
   ]
  },
  {
   "cell_type": "code",
   "execution_count": 22,
   "metadata": {},
   "outputs": [
    {
     "ename": "NameError",
     "evalue": "name 'grid_search' is not defined",
     "output_type": "error",
     "traceback": [
      "\u001b[1;31m---------------------------------------------------------------------------\u001b[0m",
      "\u001b[1;31mNameError\u001b[0m                                 Traceback (most recent call last)",
      "\u001b[1;32m<ipython-input-22-503612d9c203>\u001b[0m in \u001b[0;36m<module>\u001b[1;34m()\u001b[0m\n\u001b[1;32m----> 1\u001b[1;33m \u001b[0mgrid_search\u001b[0m\u001b[1;33m.\u001b[0m\u001b[0mfit\u001b[0m\u001b[1;33m(\u001b[0m\u001b[0mX_train_pca\u001b[0m\u001b[1;33m,\u001b[0m\u001b[0my_train\u001b[0m\u001b[1;33m)\u001b[0m\u001b[1;33m\u001b[0m\u001b[0m\n\u001b[0m",
      "\u001b[1;31mNameError\u001b[0m: name 'grid_search' is not defined"
     ]
    }
   ],
   "source": [
    "grid_search.fit(X_train_pca,y_train)"
   ]
  },
  {
   "cell_type": "code",
   "execution_count": 175,
   "metadata": {},
   "outputs": [
    {
     "data": {
      "text/plain": [
       "KNeighborsClassifier(algorithm='auto', leaf_size=30, metric='minkowski',\n",
       "           metric_params=None, n_neighbors=1, p=2, weights='uniform')"
      ]
     },
     "execution_count": 175,
     "metadata": {},
     "output_type": "execute_result"
    }
   ],
   "source": [
    "knn = KNeighborsClassifier(n_neighbors = 1 )\n",
    "knn.fit(X_train_pca,y_train)"
   ]
  },
  {
   "cell_type": "code",
   "execution_count": 176,
   "metadata": {},
   "outputs": [],
   "source": [
    "y_fit = knn.predict(X_test_pca)"
   ]
  },
  {
   "cell_type": "code",
   "execution_count": 178,
   "metadata": {},
   "outputs": [
    {
     "data": {
      "text/plain": [
       "0.97190476190476194"
      ]
     },
     "execution_count": 178,
     "metadata": {},
     "output_type": "execute_result"
    }
   ],
   "source": [
    "accuracy_score(y_test,y_fit)"
   ]
  },
  {
   "cell_type": "code",
   "execution_count": 117,
   "metadata": {},
   "outputs": [],
   "source": [
    "pca_images = X_test_pca.reshape(len(X_test_pca),28,28)"
   ]
  },
  {
   "cell_type": "code",
   "execution_count": 118,
   "metadata": {},
   "outputs": [
    {
     "data": {
      "image/png": "[encoded data removed]",
      "text/plain": [
       "<matplotlib.figure.Figure at 0x7f6f806eb050>"
      ]
     },
     "metadata": {},
     "output_type": "display_data"
    }
   ],
   "source": [
    "plot_averages(pca_images,y_test)"
   ]
  },
  {
   "cell_type": "markdown",
   "metadata": {},
   "source": [
    "# Centering Calculations"
   ]
  },
  {
   "cell_type": "code",
   "execution_count": null,
   "metadata": {},
   "outputs": [],
   "source": [
    "3<<2"
   ]
  },
  {
   "cell_type": "code",
   "execution_count": null,
   "metadata": {},
   "outputs": [],
   "source": [
    "indices = np.arange(28)\n",
    "X, Y = np.meshgrid(indices, indices)"
   ]
  },
  {
   "cell_type": "code",
   "execution_count": null,
   "metadata": {
    "collapsed": true
   },
   "outputs": [],
   "source": [
    "test = np.array(images)[0]"
   ]
  },
  {
   "cell_type": "code",
   "execution_count": null,
   "metadata": {
    "scrolled": true
   },
   "outputs": [],
   "source": [
    "np.sum(test.reshape(28,28) *X)/np.sum(test)"
   ]
  },
  {
   "cell_type": "code",
   "execution_count": null,
   "metadata": {},
   "outputs": [],
   "source": [
    "np.sum(test.reshape(28,28) *Y)/np.sum(test)"
   ]
  },
  {
   "cell_type": "code",
   "execution_count": null,
   "metadata": {
    "collapsed": true
   },
   "outputs": [],
   "source": []
  }
 ],
 "metadata": {
  "kernelspec": {
   "display_name": "Python 3",
   "language": "python",
   "name": "python3"
  },
  "language_info": {
   "codemirror_mode": {
    "name": "ipython",
    "version": 3
   },
   "file_extension": ".py",
   "mimetype": "text/x-python",
   "name": "python",
   "nbconvert_exporter": "python",
   "pygments_lexer": "ipython3",
   "version": "3.7.7"
  }
 },
 "nbformat": 4,
 "nbformat_minor": 1
}
