{
	"cells": [{
			"cell_type": "markdown",
			"metadata": {},
			"source": [
				"<img src=\"http://imgur.com/1ZcRyrc.png\" style=\"float: left; margin: 20px; height: 55px\">\n",
				"\n",
				"# Project 3: Linear Regression and Train/Test Split\n",
				"\n",
				"---"
			]
		},
		{
			"cell_type": "markdown",
			"metadata": {},
			"source": [
				"# Introduction\n",
				"\n",
				"We've discussed overfitting in the context of bias and variance, and we've touched on some techniques that are used to avoid overfitting (but haven't practiced them yet). In this project, we'll practice a fundamental method for avoiding overfitting that is commonly referred to as: _train/test split validation_. \n",
				"\n",
				"This is similar to something called \"cross-validation\" — in fact, it is a type of cross-validation — in that we will be splitting the data into two subsets:\n",
				"* A subset on which to train our model.\n",
				"* A subset on which to test our model's predictions.\n",
				"\n",
				"This serves two useful purposes:\n",
				"* We prevent overfitting by not using all of the data.\n",
				"* We have some remaining data we can use to evaluate our model.\n",
				"\n",
				"While this may seem like a relatively simple idea, **there are some caveats** to putting it into practice. For example, if you are not careful, it is easy to take a non-random split. Suppose we have salary data on technical professionals that is composed of 80 percent data from California, 20 percent data from elsewhere, and is sorted by state. If we split our data into 80 percent training data and 20 percent testing data, we might inadvertantly select all the California data to train and all the non-California data to test. In this case, we've still overfit on our data set because we did not sufficiently randomize the data.\n",
				"\n",
				"Note: In a situation like this, you could use a technique called _k-fold cross-validation_, which is cross-validation applied to more than two subsets. In particular, in k-fold cross-validation, you'd partition your data into $k$ subsets and train on $k-1$ one of them, holding the last slice for testing. You would do this for each of the possible $k-1$ subsets."
			]
		},
		{
			"cell_type": "markdown",
			"metadata": {},
			"source": [
				"# Project Requirements\n",
				"\n",
				"The goal of this project will be to create a test-training split to compare multiple models on the same Boston housing data set. For example, you might choose to compare different linear models on the same data.\n",
				"\n",
				"In this project, you'll fit two to three different models on the Boston housing data. For example, you could pick two different subsets of variables, one or more polynomial models, or any other model you'd like. \n",
				"\n",
				"### Here's What We Will Be Doing:\n",
				"\n",
				"* Work with Boston housing data to predict the value of a home\n",
				"* Create a test-train split of the data.\n",
				"* Train your model on the training data.\n",
				"* Evaluate your model on the test data.\n",
				"* Repeat with other variables.\n",
				"* Rank the models by how well they score on the testing data set. \n",
				"* Don't forget to interpret your findings! \n",
				"\n"
			]
		},
		{
			"cell_type": "markdown",
			"metadata": {},
			"source": [
				"A k-fold cross-validation creates a hold portion of your data set for each iteration of training and validating:\n",
				"\n",
				"![](http://i.imgur.com/0PFrPXJ.png)"
			]
		},
		{
			"cell_type": "markdown",
			"metadata": {},
			"source": [
				"## Linear Regression\n",
				"\n",
				"As a real estate developer, you are being asked to model the median home price of various houses in the city of Boston using data from the US census. Your goal is to predict a continuous, numeric output (price) based on a combination of discrete features that you choose."
			]
		},
		{
			"cell_type": "code",
			"execution_count": 2,
			"metadata": {
				"collapsed": true
			},
			"outputs": [],
			"source": [
				"import matplotlib.pyplot as plt\n",
				"\n",
				"% matplotlib inline"
			]
		},
		{
			"cell_type": "code",
			"execution_count": 3,
			"metadata": {},
			"outputs": [{
				"name": "stdout",
				"output_type": "stream",
				"text": [
					"Boston House Prices dataset\n",
					"===========================\n",
					"\n",
					"Notes\n",
					"------\n",
					"Data Set Characteristics:  \n",
					"\n",
					"    :Number of Instances: 506 \n",
					"\n",
					"    :Number of Attributes: 13 numeric/categorical predictive\n",
					"    \n",
					"    :Median Value (attribute 14) is usually the target\n",
					"\n",
					"    :Attribute Information (in order):\n",
					"        - CRIM     per capita crime rate by town\n",
					"        - ZN       proportion of residential land zoned for lots over 25,000 sq.ft.\n",
					"        - INDUS    proportion of non-retail business acres per town\n",
					"        - CHAS     Charles River dummy variable (= 1 if tract bounds river; 0 otherwise)\n",
					"        - NOX      nitric oxides concentration (parts per 10 million)\n",
					"        - RM       average number of rooms per dwelling\n",
					"        - AGE      proportion of owner-occupied units built prior to 1940\n",
					"        - DIS      weighted distances to five Boston employment centres\n",
					"        - RAD      index of accessibility to radial highways\n",
					"        - TAX      full-value property-tax rate per $10,000\n",
					"        - PTRATIO  pupil-teacher ratio by town\n",
					"        - B        1000(Bk - 0.63)^2 where Bk is the proportion of blacks by town\n",
					"        - LSTAT    % lower status of the population\n",
					"        - MEDV     Median value of owner-occupied homes in $1000's\n",
					"\n",
					"    :Missing Attribute Values: None\n",
					"\n",
					"    :Creator: Harrison, D. and Rubinfeld, D.L.\n",
					"\n",
					"This is a copy of UCI ML housing dataset.\n",
					"http://archive.ics.uci.edu/ml/datasets/Housing\n",
					"\n",
					"\n",
					"This dataset was taken from the StatLib library which is maintained at Carnegie Mellon University.\n",
					"\n",
					"The Boston house-price data of Harrison, D. and Rubinfeld, D.L. 'Hedonic\n",
					"prices and the demand for clean air', J. Environ. Economics & Management,\n",
					"vol.5, 81-102, 1978.   Used in Belsley, Kuh & Welsch, 'Regression diagnostics\n",
					"...', Wiley, 1980.   N.B. Various transformations are used in the table on\n",
					"pages 244-261 of the latter.\n",
					"\n",
					"The Boston house-price data has been used in many machine learning papers that address regression problems.  \n",
					"     \n",
					"**References**\n",
					"\n",
					"   - Belsley, Kuh & Welsch, 'Regression diagnostics: Identifying Influential Data and Sources of Collinearity', Wiley, 1980. 244-261.\n",
					"   - Quinlan,R. (1993). Combining Instance-Based and Model-Based Learning. In Proceedings on the Tenth International Conference of Machine Learning, 236-243, University of Massachusetts, Amherst. Morgan Kaufmann.\n",
					"   - many more! (see http://archive.ics.uci.edu/ml/datasets/Housing)\n",
					"\n"
				]
			}],
			"source": [
				"import pandas as pd\n",
				"import numpy as np\n",
				"from sklearn.datasets import load_boston\n",
				"\n",
				"boston = load_boston()\n",
				"\n",
				"X = pd.DataFrame(boston.data,\n",
				"                 columns=boston.feature_names)\n",
				"y = pd.DataFrame(boston.target,\n",
				"                 columns=['MEDV'])\n",
				"\n",
				"print(boston['DESCR'])"
			]
		},
		{
			"cell_type": "markdown",
			"metadata": {},
			"source": [
				"### REQUIRED: Clean Up Data and Perform Exporatory Data Analysis"
			]
		},
		{
			"cell_type": "markdown",
			"metadata": {
				"collapsed": true
			},
			"source": [
				"Boston data is from scikit-learn, so it _ought_ to be pretty clean, but you should always perform exploratory data analysis."
			]
		},
		{
			"cell_type": "code",
			"execution_count": 3,
			"metadata": {
				"collapsed": true
			},
			"outputs": [],
			"source": [
				"# Exploratory data analysis.\n",
				"\n",
				"# Include: total nulls, index, data types, shape, summary statistics, and the number of unique values for each column\n"
			]
		},
		{
			"cell_type": "markdown",
			"metadata": {},
			"source": [
				"## Using `scikit-learn` Linear Regression\n",
				"\n",
				"### REQUIRED: Pick 3-4 predictors (i.e. CRIM, ZN, etc...) that you will use to predict your target variable, MEDV.\n",
				"Score and plot your predictions. What do these results tell us?"
			]
		},
		{
			"cell_type": "code",
			"execution_count": null,
			"metadata": {
				"collapsed": true
			},
			"outputs": [],
			"source": []
		},
		{
			"cell_type": "code",
			"execution_count": null,
			"metadata": {
				"collapsed": true
			},
			"outputs": [],
			"source": []
		},
		{
			"cell_type": "markdown",
			"metadata": {},
			"source": [
				"### REQUIRED: Try 70/30 and 90/10 train/test splits: 70% of the data for training - 30% for testing, then 90% for training - 10% for testing.\n",
				"Score and plot both of these approaches. How do your metrics change? What does this tell us about the size of training/testing splits? Include a written response."
			]
		},
		{
			"cell_type": "code",
			"execution_count": null,
			"metadata": {
				"collapsed": true
			},
			"outputs": [],
			"source": []
		},
		{
			"cell_type": "code",
			"execution_count": null,
			"metadata": {
				"collapsed": true
			},
			"outputs": [],
			"source": []
		},
		{
			"cell_type": "code",
			"execution_count": null,
			"metadata": {
				"collapsed": true
			},
			"outputs": [],
			"source": []
		},
		{
			"cell_type": "code",
			"execution_count": null,
			"metadata": {
				"collapsed": true
			},
			"outputs": [],
			"source": []
		},
		{
			"cell_type": "code",
			"execution_count": null,
			"metadata": {
				"collapsed": true
			},
			"outputs": [],
			"source": []
		},
		{
			"cell_type": "code",
			"execution_count": null,
			"metadata": {
				"collapsed": true
			},
			"outputs": [],
			"source": []
		},
		{
			"cell_type": "code",
			"execution_count": null,
			"metadata": {
				"collapsed": true
			},
			"outputs": [],
			"source": [
				"    "
			]
		},
		{
			"cell_type": "markdown",
			"metadata": {},
			"source": [
				"## BONUS: Try the k-fold cross-validation technique described above, varying the number of folds from 5 to 10\n",
				"What seems optimal? How do your scores change? What is the variance like? Try different folds to get a sense of how this impacts your score. What are the tradeoffs associated with choosing the number of folds? Include a written response."
			]
		},
		{
			"cell_type": "code",
			"execution_count": null,
			"metadata": {
				"collapsed": true
			},
			"outputs": [],
			"source": []
		},
		{
			"cell_type": "code",
			"execution_count": null,
			"metadata": {
				"collapsed": true
			},
			"outputs": [],
			"source": []
		},
		{
			"cell_type": "code",
			"execution_count": null,
			"metadata": {
				"collapsed": true
			},
			"outputs": [],
			"source": [
				"    "
			]
		},
		{
			"cell_type": "markdown",
			"metadata": {},
			"source": [
				"## BONUS\n",
				"Practice the same workflow you just worked through above, but this time use Statsmodels instead of Sklearn for linear regression. See example formulas below."
			]
		},
		{
			"cell_type": "markdown",
			"metadata": {},
			"source": [
				"### Example: Statsmodels Formulas\n",
				"\n",
				"Adjust the formula using your chosen metrics from the housing data. Remember, your workflow here is the same, but the syntax is a little different. Describe your results. Are they comparable to scikit-learn's regression models?"
			]
		},
		{
			"cell_type": "code",
			"execution_count": 8,
			"metadata": {},
			"outputs": [{
				"data": {
					"text/html": [
						"<div>\n",
						"<style>\n",
						"    .dataframe thead tr:only-child th {\n",
						"        text-align: right;\n",
						"    }\n",
						"\n",
						"    .dataframe thead th {\n",
						"        text-align: left;\n",
						"    }\n",
						"\n",
						"    .dataframe tbody tr th {\n",
						"        vertical-align: top;\n",
						"    }\n",
						"</style>\n",
						"<table border=\"1\" class=\"dataframe\">\n",
						"  <thead>\n",
						"    <tr style=\"text-align: right;\">\n",
						"      <th></th>\n",
						"      <th>CRIM</th>\n",
						"      <th>ZN</th>\n",
						"      <th>INDUS</th>\n",
						"      <th>CHAS</th>\n",
						"      <th>NOX</th>\n",
						"      <th>RM</th>\n",
						"      <th>AGE</th>\n",
						"      <th>DIS</th>\n",
						"      <th>RAD</th>\n",
						"      <th>TAX</th>\n",
						"      <th>PTRATIO</th>\n",
						"      <th>B</th>\n",
						"      <th>LSTAT</th>\n",
						"      <th>MEDV</th>\n",
						"    </tr>\n",
						"  </thead>\n",
						"  <tbody>\n",
						"    <tr>\n",
						"      <th>0</th>\n",
						"      <td>0.00632</td>\n",
						"      <td>18.0</td>\n",
						"      <td>2.31</td>\n",
						"      <td>0.0</td>\n",
						"      <td>0.538</td>\n",
						"      <td>6.575</td>\n",
						"      <td>65.2</td>\n",
						"      <td>4.0900</td>\n",
						"      <td>1.0</td>\n",
						"      <td>296.0</td>\n",
						"      <td>15.3</td>\n",
						"      <td>396.90</td>\n",
						"      <td>4.98</td>\n",
						"      <td>24.0</td>\n",
						"    </tr>\n",
						"    <tr>\n",
						"      <th>1</th>\n",
						"      <td>0.02731</td>\n",
						"      <td>0.0</td>\n",
						"      <td>7.07</td>\n",
						"      <td>0.0</td>\n",
						"      <td>0.469</td>\n",
						"      <td>6.421</td>\n",
						"      <td>78.9</td>\n",
						"      <td>4.9671</td>\n",
						"      <td>2.0</td>\n",
						"      <td>242.0</td>\n",
						"      <td>17.8</td>\n",
						"      <td>396.90</td>\n",
						"      <td>9.14</td>\n",
						"      <td>21.6</td>\n",
						"    </tr>\n",
						"    <tr>\n",
						"      <th>2</th>\n",
						"      <td>0.02729</td>\n",
						"      <td>0.0</td>\n",
						"      <td>7.07</td>\n",
						"      <td>0.0</td>\n",
						"      <td>0.469</td>\n",
						"      <td>7.185</td>\n",
						"      <td>61.1</td>\n",
						"      <td>4.9671</td>\n",
						"      <td>2.0</td>\n",
						"      <td>242.0</td>\n",
						"      <td>17.8</td>\n",
						"      <td>392.83</td>\n",
						"      <td>4.03</td>\n",
						"      <td>34.7</td>\n",
						"    </tr>\n",
						"    <tr>\n",
						"      <th>3</th>\n",
						"      <td>0.03237</td>\n",
						"      <td>0.0</td>\n",
						"      <td>2.18</td>\n",
						"      <td>0.0</td>\n",
						"      <td>0.458</td>\n",
						"      <td>6.998</td>\n",
						"      <td>45.8</td>\n",
						"      <td>6.0622</td>\n",
						"      <td>3.0</td>\n",
						"      <td>222.0</td>\n",
						"      <td>18.7</td>\n",
						"      <td>394.63</td>\n",
						"      <td>2.94</td>\n",
						"      <td>33.4</td>\n",
						"    </tr>\n",
						"    <tr>\n",
						"      <th>4</th>\n",
						"      <td>0.06905</td>\n",
						"      <td>0.0</td>\n",
						"      <td>2.18</td>\n",
						"      <td>0.0</td>\n",
						"      <td>0.458</td>\n",
						"      <td>7.147</td>\n",
						"      <td>54.2</td>\n",
						"      <td>6.0622</td>\n",
						"      <td>3.0</td>\n",
						"      <td>222.0</td>\n",
						"      <td>18.7</td>\n",
						"      <td>396.90</td>\n",
						"      <td>5.33</td>\n",
						"      <td>36.2</td>\n",
						"    </tr>\n",
						"  </tbody>\n",
						"</table>\n",
						"</div>"
					],
					"text/plain": [
						"      CRIM    ZN  INDUS  CHAS    NOX     RM   AGE     DIS  RAD    TAX  \\\n",
						"0  0.00632  18.0   2.31   0.0  0.538  6.575  65.2  4.0900  1.0  296.0   \n",
						"1  0.02731   0.0   7.07   0.0  0.469  6.421  78.9  4.9671  2.0  242.0   \n",
						"2  0.02729   0.0   7.07   0.0  0.469  7.185  61.1  4.9671  2.0  242.0   \n",
						"3  0.03237   0.0   2.18   0.0  0.458  6.998  45.8  6.0622  3.0  222.0   \n",
						"4  0.06905   0.0   2.18   0.0  0.458  7.147  54.2  6.0622  3.0  222.0   \n",
						"\n",
						"   PTRATIO       B  LSTAT  MEDV  \n",
						"0     15.3  396.90   4.98  24.0  \n",
						"1     17.8  396.90   9.14  21.6  \n",
						"2     17.8  392.83   4.03  34.7  \n",
						"3     18.7  394.63   2.94  33.4  \n",
						"4     18.7  396.90   5.33  36.2  "
					]
				},
				"execution_count": 8,
				"metadata": {},
				"output_type": "execute_result"
			}],
			"source": [
				"# First, format your data in a DataFrame\n",
				"\n",
				"df = pd.DataFrame(boston.data, columns=boston.feature_names)\n",
				"df['MEDV'] = boston.target\n",
				"df.head()"
			]
		},
		{
			"cell_type": "code",
			"execution_count": 9,
			"metadata": {},
			"outputs": [{
				"data": {
					"text/html": [
						"<table class=\"simpletable\">\n",
						"<caption>OLS Regression Results</caption>\n",
						"<tr>\n",
						"  <th>Dep. Variable:</th>          <td>MEDV</td>       <th>  R-squared:         </th> <td>   0.951</td> \n",
						"</tr>\n",
						"<tr>\n",
						"  <th>Model:</th>                   <td>OLS</td>       <th>  Adj. R-squared:    </th> <td>   0.951</td> \n",
						"</tr>\n",
						"<tr>\n",
						"  <th>Method:</th>             <td>Least Squares</td>  <th>  F-statistic:       </th> <td>   1220.</td> \n",
						"</tr>\n",
						"<tr>\n",
						"  <th>Date:</th>             <td>Wed, 29 Nov 2017</td> <th>  Prob (F-statistic):</th> <td>1.59e-321</td>\n",
						"</tr>\n",
						"<tr>\n",
						"  <th>Time:</th>                 <td>22:28:38</td>     <th>  Log-Likelihood:    </th> <td> -1567.7</td> \n",
						"</tr>\n",
						"<tr>\n",
						"  <th>No. Observations:</th>      <td>   506</td>      <th>  AIC:               </th> <td>   3151.</td> \n",
						"</tr>\n",
						"<tr>\n",
						"  <th>Df Residuals:</th>          <td>   498</td>      <th>  BIC:               </th> <td>   3185.</td> \n",
						"</tr>\n",
						"<tr>\n",
						"  <th>Df Model:</th>              <td>     8</td>      <th>                     </th>     <td> </td>    \n",
						"</tr>\n",
						"<tr>\n",
						"  <th>Covariance Type:</th>      <td>nonrobust</td>    <th>                     </th>     <td> </td>    \n",
						"</tr>\n",
						"</table>\n",
						"<table class=\"simpletable\">\n",
						"<tr>\n",
						"    <td></td>       <th>coef</th>     <th>std err</th>      <th>t</th>      <th>P>|t|</th>  <th>[0.025</th>    <th>0.975]</th>  \n",
						"</tr>\n",
						"<tr>\n",
						"  <th>RM</th>    <td>    4.9744</td> <td>    0.224</td> <td>   22.197</td> <td> 0.000</td> <td>    4.534</td> <td>    5.415</td>\n",
						"</tr>\n",
						"<tr>\n",
						"  <th>LSTAT</th> <td>   -0.5615</td> <td>    0.048</td> <td>  -11.817</td> <td> 0.000</td> <td>   -0.655</td> <td>   -0.468</td>\n",
						"</tr>\n",
						"<tr>\n",
						"  <th>RAD</th>   <td>    0.2109</td> <td>    0.070</td> <td>    3.025</td> <td> 0.003</td> <td>    0.074</td> <td>    0.348</td>\n",
						"</tr>\n",
						"<tr>\n",
						"  <th>TAX</th>   <td>   -0.0174</td> <td>    0.004</td> <td>   -4.267</td> <td> 0.000</td> <td>   -0.025</td> <td>   -0.009</td>\n",
						"</tr>\n",
						"<tr>\n",
						"  <th>NOX</th>   <td>    4.3456</td> <td>    3.385</td> <td>    1.284</td> <td> 0.200</td> <td>   -2.305</td> <td>   10.997</td>\n",
						"</tr>\n",
						"<tr>\n",
						"  <th>INDUS</th> <td>    0.0925</td> <td>    0.067</td> <td>    1.385</td> <td> 0.167</td> <td>   -0.039</td> <td>    0.224</td>\n",
						"</tr>\n",
						"<tr>\n",
						"  <th>CRIM</th>  <td>   -0.0866</td> <td>    0.037</td> <td>   -2.362</td> <td> 0.019</td> <td>   -0.159</td> <td>   -0.015</td>\n",
						"</tr>\n",
						"<tr>\n",
						"  <th>ZN</th>    <td>    0.0288</td> <td>    0.013</td> <td>    2.215</td> <td> 0.027</td> <td>    0.003</td> <td>    0.054</td>\n",
						"</tr>\n",
						"</table>\n",
						"<table class=\"simpletable\">\n",
						"<tr>\n",
						"  <th>Omnibus:</th>       <td>192.072</td> <th>  Durbin-Watson:     </th> <td>   0.812</td> \n",
						"</tr>\n",
						"<tr>\n",
						"  <th>Prob(Omnibus):</th> <td> 0.000</td>  <th>  Jarque-Bera (JB):  </th> <td> 831.634</td> \n",
						"</tr>\n",
						"<tr>\n",
						"  <th>Skew:</th>          <td> 1.665</td>  <th>  Prob(JB):          </th> <td>2.59e-181</td>\n",
						"</tr>\n",
						"<tr>\n",
						"  <th>Kurtosis:</th>      <td> 8.325</td>  <th>  Cond. No.          </th> <td>6.24e+03</td> \n",
						"</tr>\n",
						"</table>"
					],
					"text/plain": [
						"<class 'statsmodels.iolib.summary.Summary'>\n",
						"\"\"\"\n",
						"                            OLS Regression Results                            \n",
						"==============================================================================\n",
						"Dep. Variable:                   MEDV   R-squared:                       0.951\n",
						"Model:                            OLS   Adj. R-squared:                  0.951\n",
						"Method:                 Least Squares   F-statistic:                     1220.\n",
						"Date:                Wed, 29 Nov 2017   Prob (F-statistic):          1.59e-321\n",
						"Time:                        22:28:38   Log-Likelihood:                -1567.7\n",
						"No. Observations:                 506   AIC:                             3151.\n",
						"Df Residuals:                     498   BIC:                             3185.\n",
						"Df Model:                           8                                         \n",
						"Covariance Type:            nonrobust                                         \n",
						"==============================================================================\n",
						"                 coef    std err          t      P>|t|      [0.025      0.975]\n",
						"------------------------------------------------------------------------------\n",
						"RM             4.9744      0.224     22.197      0.000       4.534       5.415\n",
						"LSTAT         -0.5615      0.048    -11.817      0.000      -0.655      -0.468\n",
						"RAD            0.2109      0.070      3.025      0.003       0.074       0.348\n",
						"TAX           -0.0174      0.004     -4.267      0.000      -0.025      -0.009\n",
						"NOX            4.3456      3.385      1.284      0.200      -2.305      10.997\n",
						"INDUS          0.0925      0.067      1.385      0.167      -0.039       0.224\n",
						"CRIM          -0.0866      0.037     -2.362      0.019      -0.159      -0.015\n",
						"ZN             0.0288      0.013      2.215      0.027       0.003       0.054\n",
						"==============================================================================\n",
						"Omnibus:                      192.072   Durbin-Watson:                   0.812\n",
						"Prob(Omnibus):                  0.000   Jarque-Bera (JB):              831.634\n",
						"Skew:                           1.665   Prob(JB):                    2.59e-181\n",
						"Kurtosis:                       8.325   Cond. No.                     6.24e+03\n",
						"==============================================================================\n",
						"\n",
						"Warnings:\n",
						"[1] Standard Errors assume that the covariance matrix of the errors is correctly specified.\n",
						"[2] The condition number is large, 6.24e+03. This might indicate that there are\n",
						"strong multicollinearity or other numerical problems.\n",
						"\"\"\""
					]
				},
				"execution_count": 9,
				"metadata": {},
				"output_type": "execute_result"
			}],
			"source": [
				"# Set up your new statsmodel.formula handling model\n",
				"import statsmodels.formula.api as smf\n",
				"\n",
				"# You can easily swap these out to test multiple versions/different formulas\n",
				"formulas = {\n",
				"    \"case1\": \"MEDV ~ RM + LSTAT + RAD + TAX + NOX + INDUS + CRIM + ZN - 1\", # - 1 = remove intercept\n",
				"    \"case2\": \"MEDV ~ NOX + RM\",\n",
				"    \"case3\": \"MEDV ~ RAD + TAX\"\n",
				"}\n",
				"\n",
				"model = smf.ols(formula=formulas['case1'], data=df)\n",
				"result = model.fit()\n",
				"\n",
				"result.summary()"
			]
		},
		{
			"cell_type": "markdown",
			"metadata": {},
			"source": [
				"### BONUS:\n",
				"\n",
				"Can you optimize your R2, selecting the best features? Provide your code and explain your process in a brief written response."
			]
		},
		{
			"cell_type": "code",
			"execution_count": null,
			"metadata": {
				"collapsed": true
			},
			"outputs": [],
			"source": []
		},
		{
			"cell_type": "markdown",
			"metadata": {},
			"source": [
				"### BONUS:\n",
				"\n",
				"Given a combination of predictors, can you identify another response variable that could be accurately predicted through the exploration of different predictors in this data set?\n",
				"\n",
				"_Tip: Consider pairplots, coefficients, or Pearson scores._"
			]
		},
		{
			"cell_type": "code",
			"execution_count": 10,
			"metadata": {},
			"outputs": [{
					"data": {
						"text/plain": [
							"<seaborn.axisgrid.PairGrid at 0x1095918d0>"
						]
					},
					"execution_count": 10,
					"metadata": {},
					"output_type": "execute_result"
				},
				{
					"data": {
						"text/plain": [
							"<matplotlib.figure.Figure at 0x115e5af60>"
						]
					},
					"metadata": {},
					"output_type": "display_data"
				}
			],
			"source": [
				"# Check out variable relations\n",
				"import seaborn as sns\n",
				"\n",
				"sns.pairplot(X);"
			]
		},
		{
			"cell_type": "code",
			"execution_count": null,
			"metadata": {
				"collapsed": true
			},
			"outputs": [],
			"source": [
				"# Check out Pearson scores\n"
			]
		},
		{
			"cell_type": "markdown",
			"metadata": {},
			"source": [
				"## BONUS/DEMO: Up for an additional challenge? Try again, this time using the `patsy` library."
			]
		},
		{
			"cell_type": "code",
			"execution_count": 11,
			"metadata": {
				"collapsed": true
			},
			"outputs": [],
			"source": [
				"import patsy\n",
				"\n",
				"# Add response to the core DataFrame\n",
				"df['MEDV'] = y"
			]
		},
		{
			"cell_type": "code",
			"execution_count": 12,
			"metadata": {
				"collapsed": true
			},
			"outputs": [],
			"source": [
				"from sklearn.model_selection import train_test_split  #Note: if you didn't import this earlier, you'll need to do so now\n",
				"\n",
				"# Easily change your variable predictors without reslicing your DataFrame\n",
				"y, X = patsy.dmatrices(\"MEDV ~ AGE + RM\", data=df, return_type=\"dataframe\")\n",
				"\n",
				"X_train, X_test, y_train, y_test = train_test_split(X, y, train_size=.7)\n"
			]
		},
		{
			"cell_type": "code",
			"execution_count": 13,
			"metadata": {},
			"outputs": [{
				"name": "stdout",
				"output_type": "stream",
				"text": [
					"R^2 Score: 0.5043486813354807\n"
				]
			}],
			"source": [
				"from sklearn import metrics\n",
				"from sklearn.linear_model import LinearRegression\n",
				"\n",
				"# Rerun your model, iteratively changing your variables and train_size from the previous cell\n",
				"\n",
				"lm = LinearRegression()\n",
				"model = lm.fit(X_train, y_train)\n",
				"\n",
				"predictions = model.predict(X_test)\n",
				"print(\"R^2 Score: {}\".format(metrics.r2_score(y_test, predictions)))"
			]
		},
		{
			"cell_type": "code",
			"execution_count": null,
			"metadata": {
				"collapsed": true
			},
			"outputs": [],
			"source": []
		}
	],
	"metadata": {
		"anaconda-cloud": {},
		"kernelspec": {
			"display_name": "Python [default]",
			"language": "python",
			"name": "python3"
		},
		"language_info": {
			"codemirror_mode": {
				"name": "ipython",
				"version": 3
			},
			"file_extension": ".py",
			"mimetype": "text/x-python",
			"name": "python",
			"nbconvert_exporter": "python",
			"pygments_lexer": "ipython3",
			"version": "3.5.4"
		}
	},
	"nbformat": 4,
	"nbformat_minor": 1
}
