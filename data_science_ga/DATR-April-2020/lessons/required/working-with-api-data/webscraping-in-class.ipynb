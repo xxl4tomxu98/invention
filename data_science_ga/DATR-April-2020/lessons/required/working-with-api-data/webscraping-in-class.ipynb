{
 "cells": [
  {
   "cell_type": "markdown",
   "metadata": {
    "collapsed": true
   },
   "source": [
    "<img src=\"http://imgur.com/1ZcRyrc.png\" style=\"float: left; margin: 20px; height: 55px\">\n",
    "\n",
    "# Web Scraping\n",
    "\n",
    "_Author: Dave Yerrington (SF)_\n",
    "\n",
    "---"
   ]
  },
  {
   "cell_type": "markdown",
   "metadata": {},
   "source": [
    "## Learning Objectives\n",
    "- Revisit how to locate elements on a webpage\n",
    "- Aquire unstructure data from the internet using Beautiful soup.\n",
    "- Discuss limitations associated with simple requests and urllib libraries\n",
    "- Introduce Selenium as a solution, and implement a scraper using selenium"
   ]
  },
  {
   "cell_type": "markdown",
   "metadata": {},
   "source": [
    "## Lesson Guide\n",
    "\n",
    "- [Introduction](#intro)\n",
    "- [Building a web scraper](#building-scraper)\n",
    "- [Retrieving data from the HTML page](#retrieving-data)\n",
    "    - [Retrieving the restaurant names](#retrieving-names)\n",
    "    - [Challenge: Retrieving the restaurant locations](#retrieving-locations)\n",
    "    - [Retrieving the restaurant prices](#retrieving-prices)\n",
    "\n",
    "\n",
    "- [Summary](#summary)"
   ]
  },
  {
   "cell_type": "markdown",
   "metadata": {},
   "source": [
    "<a id=\"intro\"></a>\n",
    "## Introduction\n",
    "\n",
    "In this codealong lesson, we'll build a web scraper using requests and BeautifulSoup. We will also explore how to use a headless browser called Selenium.\n",
    "\n",
    "We'll begin by scraping OpenTable's DC listings. We're interested in knowing the restaurant's **name, location, price, and how many people booked it today.**\n",
    "\n",
    "OpenTable provides all of this information on this given page: http://www.opentable.com/washington-dc-restaurant-listings\n",
    "\n",
    "Let's inspect the elements of this page to assure we can find each of the bits of information in which we're interested.\n",
    "\n",
    "---"
   ]
  },
  {
   "cell_type": "markdown",
   "metadata": {},
   "source": [
    "<a id=\"building-scraper\"></a>\n",
    "## Building a web scraper\n",
    "\n",
    "Now, let's build a web scraper for OpenTable using urllib and Beautiful Soup:"
   ]
  },
  {
   "cell_type": "code",
   "execution_count": 1,
   "metadata": {
    "scrolled": false
   },
   "outputs": [],
   "source": [
    "# import our necessary first packages\n",
    "from bs4 import BeautifulSoup\n",
    "import requests"
   ]
  },
  {
   "cell_type": "code",
   "execution_count": 2,
   "metadata": {},
   "outputs": [],
   "source": [
    "# set the url we want to visit\n",
    "url = \"http://www.opentable.com/washington-dc-restaurant-listings\"\n",
    "\n",
    "# visit that url, and grab the html of said page\n",
    "html = requests.get(url)"
   ]
  },
  {
   "cell_type": "markdown",
   "metadata": {},
   "source": [
    "At this point, what is in html?"
   ]
  },
  {
   "cell_type": "code",
   "execution_count": 3,
   "metadata": {},
   "outputs": [
    {
     "data": {
      "text/plain": [
       "'           <!DOCTYPE html><html lang=\"en\"><head><meta charset=\"utf-8\"/><meta http-equiv=\"X-UA-Compatible\" content=\"IE=9; IE=8; IE=7; IE=EDGE\"/> <title>Restaurant Reservation Availability</title>    <meta  name=\"robots\" content=\"noindex\" > </meta><link  rel=\"canonical\" href=\"https://www.opentable.com/washington-dc-restaurant-listings\" > </link>      <link rel=\"shortcut icon\" href=\"//components.otstatic.com/components/favicon/1.0.5/favicon/favicon.ico\" type=\"image/x-icon\"/><link rel=\"icon\" href=\"/'"
      ]
     },
     "execution_count": 3,
     "metadata": {},
     "output_type": "execute_result"
    }
   ],
   "source": [
    "# .text returns the request content in Unicode\n",
    "html.text[:500]"
   ]
  },
  {
   "cell_type": "markdown",
   "metadata": {},
   "source": [
    "We will need to convert this html objct into a soup object so we can parse it using python and BS4"
   ]
  },
  {
   "cell_type": "code",
   "execution_count": 4,
   "metadata": {},
   "outputs": [],
   "source": [
    "# convert this into a soup object\n",
    "soup = BeautifulSoup(html.text, 'html.parser')"
   ]
  },
  {
   "cell_type": "markdown",
   "metadata": {},
   "source": [
    "<a id=\"retrieving-data\"></a>\n",
    "### Retrieving data from the HTML page"
   ]
  },
  {
   "cell_type": "markdown",
   "metadata": {},
   "source": [
    "Let's first find each restaurant name listed on the page we've loaded. How do we find the page location of the restaurant? (Hint: We need to know where in the **HTML** the restaurant element is housed.) In order to find the HTML that renders the restaurant location, we can use Google Chrome's Inspect tool:\n",
    "\n",
    "> http://www.opentable.com/washington-dc-restaurant-listings\n",
    "\n",
    "> 1. Visit the URL above. \n",
    "\n",
    "> 2. Right-click on an element you are interested in, then choose Inspect (in Chrome). \n",
    "\n",
    "> 3. This will open the Developer Tools and show the HTML used to render the selected page element. \n",
    "\n",
    "> Throughout this lesson, we will use this method to find tags associated with elements of the page we want to scrape.\n",
    "\n",
    "See if you can find the restaurant name on the page. Keep in mind there are many restaurants loaded on the page."
   ]
  },
  {
   "cell_type": "code",
   "execution_count": 5,
   "metadata": {
    "scrolled": true
   },
   "outputs": [
    {
     "data": {
      "text/plain": [
       "[<span class=\"rest-row-name-text\">486 Von</span>,\n",
       " <span class=\"rest-row-name-text\">Dolorem Jakubowski</span>,\n",
       " <span class=\"rest-row-name-text\">O'Hara</span>,\n",
       " <span class=\"rest-row-name-text\">Alize Ports</span>,\n",
       " <span class=\"rest-row-name-text\">Isabella Howell</span>,\n",
       " <span class=\"rest-row-name-text\">Rerum</span>,\n",
       " <span class=\"rest-row-name-text\">Mills</span>,\n",
       " <span class=\"rest-row-name-text\">Roob</span>,\n",
       " <span class=\"rest-row-name-text\">Valleys</span>,\n",
       " <span class=\"rest-row-name-text\">Hellens</span>,\n",
       " <span class=\"rest-row-name-text\">Tremblay</span>,\n",
       " <span class=\"rest-row-name-text\">Myrl Drives</span>,\n",
       " <span class=\"rest-row-name-text\">Rafaela Sauer</span>,\n",
       " <span class=\"rest-row-name-text\">Numquam Anderson</span>,\n",
       " <span class=\"rest-row-name-text\">Shields</span>,\n",
       " <span class=\"rest-row-name-text\">Est</span>,\n",
       " <span class=\"rest-row-name-text\">Rollins</span>,\n",
       " <span class=\"rest-row-name-text\">Aniyah Zemlak</span>,\n",
       " <span class=\"rest-row-name-text\">Levi Crossroad</span>,\n",
       " <span class=\"rest-row-name-text\">Et</span>,\n",
       " <span class=\"rest-row-name-text\">192 Jacobson</span>,\n",
       " <span class=\"rest-row-name-text\">Non</span>,\n",
       " <span class=\"rest-row-name-text\">Wilfrid Lueilwitz</span>,\n",
       " <span class=\"rest-row-name-text\">Quam Lane</span>,\n",
       " <span class=\"rest-row-name-text\">Corbins</span>,\n",
       " <span class=\"rest-row-name-text\">Turner</span>,\n",
       " <span class=\"rest-row-name-text\">Mina Miller</span>,\n",
       " <span class=\"rest-row-name-text\">Est Well</span>,\n",
       " <span class=\"rest-row-name-text\">Explicabo Erdman</span>,\n",
       " <span class=\"rest-row-name-text\">Fahey</span>,\n",
       " <span class=\"rest-row-name-text\">1088 Ortiz</span>,\n",
       " <span class=\"rest-row-name-text\">Ut</span>,\n",
       " <span class=\"rest-row-name-text\">Ortiz Square</span>,\n",
       " <span class=\"rest-row-name-text\">Eius</span>,\n",
       " <span class=\"rest-row-name-text\">Necessitatibus Wintheiser</span>,\n",
       " <span class=\"rest-row-name-text\">Officia</span>,\n",
       " <span class=\"rest-row-name-text\">Alek Hoeger</span>,\n",
       " <span class=\"rest-row-name-text\">Sed</span>,\n",
       " <span class=\"rest-row-name-text\">Mandy Roob</span>,\n",
       " <span class=\"rest-row-name-text\">Provident</span>,\n",
       " <span class=\"rest-row-name-text\">Domenick Zboncak</span>,\n",
       " <span class=\"rest-row-name-text\">Kattie Circle</span>,\n",
       " <span class=\"rest-row-name-text\">Course</span>,\n",
       " <span class=\"rest-row-name-text\">Sequi</span>,\n",
       " <span class=\"rest-row-name-text\">Jerod Burgs</span>,\n",
       " <span class=\"rest-row-name-text\">Barrys</span>,\n",
       " <span class=\"rest-row-name-text\">Hansen Lock</span>,\n",
       " <span class=\"rest-row-name-text\">Distinctio</span>,\n",
       " <span class=\"rest-row-name-text\">Voluptas</span>,\n",
       " <span class=\"rest-row-name-text\">Vel Gottlieb</span>,\n",
       " <span class=\"rest-row-name-text\">Izabellas</span>,\n",
       " <span class=\"rest-row-name-text\">Nicholauss</span>,\n",
       " <span class=\"rest-row-name-text\">Soluta Weber</span>,\n",
       " <span class=\"rest-row-name-text\">104 Mann</span>,\n",
       " <span class=\"rest-row-name-text\">Ari Terry</span>,\n",
       " <span class=\"rest-row-name-text\">Minima Schinner</span>,\n",
       " <span class=\"rest-row-name-text\">Aut</span>,\n",
       " <span class=\"rest-row-name-text\">Omnis</span>,\n",
       " <span class=\"rest-row-name-text\">Iure Squares</span>,\n",
       " <span class=\"rest-row-name-text\">Kraig Gottlieb</span>,\n",
       " <span class=\"rest-row-name-text\">Bruen</span>,\n",
       " <span class=\"rest-row-name-text\">Verlie McKenzie</span>,\n",
       " <span class=\"rest-row-name-text\">Ratione Bypass</span>,\n",
       " <span class=\"rest-row-name-text\">Agloe Bar &amp; Grill</span>,\n",
       " <span class=\"rest-row-name-text\">O'Kon</span>,\n",
       " <span class=\"rest-row-name-text\">Autem</span>,\n",
       " <span class=\"rest-row-name-text\">Maudies</span>,\n",
       " <span class=\"rest-row-name-text\">Eius</span>,\n",
       " <span class=\"rest-row-name-text\">Gladyce Brook</span>,\n",
       " <span class=\"rest-row-name-text\">Stephen Grimes</span>,\n",
       " <span class=\"rest-row-name-text\">Expedita Mission</span>,\n",
       " <span class=\"rest-row-name-text\">Aniyah Alley</span>,\n",
       " <span class=\"rest-row-name-text\">Kris</span>,\n",
       " <span class=\"rest-row-name-text\">Kims</span>,\n",
       " <span class=\"rest-row-name-text\">Farrell</span>,\n",
       " <span class=\"rest-row-name-text\">Grant</span>,\n",
       " <span class=\"rest-row-name-text\">Dolor</span>,\n",
       " <span class=\"rest-row-name-text\">Shanon Osinski</span>,\n",
       " <span class=\"rest-row-name-text\">Jazmyn Brook</span>,\n",
       " <span class=\"rest-row-name-text\">Dannie Mohr</span>,\n",
       " <span class=\"rest-row-name-text\">Aliquid</span>,\n",
       " <span class=\"rest-row-name-text\">West</span>,\n",
       " <span class=\"rest-row-name-text\">In Divide</span>,\n",
       " <span class=\"rest-row-name-text\">Numquam Dale</span>,\n",
       " <span class=\"rest-row-name-text\">Thiel</span>,\n",
       " <span class=\"rest-row-name-text\">Hegmann Keys</span>,\n",
       " <span class=\"rest-row-name-text\">Sit</span>,\n",
       " <span class=\"rest-row-name-text\">Ludwig Stoltenberg</span>,\n",
       " <span class=\"rest-row-name-text\">Incidunt Valley</span>,\n",
       " <span class=\"rest-row-name-text\">Schultz</span>,\n",
       " <span class=\"rest-row-name-text\">Nihil Bergnaum</span>,\n",
       " <span class=\"rest-row-name-text\">Ad</span>,\n",
       " <span class=\"rest-row-name-text\">Yasmins</span>,\n",
       " <span class=\"rest-row-name-text\">Helen Prohaska</span>,\n",
       " <span class=\"rest-row-name-text\">Adams</span>,\n",
       " <span class=\"rest-row-name-text\">Sunt Tunnel</span>,\n",
       " <span class=\"rest-row-name-text\">Ipsum</span>,\n",
       " <span class=\"rest-row-name-text\">Hansen</span>,\n",
       " <span class=\"rest-row-name-text\">Alexandrias</span>,\n",
       " <span class=\"rest-row-name-text\">Et</span>]"
      ]
     },
     "execution_count": 5,
     "metadata": {},
     "output_type": "execute_result"
    }
   ],
   "source": [
    "# print the restaurant names\n",
    "soup.find_all(name='span', attrs={'class':'rest-row-name-text'})"
   ]
  },
  {
   "cell_type": "markdown",
   "metadata": {},
   "source": [
    "It is important to always keep in mind the data types that were returned. Note this is a `list`, and we know that immediately by observing the outer square brackets and commas separating each tag.\n",
    "\n",
    "Next, note the elements of the list are `Tag` objects, not strings. (If they were strings, they would be surrounded by quotes.) The Beautiful Soup authors chose to display a `Tag` object visually as a text representation of the tag and its contents. However, being an object, it has many methods that we can call on it. For example, next we will use the `encode_contents()` method to return the tag's contents encoded as a Python string.\n",
    "\n",
    "<a id=\"retrieving-names\"></a>\n",
    "#### Retrieving the restaurant names\n",
    "\n",
    "Now that we found a list of tags containing the restaurant names, let's think how we can loop through them all one-by-one. In the following cell, we'll print out the name (and **only** the clean name, not the rest of the html) of each restaurant."
   ]
  },
  {
   "cell_type": "code",
   "execution_count": 6,
   "metadata": {
    "scrolled": true
   },
   "outputs": [
    {
     "name": "stdout",
     "output_type": "stream",
     "text": [
      "486 Von\n",
      "Dolorem Jakubowski\n",
      "O'Hara\n",
      "Alize Ports\n",
      "Isabella Howell\n",
      "Rerum\n",
      "Mills\n",
      "Roob\n",
      "Valleys\n",
      "Hellens\n",
      "Tremblay\n",
      "Myrl Drives\n",
      "Rafaela Sauer\n",
      "Numquam Anderson\n",
      "Shields\n",
      "Est\n",
      "Rollins\n",
      "Aniyah Zemlak\n",
      "Levi Crossroad\n",
      "Et\n",
      "192 Jacobson\n",
      "Non\n",
      "Wilfrid Lueilwitz\n",
      "Quam Lane\n",
      "Corbins\n",
      "Turner\n",
      "Mina Miller\n",
      "Est Well\n",
      "Explicabo Erdman\n",
      "Fahey\n",
      "1088 Ortiz\n",
      "Ut\n",
      "Ortiz Square\n",
      "Eius\n",
      "Necessitatibus Wintheiser\n",
      "Officia\n",
      "Alek Hoeger\n",
      "Sed\n",
      "Mandy Roob\n",
      "Provident\n",
      "Domenick Zboncak\n",
      "Kattie Circle\n",
      "Course\n",
      "Sequi\n",
      "Jerod Burgs\n",
      "Barrys\n",
      "Hansen Lock\n",
      "Distinctio\n",
      "Voluptas\n",
      "Vel Gottlieb\n",
      "Izabellas\n",
      "Nicholauss\n",
      "Soluta Weber\n",
      "104 Mann\n",
      "Ari Terry\n",
      "Minima Schinner\n",
      "Aut\n",
      "Omnis\n",
      "Iure Squares\n",
      "Kraig Gottlieb\n",
      "Bruen\n",
      "Verlie McKenzie\n",
      "Ratione Bypass\n",
      "Agloe Bar & Grill\n",
      "O'Kon\n",
      "Autem\n",
      "Maudies\n",
      "Eius\n",
      "Gladyce Brook\n",
      "Stephen Grimes\n",
      "Expedita Mission\n",
      "Aniyah Alley\n",
      "Kris\n",
      "Kims\n",
      "Farrell\n",
      "Grant\n",
      "Dolor\n",
      "Shanon Osinski\n",
      "Jazmyn Brook\n",
      "Dannie Mohr\n",
      "Aliquid\n",
      "West\n",
      "In Divide\n",
      "Numquam Dale\n",
      "Thiel\n",
      "Hegmann Keys\n",
      "Sit\n",
      "Ludwig Stoltenberg\n",
      "Incidunt Valley\n",
      "Schultz\n",
      "Nihil Bergnaum\n",
      "Ad\n",
      "Yasmins\n",
      "Helen Prohaska\n",
      "Adams\n",
      "Sunt Tunnel\n",
      "Ipsum\n",
      "Hansen\n",
      "Alexandrias\n",
      "Et\n"
     ]
    }
   ],
   "source": [
    "# for each element you find, print out the restaurant name\n",
    "for entry in soup.find_all(name='span', attrs={'class':'rest-row-name-text'}):\n",
    "    print(entry.text)"
   ]
  },
  {
   "cell_type": "markdown",
   "metadata": {},
   "source": [
    "Great!\n",
    "\n",
    "<a id=\"retrieving-locations\"></a>\n",
    "#### Challenge: Retrieving the restaurant locations\n",
    "\n",
    "Can you repeat that process for finding the location? For example, barmini by Jose Andres is in the location listed as \"Penn Quarter\" in our search results."
   ]
  },
  {
   "cell_type": "code",
   "execution_count": 7,
   "metadata": {},
   "outputs": [],
   "source": [
    "# first, see if you can identify the location for all elements -- print it out"
   ]
  },
  {
   "cell_type": "code",
   "execution_count": 8,
   "metadata": {},
   "outputs": [],
   "source": [
    "# now print out EACH location for the restaurants"
   ]
  },
  {
   "cell_type": "markdown",
   "metadata": {},
   "source": [
    "<a id=\"retrieving-prices\"></a>\n",
    "#### Retrieving the restaurant prices"
   ]
  },
  {
   "cell_type": "markdown",
   "metadata": {},
   "source": [
    "Ok, we've figured out the restaurant name and location. Now we need to grab the price (number of dollar signs on a scale of one to four) for each restaurant. We'll follow the same process."
   ]
  },
  {
   "cell_type": "code",
   "execution_count": 16,
   "metadata": {
    "scrolled": true
   },
   "outputs": [
    {
     "data": {
      "text/plain": [
       "[<div class=\"rest-row-pricing\"> <i class=\"pricing--the-price\">  $    $      </i> <span class=\"pricing--not-the-price\">  $    $      </span></div>,\n",
       " <div class=\"rest-row-pricing\"> <i class=\"pricing--the-price\">  $    $    $    $  </i> <span class=\"pricing--not-the-price\"> </span></div>,\n",
       " <div class=\"rest-row-pricing\"> <i class=\"pricing--the-price\">  $    $      </i> <span class=\"pricing--not-the-price\">  $    $      </span></div>,\n",
       " <div class=\"rest-row-pricing\"> <i class=\"pricing--the-price\">  $    $      </i> <span class=\"pricing--not-the-price\">  $    $      </span></div>,\n",
       " <div class=\"rest-row-pricing\"> <i class=\"pricing--the-price\">  $    $    $    $  </i> <span class=\"pricing--not-the-price\"> </span></div>,\n",
       " <div class=\"rest-row-pricing\"> <i class=\"pricing--the-price\">  $    $    $    </i> <span class=\"pricing--not-the-price\">  $        </span></div>,\n",
       " <div class=\"rest-row-pricing\"> <i class=\"pricing--the-price\">  $    $      </i> <span class=\"pricing--not-the-price\">  $    $      </span></div>,\n",
       " <div class=\"rest-row-pricing\"> <i class=\"pricing--the-price\">  $    $    $    $  </i> <span class=\"pricing--not-the-price\"> </span></div>,\n",
       " <div class=\"rest-row-pricing\"> <i class=\"pricing--the-price\">  $    $    $    </i> <span class=\"pricing--not-the-price\">  $        </span></div>,\n",
       " <div class=\"rest-row-pricing\"> <i class=\"pricing--the-price\">  $    $    $    </i> <span class=\"pricing--not-the-price\">  $        </span></div>,\n",
       " <div class=\"rest-row-pricing\"> <i class=\"pricing--the-price\">  $    $    $    $  </i> <span class=\"pricing--not-the-price\"> </span></div>,\n",
       " <div class=\"rest-row-pricing\"> <i class=\"pricing--the-price\">  $    $    $    $  </i> <span class=\"pricing--not-the-price\"> </span></div>,\n",
       " <div class=\"rest-row-pricing\"> <i class=\"pricing--the-price\">  $    $      </i> <span class=\"pricing--not-the-price\">  $    $      </span></div>,\n",
       " <div class=\"rest-row-pricing\"> <i class=\"pricing--the-price\">  $    $    $    $  </i> <span class=\"pricing--not-the-price\"> </span></div>,\n",
       " <div class=\"rest-row-pricing\"> <i class=\"pricing--the-price\">  $    $      </i> <span class=\"pricing--not-the-price\">  $    $      </span></div>,\n",
       " <div class=\"rest-row-pricing\"> <i class=\"pricing--the-price\">  $    $    $    $  </i> <span class=\"pricing--not-the-price\"> </span></div>,\n",
       " <div class=\"rest-row-pricing\"> <i class=\"pricing--the-price\">  $    $    $    $  </i> <span class=\"pricing--not-the-price\"> </span></div>,\n",
       " <div class=\"rest-row-pricing\"> <i class=\"pricing--the-price\">  $    $    $    $  </i> <span class=\"pricing--not-the-price\"> </span></div>,\n",
       " <div class=\"rest-row-pricing\"> <i class=\"pricing--the-price\">  $    $    $    $  </i> <span class=\"pricing--not-the-price\"> </span></div>,\n",
       " <div class=\"rest-row-pricing\"> <i class=\"pricing--the-price\">  $    $    $    </i> <span class=\"pricing--not-the-price\">  $        </span></div>,\n",
       " <div class=\"rest-row-pricing\"> <i class=\"pricing--the-price\">  $    $      </i> <span class=\"pricing--not-the-price\">  $    $      </span></div>,\n",
       " <div class=\"rest-row-pricing\"> <i class=\"pricing--the-price\">  $    $      </i> <span class=\"pricing--not-the-price\">  $    $      </span></div>,\n",
       " <div class=\"rest-row-pricing\"> <i class=\"pricing--the-price\">  $    $      </i> <span class=\"pricing--not-the-price\">  $    $      </span></div>,\n",
       " <div class=\"rest-row-pricing\"> <i class=\"pricing--the-price\">  $    $      </i> <span class=\"pricing--not-the-price\">  $    $      </span></div>,\n",
       " <div class=\"rest-row-pricing\"> <i class=\"pricing--the-price\">  $    $    $    $  </i> <span class=\"pricing--not-the-price\"> </span></div>,\n",
       " <div class=\"rest-row-pricing\"> <i class=\"pricing--the-price\">  $    $    $    </i> <span class=\"pricing--not-the-price\">  $        </span></div>,\n",
       " <div class=\"rest-row-pricing\"> <i class=\"pricing--the-price\">  $    $      </i> <span class=\"pricing--not-the-price\">  $    $      </span></div>,\n",
       " <div class=\"rest-row-pricing\"> <i class=\"pricing--the-price\">  $    $      </i> <span class=\"pricing--not-the-price\">  $    $      </span></div>,\n",
       " <div class=\"rest-row-pricing\"> <i class=\"pricing--the-price\">  $    $    $    </i> <span class=\"pricing--not-the-price\">  $        </span></div>,\n",
       " <div class=\"rest-row-pricing\"> <i class=\"pricing--the-price\">  $    $      </i> <span class=\"pricing--not-the-price\">  $    $      </span></div>,\n",
       " <div class=\"rest-row-pricing\"> <i class=\"pricing--the-price\">  $    $      </i> <span class=\"pricing--not-the-price\">  $    $      </span></div>,\n",
       " <div class=\"rest-row-pricing\"> <i class=\"pricing--the-price\">  $    $    $    $  </i> <span class=\"pricing--not-the-price\"> </span></div>,\n",
       " <div class=\"rest-row-pricing\"> <i class=\"pricing--the-price\">  $    $    $    $  </i> <span class=\"pricing--not-the-price\"> </span></div>,\n",
       " <div class=\"rest-row-pricing\"> <i class=\"pricing--the-price\">  $    $      </i> <span class=\"pricing--not-the-price\">  $    $      </span></div>,\n",
       " <div class=\"rest-row-pricing\"> <i class=\"pricing--the-price\">  $    $    $    </i> <span class=\"pricing--not-the-price\">  $        </span></div>,\n",
       " <div class=\"rest-row-pricing\"> <i class=\"pricing--the-price\">  $    $    $    $  </i> <span class=\"pricing--not-the-price\"> </span></div>,\n",
       " <div class=\"rest-row-pricing\"> <i class=\"pricing--the-price\">  $    $    $    $  </i> <span class=\"pricing--not-the-price\"> </span></div>,\n",
       " <div class=\"rest-row-pricing\"> <i class=\"pricing--the-price\">  $    $    $    </i> <span class=\"pricing--not-the-price\">  $        </span></div>,\n",
       " <div class=\"rest-row-pricing\"> <i class=\"pricing--the-price\">  $    $    $    </i> <span class=\"pricing--not-the-price\">  $        </span></div>,\n",
       " <div class=\"rest-row-pricing\"> <i class=\"pricing--the-price\">  $    $    $    </i> <span class=\"pricing--not-the-price\">  $        </span></div>,\n",
       " <div class=\"rest-row-pricing\"> <i class=\"pricing--the-price\">  $    $    $    </i> <span class=\"pricing--not-the-price\">  $        </span></div>,\n",
       " <div class=\"rest-row-pricing\"> <i class=\"pricing--the-price\">  $    $    $    $  </i> <span class=\"pricing--not-the-price\"> </span></div>,\n",
       " <div class=\"rest-row-pricing\"> <i class=\"pricing--the-price\">  $    $    $    $  </i> <span class=\"pricing--not-the-price\"> </span></div>,\n",
       " <div class=\"rest-row-pricing\"> <i class=\"pricing--the-price\">  $    $    $    $  </i> <span class=\"pricing--not-the-price\"> </span></div>,\n",
       " <div class=\"rest-row-pricing\"> <i class=\"pricing--the-price\">  $    $    $    </i> <span class=\"pricing--not-the-price\">  $        </span></div>,\n",
       " <div class=\"rest-row-pricing\"> <i class=\"pricing--the-price\">  $    $    $    </i> <span class=\"pricing--not-the-price\">  $        </span></div>,\n",
       " <div class=\"rest-row-pricing\"> <i class=\"pricing--the-price\">  $    $      </i> <span class=\"pricing--not-the-price\">  $    $      </span></div>,\n",
       " <div class=\"rest-row-pricing\"> <i class=\"pricing--the-price\">  $    $    $    $  </i> <span class=\"pricing--not-the-price\"> </span></div>,\n",
       " <div class=\"rest-row-pricing\"> <i class=\"pricing--the-price\">  $    $    $    </i> <span class=\"pricing--not-the-price\">  $        </span></div>,\n",
       " <div class=\"rest-row-pricing\"> <i class=\"pricing--the-price\">  $    $    $    $  </i> <span class=\"pricing--not-the-price\"> </span></div>,\n",
       " <div class=\"rest-row-pricing\"> <i class=\"pricing--the-price\">  $    $    $    $  </i> <span class=\"pricing--not-the-price\"> </span></div>,\n",
       " <div class=\"rest-row-pricing\"> <i class=\"pricing--the-price\">  $    $      </i> <span class=\"pricing--not-the-price\">  $    $      </span></div>,\n",
       " <div class=\"rest-row-pricing\"> <i class=\"pricing--the-price\">  $    $    $    </i> <span class=\"pricing--not-the-price\">  $        </span></div>,\n",
       " <div class=\"rest-row-pricing\"> <i class=\"pricing--the-price\">  $    $    $    $  </i> <span class=\"pricing--not-the-price\"> </span></div>,\n",
       " <div class=\"rest-row-pricing\"> <i class=\"pricing--the-price\">  $    $      </i> <span class=\"pricing--not-the-price\">  $    $      </span></div>,\n",
       " <div class=\"rest-row-pricing\"> <i class=\"pricing--the-price\">  $    $    $    $  </i> <span class=\"pricing--not-the-price\"> </span></div>,\n",
       " <div class=\"rest-row-pricing\"> <i class=\"pricing--the-price\">  $    $    $    </i> <span class=\"pricing--not-the-price\">  $        </span></div>,\n",
       " <div class=\"rest-row-pricing\"> <i class=\"pricing--the-price\">  $    $      </i> <span class=\"pricing--not-the-price\">  $    $      </span></div>,\n",
       " <div class=\"rest-row-pricing\"> <i class=\"pricing--the-price\">  $    $    $    $  </i> <span class=\"pricing--not-the-price\"> </span></div>,\n",
       " <div class=\"rest-row-pricing\"> <i class=\"pricing--the-price\">  $    $      </i> <span class=\"pricing--not-the-price\">  $    $      </span></div>,\n",
       " <div class=\"rest-row-pricing\"> <i class=\"pricing--the-price\">  $    $    $    </i> <span class=\"pricing--not-the-price\">  $        </span></div>,\n",
       " <div class=\"rest-row-pricing\"> <i class=\"pricing--the-price\">  $    $    $    </i> <span class=\"pricing--not-the-price\">  $        </span></div>,\n",
       " <div class=\"rest-row-pricing\"> <i class=\"pricing--the-price\">  $    $      </i> <span class=\"pricing--not-the-price\">  $    $      </span></div>,\n",
       " <div class=\"rest-row-pricing\"> <i class=\"pricing--the-price\">  $    $    $    </i> <span class=\"pricing--not-the-price\">  $        </span></div>,\n",
       " <div class=\"rest-row-pricing\"> <i class=\"pricing--the-price\">  $    $    $    $  </i> <span class=\"pricing--not-the-price\"> </span></div>,\n",
       " <div class=\"rest-row-pricing\"> <i class=\"pricing--the-price\">  $    $    $    $  </i> <span class=\"pricing--not-the-price\"> </span></div>,\n",
       " <div class=\"rest-row-pricing\"> <i class=\"pricing--the-price\">  $    $    $    $  </i> <span class=\"pricing--not-the-price\"> </span></div>,\n",
       " <div class=\"rest-row-pricing\"> <i class=\"pricing--the-price\">  $    $    $    $  </i> <span class=\"pricing--not-the-price\"> </span></div>,\n",
       " <div class=\"rest-row-pricing\"> <i class=\"pricing--the-price\">  $    $    $    </i> <span class=\"pricing--not-the-price\">  $        </span></div>,\n",
       " <div class=\"rest-row-pricing\"> <i class=\"pricing--the-price\">  $    $    $    </i> <span class=\"pricing--not-the-price\">  $        </span></div>,\n",
       " <div class=\"rest-row-pricing\"> <i class=\"pricing--the-price\">  $    $    $    </i> <span class=\"pricing--not-the-price\">  $        </span></div>,\n",
       " <div class=\"rest-row-pricing\"> <i class=\"pricing--the-price\">  $    $      </i> <span class=\"pricing--not-the-price\">  $    $      </span></div>,\n",
       " <div class=\"rest-row-pricing\"> <i class=\"pricing--the-price\">  $    $    $    </i> <span class=\"pricing--not-the-price\">  $        </span></div>,\n",
       " <div class=\"rest-row-pricing\"> <i class=\"pricing--the-price\">  $    $    $    </i> <span class=\"pricing--not-the-price\">  $        </span></div>,\n",
       " <div class=\"rest-row-pricing\"> <i class=\"pricing--the-price\">  $    $    $    $  </i> <span class=\"pricing--not-the-price\"> </span></div>,\n",
       " <div class=\"rest-row-pricing\"> <i class=\"pricing--the-price\">  $    $      </i> <span class=\"pricing--not-the-price\">  $    $      </span></div>,\n",
       " <div class=\"rest-row-pricing\"> <i class=\"pricing--the-price\">  $    $    $    </i> <span class=\"pricing--not-the-price\">  $        </span></div>,\n",
       " <div class=\"rest-row-pricing\"> <i class=\"pricing--the-price\">  $    $    $    $  </i> <span class=\"pricing--not-the-price\"> </span></div>,\n",
       " <div class=\"rest-row-pricing\"> <i class=\"pricing--the-price\">  $    $    $    $  </i> <span class=\"pricing--not-the-price\"> </span></div>,\n",
       " <div class=\"rest-row-pricing\"> <i class=\"pricing--the-price\">  $    $    $    $  </i> <span class=\"pricing--not-the-price\"> </span></div>,\n",
       " <div class=\"rest-row-pricing\"> <i class=\"pricing--the-price\">  $    $    $    $  </i> <span class=\"pricing--not-the-price\"> </span></div>,\n",
       " <div class=\"rest-row-pricing\"> <i class=\"pricing--the-price\">  $    $    $    </i> <span class=\"pricing--not-the-price\">  $        </span></div>,\n",
       " <div class=\"rest-row-pricing\"> <i class=\"pricing--the-price\">  $    $    $    $  </i> <span class=\"pricing--not-the-price\"> </span></div>,\n",
       " <div class=\"rest-row-pricing\"> <i class=\"pricing--the-price\">  $    $      </i> <span class=\"pricing--not-the-price\">  $    $      </span></div>,\n",
       " <div class=\"rest-row-pricing\"> <i class=\"pricing--the-price\">  $    $      </i> <span class=\"pricing--not-the-price\">  $    $      </span></div>,\n",
       " <div class=\"rest-row-pricing\"> <i class=\"pricing--the-price\">  $    $      </i> <span class=\"pricing--not-the-price\">  $    $      </span></div>,\n",
       " <div class=\"rest-row-pricing\"> <i class=\"pricing--the-price\">  $    $    $    </i> <span class=\"pricing--not-the-price\">  $        </span></div>,\n",
       " <div class=\"rest-row-pricing\"> <i class=\"pricing--the-price\">  $    $    $    $  </i> <span class=\"pricing--not-the-price\"> </span></div>,\n",
       " <div class=\"rest-row-pricing\"> <i class=\"pricing--the-price\">  $    $    $    $  </i> <span class=\"pricing--not-the-price\"> </span></div>,\n",
       " <div class=\"rest-row-pricing\"> <i class=\"pricing--the-price\">  $    $    $    $  </i> <span class=\"pricing--not-the-price\"> </span></div>,\n",
       " <div class=\"rest-row-pricing\"> <i class=\"pricing--the-price\">  $    $      </i> <span class=\"pricing--not-the-price\">  $    $      </span></div>,\n",
       " <div class=\"rest-row-pricing\"> <i class=\"pricing--the-price\">  $    $    $    $  </i> <span class=\"pricing--not-the-price\"> </span></div>,\n",
       " <div class=\"rest-row-pricing\"> <i class=\"pricing--the-price\">  $    $    $    </i> <span class=\"pricing--not-the-price\">  $        </span></div>,\n",
       " <div class=\"rest-row-pricing\"> <i class=\"pricing--the-price\">  $    $    $    $  </i> <span class=\"pricing--not-the-price\"> </span></div>,\n",
       " <div class=\"rest-row-pricing\"> <i class=\"pricing--the-price\">  $    $      </i> <span class=\"pricing--not-the-price\">  $    $      </span></div>,\n",
       " <div class=\"rest-row-pricing\"> <i class=\"pricing--the-price\">  $    $    $    $  </i> <span class=\"pricing--not-the-price\"> </span></div>,\n",
       " <div class=\"rest-row-pricing\"> <i class=\"pricing--the-price\">  $    $    $    $  </i> <span class=\"pricing--not-the-price\"> </span></div>,\n",
       " <div class=\"rest-row-pricing\"> <i class=\"pricing--the-price\">  $    $    $    </i> <span class=\"pricing--not-the-price\">  $        </span></div>,\n",
       " <div class=\"rest-row-pricing\"> <i class=\"pricing--the-price\">  $    $    $    </i> <span class=\"pricing--not-the-price\">  $        </span></div>,\n",
       " <div class=\"rest-row-pricing\"> <i class=\"pricing--the-price\">  $    $    $    </i> <span class=\"pricing--not-the-price\">  $        </span></div>]"
      ]
     },
     "execution_count": 16,
     "metadata": {},
     "output_type": "execute_result"
    }
   ],
   "source": [
    "# print out all prices\n",
    "soup.find_all('div', {'class':'rest-row-pricing'})"
   ]
  },
  {
   "cell_type": "code",
   "execution_count": 17,
   "metadata": {},
   "outputs": [
    {
     "name": "stdout",
     "output_type": "stream",
     "text": [
      "  $    $      \n",
      "  $    $    $    $  \n",
      "  $    $      \n",
      "  $    $      \n",
      "  $    $    $    $  \n",
      "  $    $    $    \n",
      "  $    $      \n",
      "  $    $    $    $  \n",
      "  $    $    $    \n",
      "  $    $    $    \n",
      "  $    $    $    $  \n",
      "  $    $    $    $  \n",
      "  $    $      \n",
      "  $    $    $    $  \n",
      "  $    $      \n",
      "  $    $    $    $  \n",
      "  $    $    $    $  \n",
      "  $    $    $    $  \n",
      "  $    $    $    $  \n",
      "  $    $    $    \n",
      "  $    $      \n",
      "  $    $      \n",
      "  $    $      \n",
      "  $    $      \n",
      "  $    $    $    $  \n",
      "  $    $    $    \n",
      "  $    $      \n",
      "  $    $      \n",
      "  $    $    $    \n",
      "  $    $      \n",
      "  $    $      \n",
      "  $    $    $    $  \n",
      "  $    $    $    $  \n",
      "  $    $      \n",
      "  $    $    $    \n",
      "  $    $    $    $  \n",
      "  $    $    $    $  \n",
      "  $    $    $    \n",
      "  $    $    $    \n",
      "  $    $    $    \n",
      "  $    $    $    \n",
      "  $    $    $    $  \n",
      "  $    $    $    $  \n",
      "  $    $    $    $  \n",
      "  $    $    $    \n",
      "  $    $    $    \n",
      "  $    $      \n",
      "  $    $    $    $  \n",
      "  $    $    $    \n",
      "  $    $    $    $  \n",
      "  $    $    $    $  \n",
      "  $    $      \n",
      "  $    $    $    \n",
      "  $    $    $    $  \n",
      "  $    $      \n",
      "  $    $    $    $  \n",
      "  $    $    $    \n",
      "  $    $      \n",
      "  $    $    $    $  \n",
      "  $    $      \n",
      "  $    $    $    \n",
      "  $    $    $    \n",
      "  $    $      \n",
      "  $    $    $    \n",
      "  $    $    $    $  \n",
      "  $    $    $    $  \n",
      "  $    $    $    $  \n",
      "  $    $    $    $  \n",
      "  $    $    $    \n",
      "  $    $    $    \n",
      "  $    $    $    \n",
      "  $    $      \n",
      "  $    $    $    \n",
      "  $    $    $    \n",
      "  $    $    $    $  \n",
      "  $    $      \n",
      "  $    $    $    \n",
      "  $    $    $    $  \n",
      "  $    $    $    $  \n",
      "  $    $    $    $  \n",
      "  $    $    $    $  \n",
      "  $    $    $    \n",
      "  $    $    $    $  \n",
      "  $    $      \n",
      "  $    $      \n",
      "  $    $      \n",
      "  $    $    $    \n",
      "  $    $    $    $  \n",
      "  $    $    $    $  \n",
      "  $    $    $    $  \n",
      "  $    $      \n",
      "  $    $    $    $  \n",
      "  $    $    $    \n",
      "  $    $    $    $  \n",
      "  $    $      \n",
      "  $    $    $    $  \n",
      "  $    $    $    $  \n",
      "  $    $    $    \n",
      "  $    $    $    \n",
      "  $    $    $    \n"
     ]
    }
   ],
   "source": [
    "# print out EACH number of dollar signs per restaurant\n",
    "# this one is trickier to eliminate the html. Hint: try a nested find\n",
    "for entry in soup.find_all('div', {'class':'rest-row-pricing'}):\n",
    "    print(entry.find('i').text)"
   ]
  },
  {
   "cell_type": "markdown",
   "metadata": {},
   "source": [
    "That looks great, but what if I wanted just the number of dollar signs per restaurant? Can you figure out a way to simply print out the number of dollar signs per restaurant listed?"
   ]
  },
  {
   "cell_type": "code",
   "execution_count": 18,
   "metadata": {},
   "outputs": [],
   "source": [
    "# print the number of dollars signs per restaurant"
   ]
  },
  {
   "cell_type": "markdown",
   "metadata": {},
   "source": [
    "That's weird -- an empty set. Did we find the wrong element? What's going on here? Discuss.\n",
    "\n",
    "How can we debug this? Any ideas?"
   ]
  },
  {
   "cell_type": "markdown",
   "metadata": {},
   "source": [
    "## Class Exercise\n",
    "- For all CL housing listings on the front page, scrape the price and title and any other attributes into a dataframe"
   ]
  },
  {
   "cell_type": "markdown",
   "metadata": {},
   "source": [
    "### Summary\n",
    "\n",
    "In this lesson, we used the Beautiful Soup library to locate elements on a website then scrape their text. We also used the Selenium headless browser to run JavaScript first before retrieving the page contents."
   ]
  },
  {
   "cell_type": "code",
   "execution_count": null,
   "metadata": {
    "collapsed": true
   },
   "outputs": [],
   "source": []
  }
 ],
 "metadata": {
  "anaconda-cloud": {},
  "kernelspec": {
   "display_name": "Python 3",
   "language": "python",
   "name": "python3"
  },
  "language_info": {
   "codemirror_mode": {
    "name": "ipython",
    "version": 3
   },
   "file_extension": ".py",
   "mimetype": "text/x-python",
   "name": "python",
   "nbconvert_exporter": "python",
   "pygments_lexer": "ipython3",
   "version": "3.7.3"
  }
 },
 "nbformat": 4,
 "nbformat_minor": 1
}
