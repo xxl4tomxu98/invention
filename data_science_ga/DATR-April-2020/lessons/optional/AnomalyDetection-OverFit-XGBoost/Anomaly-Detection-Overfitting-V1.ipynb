{
 "cells": [
  {
   "cell_type": "markdown",
   "metadata": {},
   "source": [
    "<img src=\"http://imgur.com/1ZcRyrc.png\" style=\"float: left; margin: 20px; height: 55px\">\n",
    "\n",
    "## Anomaly (outlier) Detection"
   ]
  },
  {
   "cell_type": "markdown",
   "metadata": {},
   "source": [
    "Anomaly detection (also outlier detection) is the identification of rare items, events or observations which raise suspicions by differing significantly from the majority of the data.\n",
    "\n",
    "[Wikipedia Link](https://en.wikipedia.org/wiki/Anomaly_detection)\n",
    "\n",
    "Data science goals when doing anomaly detection:\n",
    "\n",
    "* Looking for values or data points that might not truly represent the data. (errors, promotional values, etc.)\n",
    "* Addressing these values to see what impact they may have on a particular model(s).\n",
    "* Deciding on what to do with these values in your analysis or model building. (removing, replacing, altering, etc.)"
   ]
  },
  {
   "cell_type": "markdown",
   "metadata": {},
   "source": [
    "#### Types of outlier detection we have gone over\n",
    "\n",
    "* Box plots for single variables\n",
    "* Clustering\n",
    "    * K-Means\n",
    "    * DB Scan"
   ]
  },
  {
   "cell_type": "code",
   "execution_count": null,
   "metadata": {},
   "outputs": [],
   "source": [
    "#! pip install pyod\n",
    "# python outlier detection modual library"
   ]
  },
  {
   "cell_type": "code",
   "execution_count": 1,
   "metadata": {
    "colab": {
     "base_uri": "https://localhost:8080/",
     "height": 260
    },
    "colab_type": "code",
    "id": "gxBgvhA4mowO",
    "outputId": "9d831709-2f9c-4bf7-a790-0972691dd4fb"
   },
   "outputs": [
    {
     "name": "stderr",
     "output_type": "stream",
     "text": [
      "C:\\ProgramData\\Anaconda3\\lib\\site-packages\\sklearn\\utils\\deprecation.py:144: FutureWarning: The sklearn.utils.testing module is  deprecated in version 0.22 and will be removed in version 0.24. The corresponding classes / functions should instead be imported from sklearn.utils. Anything that cannot be imported from sklearn.utils is now part of the private API.\n",
      "  warnings.warn(message, FutureWarning)\n"
     ]
    }
   ],
   "source": [
    "import pandas as pd\n",
    "import numpy as np\n",
    "from numpy import percentile\n",
    "import matplotlib.pyplot as plt\n",
    "import seaborn as sns\n",
    "import matplotlib\n",
    "\n",
    "from sklearn.ensemble import IsolationForest\n",
    "from sklearn.preprocessing import StandardScaler\n",
    "\n",
    "\n",
    "from pyod.models.abod import ABOD\n",
    "from pyod.models.feature_bagging import FeatureBagging\n",
    "from pyod.models.iforest import IForest\n",
    "from pyod.models.knn import KNN\n",
    "from scipy import stats\n",
    "from sklearn.preprocessing import MinMaxScaler\n",
    "\n",
    "import warnings\n",
    "warnings.filterwarnings('ignore')"
   ]
  },
  {
   "cell_type": "code",
   "execution_count": 2,
   "metadata": {
    "colab": {},
    "colab_type": "code",
    "id": "usk8MvW8nHUW"
   },
   "outputs": [],
   "source": [
    "df = pd.read_excel(\"data/Superstore.xls\")"
   ]
  },
  {
   "cell_type": "code",
   "execution_count": 3,
   "metadata": {
    "colab": {
     "base_uri": "https://localhost:8080/",
     "height": 386
    },
    "colab_type": "code",
    "id": "chl7XcjqmvpO",
    "outputId": "d62ced8d-4a18-4ff3-e4f8-7edce6ebdcf8"
   },
   "outputs": [
    {
     "data": {
      "text/html": [
       "<div>\n",
       "<style scoped>\n",
       "    .dataframe tbody tr th:only-of-type {\n",
       "        vertical-align: middle;\n",
       "    }\n",
       "\n",
       "    .dataframe tbody tr th {\n",
       "        vertical-align: top;\n",
       "    }\n",
       "\n",
       "    .dataframe thead th {\n",
       "        text-align: right;\n",
       "    }\n",
       "</style>\n",
       "<table border=\"1\" class=\"dataframe\">\n",
       "  <thead>\n",
       "    <tr style=\"text-align: right;\">\n",
       "      <th></th>\n",
       "      <th>Row ID</th>\n",
       "      <th>Order ID</th>\n",
       "      <th>Order Date</th>\n",
       "      <th>Ship Date</th>\n",
       "      <th>Ship Mode</th>\n",
       "      <th>Customer ID</th>\n",
       "      <th>Customer Name</th>\n",
       "      <th>Segment</th>\n",
       "      <th>Country</th>\n",
       "      <th>City</th>\n",
       "      <th>...</th>\n",
       "      <th>Postal Code</th>\n",
       "      <th>Region</th>\n",
       "      <th>Product ID</th>\n",
       "      <th>Category</th>\n",
       "      <th>Sub-Category</th>\n",
       "      <th>Product Name</th>\n",
       "      <th>Sales</th>\n",
       "      <th>Quantity</th>\n",
       "      <th>Discount</th>\n",
       "      <th>Profit</th>\n",
       "    </tr>\n",
       "  </thead>\n",
       "  <tbody>\n",
       "    <tr>\n",
       "      <th>0</th>\n",
       "      <td>1</td>\n",
       "      <td>CA-2016-152156</td>\n",
       "      <td>2016-11-08</td>\n",
       "      <td>2016-11-11</td>\n",
       "      <td>Second Class</td>\n",
       "      <td>CG-12520</td>\n",
       "      <td>Claire Gute</td>\n",
       "      <td>Consumer</td>\n",
       "      <td>United States</td>\n",
       "      <td>Henderson</td>\n",
       "      <td>...</td>\n",
       "      <td>42420</td>\n",
       "      <td>South</td>\n",
       "      <td>FUR-BO-10001798</td>\n",
       "      <td>Furniture</td>\n",
       "      <td>Bookcases</td>\n",
       "      <td>Bush Somerset Collection Bookcase</td>\n",
       "      <td>261.9600</td>\n",
       "      <td>2</td>\n",
       "      <td>0.00</td>\n",
       "      <td>41.9136</td>\n",
       "    </tr>\n",
       "    <tr>\n",
       "      <th>1</th>\n",
       "      <td>2</td>\n",
       "      <td>CA-2016-152156</td>\n",
       "      <td>2016-11-08</td>\n",
       "      <td>2016-11-11</td>\n",
       "      <td>Second Class</td>\n",
       "      <td>CG-12520</td>\n",
       "      <td>Claire Gute</td>\n",
       "      <td>Consumer</td>\n",
       "      <td>United States</td>\n",
       "      <td>Henderson</td>\n",
       "      <td>...</td>\n",
       "      <td>42420</td>\n",
       "      <td>South</td>\n",
       "      <td>FUR-CH-10000454</td>\n",
       "      <td>Furniture</td>\n",
       "      <td>Chairs</td>\n",
       "      <td>Hon Deluxe Fabric Upholstered Stacking Chairs,...</td>\n",
       "      <td>731.9400</td>\n",
       "      <td>3</td>\n",
       "      <td>0.00</td>\n",
       "      <td>219.5820</td>\n",
       "    </tr>\n",
       "    <tr>\n",
       "      <th>2</th>\n",
       "      <td>3</td>\n",
       "      <td>CA-2016-138688</td>\n",
       "      <td>2016-06-12</td>\n",
       "      <td>2016-06-16</td>\n",
       "      <td>Second Class</td>\n",
       "      <td>DV-13045</td>\n",
       "      <td>Darrin Van Huff</td>\n",
       "      <td>Corporate</td>\n",
       "      <td>United States</td>\n",
       "      <td>Los Angeles</td>\n",
       "      <td>...</td>\n",
       "      <td>90036</td>\n",
       "      <td>West</td>\n",
       "      <td>OFF-LA-10000240</td>\n",
       "      <td>Office Supplies</td>\n",
       "      <td>Labels</td>\n",
       "      <td>Self-Adhesive Address Labels for Typewriters b...</td>\n",
       "      <td>14.6200</td>\n",
       "      <td>2</td>\n",
       "      <td>0.00</td>\n",
       "      <td>6.8714</td>\n",
       "    </tr>\n",
       "    <tr>\n",
       "      <th>3</th>\n",
       "      <td>4</td>\n",
       "      <td>US-2015-108966</td>\n",
       "      <td>2015-10-11</td>\n",
       "      <td>2015-10-18</td>\n",
       "      <td>Standard Class</td>\n",
       "      <td>SO-20335</td>\n",
       "      <td>Sean O'Donnell</td>\n",
       "      <td>Consumer</td>\n",
       "      <td>United States</td>\n",
       "      <td>Fort Lauderdale</td>\n",
       "      <td>...</td>\n",
       "      <td>33311</td>\n",
       "      <td>South</td>\n",
       "      <td>FUR-TA-10000577</td>\n",
       "      <td>Furniture</td>\n",
       "      <td>Tables</td>\n",
       "      <td>Bretford CR4500 Series Slim Rectangular Table</td>\n",
       "      <td>957.5775</td>\n",
       "      <td>5</td>\n",
       "      <td>0.45</td>\n",
       "      <td>-383.0310</td>\n",
       "    </tr>\n",
       "    <tr>\n",
       "      <th>4</th>\n",
       "      <td>5</td>\n",
       "      <td>US-2015-108966</td>\n",
       "      <td>2015-10-11</td>\n",
       "      <td>2015-10-18</td>\n",
       "      <td>Standard Class</td>\n",
       "      <td>SO-20335</td>\n",
       "      <td>Sean O'Donnell</td>\n",
       "      <td>Consumer</td>\n",
       "      <td>United States</td>\n",
       "      <td>Fort Lauderdale</td>\n",
       "      <td>...</td>\n",
       "      <td>33311</td>\n",
       "      <td>South</td>\n",
       "      <td>OFF-ST-10000760</td>\n",
       "      <td>Office Supplies</td>\n",
       "      <td>Storage</td>\n",
       "      <td>Eldon Fold 'N Roll Cart System</td>\n",
       "      <td>22.3680</td>\n",
       "      <td>2</td>\n",
       "      <td>0.20</td>\n",
       "      <td>2.5164</td>\n",
       "    </tr>\n",
       "    <tr>\n",
       "      <th>5</th>\n",
       "      <td>6</td>\n",
       "      <td>CA-2014-115812</td>\n",
       "      <td>2014-06-09</td>\n",
       "      <td>2014-06-14</td>\n",
       "      <td>Standard Class</td>\n",
       "      <td>BH-11710</td>\n",
       "      <td>Brosina Hoffman</td>\n",
       "      <td>Consumer</td>\n",
       "      <td>United States</td>\n",
       "      <td>Los Angeles</td>\n",
       "      <td>...</td>\n",
       "      <td>90032</td>\n",
       "      <td>West</td>\n",
       "      <td>FUR-FU-10001487</td>\n",
       "      <td>Furniture</td>\n",
       "      <td>Furnishings</td>\n",
       "      <td>Eldon Expressions Wood and Plastic Desk Access...</td>\n",
       "      <td>48.8600</td>\n",
       "      <td>7</td>\n",
       "      <td>0.00</td>\n",
       "      <td>14.1694</td>\n",
       "    </tr>\n",
       "    <tr>\n",
       "      <th>6</th>\n",
       "      <td>7</td>\n",
       "      <td>CA-2014-115812</td>\n",
       "      <td>2014-06-09</td>\n",
       "      <td>2014-06-14</td>\n",
       "      <td>Standard Class</td>\n",
       "      <td>BH-11710</td>\n",
       "      <td>Brosina Hoffman</td>\n",
       "      <td>Consumer</td>\n",
       "      <td>United States</td>\n",
       "      <td>Los Angeles</td>\n",
       "      <td>...</td>\n",
       "      <td>90032</td>\n",
       "      <td>West</td>\n",
       "      <td>OFF-AR-10002833</td>\n",
       "      <td>Office Supplies</td>\n",
       "      <td>Art</td>\n",
       "      <td>Newell 322</td>\n",
       "      <td>7.2800</td>\n",
       "      <td>4</td>\n",
       "      <td>0.00</td>\n",
       "      <td>1.9656</td>\n",
       "    </tr>\n",
       "    <tr>\n",
       "      <th>7</th>\n",
       "      <td>8</td>\n",
       "      <td>CA-2014-115812</td>\n",
       "      <td>2014-06-09</td>\n",
       "      <td>2014-06-14</td>\n",
       "      <td>Standard Class</td>\n",
       "      <td>BH-11710</td>\n",
       "      <td>Brosina Hoffman</td>\n",
       "      <td>Consumer</td>\n",
       "      <td>United States</td>\n",
       "      <td>Los Angeles</td>\n",
       "      <td>...</td>\n",
       "      <td>90032</td>\n",
       "      <td>West</td>\n",
       "      <td>TEC-PH-10002275</td>\n",
       "      <td>Technology</td>\n",
       "      <td>Phones</td>\n",
       "      <td>Mitel 5320 IP Phone VoIP phone</td>\n",
       "      <td>907.1520</td>\n",
       "      <td>6</td>\n",
       "      <td>0.20</td>\n",
       "      <td>90.7152</td>\n",
       "    </tr>\n",
       "    <tr>\n",
       "      <th>8</th>\n",
       "      <td>9</td>\n",
       "      <td>CA-2014-115812</td>\n",
       "      <td>2014-06-09</td>\n",
       "      <td>2014-06-14</td>\n",
       "      <td>Standard Class</td>\n",
       "      <td>BH-11710</td>\n",
       "      <td>Brosina Hoffman</td>\n",
       "      <td>Consumer</td>\n",
       "      <td>United States</td>\n",
       "      <td>Los Angeles</td>\n",
       "      <td>...</td>\n",
       "      <td>90032</td>\n",
       "      <td>West</td>\n",
       "      <td>OFF-BI-10003910</td>\n",
       "      <td>Office Supplies</td>\n",
       "      <td>Binders</td>\n",
       "      <td>DXL Angle-View Binders with Locking Rings by S...</td>\n",
       "      <td>18.5040</td>\n",
       "      <td>3</td>\n",
       "      <td>0.20</td>\n",
       "      <td>5.7825</td>\n",
       "    </tr>\n",
       "    <tr>\n",
       "      <th>9</th>\n",
       "      <td>10</td>\n",
       "      <td>CA-2014-115812</td>\n",
       "      <td>2014-06-09</td>\n",
       "      <td>2014-06-14</td>\n",
       "      <td>Standard Class</td>\n",
       "      <td>BH-11710</td>\n",
       "      <td>Brosina Hoffman</td>\n",
       "      <td>Consumer</td>\n",
       "      <td>United States</td>\n",
       "      <td>Los Angeles</td>\n",
       "      <td>...</td>\n",
       "      <td>90032</td>\n",
       "      <td>West</td>\n",
       "      <td>OFF-AP-10002892</td>\n",
       "      <td>Office Supplies</td>\n",
       "      <td>Appliances</td>\n",
       "      <td>Belkin F5C206VTEL 6 Outlet Surge</td>\n",
       "      <td>114.9000</td>\n",
       "      <td>5</td>\n",
       "      <td>0.00</td>\n",
       "      <td>34.4700</td>\n",
       "    </tr>\n",
       "  </tbody>\n",
       "</table>\n",
       "<p>10 rows × 21 columns</p>\n",
       "</div>"
      ],
      "text/plain": [
       "   Row ID        Order ID Order Date  Ship Date       Ship Mode Customer ID  \\\n",
       "0       1  CA-2016-152156 2016-11-08 2016-11-11    Second Class    CG-12520   \n",
       "1       2  CA-2016-152156 2016-11-08 2016-11-11    Second Class    CG-12520   \n",
       "2       3  CA-2016-138688 2016-06-12 2016-06-16    Second Class    DV-13045   \n",
       "3       4  US-2015-108966 2015-10-11 2015-10-18  Standard Class    SO-20335   \n",
       "4       5  US-2015-108966 2015-10-11 2015-10-18  Standard Class    SO-20335   \n",
       "5       6  CA-2014-115812 2014-06-09 2014-06-14  Standard Class    BH-11710   \n",
       "6       7  CA-2014-115812 2014-06-09 2014-06-14  Standard Class    BH-11710   \n",
       "7       8  CA-2014-115812 2014-06-09 2014-06-14  Standard Class    BH-11710   \n",
       "8       9  CA-2014-115812 2014-06-09 2014-06-14  Standard Class    BH-11710   \n",
       "9      10  CA-2014-115812 2014-06-09 2014-06-14  Standard Class    BH-11710   \n",
       "\n",
       "     Customer Name    Segment        Country             City  ...  \\\n",
       "0      Claire Gute   Consumer  United States        Henderson  ...   \n",
       "1      Claire Gute   Consumer  United States        Henderson  ...   \n",
       "2  Darrin Van Huff  Corporate  United States      Los Angeles  ...   \n",
       "3   Sean O'Donnell   Consumer  United States  Fort Lauderdale  ...   \n",
       "4   Sean O'Donnell   Consumer  United States  Fort Lauderdale  ...   \n",
       "5  Brosina Hoffman   Consumer  United States      Los Angeles  ...   \n",
       "6  Brosina Hoffman   Consumer  United States      Los Angeles  ...   \n",
       "7  Brosina Hoffman   Consumer  United States      Los Angeles  ...   \n",
       "8  Brosina Hoffman   Consumer  United States      Los Angeles  ...   \n",
       "9  Brosina Hoffman   Consumer  United States      Los Angeles  ...   \n",
       "\n",
       "  Postal Code  Region       Product ID         Category Sub-Category  \\\n",
       "0       42420   South  FUR-BO-10001798        Furniture    Bookcases   \n",
       "1       42420   South  FUR-CH-10000454        Furniture       Chairs   \n",
       "2       90036    West  OFF-LA-10000240  Office Supplies       Labels   \n",
       "3       33311   South  FUR-TA-10000577        Furniture       Tables   \n",
       "4       33311   South  OFF-ST-10000760  Office Supplies      Storage   \n",
       "5       90032    West  FUR-FU-10001487        Furniture  Furnishings   \n",
       "6       90032    West  OFF-AR-10002833  Office Supplies          Art   \n",
       "7       90032    West  TEC-PH-10002275       Technology       Phones   \n",
       "8       90032    West  OFF-BI-10003910  Office Supplies      Binders   \n",
       "9       90032    West  OFF-AP-10002892  Office Supplies   Appliances   \n",
       "\n",
       "                                        Product Name     Sales  Quantity  \\\n",
       "0                  Bush Somerset Collection Bookcase  261.9600         2   \n",
       "1  Hon Deluxe Fabric Upholstered Stacking Chairs,...  731.9400         3   \n",
       "2  Self-Adhesive Address Labels for Typewriters b...   14.6200         2   \n",
       "3      Bretford CR4500 Series Slim Rectangular Table  957.5775         5   \n",
       "4                     Eldon Fold 'N Roll Cart System   22.3680         2   \n",
       "5  Eldon Expressions Wood and Plastic Desk Access...   48.8600         7   \n",
       "6                                         Newell 322    7.2800         4   \n",
       "7                     Mitel 5320 IP Phone VoIP phone  907.1520         6   \n",
       "8  DXL Angle-View Binders with Locking Rings by S...   18.5040         3   \n",
       "9                   Belkin F5C206VTEL 6 Outlet Surge  114.9000         5   \n",
       "\n",
       "   Discount    Profit  \n",
       "0      0.00   41.9136  \n",
       "1      0.00  219.5820  \n",
       "2      0.00    6.8714  \n",
       "3      0.45 -383.0310  \n",
       "4      0.20    2.5164  \n",
       "5      0.00   14.1694  \n",
       "6      0.00    1.9656  \n",
       "7      0.20   90.7152  \n",
       "8      0.20    5.7825  \n",
       "9      0.00   34.4700  \n",
       "\n",
       "[10 rows x 21 columns]"
      ]
     },
     "execution_count": 3,
     "metadata": {},
     "output_type": "execute_result"
    }
   ],
   "source": [
    "df.head(10)"
   ]
  },
  {
   "cell_type": "markdown",
   "metadata": {},
   "source": [
    "Let's take a look at the sales column to see some descriptive statistics on our sales data"
   ]
  },
  {
   "cell_type": "code",
   "execution_count": 4,
   "metadata": {
    "colab": {
     "base_uri": "https://localhost:8080/",
     "height": 173
    },
    "colab_type": "code",
    "id": "fCqj102y9Kfo",
    "outputId": "e9afbcbb-6a9f-4aaa-d6d1-287cc82a5d9e"
   },
   "outputs": [
    {
     "data": {
      "text/plain": [
       "count     9994.000000\n",
       "mean       229.858001\n",
       "std        623.245101\n",
       "min          0.444000\n",
       "25%         17.280000\n",
       "50%         54.490000\n",
       "75%        209.940000\n",
       "max      22638.480000\n",
       "Name: Sales, dtype: float64"
      ]
     },
     "execution_count": 4,
     "metadata": {},
     "output_type": "execute_result"
    }
   ],
   "source": [
    "df.Sales.describe()"
   ]
  },
  {
   "cell_type": "code",
   "execution_count": 5,
   "metadata": {
    "colab": {
     "base_uri": "https://localhost:8080/",
     "height": 295
    },
    "colab_type": "code",
    "id": "SMcvIb1K_69n",
    "outputId": "28d1ae16-8c89-4f23-a7b9-5e336b330d6f"
   },
   "outputs": [
    {
     "data": {
      "image/png": "[encoded data removed]",
      "text/plain": [
       "<Figure size 432x288 with 1 Axes>"
      ]
     },
     "metadata": {
      "needs_background": "light"
     },
     "output_type": "display_data"
    }
   ],
   "source": [
    "plt.scatter(range(df.shape[0]), np.sort(df['Sales'].values))\n",
    "plt.xlabel('index')\n",
    "plt.ylabel('Sales')\n",
    "plt.title(\"Sales distribution\")\n",
    "sns.despine()"
   ]
  },
  {
   "cell_type": "code",
   "execution_count": 6,
   "metadata": {
    "colab": {
     "base_uri": "https://localhost:8080/",
     "height": 295
    },
    "colab_type": "code",
    "id": "Th6A8C8xB2ua",
    "outputId": "91be5603-6b28-43da-8574-9d68aece779c"
   },
   "outputs": [
    {
     "data": {
      "image/png": "[encoded data removed]",
      "text/plain": [
       "<Figure size 432x288 with 1 Axes>"
      ]
     },
     "metadata": {
      "needs_background": "light"
     },
     "output_type": "display_data"
    }
   ],
   "source": [
    "# skewed to the right\n",
    "sns.distplot(df['Sales'])\n",
    "plt.title(\"Distribution of Sales\")\n",
    "sns.despine()"
   ]
  },
  {
   "cell_type": "code",
   "execution_count": 7,
   "metadata": {
    "colab": {
     "base_uri": "https://localhost:8080/",
     "height": 52
    },
    "colab_type": "code",
    "id": "oHg3nyjUTiRu",
    "outputId": "26be45fb-530e-4495-a787-8bd9a9013a30"
   },
   "outputs": [
    {
     "name": "stdout",
     "output_type": "stream",
     "text": [
      "Skewness: 12.972752\n",
      "Kurtosis: 305.311753\n"
     ]
    }
   ],
   "source": [
    "print(\"Skewness: %f\" % df['Sales'].skew())\n",
    "print(\"Kurtosis: %f\" % df['Sales'].kurt())"
   ]
  },
  {
   "cell_type": "markdown",
   "metadata": {
    "colab_type": "text",
    "id": "iFvD-4nsTzY6"
   },
   "source": [
    "Profit Distribution"
   ]
  },
  {
   "cell_type": "code",
   "execution_count": 9,
   "metadata": {
    "colab": {
     "base_uri": "https://localhost:8080/",
     "height": 173
    },
    "colab_type": "code",
    "id": "0nnFS8vi_rOe",
    "outputId": "a869b730-d211-491c-c652-c37048771440"
   },
   "outputs": [
    {
     "data": {
      "text/plain": [
       "count    9994.000000\n",
       "mean       28.656896\n",
       "std       234.260108\n",
       "min     -6599.978000\n",
       "25%         1.728750\n",
       "50%         8.666500\n",
       "75%        29.364000\n",
       "max      8399.976000\n",
       "Name: Profit, dtype: float64"
      ]
     },
     "execution_count": 9,
     "metadata": {},
     "output_type": "execute_result"
    }
   ],
   "source": [
    "df.Profit.describe()"
   ]
  },
  {
   "cell_type": "code",
   "execution_count": 10,
   "metadata": {
    "colab": {
     "base_uri": "https://localhost:8080/",
     "height": 295
    },
    "colab_type": "code",
    "id": "h9ZmvO1b_4sF",
    "outputId": "851972ba-c7ae-4efa-9186-30b50c42f719"
   },
   "outputs": [
    {
     "data": {
      "image/png": "[encoded data removed]",
      "text/plain": [
       "<Figure size 432x288 with 1 Axes>"
      ]
     },
     "metadata": {
      "needs_background": "light"
     },
     "output_type": "display_data"
    }
   ],
   "source": [
    "plt.scatter(range(df.shape[0]), np.sort(df['Profit'].values))\n",
    "plt.xlabel('index')\n",
    "plt.ylabel('Profit')\n",
    "plt.title(\"Profit distribution\")\n",
    "sns.despine()"
   ]
  },
  {
   "cell_type": "code",
   "execution_count": 11,
   "metadata": {
    "colab": {
     "base_uri": "https://localhost:8080/",
     "height": 295
    },
    "colab_type": "code",
    "id": "GIAYrDJyCT6r",
    "outputId": "83148977-aa51-4b1b-b2d3-db0050916dfe"
   },
   "outputs": [
    {
     "data": {
      "image/png": "[encoded data removed]",
      "text/plain": [
       "<Figure size 432x288 with 1 Axes>"
      ]
     },
     "metadata": {
      "needs_background": "light"
     },
     "output_type": "display_data"
    }
   ],
   "source": [
    "# centered around zero skewed slightly toward right\n",
    "sns.distplot(df['Profit'])\n",
    "plt.title(\"Distribution of Profit\")\n",
    "sns.despine()"
   ]
  },
  {
   "cell_type": "code",
   "execution_count": 12,
   "metadata": {
    "colab": {
     "base_uri": "https://localhost:8080/",
     "height": 52
    },
    "colab_type": "code",
    "id": "USy48-H2UXqB",
    "outputId": "96a80a11-bd32-4b44-8c6c-54c155adf532"
   },
   "outputs": [
    {
     "name": "stdout",
     "output_type": "stream",
     "text": [
      "Skewness: 7.561432\n",
      "Kurtosis: 397.188515\n"
     ]
    }
   ],
   "source": [
    "print(\"Skewness: %f\" % df['Profit'].skew())\n",
    "print(\"Kurtosis: %f\" % df['Profit'].kurt())"
   ]
  },
  {
   "cell_type": "markdown",
   "metadata": {
    "colab_type": "text",
    "id": "Nt0PQIjW-wXd"
   },
   "source": [
    "## Isolation Forest\n",
    "\n",
    "Part of the machine learning family in Sci-Kit Learn, an Isolation Forest is an unsupervised learning algorithm that identifies anomalies in the data. Based on the decision tree structure, it isolates outliers by randomly selecting features from a given set of data then split the value between the maximum and minimum values of that feature. The random selection of the data point allows the tree to distinguish which points of the data require less splits (outliers) and which points of the data are natural fits.\n",
    "\n",
    "Other ways of anomaly detection create an inital profile of what is normal first, then see what deviates from the normal profile. The random partitions of data allow the point to be considered normal or outliers as the outliers have smaller lengths in their tree. Length meaning the amount of branches that need to be created.\n",
    "\n",
    "\n",
    "\n",
    "### Anomaly Detection on Sales"
   ]
  },
  {
   "cell_type": "code",
   "execution_count": 25,
   "metadata": {
    "colab": {
     "base_uri": "https://localhost:8080/",
     "height": 407
    },
    "colab_type": "code",
    "id": "uFuAUh5S778M",
    "outputId": "bc047c0e-35f6-4a7a-9e73-6c12a20801be"
   },
   "outputs": [],
   "source": [
    "isolation_forest = IsolationForest(n_estimators=100)\n",
    "isolation_forest.fit(df['Sales'].values.reshape(-1, 1))\n",
    "xx = np.linspace(df['Sales'].min(), df['Sales'].max(), len(df)).reshape(-1,1)\n",
    "anomaly_score = isolation_forest.decision_function(xx)\n",
    "outlier = isolation_forest.predict(xx)"
   ]
  },
  {
   "cell_type": "code",
   "execution_count": 26,
   "metadata": {},
   "outputs": [
    {
     "name": "stdout",
     "output_type": "stream",
     "text": [
      "[[4.44000000e-01]\n",
      " [2.70938937e+00]\n",
      " [4.97477875e+00]\n",
      " ...\n",
      " [2.26339492e+04]\n",
      " [2.26362146e+04]\n",
      " [2.26384800e+04]]\n",
      "[ 0.01512258  0.06011476  0.09012133 ... -0.36111641 -0.36111641\n",
      " -0.36111641]\n",
      "[ 1  1  1 ... -1 -1 -1]\n"
     ]
    }
   ],
   "source": [
    "print(xx)\n",
    "print(anomaly_score)\n",
    "print(outlier)"
   ]
  },
  {
   "cell_type": "code",
   "execution_count": 27,
   "metadata": {},
   "outputs": [
    {
     "data": {
      "image/png": "[encoded data removed]",
      "text/plain": [
       "<Figure size 720x288 with 1 Axes>"
      ]
     },
     "metadata": {
      "needs_background": "light"
     },
     "output_type": "display_data"
    }
   ],
   "source": [
    "plt.figure(figsize=(10,4))\n",
    "plt.plot(xx, anomaly_score, label='anomaly score')\n",
    "plt.fill_between(xx.T[0], np.min(anomaly_score), np.max(anomaly_score), \n",
    "                 where=outlier==-1, color='r', \n",
    "                 alpha=.4, label='outlier region')\n",
    "plt.legend()\n",
    "plt.ylabel('anomaly score')\n",
    "plt.xlabel('Sales')\n",
    "plt.show();"
   ]
  },
  {
   "cell_type": "code",
   "execution_count": 28,
   "metadata": {},
   "outputs": [
    {
     "data": {
      "text/plain": [
       "<matplotlib.axes._subplots.AxesSubplot at 0x22b9abbd248>"
      ]
     },
     "execution_count": 28,
     "metadata": {},
     "output_type": "execute_result"
    },
    {
     "data": {
      "image/png": "[encoded data removed]",
      "text/plain": [
       "<Figure size 432x288 with 1 Axes>"
      ]
     },
     "metadata": {
      "needs_background": "light"
     },
     "output_type": "display_data"
    }
   ],
   "source": [
    "np.log(df.Sales).plot(kind='box')"
   ]
  },
  {
   "cell_type": "code",
   "execution_count": 29,
   "metadata": {},
   "outputs": [
    {
     "data": {
      "text/plain": [
       "165"
      ]
     },
     "execution_count": 29,
     "metadata": {},
     "output_type": "execute_result"
    }
   ],
   "source": [
    "sum(outlier==1)"
   ]
  },
  {
   "cell_type": "code",
   "execution_count": 16,
   "metadata": {
    "colab": {
     "base_uri": "https://localhost:8080/",
     "height": 517
    },
    "colab_type": "code",
    "id": "FkhRwo1cgYtK",
    "outputId": "f72e1ebe-edb4-4282-c810-151b504f0894"
   },
   "outputs": [
    {
     "data": {
      "text/plain": [
       "Row ID                                                 11\n",
       "Order ID                                   CA-2014-115812\n",
       "Order Date                            2014-06-09 00:00:00\n",
       "Ship Date                             2014-06-14 00:00:00\n",
       "Ship Mode                                  Standard Class\n",
       "Customer ID                                      BH-11710\n",
       "Customer Name                             Brosina Hoffman\n",
       "Segment                                          Consumer\n",
       "Country                                     United States\n",
       "City                                          Los Angeles\n",
       "State                                          California\n",
       "Postal Code                                         90032\n",
       "Region                                               West\n",
       "Product ID                                FUR-TA-10001539\n",
       "Category                                        Furniture\n",
       "Sub-Category                                       Tables\n",
       "Product Name     Chromcraft Rectangular Conference Tables\n",
       "Sales                                             1706.18\n",
       "Quantity                                                9\n",
       "Discount                                              0.2\n",
       "Profit                                            85.3092\n",
       "Name: 10, dtype: object"
      ]
     },
     "execution_count": 16,
     "metadata": {},
     "output_type": "execute_result"
    }
   ],
   "source": [
    "df.loc[10]"
   ]
  },
  {
   "cell_type": "markdown",
   "metadata": {
    "colab_type": "text",
    "id": "7HK9cBvwGOqG"
   },
   "source": [
    "### Anomaly detection on Profit"
   ]
  },
  {
   "cell_type": "code",
   "execution_count": 31,
   "metadata": {
    "colab": {
     "base_uri": "https://localhost:8080/",
     "height": 407
    },
    "colab_type": "code",
    "id": "PoDzs4DTFSY-",
    "outputId": "84e7df8f-2013-4c12-8b54-7bf0f1d4fc7b"
   },
   "outputs": [],
   "source": [
    "isolation_forest = IsolationForest(n_estimators=100)\n",
    "isolation_forest.fit(df['Profit'].values.reshape(-1, 1))\n",
    "xx = np.linspace(df['Profit'].min(), df['Profit'].max(), len(df)).reshape(-1,1)\n",
    "anomaly_score = isolation_forest.decision_function(xx)\n",
    "outlier = isolation_forest.predict(xx)"
   ]
  },
  {
   "cell_type": "code",
   "execution_count": 32,
   "metadata": {
    "scrolled": true
   },
   "outputs": [
    {
     "data": {
      "image/png": "[encoded data removed]",
      "text/plain": [
       "<Figure size 720x288 with 1 Axes>"
      ]
     },
     "metadata": {
      "needs_background": "light"
     },
     "output_type": "display_data"
    }
   ],
   "source": [
    "plt.figure(figsize=(10,4))\n",
    "plt.plot(xx, anomaly_score, label='anomaly score')\n",
    "plt.fill_between(xx.T[0], np.min(anomaly_score), np.max(anomaly_score), \n",
    "                 where=outlier==-1, color='r', \n",
    "                 alpha=.4, label='outlier region')\n",
    "plt.legend()\n",
    "plt.ylabel('anomaly score')\n",
    "plt.xlabel('Profit')\n",
    "plt.show();"
   ]
  },
  {
   "cell_type": "code",
   "execution_count": 33,
   "metadata": {},
   "outputs": [
    {
     "data": {
      "text/plain": [
       "135"
      ]
     },
     "execution_count": 33,
     "metadata": {},
     "output_type": "execute_result"
    }
   ],
   "source": [
    "sum(outlier==1)"
   ]
  },
  {
   "cell_type": "markdown",
   "metadata": {
    "colab_type": "text",
    "id": "GivF2cSFS208"
   },
   "source": [
    "There were two regions that the data has low probability to appear: one on the left side of the distribution, another one on the right side of the distribution."
   ]
  },
  {
   "cell_type": "code",
   "execution_count": 34,
   "metadata": {
    "colab": {
     "base_uri": "https://localhost:8080/",
     "height": 569
    },
    "colab_type": "code",
    "id": "XtizVySOlPUT",
    "outputId": "a6dd1bda-0de3-4e50-fa89-5feb6edabac2"
   },
   "outputs": [
    {
     "data": {
      "text/html": [
       "<div>\n",
       "<style scoped>\n",
       "    .dataframe tbody tr th:only-of-type {\n",
       "        vertical-align: middle;\n",
       "    }\n",
       "\n",
       "    .dataframe tbody tr th {\n",
       "        vertical-align: top;\n",
       "    }\n",
       "\n",
       "    .dataframe thead th {\n",
       "        text-align: right;\n",
       "    }\n",
       "</style>\n",
       "<table border=\"1\" class=\"dataframe\">\n",
       "  <thead>\n",
       "    <tr style=\"text-align: right;\">\n",
       "      <th></th>\n",
       "      <th>Row ID</th>\n",
       "      <th>Order ID</th>\n",
       "      <th>Order Date</th>\n",
       "      <th>Ship Date</th>\n",
       "      <th>Ship Mode</th>\n",
       "      <th>Customer ID</th>\n",
       "      <th>Customer Name</th>\n",
       "      <th>Segment</th>\n",
       "      <th>Country</th>\n",
       "      <th>City</th>\n",
       "      <th>...</th>\n",
       "      <th>Postal Code</th>\n",
       "      <th>Region</th>\n",
       "      <th>Product ID</th>\n",
       "      <th>Category</th>\n",
       "      <th>Sub-Category</th>\n",
       "      <th>Product Name</th>\n",
       "      <th>Sales</th>\n",
       "      <th>Quantity</th>\n",
       "      <th>Discount</th>\n",
       "      <th>Profit</th>\n",
       "    </tr>\n",
       "  </thead>\n",
       "  <tbody>\n",
       "    <tr>\n",
       "      <th>3</th>\n",
       "      <td>4</td>\n",
       "      <td>US-2015-108966</td>\n",
       "      <td>2015-10-11</td>\n",
       "      <td>2015-10-18</td>\n",
       "      <td>Standard Class</td>\n",
       "      <td>SO-20335</td>\n",
       "      <td>Sean O'Donnell</td>\n",
       "      <td>Consumer</td>\n",
       "      <td>United States</td>\n",
       "      <td>Fort Lauderdale</td>\n",
       "      <td>...</td>\n",
       "      <td>33311</td>\n",
       "      <td>South</td>\n",
       "      <td>FUR-TA-10000577</td>\n",
       "      <td>Furniture</td>\n",
       "      <td>Tables</td>\n",
       "      <td>Bretford CR4500 Series Slim Rectangular Table</td>\n",
       "      <td>957.5775</td>\n",
       "      <td>5</td>\n",
       "      <td>0.45</td>\n",
       "      <td>-383.0310</td>\n",
       "    </tr>\n",
       "    <tr>\n",
       "      <th>14</th>\n",
       "      <td>15</td>\n",
       "      <td>US-2015-118983</td>\n",
       "      <td>2015-11-22</td>\n",
       "      <td>2015-11-26</td>\n",
       "      <td>Standard Class</td>\n",
       "      <td>HP-14815</td>\n",
       "      <td>Harold Pawlan</td>\n",
       "      <td>Home Office</td>\n",
       "      <td>United States</td>\n",
       "      <td>Fort Worth</td>\n",
       "      <td>...</td>\n",
       "      <td>76106</td>\n",
       "      <td>Central</td>\n",
       "      <td>OFF-AP-10002311</td>\n",
       "      <td>Office Supplies</td>\n",
       "      <td>Appliances</td>\n",
       "      <td>Holmes Replacement Filter for HEPA Air Cleaner...</td>\n",
       "      <td>68.8100</td>\n",
       "      <td>5</td>\n",
       "      <td>0.80</td>\n",
       "      <td>-123.8580</td>\n",
       "    </tr>\n",
       "    <tr>\n",
       "      <th>27</th>\n",
       "      <td>28</td>\n",
       "      <td>US-2015-150630</td>\n",
       "      <td>2015-09-17</td>\n",
       "      <td>2015-09-21</td>\n",
       "      <td>Standard Class</td>\n",
       "      <td>TB-21520</td>\n",
       "      <td>Tracy Blumstein</td>\n",
       "      <td>Consumer</td>\n",
       "      <td>United States</td>\n",
       "      <td>Philadelphia</td>\n",
       "      <td>...</td>\n",
       "      <td>19140</td>\n",
       "      <td>East</td>\n",
       "      <td>FUR-BO-10004834</td>\n",
       "      <td>Furniture</td>\n",
       "      <td>Bookcases</td>\n",
       "      <td>Riverside Palais Royal Lawyers Bookcase, Royal...</td>\n",
       "      <td>3083.4300</td>\n",
       "      <td>7</td>\n",
       "      <td>0.50</td>\n",
       "      <td>-1665.0522</td>\n",
       "    </tr>\n",
       "    <tr>\n",
       "      <th>36</th>\n",
       "      <td>37</td>\n",
       "      <td>CA-2016-117590</td>\n",
       "      <td>2016-12-08</td>\n",
       "      <td>2016-12-10</td>\n",
       "      <td>First Class</td>\n",
       "      <td>GH-14485</td>\n",
       "      <td>Gene Hale</td>\n",
       "      <td>Corporate</td>\n",
       "      <td>United States</td>\n",
       "      <td>Richardson</td>\n",
       "      <td>...</td>\n",
       "      <td>75080</td>\n",
       "      <td>Central</td>\n",
       "      <td>FUR-FU-10003664</td>\n",
       "      <td>Furniture</td>\n",
       "      <td>Furnishings</td>\n",
       "      <td>Electrix Architect's Clamp-On Swing Arm Lamp, ...</td>\n",
       "      <td>190.9200</td>\n",
       "      <td>5</td>\n",
       "      <td>0.60</td>\n",
       "      <td>-147.9630</td>\n",
       "    </tr>\n",
       "    <tr>\n",
       "      <th>72</th>\n",
       "      <td>73</td>\n",
       "      <td>US-2015-134026</td>\n",
       "      <td>2015-04-26</td>\n",
       "      <td>2015-05-02</td>\n",
       "      <td>Standard Class</td>\n",
       "      <td>JE-15745</td>\n",
       "      <td>Joel Eaton</td>\n",
       "      <td>Consumer</td>\n",
       "      <td>United States</td>\n",
       "      <td>Memphis</td>\n",
       "      <td>...</td>\n",
       "      <td>38109</td>\n",
       "      <td>South</td>\n",
       "      <td>FUR-CH-10000513</td>\n",
       "      <td>Furniture</td>\n",
       "      <td>Chairs</td>\n",
       "      <td>High-Back Leather Manager's Chair</td>\n",
       "      <td>831.9360</td>\n",
       "      <td>8</td>\n",
       "      <td>0.20</td>\n",
       "      <td>-114.3912</td>\n",
       "    </tr>\n",
       "  </tbody>\n",
       "</table>\n",
       "<p>5 rows × 21 columns</p>\n",
       "</div>"
      ],
      "text/plain": [
       "    Row ID        Order ID Order Date  Ship Date       Ship Mode Customer ID  \\\n",
       "3        4  US-2015-108966 2015-10-11 2015-10-18  Standard Class    SO-20335   \n",
       "14      15  US-2015-118983 2015-11-22 2015-11-26  Standard Class    HP-14815   \n",
       "27      28  US-2015-150630 2015-09-17 2015-09-21  Standard Class    TB-21520   \n",
       "36      37  CA-2016-117590 2016-12-08 2016-12-10     First Class    GH-14485   \n",
       "72      73  US-2015-134026 2015-04-26 2015-05-02  Standard Class    JE-15745   \n",
       "\n",
       "      Customer Name      Segment        Country             City  ...  \\\n",
       "3    Sean O'Donnell     Consumer  United States  Fort Lauderdale  ...   \n",
       "14    Harold Pawlan  Home Office  United States       Fort Worth  ...   \n",
       "27  Tracy Blumstein     Consumer  United States     Philadelphia  ...   \n",
       "36        Gene Hale    Corporate  United States       Richardson  ...   \n",
       "72       Joel Eaton     Consumer  United States          Memphis  ...   \n",
       "\n",
       "   Postal Code   Region       Product ID         Category Sub-Category  \\\n",
       "3        33311    South  FUR-TA-10000577        Furniture       Tables   \n",
       "14       76106  Central  OFF-AP-10002311  Office Supplies   Appliances   \n",
       "27       19140     East  FUR-BO-10004834        Furniture    Bookcases   \n",
       "36       75080  Central  FUR-FU-10003664        Furniture  Furnishings   \n",
       "72       38109    South  FUR-CH-10000513        Furniture       Chairs   \n",
       "\n",
       "                                         Product Name      Sales  Quantity  \\\n",
       "3       Bretford CR4500 Series Slim Rectangular Table   957.5775         5   \n",
       "14  Holmes Replacement Filter for HEPA Air Cleaner...    68.8100         5   \n",
       "27  Riverside Palais Royal Lawyers Bookcase, Royal...  3083.4300         7   \n",
       "36  Electrix Architect's Clamp-On Swing Arm Lamp, ...   190.9200         5   \n",
       "72                  High-Back Leather Manager's Chair   831.9360         8   \n",
       "\n",
       "    Discount     Profit  \n",
       "3       0.45  -383.0310  \n",
       "14      0.80  -123.8580  \n",
       "27      0.50 -1665.0522  \n",
       "36      0.60  -147.9630  \n",
       "72      0.20  -114.3912  \n",
       "\n",
       "[5 rows x 21 columns]"
      ]
     },
     "execution_count": 34,
     "metadata": {},
     "output_type": "execute_result"
    }
   ],
   "source": [
    "df.loc[df['Profit'] < -100].head()"
   ]
  },
  {
   "cell_type": "code",
   "execution_count": 35,
   "metadata": {
    "colab": {
     "base_uri": "https://localhost:8080/",
     "height": 416
    },
    "colab_type": "code",
    "id": "YGnZlzDDlyZO",
    "outputId": "e3338db2-65f0-4323-dff7-6c151538efa5"
   },
   "outputs": [
    {
     "data": {
      "text/plain": [
       "Row ID                                                       4\n",
       "Order ID                                        US-2015-108966\n",
       "Order Date                                 2015-10-11 00:00:00\n",
       "Ship Date                                  2015-10-18 00:00:00\n",
       "Ship Mode                                       Standard Class\n",
       "Customer ID                                           SO-20335\n",
       "Customer Name                                   Sean O'Donnell\n",
       "Segment                                               Consumer\n",
       "Country                                          United States\n",
       "City                                           Fort Lauderdale\n",
       "State                                                  Florida\n",
       "Postal Code                                              33311\n",
       "Region                                                   South\n",
       "Product ID                                     FUR-TA-10000577\n",
       "Category                                             Furniture\n",
       "Sub-Category                                            Tables\n",
       "Product Name     Bretford CR4500 Series Slim Rectangular Table\n",
       "Sales                                                  957.577\n",
       "Quantity                                                     5\n",
       "Discount                                                  0.45\n",
       "Profit                                                -383.031\n",
       "Name: 3, dtype: object"
      ]
     },
     "execution_count": 35,
     "metadata": {},
     "output_type": "execute_result"
    }
   ],
   "source": [
    "df.iloc[3]"
   ]
  },
  {
   "cell_type": "code",
   "execution_count": 36,
   "metadata": {
    "colab": {
     "base_uri": "https://localhost:8080/",
     "height": 569
    },
    "colab_type": "code",
    "id": "YVhBJua_sG-u",
    "outputId": "470db9c5-dbce-4b58-b013-2bb1f689aa01"
   },
   "outputs": [
    {
     "data": {
      "text/html": [
       "<div>\n",
       "<style scoped>\n",
       "    .dataframe tbody tr th:only-of-type {\n",
       "        vertical-align: middle;\n",
       "    }\n",
       "\n",
       "    .dataframe tbody tr th {\n",
       "        vertical-align: top;\n",
       "    }\n",
       "\n",
       "    .dataframe thead th {\n",
       "        text-align: right;\n",
       "    }\n",
       "</style>\n",
       "<table border=\"1\" class=\"dataframe\">\n",
       "  <thead>\n",
       "    <tr style=\"text-align: right;\">\n",
       "      <th></th>\n",
       "      <th>Row ID</th>\n",
       "      <th>Order ID</th>\n",
       "      <th>Order Date</th>\n",
       "      <th>Ship Date</th>\n",
       "      <th>Ship Mode</th>\n",
       "      <th>Customer ID</th>\n",
       "      <th>Customer Name</th>\n",
       "      <th>Segment</th>\n",
       "      <th>Country</th>\n",
       "      <th>City</th>\n",
       "      <th>...</th>\n",
       "      <th>Postal Code</th>\n",
       "      <th>Region</th>\n",
       "      <th>Product ID</th>\n",
       "      <th>Category</th>\n",
       "      <th>Sub-Category</th>\n",
       "      <th>Product Name</th>\n",
       "      <th>Sales</th>\n",
       "      <th>Quantity</th>\n",
       "      <th>Discount</th>\n",
       "      <th>Profit</th>\n",
       "    </tr>\n",
       "  </thead>\n",
       "  <tbody>\n",
       "    <tr>\n",
       "      <th>1</th>\n",
       "      <td>2</td>\n",
       "      <td>CA-2016-152156</td>\n",
       "      <td>2016-11-08</td>\n",
       "      <td>2016-11-11</td>\n",
       "      <td>Second Class</td>\n",
       "      <td>CG-12520</td>\n",
       "      <td>Claire Gute</td>\n",
       "      <td>Consumer</td>\n",
       "      <td>United States</td>\n",
       "      <td>Henderson</td>\n",
       "      <td>...</td>\n",
       "      <td>42420</td>\n",
       "      <td>South</td>\n",
       "      <td>FUR-CH-10000454</td>\n",
       "      <td>Furniture</td>\n",
       "      <td>Chairs</td>\n",
       "      <td>Hon Deluxe Fabric Upholstered Stacking Chairs,...</td>\n",
       "      <td>731.94</td>\n",
       "      <td>3</td>\n",
       "      <td>0.0</td>\n",
       "      <td>219.5820</td>\n",
       "    </tr>\n",
       "    <tr>\n",
       "      <th>24</th>\n",
       "      <td>25</td>\n",
       "      <td>CA-2015-106320</td>\n",
       "      <td>2015-09-25</td>\n",
       "      <td>2015-09-30</td>\n",
       "      <td>Standard Class</td>\n",
       "      <td>EB-13870</td>\n",
       "      <td>Emily Burns</td>\n",
       "      <td>Consumer</td>\n",
       "      <td>United States</td>\n",
       "      <td>Orem</td>\n",
       "      <td>...</td>\n",
       "      <td>84057</td>\n",
       "      <td>West</td>\n",
       "      <td>FUR-TA-10000577</td>\n",
       "      <td>Furniture</td>\n",
       "      <td>Tables</td>\n",
       "      <td>Bretford CR4500 Series Slim Rectangular Table</td>\n",
       "      <td>1044.63</td>\n",
       "      <td>3</td>\n",
       "      <td>0.0</td>\n",
       "      <td>240.2649</td>\n",
       "    </tr>\n",
       "    <tr>\n",
       "      <th>54</th>\n",
       "      <td>55</td>\n",
       "      <td>CA-2016-105816</td>\n",
       "      <td>2016-12-11</td>\n",
       "      <td>2016-12-17</td>\n",
       "      <td>Standard Class</td>\n",
       "      <td>JM-15265</td>\n",
       "      <td>Janet Molinari</td>\n",
       "      <td>Corporate</td>\n",
       "      <td>United States</td>\n",
       "      <td>New York City</td>\n",
       "      <td>...</td>\n",
       "      <td>10024</td>\n",
       "      <td>East</td>\n",
       "      <td>TEC-PH-10002447</td>\n",
       "      <td>Technology</td>\n",
       "      <td>Phones</td>\n",
       "      <td>AT&amp;T CL83451 4-Handset Telephone</td>\n",
       "      <td>1029.95</td>\n",
       "      <td>5</td>\n",
       "      <td>0.0</td>\n",
       "      <td>298.6855</td>\n",
       "    </tr>\n",
       "    <tr>\n",
       "      <th>144</th>\n",
       "      <td>145</td>\n",
       "      <td>CA-2017-155376</td>\n",
       "      <td>2017-12-22</td>\n",
       "      <td>2017-12-27</td>\n",
       "      <td>Standard Class</td>\n",
       "      <td>SG-20080</td>\n",
       "      <td>Sandra Glassco</td>\n",
       "      <td>Consumer</td>\n",
       "      <td>United States</td>\n",
       "      <td>Independence</td>\n",
       "      <td>...</td>\n",
       "      <td>64055</td>\n",
       "      <td>Central</td>\n",
       "      <td>OFF-AP-10001058</td>\n",
       "      <td>Office Supplies</td>\n",
       "      <td>Appliances</td>\n",
       "      <td>Sanyo 2.5 Cubic Foot Mid-Size Office Refrigera...</td>\n",
       "      <td>839.43</td>\n",
       "      <td>3</td>\n",
       "      <td>0.0</td>\n",
       "      <td>218.2518</td>\n",
       "    </tr>\n",
       "    <tr>\n",
       "      <th>149</th>\n",
       "      <td>150</td>\n",
       "      <td>CA-2016-114489</td>\n",
       "      <td>2016-12-05</td>\n",
       "      <td>2016-12-09</td>\n",
       "      <td>Standard Class</td>\n",
       "      <td>JE-16165</td>\n",
       "      <td>Justin Ellison</td>\n",
       "      <td>Corporate</td>\n",
       "      <td>United States</td>\n",
       "      <td>Franklin</td>\n",
       "      <td>...</td>\n",
       "      <td>53132</td>\n",
       "      <td>Central</td>\n",
       "      <td>FUR-CH-10000454</td>\n",
       "      <td>Furniture</td>\n",
       "      <td>Chairs</td>\n",
       "      <td>Hon Deluxe Fabric Upholstered Stacking Chairs,...</td>\n",
       "      <td>1951.84</td>\n",
       "      <td>8</td>\n",
       "      <td>0.0</td>\n",
       "      <td>585.5520</td>\n",
       "    </tr>\n",
       "  </tbody>\n",
       "</table>\n",
       "<p>5 rows × 21 columns</p>\n",
       "</div>"
      ],
      "text/plain": [
       "     Row ID        Order ID Order Date  Ship Date       Ship Mode Customer ID  \\\n",
       "1         2  CA-2016-152156 2016-11-08 2016-11-11    Second Class    CG-12520   \n",
       "24       25  CA-2015-106320 2015-09-25 2015-09-30  Standard Class    EB-13870   \n",
       "54       55  CA-2016-105816 2016-12-11 2016-12-17  Standard Class    JM-15265   \n",
       "144     145  CA-2017-155376 2017-12-22 2017-12-27  Standard Class    SG-20080   \n",
       "149     150  CA-2016-114489 2016-12-05 2016-12-09  Standard Class    JE-16165   \n",
       "\n",
       "      Customer Name    Segment        Country           City  ... Postal Code  \\\n",
       "1       Claire Gute   Consumer  United States      Henderson  ...       42420   \n",
       "24      Emily Burns   Consumer  United States           Orem  ...       84057   \n",
       "54   Janet Molinari  Corporate  United States  New York City  ...       10024   \n",
       "144  Sandra Glassco   Consumer  United States   Independence  ...       64055   \n",
       "149  Justin Ellison  Corporate  United States       Franklin  ...       53132   \n",
       "\n",
       "      Region       Product ID         Category Sub-Category  \\\n",
       "1      South  FUR-CH-10000454        Furniture       Chairs   \n",
       "24      West  FUR-TA-10000577        Furniture       Tables   \n",
       "54      East  TEC-PH-10002447       Technology       Phones   \n",
       "144  Central  OFF-AP-10001058  Office Supplies   Appliances   \n",
       "149  Central  FUR-CH-10000454        Furniture       Chairs   \n",
       "\n",
       "                                          Product Name    Sales  Quantity  \\\n",
       "1    Hon Deluxe Fabric Upholstered Stacking Chairs,...   731.94         3   \n",
       "24       Bretford CR4500 Series Slim Rectangular Table  1044.63         3   \n",
       "54                    AT&T CL83451 4-Handset Telephone  1029.95         5   \n",
       "144  Sanyo 2.5 Cubic Foot Mid-Size Office Refrigera...   839.43         3   \n",
       "149  Hon Deluxe Fabric Upholstered Stacking Chairs,...  1951.84         8   \n",
       "\n",
       "     Discount    Profit  \n",
       "1         0.0  219.5820  \n",
       "24        0.0  240.2649  \n",
       "54        0.0  298.6855  \n",
       "144       0.0  218.2518  \n",
       "149       0.0  585.5520  \n",
       "\n",
       "[5 rows x 21 columns]"
      ]
     },
     "execution_count": 36,
     "metadata": {},
     "output_type": "execute_result"
    }
   ],
   "source": [
    "df.loc[df['Profit'] > 200].head()"
   ]
  },
  {
   "cell_type": "code",
   "execution_count": 37,
   "metadata": {
    "colab": {
     "base_uri": "https://localhost:8080/",
     "height": 399
    },
    "colab_type": "code",
    "id": "LRkUWSletcq-",
    "outputId": "713376f0-4ac1-45ef-80fd-32f2f29bd9f3"
   },
   "outputs": [
    {
     "data": {
      "text/plain": [
       "Row ID                                                           2\n",
       "Order ID                                            CA-2016-152156\n",
       "Order Date                                     2016-11-08 00:00:00\n",
       "Ship Date                                      2016-11-11 00:00:00\n",
       "Ship Mode                                             Second Class\n",
       "Customer ID                                               CG-12520\n",
       "Customer Name                                          Claire Gute\n",
       "Segment                                                   Consumer\n",
       "Country                                              United States\n",
       "City                                                     Henderson\n",
       "State                                                     Kentucky\n",
       "Postal Code                                                  42420\n",
       "Region                                                       South\n",
       "Product ID                                         FUR-CH-10000454\n",
       "Category                                                 Furniture\n",
       "Sub-Category                                                Chairs\n",
       "Product Name     Hon Deluxe Fabric Upholstered Stacking Chairs,...\n",
       "Sales                                                       731.94\n",
       "Quantity                                                         3\n",
       "Discount                                                         0\n",
       "Profit                                                     219.582\n",
       "Name: 1, dtype: object"
      ]
     },
     "execution_count": 37,
     "metadata": {},
     "output_type": "execute_result"
    }
   ],
   "source": [
    "df.iloc[1]"
   ]
  },
  {
   "cell_type": "code",
   "execution_count": 38,
   "metadata": {
    "colab": {
     "base_uri": "https://localhost:8080/",
     "height": 283
    },
    "colab_type": "code",
    "id": "JQKECo0BSefE",
    "outputId": "c9313dc2-650c-4e9e-e7f1-b33f2f79d931"
   },
   "outputs": [
    {
     "data": {
      "image/png": "[encoded data removed]",
      "text/plain": [
       "<Figure size 432x288 with 1 Axes>"
      ]
     },
     "metadata": {
      "needs_background": "light"
     },
     "output_type": "display_data"
    }
   ],
   "source": [
    "sns.regplot(x=\"Sales\", y=\"Profit\", data=df)\n",
    "sns.despine();"
   ]
  },
  {
   "cell_type": "code",
   "execution_count": 39,
   "metadata": {
    "colab": {
     "base_uri": "https://localhost:8080/",
     "height": 202
    },
    "colab_type": "code",
    "id": "AChZpGY4Ghc9",
    "outputId": "bc0069d5-4ded-4401-c7c1-77f503ef919f"
   },
   "outputs": [
    {
     "data": {
      "text/html": [
       "<div>\n",
       "<style scoped>\n",
       "    .dataframe tbody tr th:only-of-type {\n",
       "        vertical-align: middle;\n",
       "    }\n",
       "\n",
       "    .dataframe tbody tr th {\n",
       "        vertical-align: top;\n",
       "    }\n",
       "\n",
       "    .dataframe thead th {\n",
       "        text-align: right;\n",
       "    }\n",
       "</style>\n",
       "<table border=\"1\" class=\"dataframe\">\n",
       "  <thead>\n",
       "    <tr style=\"text-align: right;\">\n",
       "      <th></th>\n",
       "      <th>Sales</th>\n",
       "      <th>Profit</th>\n",
       "    </tr>\n",
       "  </thead>\n",
       "  <tbody>\n",
       "    <tr>\n",
       "      <th>0</th>\n",
       "      <td>261.9600</td>\n",
       "      <td>41.9136</td>\n",
       "    </tr>\n",
       "    <tr>\n",
       "      <th>1</th>\n",
       "      <td>731.9400</td>\n",
       "      <td>219.5820</td>\n",
       "    </tr>\n",
       "    <tr>\n",
       "      <th>2</th>\n",
       "      <td>14.6200</td>\n",
       "      <td>6.8714</td>\n",
       "    </tr>\n",
       "    <tr>\n",
       "      <th>3</th>\n",
       "      <td>957.5775</td>\n",
       "      <td>-383.0310</td>\n",
       "    </tr>\n",
       "    <tr>\n",
       "      <th>4</th>\n",
       "      <td>22.3680</td>\n",
       "      <td>2.5164</td>\n",
       "    </tr>\n",
       "  </tbody>\n",
       "</table>\n",
       "</div>"
      ],
      "text/plain": [
       "      Sales    Profit\n",
       "0  261.9600   41.9136\n",
       "1  731.9400  219.5820\n",
       "2   14.6200    6.8714\n",
       "3  957.5775 -383.0310\n",
       "4   22.3680    2.5164"
      ]
     },
     "execution_count": 39,
     "metadata": {},
     "output_type": "execute_result"
    }
   ],
   "source": [
    "cols = ['Sales', 'Profit']\n",
    "df[cols].head()"
   ]
  },
  {
   "cell_type": "markdown",
   "metadata": {},
   "source": [
    "## Multivariate Anomaly Detection\n",
    "\n",
    "In most cases you will need to use more than one feature to look for anomalies. For this purpose, we are going to build a anomaly detection that is comprised of several models"
   ]
  },
  {
   "cell_type": "code",
   "execution_count": 48,
   "metadata": {},
   "outputs": [
    {
     "name": "stdout",
     "output_type": "stream",
     "text": [
      "      Sales    Profit\n",
      "0  0.011552  0.442794\n",
      "1  0.032313  0.454639\n",
      "2  0.000626  0.440458\n",
      "3  0.042280  0.414464\n",
      "4  0.000968  0.440168\n"
     ]
    },
    {
     "data": {
      "text/plain": [
       "array([[0.01155206, 0.44279413],\n",
       "       [0.0323127 , 0.45463873],\n",
       "       [0.0006262 , 0.44045798],\n",
       "       ...,\n",
       "       [0.01140258, 0.44129277],\n",
       "       [0.00128792, 0.44088789],\n",
       "       [0.0107216 , 0.4448631 ]])"
      ]
     },
     "execution_count": 48,
     "metadata": {},
     "output_type": "execute_result"
    }
   ],
   "source": [
    "minmax = MinMaxScaler(feature_range=(0, 1))\n",
    "df[['Sales','Profit']] = minmax.fit_transform(df[['Sales','Profit']])\n",
    "print(df[['Sales','Profit']].head())\n",
    "\n",
    "X1 = df['Sales'].values.reshape(-1,1)\n",
    "X2 = df['Profit'].values.reshape(-1,1)\n",
    "\n",
    "X = np.concatenate((X1,X2),axis=1)\n",
    "X"
   ]
  },
  {
   "cell_type": "code",
   "execution_count": 41,
   "metadata": {
    "colab": {
     "base_uri": "https://localhost:8080/",
     "height": 571
    },
    "colab_type": "code",
    "id": "Lrx85bG0YOqM",
    "outputId": "dd23022c-4fd5-4eb7-96fd-5a9c3f989033"
   },
   "outputs": [
    {
     "name": "stdout",
     "output_type": "stream",
     "text": [
      "OUTLIERS:  100 INLIERS:  9894\n"
     ]
    }
   ],
   "source": [
    "outliers_fraction = 0.01\n",
    "xx , yy = np.meshgrid(np.linspace(0, 1, 100), np.linspace(0, 1, 100))\n",
    "clf = IForest(contamination=outliers_fraction,random_state=0)\n",
    "clf.fit(X)\n",
    "\n",
    "# predict raw anomaly score\n",
    "scores_pred = clf.decision_function(X) * -1\n",
    "        \n",
    "# prediction of a datapoint category outlier or inlier\n",
    "y_pred = clf.predict(X)\n",
    "n_inliers = len(y_pred) - np.count_nonzero(y_pred)\n",
    "n_outliers = np.count_nonzero(y_pred == 1)\n",
    "\n",
    "# copy of dataframe\n",
    "df1 = df\n",
    "df1['outlier'] = y_pred.tolist()\n",
    "    \n",
    "# sales - inlier feature 1,  profit - inlier feature 2\n",
    "inliers_sales = np.array(df1['Sales'][df1['outlier'] == 0]).reshape(-1,1)\n",
    "inliers_profit = np.array(df1['Profit'][df1['outlier'] == 0]).reshape(-1,1)\n",
    "    \n",
    "# sales - outlier feature 1, profit - outlier feature 2\n",
    "outliers_sales = df1['Sales'][df1['outlier'] == 1].values.reshape(-1,1)\n",
    "outliers_profit = df1['Profit'][df1['outlier'] == 1].values.reshape(-1,1)\n",
    "         \n",
    "print('OUTLIERS: ',n_outliers,'INLIERS: ',n_inliers)"
   ]
  },
  {
   "cell_type": "code",
   "execution_count": 42,
   "metadata": {},
   "outputs": [
    {
     "data": {
      "image/png": "[encoded data removed]",
      "text/plain": [
       "<Figure size 576x576 with 1 Axes>"
      ]
     },
     "metadata": {
      "needs_background": "light"
     },
     "output_type": "display_data"
    }
   ],
   "source": [
    " plt.figure(figsize=(8, 8))\n",
    "# threshold value to consider a datapoint inlier or outlier\n",
    "threshold = percentile(scores_pred, 100 * outliers_fraction)\n",
    "        \n",
    "# decision function calculates the raw anomaly score for every point\n",
    "Z = clf.decision_function(np.c_[xx.ravel(), yy.ravel()]) * -1\n",
    "Z = Z.reshape(xx.shape)\n",
    "# fill blue map colormap from minimum anomaly score to threshold value\n",
    "plt.contourf(xx, yy, Z, levels=np.linspace(Z.min(), threshold, 7),cmap=plt.cm.Blues_r)\n",
    "        \n",
    "# draw red contour line where anomaly score is equal to thresold\n",
    "a = plt.contour(xx, yy, Z, levels=[threshold],linewidths=2, colors='red')\n",
    "        \n",
    "# fill orange contour lines where range of anomaly score is from threshold to maximum anomaly score\n",
    "plt.contourf(xx, yy, Z, levels=[threshold, Z.max()],colors='orange')\n",
    "b = plt.scatter(inliers_sales, inliers_profit, c='white',s=20, edgecolor='k')\n",
    "    \n",
    "c = plt.scatter(outliers_sales, outliers_profit, c='black',s=20, edgecolor='k')\n",
    "       \n",
    "plt.axis('tight')\n",
    "plt.legend([a.collections[0], b,c], ['learned decision function', 'inliers','outliers'],\n",
    "           prop=matplotlib.font_manager.FontProperties(size=20),loc='lower right')\n",
    "      \n",
    "plt.xlim((0, 1))\n",
    "plt.ylim((0, 1))\n",
    "plt.title('Isolation Forest')\n",
    "plt.show();"
   ]
  },
  {
   "cell_type": "code",
   "execution_count": 43,
   "metadata": {
    "colab": {
     "base_uri": "https://localhost:8080/",
     "height": 517
    },
    "colab_type": "code",
    "id": "6gtIWWbRYxEj",
    "outputId": "5c3d373d-f758-4be9-f01e-24f7ef7dc24b"
   },
   "outputs": [
    {
     "name": "stdout",
     "output_type": "stream",
     "text": [
      "OUTLIERS:  91 INLIERS:  9903\n"
     ]
    },
    {
     "data": {
      "image/png": "[encoded data removed]",
      "text/plain": [
       "<Figure size 576x576 with 1 Axes>"
      ]
     },
     "metadata": {
      "needs_background": "light"
     },
     "output_type": "display_data"
    }
   ],
   "source": [
    "outliers_fraction = 0.01\n",
    "xx , yy = np.meshgrid(np.linspace(0, 1, 100), np.linspace(0, 1, 100))\n",
    "clf = KNN(contamination=outliers_fraction)\n",
    "clf.fit(X)\n",
    "# predict raw anomaly score\n",
    "scores_pred = clf.decision_function(X) * -1\n",
    "        \n",
    "# prediction of a datapoint category outlier or inlier\n",
    "y_pred = clf.predict(X)\n",
    "n_inliers = len(y_pred) - np.count_nonzero(y_pred)\n",
    "n_outliers = np.count_nonzero(y_pred == 1)\n",
    "plt.figure(figsize=(8, 8))\n",
    "# copy of dataframe\n",
    "df1 = df\n",
    "df1['outlier'] = y_pred.tolist()\n",
    "    \n",
    "# sales - inlier feature 1,  profit - inlier feature 2\n",
    "inliers_sales = np.array(df1['Sales'][df1['outlier'] == 0]).reshape(-1,1)\n",
    "inliers_profit = np.array(df1['Profit'][df1['outlier'] == 0]).reshape(-1,1)\n",
    "    \n",
    "# sales - outlier feature 1, profit - outlier feature 2\n",
    "outliers_sales = df1['Sales'][df1['outlier'] == 1].values.reshape(-1,1)\n",
    "outliers_profit = df1['Profit'][df1['outlier'] == 1].values.reshape(-1,1)\n",
    "         \n",
    "print('OUTLIERS: ',n_outliers,'INLIERS: ',n_inliers)\n",
    "        \n",
    "# threshold value to consider a datapoint inlier or outlier\n",
    "threshold = percentile(scores_pred, 100 * outliers_fraction)\n",
    "        \n",
    "# decision function calculates the raw anomaly score for every point\n",
    "Z = clf.decision_function(np.c_[xx.ravel(), yy.ravel()]) * -1\n",
    "Z = Z.reshape(xx.shape)\n",
    "# fill blue map colormap from minimum anomaly score to threshold value\n",
    "plt.contourf(xx, yy, Z, levels=np.linspace(Z.min(), threshold, 7),cmap=plt.cm.Blues_r)\n",
    "        \n",
    "# draw red contour line where anomaly score is equal to thresold\n",
    "a = plt.contour(xx, yy, Z, levels=[threshold],linewidths=2, colors='red')\n",
    "        \n",
    "# fill orange contour lines where range of anomaly score is from threshold to maximum anomaly score\n",
    "plt.contourf(xx, yy, Z, levels=[threshold, Z.max()],colors='orange')\n",
    "b = plt.scatter(inliers_sales, inliers_profit, c='white',s=20, edgecolor='k')\n",
    "    \n",
    "c = plt.scatter(outliers_sales, outliers_profit, c='black',s=20, edgecolor='k')\n",
    "       \n",
    "plt.axis('tight')  \n",
    "   \n",
    "plt.legend([a.collections[0], b,c], ['learned decision function', 'inliers','outliers'],\n",
    "           prop=matplotlib.font_manager.FontProperties(size=20),loc='lower right')\n",
    "      \n",
    "plt.xlim((0, 1))\n",
    "plt.ylim((0, 1))\n",
    "plt.title('K Nearest Neighbors (KNN)')\n",
    "plt.show();"
   ]
  },
  {
   "cell_type": "code",
   "execution_count": 44,
   "metadata": {
    "colab": {
     "base_uri": "https://localhost:8080/",
     "height": 1000
    },
    "colab_type": "code",
    "id": "gvXGH0BHBBNN",
    "outputId": "0c20f0a6-99be-4766-b83a-cd918869f782"
   },
   "outputs": [
    {
     "data": {
      "text/html": [
       "<div>\n",
       "<style scoped>\n",
       "    .dataframe tbody tr th:only-of-type {\n",
       "        vertical-align: middle;\n",
       "    }\n",
       "\n",
       "    .dataframe tbody tr th {\n",
       "        vertical-align: top;\n",
       "    }\n",
       "\n",
       "    .dataframe thead th {\n",
       "        text-align: right;\n",
       "    }\n",
       "</style>\n",
       "<table border=\"1\" class=\"dataframe\">\n",
       "  <thead>\n",
       "    <tr style=\"text-align: right;\">\n",
       "      <th></th>\n",
       "      <th>Row ID</th>\n",
       "      <th>Order ID</th>\n",
       "      <th>Order Date</th>\n",
       "      <th>Ship Date</th>\n",
       "      <th>Ship Mode</th>\n",
       "      <th>Customer ID</th>\n",
       "      <th>Customer Name</th>\n",
       "      <th>Segment</th>\n",
       "      <th>Country</th>\n",
       "      <th>City</th>\n",
       "      <th>...</th>\n",
       "      <th>Region</th>\n",
       "      <th>Product ID</th>\n",
       "      <th>Category</th>\n",
       "      <th>Sub-Category</th>\n",
       "      <th>Product Name</th>\n",
       "      <th>Sales</th>\n",
       "      <th>Quantity</th>\n",
       "      <th>Discount</th>\n",
       "      <th>Profit</th>\n",
       "      <th>outlier</th>\n",
       "    </tr>\n",
       "  </thead>\n",
       "  <tbody>\n",
       "    <tr>\n",
       "      <th>9231</th>\n",
       "      <td>9232</td>\n",
       "      <td>CA-2014-148383</td>\n",
       "      <td>2014-12-27</td>\n",
       "      <td>2014-12-31</td>\n",
       "      <td>Standard Class</td>\n",
       "      <td>RP-19390</td>\n",
       "      <td>Resi Pölking</td>\n",
       "      <td>Consumer</td>\n",
       "      <td>United States</td>\n",
       "      <td>Phoenix</td>\n",
       "      <td>...</td>\n",
       "      <td>West</td>\n",
       "      <td>OFF-BI-10003650</td>\n",
       "      <td>Office Supplies</td>\n",
       "      <td>Binders</td>\n",
       "      <td>GBC DocuBind 300 Electric Binding Machine</td>\n",
       "      <td>0.041802</td>\n",
       "      <td>6</td>\n",
       "      <td>0.70</td>\n",
       "      <td>0.393714</td>\n",
       "      <td>1</td>\n",
       "    </tr>\n",
       "    <tr>\n",
       "      <th>9270</th>\n",
       "      <td>9271</td>\n",
       "      <td>US-2017-102183</td>\n",
       "      <td>2017-08-21</td>\n",
       "      <td>2017-08-28</td>\n",
       "      <td>Standard Class</td>\n",
       "      <td>PK-19075</td>\n",
       "      <td>Pete Kriz</td>\n",
       "      <td>Consumer</td>\n",
       "      <td>United States</td>\n",
       "      <td>New York City</td>\n",
       "      <td>...</td>\n",
       "      <td>East</td>\n",
       "      <td>OFF-BI-10001359</td>\n",
       "      <td>Office Supplies</td>\n",
       "      <td>Binders</td>\n",
       "      <td>GBC DocuBind TL300 Electric Binding System</td>\n",
       "      <td>0.190171</td>\n",
       "      <td>6</td>\n",
       "      <td>0.20</td>\n",
       "      <td>0.536875</td>\n",
       "      <td>1</td>\n",
       "    </tr>\n",
       "    <tr>\n",
       "      <th>9412</th>\n",
       "      <td>9413</td>\n",
       "      <td>CA-2015-164777</td>\n",
       "      <td>2015-01-27</td>\n",
       "      <td>2015-01-29</td>\n",
       "      <td>First Class</td>\n",
       "      <td>SC-20305</td>\n",
       "      <td>Sean Christensen</td>\n",
       "      <td>Consumer</td>\n",
       "      <td>United States</td>\n",
       "      <td>Los Angeles</td>\n",
       "      <td>...</td>\n",
       "      <td>West</td>\n",
       "      <td>FUR-CH-10002024</td>\n",
       "      <td>Furniture</td>\n",
       "      <td>Chairs</td>\n",
       "      <td>HON 5400 Series Task Chairs for Big and Tall</td>\n",
       "      <td>0.123839</td>\n",
       "      <td>5</td>\n",
       "      <td>0.20</td>\n",
       "      <td>0.440000</td>\n",
       "      <td>1</td>\n",
       "    </tr>\n",
       "    <tr>\n",
       "      <th>9425</th>\n",
       "      <td>9426</td>\n",
       "      <td>CA-2014-116246</td>\n",
       "      <td>2014-09-12</td>\n",
       "      <td>2014-09-17</td>\n",
       "      <td>Second Class</td>\n",
       "      <td>LW-17215</td>\n",
       "      <td>Luke Weiss</td>\n",
       "      <td>Consumer</td>\n",
       "      <td>United States</td>\n",
       "      <td>New York City</td>\n",
       "      <td>...</td>\n",
       "      <td>East</td>\n",
       "      <td>FUR-CH-10002024</td>\n",
       "      <td>Furniture</td>\n",
       "      <td>Chairs</td>\n",
       "      <td>HON 5400 Series Task Chairs for Big and Tall</td>\n",
       "      <td>0.167190</td>\n",
       "      <td>6</td>\n",
       "      <td>0.10</td>\n",
       "      <td>0.468039</td>\n",
       "      <td>1</td>\n",
       "    </tr>\n",
       "    <tr>\n",
       "      <th>9639</th>\n",
       "      <td>9640</td>\n",
       "      <td>CA-2015-116638</td>\n",
       "      <td>2015-01-28</td>\n",
       "      <td>2015-01-31</td>\n",
       "      <td>Second Class</td>\n",
       "      <td>JH-15985</td>\n",
       "      <td>Joseph Holt</td>\n",
       "      <td>Consumer</td>\n",
       "      <td>United States</td>\n",
       "      <td>Concord</td>\n",
       "      <td>...</td>\n",
       "      <td>South</td>\n",
       "      <td>FUR-TA-10000198</td>\n",
       "      <td>Furniture</td>\n",
       "      <td>Tables</td>\n",
       "      <td>Chromcraft Bull-Nose Wood Oval Conference Tabl...</td>\n",
       "      <td>0.189822</td>\n",
       "      <td>13</td>\n",
       "      <td>0.40</td>\n",
       "      <td>0.315845</td>\n",
       "      <td>1</td>\n",
       "    </tr>\n",
       "    <tr>\n",
       "      <th>9649</th>\n",
       "      <td>9650</td>\n",
       "      <td>CA-2016-107104</td>\n",
       "      <td>2016-11-26</td>\n",
       "      <td>2016-11-30</td>\n",
       "      <td>Standard Class</td>\n",
       "      <td>MS-17365</td>\n",
       "      <td>Maribeth Schnelling</td>\n",
       "      <td>Consumer</td>\n",
       "      <td>United States</td>\n",
       "      <td>Los Angeles</td>\n",
       "      <td>...</td>\n",
       "      <td>West</td>\n",
       "      <td>FUR-BO-10002213</td>\n",
       "      <td>Furniture</td>\n",
       "      <td>Bookcases</td>\n",
       "      <td>DMI Eclipse Executive Suite Bookcases</td>\n",
       "      <td>0.150464</td>\n",
       "      <td>8</td>\n",
       "      <td>0.15</td>\n",
       "      <td>0.450687</td>\n",
       "      <td>1</td>\n",
       "    </tr>\n",
       "    <tr>\n",
       "      <th>9660</th>\n",
       "      <td>9661</td>\n",
       "      <td>CA-2016-160717</td>\n",
       "      <td>2016-06-06</td>\n",
       "      <td>2016-06-11</td>\n",
       "      <td>Standard Class</td>\n",
       "      <td>ME-17320</td>\n",
       "      <td>Maria Etezadi</td>\n",
       "      <td>Home Office</td>\n",
       "      <td>United States</td>\n",
       "      <td>Santa Barbara</td>\n",
       "      <td>...</td>\n",
       "      <td>West</td>\n",
       "      <td>TEC-PH-10001459</td>\n",
       "      <td>Technology</td>\n",
       "      <td>Phones</td>\n",
       "      <td>Samsung Galaxy Mega 6.3</td>\n",
       "      <td>0.133558</td>\n",
       "      <td>9</td>\n",
       "      <td>0.20</td>\n",
       "      <td>0.455120</td>\n",
       "      <td>1</td>\n",
       "    </tr>\n",
       "    <tr>\n",
       "      <th>9741</th>\n",
       "      <td>9742</td>\n",
       "      <td>CA-2015-117086</td>\n",
       "      <td>2015-11-08</td>\n",
       "      <td>2015-11-12</td>\n",
       "      <td>Standard Class</td>\n",
       "      <td>QJ-19255</td>\n",
       "      <td>Quincy Jones</td>\n",
       "      <td>Corporate</td>\n",
       "      <td>United States</td>\n",
       "      <td>Burlington</td>\n",
       "      <td>...</td>\n",
       "      <td>East</td>\n",
       "      <td>FUR-BO-10004834</td>\n",
       "      <td>Furniture</td>\n",
       "      <td>Bookcases</td>\n",
       "      <td>Riverside Palais Royal Lawyers Bookcase, Royal...</td>\n",
       "      <td>0.194560</td>\n",
       "      <td>5</td>\n",
       "      <td>0.00</td>\n",
       "      <td>0.507542</td>\n",
       "      <td>1</td>\n",
       "    </tr>\n",
       "    <tr>\n",
       "      <th>9774</th>\n",
       "      <td>9775</td>\n",
       "      <td>CA-2014-169019</td>\n",
       "      <td>2014-07-26</td>\n",
       "      <td>2014-07-30</td>\n",
       "      <td>Standard Class</td>\n",
       "      <td>LF-17185</td>\n",
       "      <td>Luke Foster</td>\n",
       "      <td>Consumer</td>\n",
       "      <td>United States</td>\n",
       "      <td>San Antonio</td>\n",
       "      <td>...</td>\n",
       "      <td>Central</td>\n",
       "      <td>OFF-BI-10004995</td>\n",
       "      <td>Office Supplies</td>\n",
       "      <td>Binders</td>\n",
       "      <td>GBC DocuBind P400 Electric Binding System</td>\n",
       "      <td>0.096172</td>\n",
       "      <td>8</td>\n",
       "      <td>0.80</td>\n",
       "      <td>0.193206</td>\n",
       "      <td>1</td>\n",
       "    </tr>\n",
       "    <tr>\n",
       "      <th>9857</th>\n",
       "      <td>9858</td>\n",
       "      <td>CA-2015-164301</td>\n",
       "      <td>2015-03-26</td>\n",
       "      <td>2015-03-30</td>\n",
       "      <td>Standard Class</td>\n",
       "      <td>EB-13840</td>\n",
       "      <td>Ellis Ballard</td>\n",
       "      <td>Corporate</td>\n",
       "      <td>United States</td>\n",
       "      <td>Seattle</td>\n",
       "      <td>...</td>\n",
       "      <td>West</td>\n",
       "      <td>FUR-TA-10001889</td>\n",
       "      <td>Furniture</td>\n",
       "      <td>Tables</td>\n",
       "      <td>Bush Advantage Collection Racetrack Conference...</td>\n",
       "      <td>0.149891</td>\n",
       "      <td>8</td>\n",
       "      <td>0.00</td>\n",
       "      <td>0.480724</td>\n",
       "      <td>1</td>\n",
       "    </tr>\n",
       "  </tbody>\n",
       "</table>\n",
       "<p>10 rows × 22 columns</p>\n",
       "</div>"
      ],
      "text/plain": [
       "      Row ID        Order ID Order Date  Ship Date       Ship Mode  \\\n",
       "9231    9232  CA-2014-148383 2014-12-27 2014-12-31  Standard Class   \n",
       "9270    9271  US-2017-102183 2017-08-21 2017-08-28  Standard Class   \n",
       "9412    9413  CA-2015-164777 2015-01-27 2015-01-29     First Class   \n",
       "9425    9426  CA-2014-116246 2014-09-12 2014-09-17    Second Class   \n",
       "9639    9640  CA-2015-116638 2015-01-28 2015-01-31    Second Class   \n",
       "9649    9650  CA-2016-107104 2016-11-26 2016-11-30  Standard Class   \n",
       "9660    9661  CA-2016-160717 2016-06-06 2016-06-11  Standard Class   \n",
       "9741    9742  CA-2015-117086 2015-11-08 2015-11-12  Standard Class   \n",
       "9774    9775  CA-2014-169019 2014-07-26 2014-07-30  Standard Class   \n",
       "9857    9858  CA-2015-164301 2015-03-26 2015-03-30  Standard Class   \n",
       "\n",
       "     Customer ID        Customer Name      Segment        Country  \\\n",
       "9231    RP-19390         Resi Pölking     Consumer  United States   \n",
       "9270    PK-19075            Pete Kriz     Consumer  United States   \n",
       "9412    SC-20305     Sean Christensen     Consumer  United States   \n",
       "9425    LW-17215           Luke Weiss     Consumer  United States   \n",
       "9639    JH-15985          Joseph Holt     Consumer  United States   \n",
       "9649    MS-17365  Maribeth Schnelling     Consumer  United States   \n",
       "9660    ME-17320        Maria Etezadi  Home Office  United States   \n",
       "9741    QJ-19255         Quincy Jones    Corporate  United States   \n",
       "9774    LF-17185          Luke Foster     Consumer  United States   \n",
       "9857    EB-13840        Ellis Ballard    Corporate  United States   \n",
       "\n",
       "               City  ...   Region       Product ID         Category  \\\n",
       "9231        Phoenix  ...     West  OFF-BI-10003650  Office Supplies   \n",
       "9270  New York City  ...     East  OFF-BI-10001359  Office Supplies   \n",
       "9412    Los Angeles  ...     West  FUR-CH-10002024        Furniture   \n",
       "9425  New York City  ...     East  FUR-CH-10002024        Furniture   \n",
       "9639        Concord  ...    South  FUR-TA-10000198        Furniture   \n",
       "9649    Los Angeles  ...     West  FUR-BO-10002213        Furniture   \n",
       "9660  Santa Barbara  ...     West  TEC-PH-10001459       Technology   \n",
       "9741     Burlington  ...     East  FUR-BO-10004834        Furniture   \n",
       "9774    San Antonio  ...  Central  OFF-BI-10004995  Office Supplies   \n",
       "9857        Seattle  ...     West  FUR-TA-10001889        Furniture   \n",
       "\n",
       "     Sub-Category                                       Product Name  \\\n",
       "9231      Binders          GBC DocuBind 300 Electric Binding Machine   \n",
       "9270      Binders         GBC DocuBind TL300 Electric Binding System   \n",
       "9412       Chairs       HON 5400 Series Task Chairs for Big and Tall   \n",
       "9425       Chairs       HON 5400 Series Task Chairs for Big and Tall   \n",
       "9639       Tables  Chromcraft Bull-Nose Wood Oval Conference Tabl...   \n",
       "9649    Bookcases              DMI Eclipse Executive Suite Bookcases   \n",
       "9660       Phones                            Samsung Galaxy Mega 6.3   \n",
       "9741    Bookcases  Riverside Palais Royal Lawyers Bookcase, Royal...   \n",
       "9774      Binders          GBC DocuBind P400 Electric Binding System   \n",
       "9857       Tables  Bush Advantage Collection Racetrack Conference...   \n",
       "\n",
       "         Sales Quantity  Discount    Profit  outlier  \n",
       "9231  0.041802        6      0.70  0.393714        1  \n",
       "9270  0.190171        6      0.20  0.536875        1  \n",
       "9412  0.123839        5      0.20  0.440000        1  \n",
       "9425  0.167190        6      0.10  0.468039        1  \n",
       "9639  0.189822       13      0.40  0.315845        1  \n",
       "9649  0.150464        8      0.15  0.450687        1  \n",
       "9660  0.133558        9      0.20  0.455120        1  \n",
       "9741  0.194560        5      0.00  0.507542        1  \n",
       "9774  0.096172        8      0.80  0.193206        1  \n",
       "9857  0.149891        8      0.00  0.480724        1  \n",
       "\n",
       "[10 rows x 22 columns]"
      ]
     },
     "execution_count": 44,
     "metadata": {},
     "output_type": "execute_result"
    }
   ],
   "source": [
    "df1.loc[df1['outlier'] == 1].tail(10)"
   ]
  },
  {
   "cell_type": "code",
   "execution_count": 45,
   "metadata": {
    "colab": {
     "base_uri": "https://localhost:8080/",
     "height": 399
    },
    "colab_type": "code",
    "id": "6VTJuQnV4ZsZ",
    "outputId": "0575d6d4-8195-4245-918f-9dbe56ed36bf"
   },
   "outputs": [
    {
     "data": {
      "text/plain": [
       "Row ID                                                        1996\n",
       "Order ID                                            US-2017-147221\n",
       "Order Date                                     2017-12-02 00:00:00\n",
       "Ship Date                                      2017-12-04 00:00:00\n",
       "Ship Mode                                             Second Class\n",
       "Customer ID                                               JS-16030\n",
       "Customer Name                                            Joy Smith\n",
       "Segment                                                   Consumer\n",
       "Country                                              United States\n",
       "City                                                       Houston\n",
       "State                                                        Texas\n",
       "Postal Code                                                  77036\n",
       "Region                                                     Central\n",
       "Product ID                                         OFF-AP-10002534\n",
       "Category                                           Office Supplies\n",
       "Sub-Category                                            Appliances\n",
       "Product Name     3.6 Cubic Foot Counter Height Office Refrigerator\n",
       "Sales                                                    0.0129948\n",
       "Quantity                                                         5\n",
       "Discount                                                       0.8\n",
       "Profit                                                    0.388932\n",
       "outlier                                                          1\n",
       "Name: 1995, dtype: object"
      ]
     },
     "execution_count": 45,
     "metadata": {},
     "output_type": "execute_result"
    }
   ],
   "source": [
    "# 80% discount\n",
    "df.iloc[1995]"
   ]
  },
  {
   "cell_type": "code",
   "execution_count": 46,
   "metadata": {
    "colab": {
     "base_uri": "https://localhost:8080/",
     "height": 399
    },
    "colab_type": "code",
    "id": "LST1aO-nZhb8",
    "outputId": "837be56f-3053-48ff-f724-164b9ccf17d5"
   },
   "outputs": [
    {
     "data": {
      "text/plain": [
       "Row ID                                            9650\n",
       "Order ID                                CA-2016-107104\n",
       "Order Date                         2016-11-26 00:00:00\n",
       "Ship Date                          2016-11-30 00:00:00\n",
       "Ship Mode                               Standard Class\n",
       "Customer ID                                   MS-17365\n",
       "Customer Name                      Maribeth Schnelling\n",
       "Segment                                       Consumer\n",
       "Country                                  United States\n",
       "City                                       Los Angeles\n",
       "State                                       California\n",
       "Postal Code                                      90045\n",
       "Region                                            West\n",
       "Product ID                             FUR-BO-10002213\n",
       "Category                                     Furniture\n",
       "Sub-Category                                 Bookcases\n",
       "Product Name     DMI Eclipse Executive Suite Bookcases\n",
       "Sales                                         0.150464\n",
       "Quantity                                             8\n",
       "Discount                                          0.15\n",
       "Profit                                        0.450687\n",
       "outlier                                              1\n",
       "Name: 9649, dtype: object"
      ]
     },
     "execution_count": 46,
     "metadata": {},
     "output_type": "execute_result"
    }
   ],
   "source": [
    "#Executive bookcase\n",
    "df.iloc[9649]"
   ]
  },
  {
   "cell_type": "code",
   "execution_count": 47,
   "metadata": {
    "colab": {
     "base_uri": "https://localhost:8080/",
     "height": 399
    },
    "colab_type": "code",
    "id": "5fX46THBDRVH",
    "outputId": "926b8163-d31d-415e-d080-256fea5c22cf"
   },
   "outputs": [
    {
     "data": {
      "text/plain": [
       "Row ID                                                 9271\n",
       "Order ID                                     US-2017-102183\n",
       "Order Date                              2017-08-21 00:00:00\n",
       "Ship Date                               2017-08-28 00:00:00\n",
       "Ship Mode                                    Standard Class\n",
       "Customer ID                                        PK-19075\n",
       "Customer Name                                     Pete Kriz\n",
       "Segment                                            Consumer\n",
       "Country                                       United States\n",
       "City                                          New York City\n",
       "State                                              New York\n",
       "Postal Code                                           10035\n",
       "Region                                                 East\n",
       "Product ID                                  OFF-BI-10001359\n",
       "Category                                    Office Supplies\n",
       "Sub-Category                                        Binders\n",
       "Product Name     GBC DocuBind TL300 Electric Binding System\n",
       "Sales                                              0.190171\n",
       "Quantity                                                  6\n",
       "Discount                                                0.2\n",
       "Profit                                             0.536875\n",
       "outlier                                                   1\n",
       "Name: 9270, dtype: object"
      ]
     },
     "execution_count": 47,
     "metadata": {},
     "output_type": "execute_result"
    }
   ],
   "source": [
    "df.iloc[9270]"
   ]
  },
  {
   "cell_type": "markdown",
   "metadata": {},
   "source": [
    "\n",
    "\n",
    "# Addressing Overfitting"
   ]
  },
  {
   "cell_type": "markdown",
   "metadata": {},
   "source": [
    "<a id=\"learning-objectives\"></a>\n",
    "### Learning Objectives\n",
    "- Recall what overfitting is\n",
    "- Getting more data\n",
    "- Feature Selection\n",
    "- Feature Importance"
   ]
  },
  {
   "cell_type": "markdown",
   "metadata": {},
   "source": [
    "We've already discussed several ways to address overfitting. In this notebook, we'll recap & formalize."
   ]
  },
  {
   "cell_type": "code",
   "execution_count": 49,
   "metadata": {},
   "outputs": [],
   "source": [
    "import matplotlib.pyplot as plt\n",
    "import numpy as np\n",
    "import pandas as pd\n",
    "from tqdm import tqdm  # see progress bar for particular cell's calculation"
   ]
  },
  {
   "cell_type": "code",
   "execution_count": 50,
   "metadata": {},
   "outputs": [],
   "source": [
    "%matplotlib inline"
   ]
  },
  {
   "cell_type": "markdown",
   "metadata": {},
   "source": [
    "Increasing model complexity can decrease bias but will eventually lead to overfitting. This lesson is about what to do when your model is overfitting."
   ]
  },
  {
   "cell_type": "markdown",
   "metadata": {
    "toc-hr-collapsed": true
   },
   "source": [
    "## Getting More Data"
   ]
  },
  {
   "cell_type": "markdown",
   "metadata": {},
   "source": [
    "Remember the Ames (Iowa) housing data?\n",
    "\n",
    "Getting more data is the surest way to reduce overfitting."
   ]
  },
  {
   "cell_type": "code",
   "execution_count": 51,
   "metadata": {},
   "outputs": [],
   "source": [
    "ames_df = pd.read_csv('data/ames_train.csv')\n",
    "# Dropping `OverallQual` because it is not always available\n",
    "ames_df = ames_df.drop(['Id', 'OverallQual'], axis='columns')"
   ]
  },
  {
   "cell_type": "code",
   "execution_count": 52,
   "metadata": {},
   "outputs": [
    {
     "data": {
      "text/plain": [
       "(1460, 79)"
      ]
     },
     "execution_count": 52,
     "metadata": {},
     "output_type": "execute_result"
    }
   ],
   "source": [
    "ames_df.shape"
   ]
  },
  {
   "cell_type": "code",
   "execution_count": 53,
   "metadata": {},
   "outputs": [
    {
     "data": {
      "text/html": [
       "<div>\n",
       "<style scoped>\n",
       "    .dataframe tbody tr th:only-of-type {\n",
       "        vertical-align: middle;\n",
       "    }\n",
       "\n",
       "    .dataframe tbody tr th {\n",
       "        vertical-align: top;\n",
       "    }\n",
       "\n",
       "    .dataframe thead th {\n",
       "        text-align: right;\n",
       "    }\n",
       "</style>\n",
       "<table border=\"1\" class=\"dataframe\">\n",
       "  <thead>\n",
       "    <tr style=\"text-align: right;\">\n",
       "      <th></th>\n",
       "      <th>MSSubClass</th>\n",
       "      <th>MSZoning</th>\n",
       "      <th>LotFrontage</th>\n",
       "      <th>LotArea</th>\n",
       "      <th>Street</th>\n",
       "      <th>Alley</th>\n",
       "      <th>LotShape</th>\n",
       "      <th>LandContour</th>\n",
       "      <th>Utilities</th>\n",
       "      <th>LotConfig</th>\n",
       "      <th>...</th>\n",
       "      <th>PoolArea</th>\n",
       "      <th>PoolQC</th>\n",
       "      <th>Fence</th>\n",
       "      <th>MiscFeature</th>\n",
       "      <th>MiscVal</th>\n",
       "      <th>MoSold</th>\n",
       "      <th>YrSold</th>\n",
       "      <th>SaleType</th>\n",
       "      <th>SaleCondition</th>\n",
       "      <th>SalePrice</th>\n",
       "    </tr>\n",
       "  </thead>\n",
       "  <tbody>\n",
       "    <tr>\n",
       "      <th>0</th>\n",
       "      <td>60</td>\n",
       "      <td>RL</td>\n",
       "      <td>65.0</td>\n",
       "      <td>8450</td>\n",
       "      <td>Pave</td>\n",
       "      <td>NaN</td>\n",
       "      <td>Reg</td>\n",
       "      <td>Lvl</td>\n",
       "      <td>AllPub</td>\n",
       "      <td>Inside</td>\n",
       "      <td>...</td>\n",
       "      <td>0</td>\n",
       "      <td>NaN</td>\n",
       "      <td>NaN</td>\n",
       "      <td>NaN</td>\n",
       "      <td>0</td>\n",
       "      <td>2</td>\n",
       "      <td>2008</td>\n",
       "      <td>WD</td>\n",
       "      <td>Normal</td>\n",
       "      <td>208500</td>\n",
       "    </tr>\n",
       "    <tr>\n",
       "      <th>1</th>\n",
       "      <td>20</td>\n",
       "      <td>RL</td>\n",
       "      <td>80.0</td>\n",
       "      <td>9600</td>\n",
       "      <td>Pave</td>\n",
       "      <td>NaN</td>\n",
       "      <td>Reg</td>\n",
       "      <td>Lvl</td>\n",
       "      <td>AllPub</td>\n",
       "      <td>FR2</td>\n",
       "      <td>...</td>\n",
       "      <td>0</td>\n",
       "      <td>NaN</td>\n",
       "      <td>NaN</td>\n",
       "      <td>NaN</td>\n",
       "      <td>0</td>\n",
       "      <td>5</td>\n",
       "      <td>2007</td>\n",
       "      <td>WD</td>\n",
       "      <td>Normal</td>\n",
       "      <td>181500</td>\n",
       "    </tr>\n",
       "    <tr>\n",
       "      <th>2</th>\n",
       "      <td>60</td>\n",
       "      <td>RL</td>\n",
       "      <td>68.0</td>\n",
       "      <td>11250</td>\n",
       "      <td>Pave</td>\n",
       "      <td>NaN</td>\n",
       "      <td>IR1</td>\n",
       "      <td>Lvl</td>\n",
       "      <td>AllPub</td>\n",
       "      <td>Inside</td>\n",
       "      <td>...</td>\n",
       "      <td>0</td>\n",
       "      <td>NaN</td>\n",
       "      <td>NaN</td>\n",
       "      <td>NaN</td>\n",
       "      <td>0</td>\n",
       "      <td>9</td>\n",
       "      <td>2008</td>\n",
       "      <td>WD</td>\n",
       "      <td>Normal</td>\n",
       "      <td>223500</td>\n",
       "    </tr>\n",
       "    <tr>\n",
       "      <th>3</th>\n",
       "      <td>70</td>\n",
       "      <td>RL</td>\n",
       "      <td>60.0</td>\n",
       "      <td>9550</td>\n",
       "      <td>Pave</td>\n",
       "      <td>NaN</td>\n",
       "      <td>IR1</td>\n",
       "      <td>Lvl</td>\n",
       "      <td>AllPub</td>\n",
       "      <td>Corner</td>\n",
       "      <td>...</td>\n",
       "      <td>0</td>\n",
       "      <td>NaN</td>\n",
       "      <td>NaN</td>\n",
       "      <td>NaN</td>\n",
       "      <td>0</td>\n",
       "      <td>2</td>\n",
       "      <td>2006</td>\n",
       "      <td>WD</td>\n",
       "      <td>Abnorml</td>\n",
       "      <td>140000</td>\n",
       "    </tr>\n",
       "    <tr>\n",
       "      <th>4</th>\n",
       "      <td>60</td>\n",
       "      <td>RL</td>\n",
       "      <td>84.0</td>\n",
       "      <td>14260</td>\n",
       "      <td>Pave</td>\n",
       "      <td>NaN</td>\n",
       "      <td>IR1</td>\n",
       "      <td>Lvl</td>\n",
       "      <td>AllPub</td>\n",
       "      <td>FR2</td>\n",
       "      <td>...</td>\n",
       "      <td>0</td>\n",
       "      <td>NaN</td>\n",
       "      <td>NaN</td>\n",
       "      <td>NaN</td>\n",
       "      <td>0</td>\n",
       "      <td>12</td>\n",
       "      <td>2008</td>\n",
       "      <td>WD</td>\n",
       "      <td>Normal</td>\n",
       "      <td>250000</td>\n",
       "    </tr>\n",
       "  </tbody>\n",
       "</table>\n",
       "<p>5 rows × 79 columns</p>\n",
       "</div>"
      ],
      "text/plain": [
       "   MSSubClass MSZoning  LotFrontage  LotArea Street Alley LotShape  \\\n",
       "0          60       RL         65.0     8450   Pave   NaN      Reg   \n",
       "1          20       RL         80.0     9600   Pave   NaN      Reg   \n",
       "2          60       RL         68.0    11250   Pave   NaN      IR1   \n",
       "3          70       RL         60.0     9550   Pave   NaN      IR1   \n",
       "4          60       RL         84.0    14260   Pave   NaN      IR1   \n",
       "\n",
       "  LandContour Utilities LotConfig  ... PoolArea PoolQC Fence MiscFeature  \\\n",
       "0         Lvl    AllPub    Inside  ...        0    NaN   NaN         NaN   \n",
       "1         Lvl    AllPub       FR2  ...        0    NaN   NaN         NaN   \n",
       "2         Lvl    AllPub    Inside  ...        0    NaN   NaN         NaN   \n",
       "3         Lvl    AllPub    Corner  ...        0    NaN   NaN         NaN   \n",
       "4         Lvl    AllPub       FR2  ...        0    NaN   NaN         NaN   \n",
       "\n",
       "  MiscVal MoSold  YrSold  SaleType  SaleCondition SalePrice  \n",
       "0       0      2    2008        WD         Normal    208500  \n",
       "1       0      5    2007        WD         Normal    181500  \n",
       "2       0      9    2008        WD         Normal    223500  \n",
       "3       0      2    2006        WD        Abnorml    140000  \n",
       "4       0     12    2008        WD         Normal    250000  \n",
       "\n",
       "[5 rows x 79 columns]"
      ]
     },
     "execution_count": 53,
     "metadata": {},
     "output_type": "execute_result"
    }
   ],
   "source": [
    "ames_df.head(5)"
   ]
  },
  {
   "cell_type": "code",
   "execution_count": 54,
   "metadata": {},
   "outputs": [],
   "source": [
    "# Make a function to calculate training score on the whole dataset\n",
    "# and cross-validated test score.\n",
    "from sklearn.model_selection import cross_val_score, KFold\n",
    "\n",
    "def my_cv_score(estimator, X, y, n_splits=10):\n",
    "    estimator.fit(X, y)\n",
    "    train_score = estimator.score(X, y)\n",
    "    \n",
    "    kf = KFold(n_splits=n_splits, shuffle=True, random_state=42)\n",
    "    test_score = cross_val_score(estimator, X, y, cv=kf).mean()\n",
    "    \n",
    "    return print(\"Train Score: \", train_score, \"Test Score: \", test_score)"
   ]
  },
  {
   "cell_type": "code",
   "execution_count": 55,
   "metadata": {},
   "outputs": [
    {
     "name": "stdout",
     "output_type": "stream",
     "text": [
      "Train Score:  0.8958123466965696 Test Score:  0.6054486621426289\n"
     ]
    }
   ],
   "source": [
    "# Use 10-fold cross-validation to calculate training-set and test-set scores using 200 rows of data\n",
    "from sklearn.linear_model import LinearRegression\n",
    "\n",
    "ames_df_num = ames_df.select_dtypes(['int64', 'float64']).dropna(axis='columns')\n",
    "ames_small = ames_df_num.sample(100, random_state=42)\n",
    "\n",
    "target_col = 'SalePrice'\n",
    "\n",
    "X_small = ames_small.drop(target_col, axis='columns')\n",
    "y_small = ames_small.loc[:, target_col]\n",
    "\n",
    "lr = LinearRegression()\n",
    "my_cv_score(lr, X_small, y_small)"
   ]
  },
  {
   "cell_type": "code",
   "execution_count": 56,
   "metadata": {},
   "outputs": [
    {
     "name": "stdout",
     "output_type": "stream",
     "text": [
      "Train Score:  0.7788559155673487 Test Score:  0.7307411610581293\n"
     ]
    }
   ],
   "source": [
    "# Use 10-fold cross-validation to calculate training-set and test-set scores using all the data\n",
    "X = ames_df_num.drop(target_col, axis='columns')\n",
    "y = ames_df_num.loc[:, target_col]\n",
    "\n",
    "my_cv_score(lr, X, y)"
   ]
  },
  {
   "cell_type": "markdown",
   "metadata": {},
   "source": [
    "**When collecting more data is not too expensive, it should be your first resort to address overfitting.**"
   ]
  },
  {
   "cell_type": "markdown",
   "metadata": {
    "toc-hr-collapsed": false
   },
   "source": [
    "## Feature Selection"
   ]
  },
  {
   "cell_type": "markdown",
   "metadata": {},
   "source": [
    "### Why Select Features?"
   ]
  },
  {
   "cell_type": "markdown",
   "metadata": {},
   "source": [
    "Often it is best not to use all of your features, for at least two reasons:\n",
    "\n",
    "1. Using more features makes your model harder to interpret.\n",
    "2. Removing features may improve overall predictive performance by reducing overfitting.\n",
    "\n",
    "These problems become particularly acute when you start using feature engineering to generate derived features."
   ]
  },
  {
   "cell_type": "markdown",
   "metadata": {
    "toc-hr-collapsed": false
   },
   "source": [
    "### Adding Features in Order of Importance"
   ]
  },
  {
   "cell_type": "markdown",
   "metadata": {},
   "source": [
    "Here is one recipe for optimizing a model through feature selection:\n",
    "\n",
    "1. Rank features according to some measure of importance *calculated on the training set*.\n",
    "2. Add features to your model in the order given by that ranking, fitting on the training set and measuring predictive performance on the test set each time.\n",
    "3. Choose the set of features that gives the best predictive performance."
   ]
  },
  {
   "cell_type": "markdown",
   "metadata": {},
   "source": [
    "It is inappropriate to use the test set in your calculation of feature importance because you will not have the benefit of information about feature importance for the data the model sees when you deploy it."
   ]
  },
  {
   "cell_type": "markdown",
   "metadata": {},
   "source": [
    "When using cross-validation, you need to calculate your measure of importance on the training set *for each fold*. With this approach, you can have different features in your model for different folds. You should think of cross-validation in this case as estimating the performance of your entire *model-generating procedure*, rather than the particular model that it produces."
   ]
  },
  {
   "cell_type": "markdown",
   "metadata": {},
   "source": [
    "### Example: Using Random Forest Feature Importances"
   ]
  },
  {
   "cell_type": "markdown",
   "metadata": {},
   "source": [
    "Here we will fit a random forest and use the feature importances as our measure of predictive value."
   ]
  },
  {
   "cell_type": "markdown",
   "metadata": {},
   "source": [
    "Calculating random forest feature importances is computationally expensive, so we want to do it once for each fold, rather than once for each fold and each number of features.\n",
    "\n",
    "**Warning:** the code is about to get a little complicated."
   ]
  },
  {
   "cell_type": "code",
   "execution_count": null,
   "metadata": {},
   "outputs": [],
   "source": [
    "! pip install tqdm"
   ]
  },
  {
   "cell_type": "markdown",
   "metadata": {},
   "source": [
    "#### Optional progress bar\n",
    "(Optional) Install `tqdm`, a progress bar, with:\n",
    "\n",
    "* `pip install tqdm`\n",
    "* `conda install -c conda-forge tqdm` (not recommended)\n",
    "\n",
    "For more info on installation, visit the package [repo](https://github.com/tqdm/tqdm#latest-conda-release)"
   ]
  },
  {
   "cell_type": "code",
   "execution_count": 62,
   "metadata": {},
   "outputs": [
    {
     "name": "stderr",
     "output_type": "stream",
     "text": [
      "100%|██████████████████████████████████████████████████████████████████████████████████| 10/10 [00:10<00:00,  1.00s/it]\n"
     ]
    }
   ],
   "source": [
    "from time import sleep\n",
    "from tqdm import tqdm\n",
    "\n",
    "for _ in tqdm(range(10)):\n",
    "    sleep(1)"
   ]
  },
  {
   "cell_type": "code",
   "execution_count": 66,
   "metadata": {},
   "outputs": [],
   "source": [
    "# Make a function to calculate cross-validation scores by number of features\n",
    "def my_cv_score_by_num_features(estimator, X, y, rank_feature_func, n_splits=10):\n",
    "    train_scores = []\n",
    "    test_scores = []\n",
    "    \n",
    "    kf = KFold(n_splits=n_splits, shuffle=True)\n",
    "    for train_rows, test_rows in tqdm(kf.split(X, y), total=n_splits):\n",
    "        X_train = X.iloc[train_rows, :]\n",
    "        X_test = X.iloc[test_rows, :]\n",
    "        y_train = y.iloc[train_rows]\n",
    "        y_test = y.iloc[test_rows]\n",
    "        \n",
    "        ranked_features = rank_feature_func(X_train, y_train)\n",
    "        \n",
    "        train_scores_fold = []\n",
    "        test_scores_fold = []\n",
    "        \n",
    "        num_features_range = range(1, len(ranked_features) + 1)\n",
    "        for num_features in num_features_range:\n",
    "            feature_cols = ranked_features[:num_features]\n",
    "            X_train_k = X_train.loc[:, feature_cols]\n",
    "            X_test_k = X_test.loc[:, feature_cols]\n",
    "            \n",
    "            estimator.fit(X_train_k, y_train)\n",
    "            train_scores_fold.append(estimator.score(X_train_k, y_train))\n",
    "            test_scores_fold.append(estimator.score(X_test_k, y_test))\n",
    "        \n",
    "        train_scores.append(train_scores_fold)\n",
    "        test_scores.append(test_scores_fold)\n",
    "    \n",
    "    train_scores = np.array(train_scores).T.mean(axis=1)\n",
    "    test_scores = np.array(test_scores).T.mean(axis=1)\n",
    "    return pd.DataFrame({'num_features': num_features_range,\n",
    "                         'train': train_scores,\n",
    "                         'test': test_scores\n",
    "                        })"
   ]
  },
  {
   "cell_type": "code",
   "execution_count": 67,
   "metadata": {},
   "outputs": [],
   "source": [
    "# Make a function to rank features according to estimator feature importances\n",
    "def rank_features_by_estimator_importances(X, y, estimator):\n",
    "    estimator.fit(X, y)\n",
    "    feature_ranks_worst_first = estimator.feature_importances_.argsort()\n",
    "    feature_ranks_first_worst = feature_ranks_worst_first[::-1]\n",
    "    ranked_features = X.columns[feature_ranks_first_worst]\n",
    "    return ranked_features"
   ]
  },
  {
   "cell_type": "code",
   "execution_count": 68,
   "metadata": {},
   "outputs": [],
   "source": [
    "# Create a more specialized function to rank features according to random\n",
    "# forest regressor feature importances\n",
    "from functools import partial\n",
    "from sklearn.ensemble import RandomForestRegressor\n",
    "\n",
    "rfr = RandomForestRegressor(100)\n",
    "rank_features_by_rfr_importances = partial(rank_features_by_estimator_importances, estimator=rfr)"
   ]
  },
  {
   "cell_type": "code",
   "execution_count": 69,
   "metadata": {},
   "outputs": [
    {
     "name": "stderr",
     "output_type": "stream",
     "text": [
      "100%|██████████████████████████████████████████████████████████████████████████████████| 10/10 [00:04<00:00,  2.14it/s]\n"
     ]
    }
   ],
   "source": [
    "# Get scores by number of features for a linear regression model\n",
    "# on our sampled Ames dataset, adding features in order of\n",
    "# decreasing random forest regressor importances.\n",
    "lr = LinearRegression()\n",
    "\n",
    "scores = my_cv_score_by_num_features(\n",
    "    estimator=lr,\n",
    "    X=X_small,\n",
    "    y=y_small,\n",
    "    rank_feature_func=rank_features_by_rfr_importances\n",
    ")"
   ]
  },
  {
   "cell_type": "code",
   "execution_count": 70,
   "metadata": {},
   "outputs": [
    {
     "data": {
      "text/html": [
       "<div>\n",
       "<style scoped>\n",
       "    .dataframe tbody tr th:only-of-type {\n",
       "        vertical-align: middle;\n",
       "    }\n",
       "\n",
       "    .dataframe tbody tr th {\n",
       "        vertical-align: top;\n",
       "    }\n",
       "\n",
       "    .dataframe thead th {\n",
       "        text-align: right;\n",
       "    }\n",
       "</style>\n",
       "<table border=\"1\" class=\"dataframe\">\n",
       "  <thead>\n",
       "    <tr style=\"text-align: right;\">\n",
       "      <th></th>\n",
       "      <th>num_features</th>\n",
       "      <th>train</th>\n",
       "      <th>test</th>\n",
       "    </tr>\n",
       "  </thead>\n",
       "  <tbody>\n",
       "    <tr>\n",
       "      <th>0</th>\n",
       "      <td>1</td>\n",
       "      <td>0.563739</td>\n",
       "      <td>0.332799</td>\n",
       "    </tr>\n",
       "    <tr>\n",
       "      <th>1</th>\n",
       "      <td>2</td>\n",
       "      <td>0.680645</td>\n",
       "      <td>0.611393</td>\n",
       "    </tr>\n",
       "    <tr>\n",
       "      <th>2</th>\n",
       "      <td>3</td>\n",
       "      <td>0.752654</td>\n",
       "      <td>0.629611</td>\n",
       "    </tr>\n",
       "    <tr>\n",
       "      <th>3</th>\n",
       "      <td>4</td>\n",
       "      <td>0.788553</td>\n",
       "      <td>0.659274</td>\n",
       "    </tr>\n",
       "    <tr>\n",
       "      <th>4</th>\n",
       "      <td>5</td>\n",
       "      <td>0.811730</td>\n",
       "      <td>0.694599</td>\n",
       "    </tr>\n",
       "  </tbody>\n",
       "</table>\n",
       "</div>"
      ],
      "text/plain": [
       "   num_features     train      test\n",
       "0             1  0.563739  0.332799\n",
       "1             2  0.680645  0.611393\n",
       "2             3  0.752654  0.629611\n",
       "3             4  0.788553  0.659274\n",
       "4             5  0.811730  0.694599"
      ]
     },
     "execution_count": 70,
     "metadata": {},
     "output_type": "execute_result"
    }
   ],
   "source": [
    "# Look at the scores\n",
    "scores.head()"
   ]
  },
  {
   "cell_type": "code",
   "execution_count": 71,
   "metadata": {},
   "outputs": [
    {
     "data": {
      "text/plain": [
       "[(0.3750948550380111, 'GrLivArea'),\n",
       " (0.1224484679960642, 'BsmtFinSF1'),\n",
       " (0.11554466609027844, 'YearBuilt'),\n",
       " (0.09305202278311198, 'GarageArea'),\n",
       " (0.0741612762534839, 'GarageCars'),\n",
       " (0.0452201048986959, 'TotalBsmtSF'),\n",
       " (0.03059573978472041, 'OpenPorchSF'),\n",
       " (0.026057265249060418, '1stFlrSF'),\n",
       " (0.024770072823963124, 'LotArea'),\n",
       " (0.02257312902930866, 'YearRemodAdd'),\n",
       " (0.01815118229616452, 'FullBath'),\n",
       " (0.007344303535639795, 'OverallCond'),\n",
       " (0.007005044990268006, 'MoSold'),\n",
       " (0.006734330162175704, 'TotRmsAbvGrd'),\n",
       " (0.006492254179304377, 'WoodDeckSF'),\n",
       " (0.006002895925499103, 'BsmtUnfSF'),\n",
       " (0.0029125609837204794, 'BedroomAbvGr'),\n",
       " (0.0026018831350966124, 'MSSubClass'),\n",
       " (0.002582882930883599, 'Fireplaces'),\n",
       " (0.0025740859576967737, 'YrSold'),\n",
       " (0.0025116843399116944, '2ndFlrSF'),\n",
       " (0.0022792453006977675, 'HalfBath'),\n",
       " (0.0007178932164697478, 'BsmtFinSF2'),\n",
       " (0.0005606541550432425, 'BsmtHalfBath'),\n",
       " (0.0005567900976168642, 'BsmtFullBath'),\n",
       " (0.00041243697375443165, 'KitchenAbvGr'),\n",
       " (0.0003690660128282301, 'EnclosedPorch'),\n",
       " (0.00033878237774272055, 'LowQualFinSF'),\n",
       " (0.00028767393519917717, 'ScreenPorch'),\n",
       " (4.550916107055108e-05, 'MiscVal'),\n",
       " (1.2403865186064957e-06, '3SsnPorch'),\n",
       " (0.0, 'PoolArea')]"
      ]
     },
     "execution_count": 71,
     "metadata": {},
     "output_type": "execute_result"
    }
   ],
   "source": [
    "rfr.fit(X_small, y_small)\n",
    "sorted(zip(rfr.feature_importances_, X_small.columns))[::-1]"
   ]
  },
  {
   "cell_type": "code",
   "execution_count": 72,
   "metadata": {},
   "outputs": [
    {
     "data": {
      "image/png": "[encoded data removed]",
      "text/plain": [
       "<Figure size 432x288 with 1 Axes>"
      ]
     },
     "metadata": {
      "needs_background": "light"
     },
     "output_type": "display_data"
    }
   ],
   "source": [
    "# Plot scores\n",
    "ax = scores.plot(x='num_features')"
   ]
  },
  {
   "cell_type": "code",
   "execution_count": 73,
   "metadata": {},
   "outputs": [
    {
     "data": {
      "text/html": [
       "<div>\n",
       "<style scoped>\n",
       "    .dataframe tbody tr th:only-of-type {\n",
       "        vertical-align: middle;\n",
       "    }\n",
       "\n",
       "    .dataframe tbody tr th {\n",
       "        vertical-align: top;\n",
       "    }\n",
       "\n",
       "    .dataframe thead th {\n",
       "        text-align: right;\n",
       "    }\n",
       "</style>\n",
       "<table border=\"1\" class=\"dataframe\">\n",
       "  <thead>\n",
       "    <tr style=\"text-align: right;\">\n",
       "      <th></th>\n",
       "      <th>num_features</th>\n",
       "      <th>train</th>\n",
       "      <th>test</th>\n",
       "    </tr>\n",
       "  </thead>\n",
       "  <tbody>\n",
       "    <tr>\n",
       "      <th>12</th>\n",
       "      <td>13</td>\n",
       "      <td>0.866325</td>\n",
       "      <td>0.748174</td>\n",
       "    </tr>\n",
       "    <tr>\n",
       "      <th>13</th>\n",
       "      <td>14</td>\n",
       "      <td>0.869475</td>\n",
       "      <td>0.747169</td>\n",
       "    </tr>\n",
       "    <tr>\n",
       "      <th>11</th>\n",
       "      <td>12</td>\n",
       "      <td>0.865432</td>\n",
       "      <td>0.745644</td>\n",
       "    </tr>\n",
       "    <tr>\n",
       "      <th>14</th>\n",
       "      <td>15</td>\n",
       "      <td>0.870873</td>\n",
       "      <td>0.742908</td>\n",
       "    </tr>\n",
       "    <tr>\n",
       "      <th>10</th>\n",
       "      <td>11</td>\n",
       "      <td>0.863399</td>\n",
       "      <td>0.734741</td>\n",
       "    </tr>\n",
       "    <tr>\n",
       "      <th>9</th>\n",
       "      <td>10</td>\n",
       "      <td>0.856598</td>\n",
       "      <td>0.732874</td>\n",
       "    </tr>\n",
       "    <tr>\n",
       "      <th>15</th>\n",
       "      <td>16</td>\n",
       "      <td>0.875646</td>\n",
       "      <td>0.725978</td>\n",
       "    </tr>\n",
       "    <tr>\n",
       "      <th>17</th>\n",
       "      <td>18</td>\n",
       "      <td>0.879677</td>\n",
       "      <td>0.724875</td>\n",
       "    </tr>\n",
       "    <tr>\n",
       "      <th>5</th>\n",
       "      <td>6</td>\n",
       "      <td>0.821264</td>\n",
       "      <td>0.723735</td>\n",
       "    </tr>\n",
       "    <tr>\n",
       "      <th>16</th>\n",
       "      <td>17</td>\n",
       "      <td>0.876693</td>\n",
       "      <td>0.722310</td>\n",
       "    </tr>\n",
       "    <tr>\n",
       "      <th>18</th>\n",
       "      <td>19</td>\n",
       "      <td>0.882362</td>\n",
       "      <td>0.721408</td>\n",
       "    </tr>\n",
       "    <tr>\n",
       "      <th>6</th>\n",
       "      <td>7</td>\n",
       "      <td>0.835815</td>\n",
       "      <td>0.720956</td>\n",
       "    </tr>\n",
       "    <tr>\n",
       "      <th>8</th>\n",
       "      <td>9</td>\n",
       "      <td>0.850892</td>\n",
       "      <td>0.719337</td>\n",
       "    </tr>\n",
       "    <tr>\n",
       "      <th>7</th>\n",
       "      <td>8</td>\n",
       "      <td>0.844150</td>\n",
       "      <td>0.718814</td>\n",
       "    </tr>\n",
       "    <tr>\n",
       "      <th>19</th>\n",
       "      <td>20</td>\n",
       "      <td>0.884817</td>\n",
       "      <td>0.718427</td>\n",
       "    </tr>\n",
       "    <tr>\n",
       "      <th>20</th>\n",
       "      <td>21</td>\n",
       "      <td>0.889296</td>\n",
       "      <td>0.710686</td>\n",
       "    </tr>\n",
       "    <tr>\n",
       "      <th>24</th>\n",
       "      <td>25</td>\n",
       "      <td>0.897425</td>\n",
       "      <td>0.705219</td>\n",
       "    </tr>\n",
       "    <tr>\n",
       "      <th>22</th>\n",
       "      <td>23</td>\n",
       "      <td>0.895099</td>\n",
       "      <td>0.702585</td>\n",
       "    </tr>\n",
       "    <tr>\n",
       "      <th>21</th>\n",
       "      <td>22</td>\n",
       "      <td>0.891589</td>\n",
       "      <td>0.700958</td>\n",
       "    </tr>\n",
       "    <tr>\n",
       "      <th>25</th>\n",
       "      <td>26</td>\n",
       "      <td>0.899268</td>\n",
       "      <td>0.698375</td>\n",
       "    </tr>\n",
       "    <tr>\n",
       "      <th>26</th>\n",
       "      <td>27</td>\n",
       "      <td>0.900369</td>\n",
       "      <td>0.697747</td>\n",
       "    </tr>\n",
       "    <tr>\n",
       "      <th>23</th>\n",
       "      <td>24</td>\n",
       "      <td>0.896762</td>\n",
       "      <td>0.695033</td>\n",
       "    </tr>\n",
       "    <tr>\n",
       "      <th>4</th>\n",
       "      <td>5</td>\n",
       "      <td>0.811730</td>\n",
       "      <td>0.694599</td>\n",
       "    </tr>\n",
       "    <tr>\n",
       "      <th>27</th>\n",
       "      <td>28</td>\n",
       "      <td>0.901016</td>\n",
       "      <td>0.692160</td>\n",
       "    </tr>\n",
       "    <tr>\n",
       "      <th>29</th>\n",
       "      <td>30</td>\n",
       "      <td>0.902748</td>\n",
       "      <td>0.671943</td>\n",
       "    </tr>\n",
       "    <tr>\n",
       "      <th>28</th>\n",
       "      <td>29</td>\n",
       "      <td>0.902365</td>\n",
       "      <td>0.671555</td>\n",
       "    </tr>\n",
       "    <tr>\n",
       "      <th>3</th>\n",
       "      <td>4</td>\n",
       "      <td>0.788553</td>\n",
       "      <td>0.659274</td>\n",
       "    </tr>\n",
       "    <tr>\n",
       "      <th>2</th>\n",
       "      <td>3</td>\n",
       "      <td>0.752654</td>\n",
       "      <td>0.629611</td>\n",
       "    </tr>\n",
       "    <tr>\n",
       "      <th>30</th>\n",
       "      <td>31</td>\n",
       "      <td>0.903206</td>\n",
       "      <td>0.623621</td>\n",
       "    </tr>\n",
       "    <tr>\n",
       "      <th>31</th>\n",
       "      <td>32</td>\n",
       "      <td>0.903206</td>\n",
       "      <td>0.623621</td>\n",
       "    </tr>\n",
       "    <tr>\n",
       "      <th>1</th>\n",
       "      <td>2</td>\n",
       "      <td>0.680645</td>\n",
       "      <td>0.611393</td>\n",
       "    </tr>\n",
       "    <tr>\n",
       "      <th>0</th>\n",
       "      <td>1</td>\n",
       "      <td>0.563739</td>\n",
       "      <td>0.332799</td>\n",
       "    </tr>\n",
       "  </tbody>\n",
       "</table>\n",
       "</div>"
      ],
      "text/plain": [
       "    num_features     train      test\n",
       "12            13  0.866325  0.748174\n",
       "13            14  0.869475  0.747169\n",
       "11            12  0.865432  0.745644\n",
       "14            15  0.870873  0.742908\n",
       "10            11  0.863399  0.734741\n",
       "9             10  0.856598  0.732874\n",
       "15            16  0.875646  0.725978\n",
       "17            18  0.879677  0.724875\n",
       "5              6  0.821264  0.723735\n",
       "16            17  0.876693  0.722310\n",
       "18            19  0.882362  0.721408\n",
       "6              7  0.835815  0.720956\n",
       "8              9  0.850892  0.719337\n",
       "7              8  0.844150  0.718814\n",
       "19            20  0.884817  0.718427\n",
       "20            21  0.889296  0.710686\n",
       "24            25  0.897425  0.705219\n",
       "22            23  0.895099  0.702585\n",
       "21            22  0.891589  0.700958\n",
       "25            26  0.899268  0.698375\n",
       "26            27  0.900369  0.697747\n",
       "23            24  0.896762  0.695033\n",
       "4              5  0.811730  0.694599\n",
       "27            28  0.901016  0.692160\n",
       "29            30  0.902748  0.671943\n",
       "28            29  0.902365  0.671555\n",
       "3              4  0.788553  0.659274\n",
       "2              3  0.752654  0.629611\n",
       "30            31  0.903206  0.623621\n",
       "31            32  0.903206  0.623621\n",
       "1              2  0.680645  0.611393\n",
       "0              1  0.563739  0.332799"
      ]
     },
     "execution_count": 73,
     "metadata": {},
     "output_type": "execute_result"
    }
   ],
   "source": [
    "# Look at scores in descending order, identify\n",
    "# the number of features that worked best.\n",
    "scores.sort_values('test', ascending=False)"
   ]
  },
  {
   "cell_type": "markdown",
   "metadata": {},
   "source": [
    "*Curious?* See scikit-learn's [SelectKBest](https://scikit-learn.org/stable/modules/generated/sklearn.feature_selection.SelectKBest.html#sklearn.feature_selection.SelectKBest) for some alernatives to random forest feature importances."
   ]
  },
  {
   "cell_type": "markdown",
   "metadata": {
    "toc-hr-collapsed": false
   },
   "source": [
    "### Limitations of Adding Features in Order of Importance"
   ]
  },
  {
   "cell_type": "markdown",
   "metadata": {},
   "source": [
    "##### Result May Not Be Optimal"
   ]
  },
  {
   "cell_type": "markdown",
   "metadata": {},
   "source": [
    "Picking an \"all-star team\" of features based on their individual performances can miss combinations of features that work better overall because they complement each other well.\n",
    "\n",
    "For instance, if you had temperature in Celsius and temperature in Fahrenheit in your data set and used correlation with the target as your measure of importance, this approach would use both of those features without regard for the fact that they are redundant. Using random forest feature importances addresses this problem to some extent."
   ]
  },
  {
   "cell_type": "markdown",
   "metadata": {},
   "source": [
    "##### Can Be Slow"
   ]
  },
  {
   "cell_type": "markdown",
   "metadata": {},
   "source": [
    "This approach requires fitting many times, so it can be quite slow, especially when you combine it with ensembling and cross-validation."
   ]
  },
  {
   "cell_type": "markdown",
   "metadata": {},
   "source": [
    "### Alternative Approaches to Feature Selection"
   ]
  },
  {
   "cell_type": "markdown",
   "metadata": {},
   "source": [
    "- Start with all of the features and gradually remove them.\n",
    "- Add/remove one feature at a time, each time testing how much the change helps or hurts. Choose the feature that helps the most at each stage, stopping when you cannot find one that helps substantially.\n",
    "- Choose the top $k$ features based on a measure of feature importance without fitting a model on each set of features.\n",
    "- Try all combinations of features. (This approach quickly becomes computationally infeasible.)\n",
    "- Try random combinations of features."
   ]
  }
 ],
 "metadata": {
  "kernelspec": {
   "display_name": "Python 3",
   "language": "python",
   "name": "python3"
  },
  "language_info": {
   "codemirror_mode": {
    "name": "ipython",
    "version": 3
   },
   "file_extension": ".py",
   "mimetype": "text/x-python",
   "name": "python",
   "nbconvert_exporter": "python",
   "pygments_lexer": "ipython3",
   "version": "3.7.6"
  }
 },
 "nbformat": 4,
 "nbformat_minor": 2
}
