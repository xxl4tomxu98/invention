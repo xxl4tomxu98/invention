{
 "cells": [
  {
   "cell_type": "code",
   "execution_count": 1,
   "metadata": {},
   "outputs": [
    {
     "name": "stdout",
     "output_type": "stream",
     "text": [
      "Data Type: uint8\n",
      "Min: 0.000, Max: 255.000\n",
      "Min: 0.000, Max: 1.000\n"
     ]
    }
   ],
   "source": [
    "# example of pixel normalization \n",
    "\n",
    "from numpy import asarray \n",
    "from PIL import Image \n",
    "# load image \n",
    "image = Image.open('bondi_beach.jpg') \n",
    "pixels = asarray(image) \n",
    "# confirm pixel range is 0-255 \n",
    "print('Data Type: %s' % pixels.dtype) \n",
    "print('Min: %.3f, Max: %.3f' % (pixels.min(), pixels.max())) \n",
    "# convert from integers to floats \n",
    "pixels = pixels.astype('float32') \n",
    "# normalize the pixels array\n",
    "pixels /= 255.0\n",
    "# confirm the normalization \n",
    "print('Min: %.3f, Max: %.3f' % (pixels.min(), pixels.max()))"
   ]
  }
 ],
 "metadata": {
  "kernelspec": {
   "display_name": "Python 3",
   "language": "python",
   "name": "python3"
  },
  "language_info": {
   "codemirror_mode": {
    "name": "ipython",
    "version": 3
   },
   "file_extension": ".py",
   "mimetype": "text/x-python",
   "name": "python",
   "nbconvert_exporter": "python",
   "pygments_lexer": "ipython3",
   "version": "3.7.7"
  }
 },
 "nbformat": 4,
 "nbformat_minor": 4
}
