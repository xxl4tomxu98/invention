{
 "cells": [
  {
   "cell_type": "markdown",
   "metadata": {},
   "source": [
    "Train and evaluate a convolutional neural network for image classiﬁcation. The Fashion-MNIST clothing classiﬁcation problem is a new standard dataset used in computer vision and deep learning. It is a dataset comprised of 60,000 small square 28×28 pixel grayscale images of items of 10 types of clothing, such as shoes, t-shirts, dresses, and more. The example below loads the dataset, scales the pixel values, then ﬁts a convolutional neural network on the training dataset and evaluates the performance of the network on the test dataset. The example will run in just a few minutes on a modern CPU; no GPU is required."
   ]
  },
  {
   "cell_type": "code",
   "execution_count": 1,
   "metadata": {},
   "outputs": [
    {
     "name": "stderr",
     "output_type": "stream",
     "text": [
      "Using TensorFlow backend.\n"
     ]
    },
    {
     "name": "stdout",
     "output_type": "stream",
     "text": [
      "Epoch 1/10\n",
      " - 36s - loss: 0.1673 - accuracy: 0.9495\n",
      "Epoch 2/10\n",
      " - 36s - loss: 0.0562 - accuracy: 0.9827\n",
      "Epoch 3/10\n",
      " - 37s - loss: 0.0362 - accuracy: 0.9888\n",
      "Epoch 4/10\n",
      " - 37s - loss: 0.0233 - accuracy: 0.9927\n",
      "Epoch 5/10\n",
      " - 36s - loss: 0.0169 - accuracy: 0.9946\n",
      "Epoch 6/10\n",
      " - 36s - loss: 0.0120 - accuracy: 0.9961\n",
      "Epoch 7/10\n",
      " - 36s - loss: 0.0086 - accuracy: 0.9973\n",
      "Epoch 8/10\n",
      " - 36s - loss: 0.0076 - accuracy: 0.9975\n",
      "Epoch 9/10\n",
      " - 36s - loss: 0.0058 - accuracy: 0.9979\n",
      "Epoch 10/10\n",
      " - 36s - loss: 0.0047 - accuracy: 0.9983\n",
      "0.052537723170493475 0.9864000082015991\n"
     ]
    }
   ],
   "source": [
    "# fit a cnn on the fashion mnist dataset \n",
    "from keras.datasets import mnist\n",
    "from keras.utils import to_categorical \n",
    "from keras.models import Sequential \n",
    "from keras.layers import Conv2D \n",
    "from keras.layers import MaxPooling2D \n",
    "from keras.layers import Dense \n",
    "from keras.layers import Flatten \n",
    "# load dataset \n",
    "(trainX, trainY), (testX, testY) = mnist.load_data()\n",
    "# reshape dataset to have a single channel \n",
    "trainX = trainX.reshape((trainX.shape[0], 28, 28, 1)) \n",
    "#print(trainX[0])\n",
    "testX = testX.reshape((testX.shape[0], 28, 28, 1)) \n",
    "# convert from integers to floats \n",
    "trainX, testX = trainX.astype('float32'), testX.astype('float32') \n",
    "# normalize to range 0-1 \n",
    "trainX,testX = trainX / 255.0, testX / 255.0 \n",
    "# one hot encode target values \n",
    "trainY, testY = to_categorical(trainY), to_categorical(testY) \n",
    "# define model \n",
    "model = Sequential() \n",
    "model.add(Conv2D(32, (3, 3), activation='relu', kernel_initializer='he_uniform', input_shape=(28, 28, 1))) \n",
    "model.add(MaxPooling2D()) \n",
    "model.add(Flatten()) \n",
    "model.add(Dense(100, activation='relu', kernel_initializer='he_uniform')) \n",
    "model.add(Dense(10, activation='softmax')) \n",
    "model.compile(optimizer='adam',loss='categorical_crossentropy',metrics=['accuracy']) \n",
    "# fit model \n",
    "model.fit(trainX, trainY, epochs=10, batch_size=32, verbose=2) \n",
    "# evaluate model\n",
    "loss, acc = model.evaluate(testX, testY, verbose=0)\n",
    "print(loss,acc)"
   ]
  }
 ],
 "metadata": {
  "kernelspec": {
   "display_name": "Python 3",
   "language": "python",
   "name": "python3"
  },
  "language_info": {
   "codemirror_mode": {
    "name": "ipython",
    "version": 3
   },
   "file_extension": ".py",
   "mimetype": "text/x-python",
   "name": "python",
   "nbconvert_exporter": "python",
   "pygments_lexer": "ipython3",
   "version": "3.7.7"
  }
 },
 "nbformat": 4,
 "nbformat_minor": 4
}
