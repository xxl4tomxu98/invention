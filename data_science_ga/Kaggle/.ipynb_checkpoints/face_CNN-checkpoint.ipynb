{
 "cells": [
  {
   "cell_type": "markdown",
   "metadata": {},
   "source": [
    "Train and evaluate a convolutional neural network for image classiﬁcation. The Face classiﬁcation problem is a standard dataset used in computer vision and deep learning. It is a dataset comprised of 400 64×64 pixel grayscale images of items of 40 people each with 10 pictures . The example below loads the dataset, scales the pixel values, then ﬁts a convolutional neural network on the training dataset and evaluates the performance of the network on the test dataset. The example will run in just a few minutes on a modern CPU; no GPU is required."
   ]
  },
  {
   "cell_type": "code",
   "execution_count": 10,
   "metadata": {},
   "outputs": [
    {
     "name": "stdout",
     "output_type": "stream",
     "text": [
      "(300, 4096) (300,) 300 100\n",
      "Epoch 1/10\n",
      " - 1s - loss: 8.0108 - accuracy: 0.1167\n",
      "Epoch 2/10\n",
      " - 1s - loss: 2.5554 - accuracy: 0.3233\n",
      "Epoch 3/10\n",
      " - 1s - loss: 1.8933 - accuracy: 0.4600\n",
      "Epoch 4/10\n",
      " - 1s - loss: 1.4200 - accuracy: 0.6200\n",
      "Epoch 5/10\n",
      " - 1s - loss: 1.0504 - accuracy: 0.7167\n",
      "Epoch 6/10\n",
      " - 1s - loss: 0.7389 - accuracy: 0.7933\n",
      "Epoch 7/10\n",
      " - 1s - loss: 0.5057 - accuracy: 0.8533\n",
      "Epoch 8/10\n",
      " - 1s - loss: 0.3332 - accuracy: 0.9100\n",
      "Epoch 9/10\n",
      " - 1s - loss: 0.2313 - accuracy: 0.9500\n",
      "Epoch 10/10\n",
      " - 1s - loss: 0.1043 - accuracy: 0.9767\n",
      "0.7766501760482788 0.7799999713897705\n"
     ]
    }
   ],
   "source": [
    "# fit a cnn on the face dataset \n",
    "import pandas as pd\n",
    "import numpy as np\n",
    "from sklearn.model_selection import train_test_split\n",
    "from sklearn.preprocessing import StandardScaler\n",
    "from keras.utils import to_categorical \n",
    "from keras.models import Sequential \n",
    "from keras.layers import Conv2D \n",
    "from keras.layers import MaxPooling2D \n",
    "from keras.layers import Dense \n",
    "from keras.layers import Flatten \n",
    "# load dataset \n",
    "df = pd.read_csv('face_data.csv')\n",
    "#print(df.head())\n",
    "label = df['target']\n",
    "pixels = df.drop('target', axis=1)\n",
    "\n",
    "# standardization is the method to move the dataset to the coordinate center and set value boundaries by\n",
    "# substracting mean and divided by σ to give zero mean and unit variance dataset\n",
    "pixels = StandardScaler().fit_transform(pixels)\n",
    "#First of all, let's split our data into training & test part. There's train_test_split from sci-kit learn.\n",
    "trainX, testX, trainY, testY = train_test_split(pixels, label, random_state=123)\n",
    "print(trainX.shape, trainY.shape, len(trainY), len(testY))\n",
    "# reshape dataset to have a single channel \n",
    "trainX = np.array(trainX).reshape((trainX.shape[0], 64, 64, 1)) \n",
    "#print(trainX[0])\n",
    "testX = np.array(testX).reshape((testX.shape[0], 64, 64, 1))\n",
    "\n",
    "# one hot encode target values \n",
    "trainY, testY = to_categorical(trainY), to_categorical(testY) \n",
    "\n",
    "# define model \n",
    "model = Sequential() \n",
    "model.add(Conv2D(32, (3, 3), activation='relu', kernel_initializer='he_uniform', input_shape=(64, 64, 1))) \n",
    "model.add(MaxPooling2D()) \n",
    "model.add(Flatten()) \n",
    "model.add(Dense(100, activation='relu', kernel_initializer='he_uniform')) \n",
    "model.add(Dense(40, activation='softmax')) \n",
    "model.compile(optimizer='adam',loss='categorical_crossentropy',metrics=['accuracy']) \n",
    "# fit model \n",
    "model.fit(trainX, trainY, epochs=10, batch_size=32, verbose=2) \n",
    "# evaluate model\n",
    "loss, acc = model.evaluate(testX, testY, verbose=0)\n",
    "print(loss,acc)"
   ]
  }
 ],
 "metadata": {
  "kernelspec": {
   "display_name": "Python 3",
   "language": "python",
   "name": "python3"
  },
  "language_info": {
   "codemirror_mode": {
    "name": "ipython",
    "version": 3
   },
   "file_extension": ".py",
   "mimetype": "text/x-python",
   "name": "python",
   "nbconvert_exporter": "python",
   "pygments_lexer": "ipython3",
   "version": "3.7.7"
  }
 },
 "nbformat": 4,
 "nbformat_minor": 4
}
