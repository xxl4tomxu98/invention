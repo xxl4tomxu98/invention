{
 "cells": [
  {
   "cell_type": "markdown",
   "metadata": {},
   "source": [
    "The example below uses the VGG-16 pre-trained model to classify photographs of objects into one of 1,000 known classes."
   ]
  },
  {
   "cell_type": "code",
   "execution_count": 2,
   "metadata": {},
   "outputs": [
    {
     "name": "stdout",
     "output_type": "stream",
     "text": [
      "prison (9.32%)\n"
     ]
    }
   ],
   "source": [
    "# example of using a pre-trained model as a classifier \n",
    "from keras.preprocessing.image import load_img \n",
    "from keras.preprocessing.image import img_to_array \n",
    "from keras.applications.vgg16 import preprocess_input \n",
    "from keras.applications.vgg16 import decode_predictions \n",
    "from keras.applications.vgg16 import VGG16 \n",
    "# load an image from file \n",
    "image = load_img('Tomportrait.JPG', target_size=(224, 224)) \n",
    "# convert the image pixels to a numpy array \n",
    "image = img_to_array(image) \n",
    "# reshape data for the model \n",
    "image = image.reshape((1, image.shape[0], image.shape[1], image.shape[2])) \n",
    "# prepare the image for the VGG model \n",
    "image = preprocess_input(image) \n",
    "# load the model \n",
    "model = VGG16() \n",
    "# predict the probability across all output classes \n",
    "yhat = model.predict(image) \n",
    "# convert the probabilities to class labels \n",
    "label = decode_predictions(yhat) \n",
    "# retrieve the most likely result, e.g. highest probability \n",
    "label = label[0][0] \n",
    "# print the classification \n",
    "print('%s (%.2f%%)' % (label[1], label[2]*100))"
   ]
  }
 ],
 "metadata": {
  "kernelspec": {
   "display_name": "Python 3",
   "language": "python",
   "name": "python3"
  },
  "language_info": {
   "codemirror_mode": {
    "name": "ipython",
    "version": 3
   },
   "file_extension": ".py",
   "mimetype": "text/x-python",
   "name": "python",
   "nbconvert_exporter": "python",
   "pygments_lexer": "ipython3",
   "version": "3.7.7"
  }
 },
 "nbformat": 4,
 "nbformat_minor": 4
}
