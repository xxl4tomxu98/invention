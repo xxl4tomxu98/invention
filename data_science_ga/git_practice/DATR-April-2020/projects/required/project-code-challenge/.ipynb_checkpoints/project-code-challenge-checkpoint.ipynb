{
 "cells": [
  {
   "cell_type": "markdown",
   "metadata": {},
   "source": [
    "<img src=\"http://imgur.com/1ZcRyrc.png\" style=\"float: left; margin: 20px; height: 55px\">\n",
    "\n",
    "# Project 1: Python Coding Exercises\n",
    "\n",
    "\n",
    "---"
   ]
  },
  {
   "cell_type": "markdown",
   "metadata": {},
   "source": [
    "The following code challenges are drawn from common exercises used in technical interviews.\n",
    "\n",
    "Please note that there may be several ways to approach each challenge. If you get stuck, try mapping out your approach in pseudocode first. Finally, while solutions to problems like these may be found online, remember that if you copy/paste code that you can't explain, you'll be missing out on the point of the project. The only way to truly learn a new skill is through practice, trial, and error - we can only help you improve by understanding where you are having trouble."
   ]
  },
  {
   "cell_type": "markdown",
   "metadata": {},
   "source": [
    "### Challenge 1: Largest Palindrome\n",
    "A palindromic number reads the same both ways. For example, 1234321 is a palindrome. The largest palindrome made from the product of two two-digit numbers is 9009 = 91 × 99. Find the largest palindrome made from the product of two three-digit numbers. Afterward, write a brief explanation walking through your code's logic in markdown."
   ]
  },
  {
   "cell_type": "code",
   "execution_count": 8,
   "metadata": {},
   "outputs": [
    {
     "name": "stdout",
     "output_type": "stream",
     "text": [
      "906609\n",
      "(913, 993)\n"
     ]
    }
   ],
   "source": [
    "# create empty dict of various proudcts of the two three digits\n",
    "prod = {}\n",
    "# loop throuh two three digits ranging from 100 to 999\n",
    "for i in range(100, 1000):\n",
    "    for j in range(100, 1000):\n",
    "        #check for palindrome\n",
    "        if str(i*j)[ : : ] == str(i*j)[ : :-1]:\n",
    "            #append the dict two integers as keys and products as value\n",
    "            prod[(i, j)] = i*j\n",
    "#print out the maximum palindrome and its corresponding integer pairs\n",
    "print(max(prod.values()))\n",
    "print(max(prod, key=prod.get))"
   ]
  },
  {
   "cell_type": "markdown",
   "metadata": {},
   "source": [
    "this code tries to find all possible combinations of products of two three digit integers through looping and store them in a dictionary where keys are integer pairs and values are products. Then through simple dictionary operations to find the maximum value and its corresponding key pair"
   ]
  },
  {
   "cell_type": "markdown",
   "metadata": {},
   "source": [
    "\n",
    "### Challenge 2: Summation of Primes\n",
    "The sum of the primes below 10 is 2 + 3 + 5 + 7 = 17. Find the sum of all the primes below 2,000. Afterward, write a brief explanation walking through your code's logic in markdown."
   ]
  },
  {
   "cell_type": "code",
   "execution_count": 13,
   "metadata": {},
   "outputs": [
    {
     "name": "stdout",
     "output_type": "stream",
     "text": [
      "277050\n"
     ]
    }
   ],
   "source": [
    "def is_prime(x):\n",
    "    # 0 and 1 are not primes\n",
    "    if x<2:\n",
    "        return False\n",
    "    # 2 is the smallest prime\n",
    "    if x==2:\n",
    "        return True\n",
    "    # even numbers except 2 is not prime\n",
    "    if x%2==0:\n",
    "        return False\n",
    "    # filtering for loop eliminating all non-primes less than x\n",
    "    # starting 3 increment 2 since evens are not primes\n",
    "    for i in range(3,int(round(x**0.5))+1,2):\n",
    "        if x%i==0:\n",
    "            return False\n",
    "    return True\n",
    "# include 2 as starting prime numbers    \n",
    "s=2\n",
    "#for loop to add all primes in the range\n",
    "for i in range(3,2001,2):\n",
    "    if is_prime(i)==True:\n",
    "        s+=i\n",
    "print(s)"
   ]
  },
  {
   "cell_type": "markdown",
   "metadata": {},
   "source": [
    "create a function is_prime(x) to identify all the prime numbers between 2 and x. There are filtering efficiency improvement steps like evens are not primes and maximum divisor number reduction. Note that every divisor of x in a pair converges to x ** 0.5, the one divisor goes in ascending order while the other one goes descending. So setting maximum divisor to x ** 0.5 should \n",
    "reduce redundency and help reduction of search range. A very subtle reminder is that the search for loop should let finish to eliminate all non-primes. Final summation of all the primes should be straightforward.  "
   ]
  },
  {
   "cell_type": "markdown",
   "metadata": {},
   "source": [
    "### Challenge 3: Multiples of 3 and 5\n",
    "If we list all of the natural numbers below 10 that are multiples of 3 or 5, we get 3, 5, 6, and 9. The sum of these multiples is 23. Find the sum of all the multiples of 3 and 5 below 1,000. Afterward, write a brief explanation walking through your code's logic in markdown."
   ]
  },
  {
   "cell_type": "code",
   "execution_count": 15,
   "metadata": {},
   "outputs": [
    {
     "name": "stdout",
     "output_type": "stream",
     "text": [
      "233168\n"
     ]
    }
   ],
   "source": [
    "def is_multiple(x):\n",
    "    multiples = []\n",
    "    for i in range(3, x):\n",
    "        if i%3 == 0 or i%5==0:\n",
    "            multiples.append(i)\n",
    "    return multiples\n",
    "print(sum(is_multiple(1000)))"
   ]
  },
  {
   "cell_type": "markdown",
   "metadata": {},
   "source": [
    "define a function that find all the multiples and put them in a list. since 3 is the smallest multiple of 3 it is the starting number of the search range. x is maximum of the range but not included. The final list is then returned and summed up"
   ]
  },
  {
   "cell_type": "markdown",
   "metadata": {},
   "source": [
    "### Challenge 4: String Compressor\n",
    "Implement a method to perform basic string compression using the counts of repeated characters. (This is called run-length encoding.) For example, the string \"aabcccccaaa\" would become a2b1c5a3. If the “compressed” string would not become smaller than the original string, your method should return the original string. You can assume the string has only uppercase and lowercase letters (a–z). Specify whether your solution is case sensitive or case insensitive and what you would need to change to make it the other. Afterward, write a brief explanation walking through your code's logic in markdown."
   ]
  },
  {
   "cell_type": "code",
   "execution_count": 38,
   "metadata": {},
   "outputs": [
    {
     "name": "stdout",
     "output_type": "stream",
     "text": [
      "a2b1c4x1y1z4n2\n"
     ]
    }
   ],
   "source": [
    "def str_compress(x):\n",
    "    \"\"\"func to compress input string x\"\"\"\n",
    "    #result compressed string initally empty\n",
    "    compressed = ''\n",
    "    initial = x[0]\n",
    "    # add in first letter to the compressed string\n",
    "    compressed = compressed + initial\n",
    "    count = 1\n",
    "    #start searching from 2nd character down to the last\n",
    "    for char in x[1:]:\n",
    "        if char == initial:\n",
    "            #count the identical letters\n",
    "            count = count + 1\n",
    "        else:\n",
    "            #append the number to the next of the first letter\n",
    "            compressed = compressed + str(count)\n",
    "            #reset letter counter \n",
    "            count = 1\n",
    "            #initial letter of the next group is char\n",
    "            initial = char\n",
    "            # initialize the next group by adding the first appeared letter\n",
    "            compressed = compressed + char\n",
    "    # add final count to the compressed string\n",
    "    compressed = compressed + str(count)\n",
    "    # print original string if the compressed is not shorter\n",
    "    if len(compressed) >= len(x):\n",
    "        print(x)\n",
    "    else:\n",
    "        print(compressed)\n",
    "str_compress('aabccccxyzzzznn')"
   ]
  },
  {
   "cell_type": "markdown",
   "metadata": {},
   "source": [
    "define a function that compresses a string. the counting continues till it hits a different letter then it will add the count and reset the counter for next letter in the string list. When it hits the last string, we will add the final count manually.\n",
    "The code is case sensitive, to change to case unsensitive, change the conditional statment char==initial to something like char.lower == initial.lower"
   ]
  },
  {
   "cell_type": "markdown",
   "metadata": {},
   "source": [
    "### *BONUS* Challenge: FizzBuzz\n",
    "Write a program that prints all of the numbers from 1 to 100. For multiples of 3, instead of the number, print \"Fizz;\" for multiples of 5, print \"Buzz.\" For numbers that are multiples of both 3 and 5, print \"FizzBuzz.\" Afterward, write a brief explanation walking through your code's logic in markdown."
   ]
  },
  {
   "cell_type": "code",
   "execution_count": 39,
   "metadata": {},
   "outputs": [
    {
     "name": "stdout",
     "output_type": "stream",
     "text": [
      "1\n",
      "2\n",
      "Fizz\n",
      "4\n",
      "Buzz\n",
      "Fizz\n",
      "7\n",
      "8\n",
      "Fizz\n",
      "Buzz\n",
      "11\n",
      "Fizz\n",
      "13\n",
      "14\n",
      "FizzBuzz\n",
      "16\n",
      "17\n",
      "Fizz\n",
      "19\n",
      "Buzz\n",
      "Fizz\n",
      "22\n",
      "23\n",
      "Fizz\n",
      "Buzz\n",
      "26\n",
      "Fizz\n",
      "28\n",
      "29\n",
      "FizzBuzz\n",
      "31\n",
      "32\n",
      "Fizz\n",
      "34\n",
      "Buzz\n",
      "Fizz\n",
      "37\n",
      "38\n",
      "Fizz\n",
      "Buzz\n",
      "41\n",
      "Fizz\n",
      "43\n",
      "44\n",
      "FizzBuzz\n",
      "46\n",
      "47\n",
      "Fizz\n",
      "49\n",
      "Buzz\n",
      "Fizz\n",
      "52\n",
      "53\n",
      "Fizz\n",
      "Buzz\n",
      "56\n",
      "Fizz\n",
      "58\n",
      "59\n",
      "FizzBuzz\n",
      "61\n",
      "62\n",
      "Fizz\n",
      "64\n",
      "Buzz\n",
      "Fizz\n",
      "67\n",
      "68\n",
      "Fizz\n",
      "Buzz\n",
      "71\n",
      "Fizz\n",
      "73\n",
      "74\n",
      "FizzBuzz\n",
      "76\n",
      "77\n",
      "Fizz\n",
      "79\n",
      "Buzz\n",
      "Fizz\n",
      "82\n",
      "83\n",
      "Fizz\n",
      "Buzz\n",
      "86\n",
      "Fizz\n",
      "88\n",
      "89\n",
      "FizzBuzz\n",
      "91\n",
      "92\n",
      "Fizz\n",
      "94\n",
      "Buzz\n",
      "Fizz\n",
      "97\n",
      "98\n",
      "Fizz\n",
      "Buzz\n"
     ]
    }
   ],
   "source": [
    "def FizzBuzz(x):\n",
    "    for i in range(1,x+1):\n",
    "        if i%3 == 0 and i%5 != 0:\n",
    "            print('Fizz')\n",
    "        elif i%5 == 0 and i%3 != 0:\n",
    "            print('Buzz')\n",
    "        elif i%3 == 0 and i%5 == 0:\n",
    "            print('FizzBuzz')\n",
    "        else:\n",
    "            print(str(i))\n",
    "FizzBuzz(100)"
   ]
  },
  {
   "cell_type": "markdown",
   "metadata": {},
   "source": [
    "The function goes from 1 to x, for each number it tries to find its MOD of 3 only, 5 only, both 3 and 5 and assign each its buzz words. For numbers that are neither of those combinations, it will print the number itself."
   ]
  }
 ],
 "metadata": {
  "anaconda-cloud": {},
  "kernelspec": {
   "display_name": "Python 3",
   "language": "python",
   "name": "python3"
  },
  "language_info": {
   "codemirror_mode": {
    "name": "ipython",
    "version": 3
   },
   "file_extension": ".py",
   "mimetype": "text/x-python",
   "name": "python",
   "nbconvert_exporter": "python",
   "pygments_lexer": "ipython3",
   "version": "3.7.6"
  }
 },
 "nbformat": 4,
 "nbformat_minor": 2
}
