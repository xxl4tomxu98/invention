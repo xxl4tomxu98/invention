{
 "cells": [
  {
   "cell_type": "markdown",
   "metadata": {
    "collapsed": true
   },
   "source": [
    "<img src=\"http://imgur.com/1ZcRyrc.png\" style=\"float: left; margin: 20px; height: 55px\">\n",
    "\n",
    "# Web Scraping\n",
    "\n",
    "_Author: Dave Yerrington (SF)_\n",
    "\n",
    "---"
   ]
  },
  {
   "cell_type": "markdown",
   "metadata": {},
   "source": [
    "## Learning Objectives\n",
    "- Revisit how to locate elements on a webpage\n",
    "- Aquire unstructure data from the internet using Beautiful soup.\n",
    "- Discuss limitations associated with simple requests and urllib libraries\n",
    "- Introduce Selenium as a solution, and implement a scraper using selenium"
   ]
  },
  {
   "cell_type": "markdown",
   "metadata": {},
   "source": [
    "## Lesson Guide\n",
    "\n",
    "- [Introduction](#intro)\n",
    "- [Building a web scraper](#building-scraper)\n",
    "- [Retrieving data from the HTML page](#retrieving-data)\n",
    "    - [Retrieving the restaurant names](#retrieving-names)\n",
    "    - [Challenge: Retrieving the restaurant locations](#retrieving-locations)\n",
    "    - [Retrieving the restaurant prices](#retrieving-prices)\n",
    "\n",
    "\n",
    "- [Summary](#summary)"
   ]
  },
  {
   "cell_type": "markdown",
   "metadata": {},
   "source": [
    "<a id=\"intro\"></a>\n",
    "## Introduction\n",
    "\n",
    "In this codealong lesson, we'll build a web scraper using requests and BeautifulSoup. We will also explore how to use a headless browser called Selenium.\n",
    "\n",
    "We'll begin by scraping OpenTable's DC listings. We're interested in knowing the restaurant's **name, location, price, and how many people booked it today.**\n",
    "\n",
    "OpenTable provides all of this information on this given page: http://www.opentable.com/washington-dc-restaurant-listings\n",
    "\n",
    "Let's inspect the elements of this page to assure we can find each of the bits of information in which we're interested.\n",
    "\n",
    "---"
   ]
  },
  {
   "cell_type": "markdown",
   "metadata": {},
   "source": [
    "<a id=\"building-scraper\"></a>\n",
    "## Building a web scraper\n",
    "\n",
    "Now, let's build a web scraper for OpenTable using urllib and Beautiful Soup:"
   ]
  },
  {
   "cell_type": "code",
   "execution_count": 1,
   "metadata": {},
   "outputs": [
    {
     "name": "stdout",
     "output_type": "stream",
     "text": [
      "Collecting bs4\n",
      "  Using cached bs4-0.0.1.tar.gz (1.1 kB)\n",
      "Requirement already satisfied: beautifulsoup4 in c:\\programdata\\anaconda3\\lib\\site-packages (from bs4) (4.8.2)\n",
      "Requirement already satisfied: soupsieve>=1.2 in c:\\programdata\\anaconda3\\lib\\site-packages (from beautifulsoup4->bs4) (1.9.5)\n",
      "Building wheels for collected packages: bs4\n",
      "  Building wheel for bs4 (setup.py): started\n",
      "  Building wheel for bs4 (setup.py): finished with status 'done'\n",
      "  Created wheel for bs4: filename=bs4-0.0.1-py3-none-any.whl size=1279 sha256=0fa10260c07edd5417ffba5a2290537b0bd47d15d4236ba78e406525dee37406\n",
      "  Stored in directory: c:\\users\\13305\\appdata\\local\\pip\\cache\\wheels\\0a\\9e\\ba\\20e5bbc1afef3a491f0b3bb74d508f99403aabe76eda2167ca\n",
      "Successfully built bs4\n",
      "Installing collected packages: bs4\n",
      "Successfully installed bs4-0.0.1\n"
     ]
    }
   ],
   "source": [
    "! pip install bs4"
   ]
  },
  {
   "cell_type": "code",
   "execution_count": 13,
   "metadata": {
    "scrolled": false
   },
   "outputs": [],
   "source": [
    "# import our necessary first packages\n",
    "from bs4 import BeautifulSoup\n",
    "import requests"
   ]
  },
  {
   "cell_type": "code",
   "execution_count": 3,
   "metadata": {},
   "outputs": [],
   "source": [
    "# set the url we want to visit\n",
    "url = \"http://www.opentable.com/washington-dc-restaurant-listings\"\n",
    "\n",
    "# visit that url, and grab the html of said page\n",
    "html = requests.get(url)"
   ]
  },
  {
   "cell_type": "markdown",
   "metadata": {},
   "source": [
    "At this point, what is in html?"
   ]
  },
  {
   "cell_type": "code",
   "execution_count": 4,
   "metadata": {},
   "outputs": [
    {
     "data": {
      "text/plain": [
       "'           <!DOCTYPE html><html lang=\"en\"><head><meta charset=\"utf-8\"/><meta http-equiv=\"X-UA-Compatible\" content=\"IE=9; IE=8; IE=7; IE=EDGE\"/> <title>Restaurant Reservation Availability</title>    <meta  name=\"robots\" content=\"noindex,nofollow\" > </meta>     <link rel=\"shortcut icon\" href=\"//components.otstatic.com/components/favicon/1.0.6/favicon/favicon.ico\" type=\"image/x-icon\"/><link rel=\"icon\" href=\"//components.otstatic.com/components/favicon/1.0.6/favicon/favicon-16.png\" sizes=\"16x16\"/><l'"
      ]
     },
     "execution_count": 4,
     "metadata": {},
     "output_type": "execute_result"
    }
   ],
   "source": [
    "# .text returns the request content in Unicode\n",
    "html.text[:500]"
   ]
  },
  {
   "cell_type": "markdown",
   "metadata": {},
   "source": [
    "We will need to convert this html objct into a soup object so we can parse it using python and BS4"
   ]
  },
  {
   "cell_type": "code",
   "execution_count": 22,
   "metadata": {},
   "outputs": [
    {
     "data": {
      "text/plain": [
       " Washington, D.C. Area Restaurants List | OpenTable   window.oc=window.oc||{};oc.renderedComponents=oc.renderedComponents||{};oc.renderedComponents[\"favicon\"]=\"1.0.6\"; \n",
       "\n",
       "      window.OTDataLayer = [{\"domain\":1,\"language\":\"en-US\",\"metro_id\":9,\"page_name\":\"restaurantlist\",\"user_type\":\"anonymous\",\"visitor_status\":\"Logged Out\"}];\n",
       "    \n",
       "window.OT = window.OT || {};\n",
       "window.OT.SRS = {\n",
       "  abTestingAnalytics: {\"account\":\"2d65a94551a4a1caddd5a825a88698a89e19f2d5\",\"hostname\":\"ac.opentable.com\"},\n",
       "  disableRaven: false,\n",
       "  domainId: 1,\n",
       "  jsHeadVersion: \"1.0.91\",\n",
       "  lang: \"en\",\n",
       "  ocUrl: window.location.protocol + '//oc-registry.opentable.com/v2/',\n",
       "  requestId: \"8d93ad89-0227-44d2-9f41-a33be935bf7c\"\n",
       "};\n",
       "\n",
       "window.OT.searchAutoComplete = {};\n",
       "window.OT.searchAutoComplete.ticketedRids = [681,1537,3334,7055,11065,29995,47119,53716,89905,100033,112846,114886,118765,140968,160504,185560,185773,210868,211918,212878,233239,252232,263128,267508,268867,270751,335149,347206,349942,984418,986635,986725];\n",
       "\n",
       "window.oc = window.oc || {};\n",
       "window.oc.conf = { globalParameters: { __ot_conservedHeaders: 'x2YPvT6POzqVVB9+77Ms1GOrm1LUbkwIo7o1OMRwb459W9IyGyVwxuq8sn4muUJHpE2u1peNROBhutji5erfCNGZGBgCR0yDiJUPDrLtDGHS6TGXTZmSHc52OOKqnuOOifGDNBqvnHlprOR79pHO4qjsAwkwGIeHN20QN4GVlCk6QwHlHXH9T8sCDcx+wa3QPnPwaUqvb6E=' }};\n",
       "\n",
       "window.oc=window.oc||{};oc.conf=oc.conf||{};oc.conf.templates=(oc.conf.templates||[]).concat([{\"type\":\"oc-template-es6\",\"version\":\"1.0.1\",\"externals\":[]},{\"type\":\"oc-template-jade\",\"version\":\"6.0.12\",\"externals\":[{\"global\":\"jade\",\"url\":\"https://unpkg.com/jade-legacy@1.11.1/runtime.js\",\"name\":\"jade\"}]},{\"type\":\"oc-template-handlebars\",\"version\":\"6.0.13\",\"externals\":[{\"global\":\"Handlebars\",\"url\":\"https://unpkg.com/handlebars@4.0.11/dist/handlebars.runtime.min.js\",\"name\":\"handlebars\"}]},{\"type\":\"oc-template-react\",\"version\":\"2.1.0\",\"externals\":[{\"global\":[\"Object\",\"assign\"],\"url\":\"https://unpkg.com/es6-object-assign@1.1.0/dist/object-assign-auto.min.js\",\"name\":\"Object.assign\"},{\"global\":\"PropTypes\",\"url\":\"https://unpkg.com/prop-types@15.7.2/prop-types.min.js\",\"name\":\"prop-types\"},{\"global\":\"React\",\"url\":\"https://unpkg.com/react@16.9.0/umd/react.production.min.js\",\"name\":\"react\"},{\"global\":\"ReactDOM\",\"url\":\"https://unpkg.com/react-dom@16.9.0/umd/react-dom.production.min.js\",\"name\":\"react-dom\"}]},{\"type\":\"ot-oc-template-react-email\",\"version\":\"0.0.2\",\"externals\":[{\"global\":\"PropTypes\",\"url\":\"https://unpkg.com/prop-types@15.6.1/prop-types.min.js\",\"name\":\"prop-types\"},{\"global\":\"React\",\"url\":\"https://unpkg.com/react@16.2.0/umd/react.production.min.js\",\"name\":\"react\"},{\"global\":\"ReactDOM\",\"url\":\"https://unpkg.com/react-dom@16.2.0/umd/react-dom.production.min.js\",\"name\":\"react-dom\"}]}]);\n",
       "window.optimizely = window.optimizely || [];window.oc=window.oc||{};oc.renderedComponents=oc.renderedComponents||{};oc.renderedComponents[\"js-head\"]=\"1.0.91\"; \n",
       "bazadebezolkohpepadr=\"2012830305\"\n",
       "      if(!Object.getOwnPropertySymbols)\n",
       "          document.write('<script src=\"//media.otstatic.com/search-result-node/js/get-own-property-symbols-polyfill.js\"></script>"
      ]
     },
     "execution_count": 22,
     "metadata": {},
     "output_type": "execute_result"
    }
   ],
   "source": [
    "# convert this into a soup object\n",
    "soup = BeautifulSoup(html.text, 'html.parser')\n",
    "soup"
   ]
  },
  {
   "cell_type": "markdown",
   "metadata": {},
   "source": [
    "<a id=\"retrieving-data\"></a>\n",
    "### Retrieving data from the HTML page"
   ]
  },
  {
   "cell_type": "markdown",
   "metadata": {},
   "source": [
    "Let's first find each restaurant name listed on the page we've loaded. How do we find the page location of the restaurant? (Hint: We need to know where in the **HTML** the restaurant element is housed.) In order to find the HTML that renders the restaurant location, we can use Google Chrome's Inspect tool:\n",
    "\n",
    "> http://www.opentable.com/washington-dc-restaurant-listings\n",
    "\n",
    "> 1. Visit the URL above. \n",
    "\n",
    "> 2. Right-click on an element you are interested in, then choose Inspect (in Chrome). \n",
    "\n",
    "> 3. This will open the Developer Tools and show the HTML used to render the selected page element. \n",
    "\n",
    "> Throughout this lesson, we will use this method to find tags associated with elements of the page we want to scrape.\n",
    "\n",
    "See if you can find the restaurant name on the page. Keep in mind there are many restaurants loaded on the page."
   ]
  },
  {
   "cell_type": "code",
   "execution_count": 6,
   "metadata": {
    "scrolled": true
   },
   "outputs": [
    {
     "data": {
      "text/plain": [
       "[<span class=\"rest-row-name-text\">Sheila Station</span>,\n",
       " <span class=\"rest-row-name-text\">Breannes</span>,\n",
       " <span class=\"rest-row-name-text\">Kertzmann Forges</span>,\n",
       " <span class=\"rest-row-name-text\">Brooklyn Cummings</span>,\n",
       " <span class=\"rest-row-name-text\">Quis Wisoky</span>,\n",
       " <span class=\"rest-row-name-text\">Et Ford</span>,\n",
       " <span class=\"rest-row-name-text\">Gladys Keys</span>,\n",
       " <span class=\"rest-row-name-text\">Goldner</span>,\n",
       " <span class=\"rest-row-name-text\">Parks</span>,\n",
       " <span class=\"rest-row-name-text\">1286 Reilly</span>,\n",
       " <span class=\"rest-row-name-text\">Marcos Runolfsdottir</span>,\n",
       " <span class=\"rest-row-name-text\">Laboriosam Stark</span>,\n",
       " <span class=\"rest-row-name-text\">Aimees</span>,\n",
       " <span class=\"rest-row-name-text\">Vandervort</span>,\n",
       " <span class=\"rest-row-name-text\">869 Hilll</span>,\n",
       " <span class=\"rest-row-name-text\">Nesciunt</span>,\n",
       " <span class=\"rest-row-name-text\">Club</span>,\n",
       " <span class=\"rest-row-name-text\">Flavies</span>,\n",
       " <span class=\"rest-row-name-text\">Ports</span>,\n",
       " <span class=\"rest-row-name-text\">Lights</span>,\n",
       " <span class=\"rest-row-name-text\">Fork</span>,\n",
       " <span class=\"rest-row-name-text\">Walsh</span>,\n",
       " <span class=\"rest-row-name-text\">Dolores Forges</span>,\n",
       " <span class=\"rest-row-name-text\">Winifred Zboncak</span>,\n",
       " <span class=\"rest-row-name-text\">Simones</span>,\n",
       " <span class=\"rest-row-name-text\">Pagac</span>,\n",
       " <span class=\"rest-row-name-text\">Rem Walsh</span>,\n",
       " <span class=\"rest-row-name-text\">Nostrum Gorczany</span>,\n",
       " <span class=\"rest-row-name-text\">Repudiandae Hilpert</span>,\n",
       " <span class=\"rest-row-name-text\">Carsons</span>,\n",
       " <span class=\"rest-row-name-text\">Soluta Hodkiewicz</span>,\n",
       " <span class=\"rest-row-name-text\">Adrien Denesik</span>,\n",
       " <span class=\"rest-row-name-text\">Vilma Rohan</span>,\n",
       " <span class=\"rest-row-name-text\">Odit Bins</span>,\n",
       " <span class=\"rest-row-name-text\">1016 Rice</span>,\n",
       " <span class=\"rest-row-name-text\">Beier</span>,\n",
       " <span class=\"rest-row-name-text\">1054 McLaughlin</span>,\n",
       " <span class=\"rest-row-name-text\">Mylene Forest</span>,\n",
       " <span class=\"rest-row-name-text\">Rice</span>,\n",
       " <span class=\"rest-row-name-text\">Aut Brakus</span>,\n",
       " <span class=\"rest-row-name-text\">Haven</span>,\n",
       " <span class=\"rest-row-name-text\">Omnis</span>,\n",
       " <span class=\"rest-row-name-text\">Antoinette Kautzer</span>,\n",
       " <span class=\"rest-row-name-text\">236 Murray</span>,\n",
       " <span class=\"rest-row-name-text\">Est Rolfson</span>,\n",
       " <span class=\"rest-row-name-text\">894 Gusikowski</span>,\n",
       " <span class=\"rest-row-name-text\">Mills</span>,\n",
       " <span class=\"rest-row-name-text\">Lakes</span>,\n",
       " <span class=\"rest-row-name-text\">Kshlerin Manors</span>,\n",
       " <span class=\"rest-row-name-text\">Knoll</span>,\n",
       " <span class=\"rest-row-name-text\">Consectetur</span>,\n",
       " <span class=\"rest-row-name-text\">Ut</span>,\n",
       " <span class=\"rest-row-name-text\">Brias</span>,\n",
       " <span class=\"rest-row-name-text\">Zola Springs</span>,\n",
       " <span class=\"rest-row-name-text\">Eos Spencer</span>,\n",
       " <span class=\"rest-row-name-text\">Jonatans</span>,\n",
       " <span class=\"rest-row-name-text\">648 Prosacco</span>,\n",
       " <span class=\"rest-row-name-text\">Marie Lodge</span>,\n",
       " <span class=\"rest-row-name-text\">Fahey</span>,\n",
       " <span class=\"rest-row-name-text\">Vel</span>,\n",
       " <span class=\"rest-row-name-text\">Aut</span>,\n",
       " <span class=\"rest-row-name-text\">Ipsa Prairie</span>,\n",
       " <span class=\"rest-row-name-text\">Ut Williamson</span>,\n",
       " <span class=\"rest-row-name-text\">Nihil</span>,\n",
       " <span class=\"rest-row-name-text\">Facilis Schulist</span>,\n",
       " <span class=\"rest-row-name-text\">Terry</span>,\n",
       " <span class=\"rest-row-name-text\">1165 Abbott</span>,\n",
       " <span class=\"rest-row-name-text\">Unde Flats</span>,\n",
       " <span class=\"rest-row-name-text\">Durgan</span>,\n",
       " <span class=\"rest-row-name-text\">355 Bartoletti</span>,\n",
       " <span class=\"rest-row-name-text\">643 Altenwerth</span>,\n",
       " <span class=\"rest-row-name-text\">Et</span>,\n",
       " <span class=\"rest-row-name-text\">Architecto Track</span>,\n",
       " <span class=\"rest-row-name-text\">Inlet</span>,\n",
       " <span class=\"rest-row-name-text\">Odit Valley</span>,\n",
       " <span class=\"rest-row-name-text\">Expressway</span>,\n",
       " <span class=\"rest-row-name-text\">Et</span>,\n",
       " <span class=\"rest-row-name-text\">Stream</span>,\n",
       " <span class=\"rest-row-name-text\">Schowalter</span>,\n",
       " <span class=\"rest-row-name-text\">Noelias</span>,\n",
       " <span class=\"rest-row-name-text\">Louvenias</span>,\n",
       " <span class=\"rest-row-name-text\">Consequatur Hollow</span>,\n",
       " <span class=\"rest-row-name-text\">Plains</span>,\n",
       " <span class=\"rest-row-name-text\">Unions</span>,\n",
       " <span class=\"rest-row-name-text\">Schiller</span>,\n",
       " <span class=\"rest-row-name-text\">White Flat</span>,\n",
       " <span class=\"rest-row-name-text\">Keeling Extension</span>,\n",
       " <span class=\"rest-row-name-text\">America Plain</span>,\n",
       " <span class=\"rest-row-name-text\">Fuga</span>,\n",
       " <span class=\"rest-row-name-text\">Numquam Strosin</span>,\n",
       " <span class=\"rest-row-name-text\">Error Gislason</span>,\n",
       " <span class=\"rest-row-name-text\">Dessies</span>,\n",
       " <span class=\"rest-row-name-text\">Streich</span>,\n",
       " <span class=\"rest-row-name-text\">Minus Field</span>,\n",
       " <span class=\"rest-row-name-text\">Lindgren</span>,\n",
       " <span class=\"rest-row-name-text\">Ut Lind</span>,\n",
       " <span class=\"rest-row-name-text\">Troy Track</span>,\n",
       " <span class=\"rest-row-name-text\">Agloe Bar &amp; Grill</span>,\n",
       " <span class=\"rest-row-name-text\">Andersons</span>,\n",
       " <span class=\"rest-row-name-text\">Mohr Brook</span>]"
      ]
     },
     "execution_count": 6,
     "metadata": {},
     "output_type": "execute_result"
    }
   ],
   "source": [
    "# print the restaurant names list\n",
    "soup.find_all(name='span', attrs={'class':'rest-row-name-text'})"
   ]
  },
  {
   "cell_type": "markdown",
   "metadata": {},
   "source": [
    "It is important to always keep in mind the data types that were returned. Note this is a `list`, and we know that immediately by observing the outer square brackets and commas separating each tag.\n",
    "\n",
    "Next, note the elements of the list are `Tag` objects, not strings. (If they were strings, they would be surrounded by quotes.) The Beautiful Soup authors chose to display a `Tag` object visually as a text representation of the tag and its contents. However, being an object, it has many methods that we can call on it. For example, next we will use the `encode_contents()` method to return the tag's contents encoded as a Python string.\n",
    "\n",
    "<a id=\"retrieving-names\"></a>\n",
    "#### Retrieving the restaurant names\n",
    "\n",
    "Now that we found a list of tags containing the restaurant names, let's think how we can loop through them all one-by-one. In the following cell, we'll print out the name (and **only** the clean name, not the rest of the html) of each restaurant."
   ]
  },
  {
   "cell_type": "code",
   "execution_count": 8,
   "metadata": {
    "scrolled": true
   },
   "outputs": [
    {
     "name": "stdout",
     "output_type": "stream",
     "text": [
      "Sheila Station\n",
      "Breannes\n",
      "Kertzmann Forges\n",
      "Brooklyn Cummings\n",
      "Quis Wisoky\n",
      "Et Ford\n",
      "Gladys Keys\n",
      "Goldner\n",
      "Parks\n",
      "1286 Reilly\n",
      "Marcos Runolfsdottir\n",
      "Laboriosam Stark\n",
      "Aimees\n",
      "Vandervort\n",
      "869 Hilll\n",
      "Nesciunt\n",
      "Club\n",
      "Flavies\n",
      "Ports\n",
      "Lights\n",
      "Fork\n",
      "Walsh\n",
      "Dolores Forges\n",
      "Winifred Zboncak\n",
      "Simones\n",
      "Pagac\n",
      "Rem Walsh\n",
      "Nostrum Gorczany\n",
      "Repudiandae Hilpert\n",
      "Carsons\n",
      "Soluta Hodkiewicz\n",
      "Adrien Denesik\n",
      "Vilma Rohan\n",
      "Odit Bins\n",
      "1016 Rice\n",
      "Beier\n",
      "1054 McLaughlin\n",
      "Mylene Forest\n",
      "Rice\n",
      "Aut Brakus\n",
      "Haven\n",
      "Omnis\n",
      "Antoinette Kautzer\n",
      "236 Murray\n",
      "Est Rolfson\n",
      "894 Gusikowski\n",
      "Mills\n",
      "Lakes\n",
      "Kshlerin Manors\n",
      "Knoll\n",
      "Consectetur\n",
      "Ut\n",
      "Brias\n",
      "Zola Springs\n",
      "Eos Spencer\n",
      "Jonatans\n",
      "648 Prosacco\n",
      "Marie Lodge\n",
      "Fahey\n",
      "Vel\n",
      "Aut\n",
      "Ipsa Prairie\n",
      "Ut Williamson\n",
      "Nihil\n",
      "Facilis Schulist\n",
      "Terry\n",
      "1165 Abbott\n",
      "Unde Flats\n",
      "Durgan\n",
      "355 Bartoletti\n",
      "643 Altenwerth\n",
      "Et\n",
      "Architecto Track\n",
      "Inlet\n",
      "Odit Valley\n",
      "Expressway\n",
      "Et\n",
      "Stream\n",
      "Schowalter\n",
      "Noelias\n",
      "Louvenias\n",
      "Consequatur Hollow\n",
      "Plains\n",
      "Unions\n",
      "Schiller\n",
      "White Flat\n",
      "Keeling Extension\n",
      "America Plain\n",
      "Fuga\n",
      "Numquam Strosin\n",
      "Error Gislason\n",
      "Dessies\n",
      "Streich\n",
      "Minus Field\n",
      "Lindgren\n",
      "Ut Lind\n",
      "Troy Track\n",
      "Agloe Bar & Grill\n",
      "Andersons\n",
      "Mohr Brook\n"
     ]
    }
   ],
   "source": [
    "# for each element you find, print out the restaurant name\n",
    "for entry in soup.find_all(name='span', attrs={'class':'rest-row-name-text'}):\n",
    "    print(entry.text)"
   ]
  },
  {
   "cell_type": "markdown",
   "metadata": {},
   "source": [
    "Great!\n",
    "\n",
    "<a id=\"retrieving-locations\"></a>\n",
    "#### Challenge: Retrieving the restaurant locations\n",
    "\n",
    "Can you repeat that process for finding the location? For example, barmini by Jose Andres is in the location listed as \"Penn Quarter\" in our search results."
   ]
  },
  {
   "cell_type": "code",
   "execution_count": 10,
   "metadata": {},
   "outputs": [
    {
     "name": "stdout",
     "output_type": "stream",
     "text": [
      "Sheila Station\n",
      "Breannes\n",
      "Kertzmann Forges\n",
      "Brooklyn Cummings\n",
      "Quis Wisoky\n",
      "Et Ford\n",
      "Gladys Keys\n",
      "Goldner\n",
      "Parks\n",
      "1286 Reilly\n",
      "Marcos Runolfsdottir\n",
      "Laboriosam Stark\n",
      "Aimees\n",
      "Vandervort\n",
      "869 Hilll\n",
      "Nesciunt\n",
      "Club\n",
      "Flavies\n",
      "Ports\n",
      "Lights\n",
      "Fork\n",
      "Walsh\n",
      "Dolores Forges\n",
      "Winifred Zboncak\n",
      "Simones\n",
      "Pagac\n",
      "Rem Walsh\n",
      "Nostrum Gorczany\n",
      "Repudiandae Hilpert\n",
      "Carsons\n",
      "Soluta Hodkiewicz\n",
      "Adrien Denesik\n",
      "Vilma Rohan\n",
      "Odit Bins\n",
      "1016 Rice\n",
      "Beier\n",
      "1054 McLaughlin\n",
      "Mylene Forest\n",
      "Rice\n",
      "Aut Brakus\n",
      "Haven\n",
      "Omnis\n",
      "Antoinette Kautzer\n",
      "236 Murray\n",
      "Est Rolfson\n",
      "894 Gusikowski\n",
      "Mills\n",
      "Lakes\n",
      "Kshlerin Manors\n",
      "Knoll\n",
      "Consectetur\n",
      "Ut\n",
      "Brias\n",
      "Zola Springs\n",
      "Eos Spencer\n",
      "Jonatans\n",
      "648 Prosacco\n",
      "Marie Lodge\n",
      "Fahey\n",
      "Vel\n",
      "Aut\n",
      "Ipsa Prairie\n",
      "Ut Williamson\n",
      "Nihil\n",
      "Facilis Schulist\n",
      "Terry\n",
      "1165 Abbott\n",
      "Unde Flats\n",
      "Durgan\n",
      "355 Bartoletti\n",
      "643 Altenwerth\n",
      "Et\n",
      "Architecto Track\n",
      "Inlet\n",
      "Odit Valley\n",
      "Expressway\n",
      "Et\n",
      "Stream\n",
      "Schowalter\n",
      "Noelias\n",
      "Louvenias\n",
      "Consequatur Hollow\n",
      "Plains\n",
      "Unions\n",
      "Schiller\n",
      "White Flat\n",
      "Keeling Extension\n",
      "America Plain\n",
      "Fuga\n",
      "Numquam Strosin\n",
      "Error Gislason\n",
      "Dessies\n",
      "Streich\n",
      "Minus Field\n",
      "Lindgren\n",
      "Ut Lind\n",
      "Troy Track\n",
      "Agloe Bar & Grill\n",
      "Andersons\n",
      "Mohr Brook\n"
     ]
    }
   ],
   "source": [
    "# first, see if you can identify the location for all elements -- print it out\n",
    "for entry in soup.find_all(name='span', attrs={'class':'rest-row-name-text'}):\n",
    "    print(entry.text)"
   ]
  },
  {
   "cell_type": "code",
   "execution_count": null,
   "metadata": {},
   "outputs": [],
   "source": [
    "# now print out EACH location for the restaurants"
   ]
  },
  {
   "cell_type": "markdown",
   "metadata": {},
   "source": [
    "<a id=\"retrieving-prices\"></a>\n",
    "#### Retrieving the restaurant prices"
   ]
  },
  {
   "cell_type": "markdown",
   "metadata": {},
   "source": [
    "Ok, we've figured out the restaurant name and location. Now we need to grab the price (number of dollar signs on a scale of one to four) for each restaurant. We'll follow the same process."
   ]
  },
  {
   "cell_type": "code",
   "execution_count": 9,
   "metadata": {
    "scrolled": true
   },
   "outputs": [
    {
     "data": {
      "text/plain": [
       "[<div class=\"rest-row-pricing\"> <i class=\"pricing--the-price\">  $    $      </i> <span class=\"pricing--not-the-price\">  $    $      </span></div>,\n",
       " <div class=\"rest-row-pricing\"> <i class=\"pricing--the-price\">  $    $    $    $  </i> <span class=\"pricing--not-the-price\"> </span></div>,\n",
       " <div class=\"rest-row-pricing\"> <i class=\"pricing--the-price\">  $    $    $    </i> <span class=\"pricing--not-the-price\">  $        </span></div>,\n",
       " <div class=\"rest-row-pricing\"> <i class=\"pricing--the-price\">  $    $      </i> <span class=\"pricing--not-the-price\">  $    $      </span></div>,\n",
       " <div class=\"rest-row-pricing\"> <i class=\"pricing--the-price\">  $    $      </i> <span class=\"pricing--not-the-price\">  $    $      </span></div>,\n",
       " <div class=\"rest-row-pricing\"> <i class=\"pricing--the-price\">  $    $      </i> <span class=\"pricing--not-the-price\">  $    $      </span></div>,\n",
       " <div class=\"rest-row-pricing\"> <i class=\"pricing--the-price\">  $    $      </i> <span class=\"pricing--not-the-price\">  $    $      </span></div>,\n",
       " <div class=\"rest-row-pricing\"> <i class=\"pricing--the-price\">  $    $    $    $  </i> <span class=\"pricing--not-the-price\"> </span></div>,\n",
       " <div class=\"rest-row-pricing\"> <i class=\"pricing--the-price\">  $    $    $    </i> <span class=\"pricing--not-the-price\">  $        </span></div>,\n",
       " <div class=\"rest-row-pricing\"> <i class=\"pricing--the-price\">  $    $    $    </i> <span class=\"pricing--not-the-price\">  $        </span></div>,\n",
       " <div class=\"rest-row-pricing\"> <i class=\"pricing--the-price\">  $    $    $    </i> <span class=\"pricing--not-the-price\">  $        </span></div>,\n",
       " <div class=\"rest-row-pricing\"> <i class=\"pricing--the-price\">  $    $    $    </i> <span class=\"pricing--not-the-price\">  $        </span></div>,\n",
       " <div class=\"rest-row-pricing\"> <i class=\"pricing--the-price\">  $    $      </i> <span class=\"pricing--not-the-price\">  $    $      </span></div>,\n",
       " <div class=\"rest-row-pricing\"> <i class=\"pricing--the-price\">  $    $    $    $  </i> <span class=\"pricing--not-the-price\"> </span></div>,\n",
       " <div class=\"rest-row-pricing\"> <i class=\"pricing--the-price\">  $    $    $    $  </i> <span class=\"pricing--not-the-price\"> </span></div>,\n",
       " <div class=\"rest-row-pricing\"> <i class=\"pricing--the-price\">  $    $      </i> <span class=\"pricing--not-the-price\">  $    $      </span></div>,\n",
       " <div class=\"rest-row-pricing\"> <i class=\"pricing--the-price\">  $    $      </i> <span class=\"pricing--not-the-price\">  $    $      </span></div>,\n",
       " <div class=\"rest-row-pricing\"> <i class=\"pricing--the-price\">  $    $    $    $  </i> <span class=\"pricing--not-the-price\"> </span></div>,\n",
       " <div class=\"rest-row-pricing\"> <i class=\"pricing--the-price\">  $    $    $    </i> <span class=\"pricing--not-the-price\">  $        </span></div>,\n",
       " <div class=\"rest-row-pricing\"> <i class=\"pricing--the-price\">  $    $    $    </i> <span class=\"pricing--not-the-price\">  $        </span></div>,\n",
       " <div class=\"rest-row-pricing\"> <i class=\"pricing--the-price\">  $    $    $    </i> <span class=\"pricing--not-the-price\">  $        </span></div>,\n",
       " <div class=\"rest-row-pricing\"> <i class=\"pricing--the-price\">  $    $      </i> <span class=\"pricing--not-the-price\">  $    $      </span></div>,\n",
       " <div class=\"rest-row-pricing\"> <i class=\"pricing--the-price\">  $    $      </i> <span class=\"pricing--not-the-price\">  $    $      </span></div>,\n",
       " <div class=\"rest-row-pricing\"> <i class=\"pricing--the-price\">  $    $      </i> <span class=\"pricing--not-the-price\">  $    $      </span></div>,\n",
       " <div class=\"rest-row-pricing\"> <i class=\"pricing--the-price\">  $    $    $    </i> <span class=\"pricing--not-the-price\">  $        </span></div>,\n",
       " <div class=\"rest-row-pricing\"> <i class=\"pricing--the-price\">  $    $    $    </i> <span class=\"pricing--not-the-price\">  $        </span></div>,\n",
       " <div class=\"rest-row-pricing\"> <i class=\"pricing--the-price\">  $    $    $    $  </i> <span class=\"pricing--not-the-price\"> </span></div>,\n",
       " <div class=\"rest-row-pricing\"> <i class=\"pricing--the-price\">  $    $    $    $  </i> <span class=\"pricing--not-the-price\"> </span></div>,\n",
       " <div class=\"rest-row-pricing\"> <i class=\"pricing--the-price\">  $    $    $    $  </i> <span class=\"pricing--not-the-price\"> </span></div>,\n",
       " <div class=\"rest-row-pricing\"> <i class=\"pricing--the-price\">  $    $    $    $  </i> <span class=\"pricing--not-the-price\"> </span></div>,\n",
       " <div class=\"rest-row-pricing\"> <i class=\"pricing--the-price\">  $    $    $    </i> <span class=\"pricing--not-the-price\">  $        </span></div>,\n",
       " <div class=\"rest-row-pricing\"> <i class=\"pricing--the-price\">  $    $    $    $  </i> <span class=\"pricing--not-the-price\"> </span></div>,\n",
       " <div class=\"rest-row-pricing\"> <i class=\"pricing--the-price\">  $    $      </i> <span class=\"pricing--not-the-price\">  $    $      </span></div>,\n",
       " <div class=\"rest-row-pricing\"> <i class=\"pricing--the-price\">  $    $      </i> <span class=\"pricing--not-the-price\">  $    $      </span></div>,\n",
       " <div class=\"rest-row-pricing\"> <i class=\"pricing--the-price\">  $    $      </i> <span class=\"pricing--not-the-price\">  $    $      </span></div>,\n",
       " <div class=\"rest-row-pricing\"> <i class=\"pricing--the-price\">  $    $    $    $  </i> <span class=\"pricing--not-the-price\"> </span></div>,\n",
       " <div class=\"rest-row-pricing\"> <i class=\"pricing--the-price\">  $    $    $    </i> <span class=\"pricing--not-the-price\">  $        </span></div>,\n",
       " <div class=\"rest-row-pricing\"> <i class=\"pricing--the-price\">  $    $    $    </i> <span class=\"pricing--not-the-price\">  $        </span></div>,\n",
       " <div class=\"rest-row-pricing\"> <i class=\"pricing--the-price\">  $    $      </i> <span class=\"pricing--not-the-price\">  $    $      </span></div>,\n",
       " <div class=\"rest-row-pricing\"> <i class=\"pricing--the-price\">  $    $    $    </i> <span class=\"pricing--not-the-price\">  $        </span></div>,\n",
       " <div class=\"rest-row-pricing\"> <i class=\"pricing--the-price\">  $    $      </i> <span class=\"pricing--not-the-price\">  $    $      </span></div>,\n",
       " <div class=\"rest-row-pricing\"> <i class=\"pricing--the-price\">  $    $    $    </i> <span class=\"pricing--not-the-price\">  $        </span></div>,\n",
       " <div class=\"rest-row-pricing\"> <i class=\"pricing--the-price\">  $    $      </i> <span class=\"pricing--not-the-price\">  $    $      </span></div>,\n",
       " <div class=\"rest-row-pricing\"> <i class=\"pricing--the-price\">  $    $    $    $  </i> <span class=\"pricing--not-the-price\"> </span></div>,\n",
       " <div class=\"rest-row-pricing\"> <i class=\"pricing--the-price\">  $    $      </i> <span class=\"pricing--not-the-price\">  $    $      </span></div>,\n",
       " <div class=\"rest-row-pricing\"> <i class=\"pricing--the-price\">  $    $    $    $  </i> <span class=\"pricing--not-the-price\"> </span></div>,\n",
       " <div class=\"rest-row-pricing\"> <i class=\"pricing--the-price\">  $    $    $    $  </i> <span class=\"pricing--not-the-price\"> </span></div>,\n",
       " <div class=\"rest-row-pricing\"> <i class=\"pricing--the-price\">  $    $    $    </i> <span class=\"pricing--not-the-price\">  $        </span></div>,\n",
       " <div class=\"rest-row-pricing\"> <i class=\"pricing--the-price\">  $    $      </i> <span class=\"pricing--not-the-price\">  $    $      </span></div>,\n",
       " <div class=\"rest-row-pricing\"> <i class=\"pricing--the-price\">  $    $      </i> <span class=\"pricing--not-the-price\">  $    $      </span></div>,\n",
       " <div class=\"rest-row-pricing\"> <i class=\"pricing--the-price\">  $    $      </i> <span class=\"pricing--not-the-price\">  $    $      </span></div>,\n",
       " <div class=\"rest-row-pricing\"> <i class=\"pricing--the-price\">  $    $    $    </i> <span class=\"pricing--not-the-price\">  $        </span></div>,\n",
       " <div class=\"rest-row-pricing\"> <i class=\"pricing--the-price\">  $    $    $    </i> <span class=\"pricing--not-the-price\">  $        </span></div>,\n",
       " <div class=\"rest-row-pricing\"> <i class=\"pricing--the-price\">  $    $    $    </i> <span class=\"pricing--not-the-price\">  $        </span></div>,\n",
       " <div class=\"rest-row-pricing\"> <i class=\"pricing--the-price\">  $    $    $    </i> <span class=\"pricing--not-the-price\">  $        </span></div>,\n",
       " <div class=\"rest-row-pricing\"> <i class=\"pricing--the-price\">  $    $    $    $  </i> <span class=\"pricing--not-the-price\"> </span></div>,\n",
       " <div class=\"rest-row-pricing\"> <i class=\"pricing--the-price\">  $    $    $    </i> <span class=\"pricing--not-the-price\">  $        </span></div>,\n",
       " <div class=\"rest-row-pricing\"> <i class=\"pricing--the-price\">  $    $    $    $  </i> <span class=\"pricing--not-the-price\"> </span></div>,\n",
       " <div class=\"rest-row-pricing\"> <i class=\"pricing--the-price\">  $    $    $    $  </i> <span class=\"pricing--not-the-price\"> </span></div>,\n",
       " <div class=\"rest-row-pricing\"> <i class=\"pricing--the-price\">  $    $    $    </i> <span class=\"pricing--not-the-price\">  $        </span></div>,\n",
       " <div class=\"rest-row-pricing\"> <i class=\"pricing--the-price\">  $    $    $    $  </i> <span class=\"pricing--not-the-price\"> </span></div>,\n",
       " <div class=\"rest-row-pricing\"> <i class=\"pricing--the-price\">  $    $    $    $  </i> <span class=\"pricing--not-the-price\"> </span></div>,\n",
       " <div class=\"rest-row-pricing\"> <i class=\"pricing--the-price\">  $    $    $    </i> <span class=\"pricing--not-the-price\">  $        </span></div>,\n",
       " <div class=\"rest-row-pricing\"> <i class=\"pricing--the-price\">  $    $    $    $  </i> <span class=\"pricing--not-the-price\"> </span></div>,\n",
       " <div class=\"rest-row-pricing\"> <i class=\"pricing--the-price\">  $    $    $    $  </i> <span class=\"pricing--not-the-price\"> </span></div>,\n",
       " <div class=\"rest-row-pricing\"> <i class=\"pricing--the-price\">  $    $      </i> <span class=\"pricing--not-the-price\">  $    $      </span></div>,\n",
       " <div class=\"rest-row-pricing\"> <i class=\"pricing--the-price\">  $    $    $    $  </i> <span class=\"pricing--not-the-price\"> </span></div>,\n",
       " <div class=\"rest-row-pricing\"> <i class=\"pricing--the-price\">  $    $    $    </i> <span class=\"pricing--not-the-price\">  $        </span></div>,\n",
       " <div class=\"rest-row-pricing\"> <i class=\"pricing--the-price\">  $    $      </i> <span class=\"pricing--not-the-price\">  $    $      </span></div>,\n",
       " <div class=\"rest-row-pricing\"> <i class=\"pricing--the-price\">  $    $    $    $  </i> <span class=\"pricing--not-the-price\"> </span></div>,\n",
       " <div class=\"rest-row-pricing\"> <i class=\"pricing--the-price\">  $    $    $    $  </i> <span class=\"pricing--not-the-price\"> </span></div>,\n",
       " <div class=\"rest-row-pricing\"> <i class=\"pricing--the-price\">  $    $    $    $  </i> <span class=\"pricing--not-the-price\"> </span></div>,\n",
       " <div class=\"rest-row-pricing\"> <i class=\"pricing--the-price\">  $    $      </i> <span class=\"pricing--not-the-price\">  $    $      </span></div>,\n",
       " <div class=\"rest-row-pricing\"> <i class=\"pricing--the-price\">  $    $    $    $  </i> <span class=\"pricing--not-the-price\"> </span></div>,\n",
       " <div class=\"rest-row-pricing\"> <i class=\"pricing--the-price\">  $    $      </i> <span class=\"pricing--not-the-price\">  $    $      </span></div>,\n",
       " <div class=\"rest-row-pricing\"> <i class=\"pricing--the-price\">  $    $    $    $  </i> <span class=\"pricing--not-the-price\"> </span></div>,\n",
       " <div class=\"rest-row-pricing\"> <i class=\"pricing--the-price\">  $    $    $    </i> <span class=\"pricing--not-the-price\">  $        </span></div>,\n",
       " <div class=\"rest-row-pricing\"> <i class=\"pricing--the-price\">  $    $    $    </i> <span class=\"pricing--not-the-price\">  $        </span></div>,\n",
       " <div class=\"rest-row-pricing\"> <i class=\"pricing--the-price\">  $    $      </i> <span class=\"pricing--not-the-price\">  $    $      </span></div>,\n",
       " <div class=\"rest-row-pricing\"> <i class=\"pricing--the-price\">  $    $    $    </i> <span class=\"pricing--not-the-price\">  $        </span></div>,\n",
       " <div class=\"rest-row-pricing\"> <i class=\"pricing--the-price\">  $    $      </i> <span class=\"pricing--not-the-price\">  $    $      </span></div>,\n",
       " <div class=\"rest-row-pricing\"> <i class=\"pricing--the-price\">  $    $      </i> <span class=\"pricing--not-the-price\">  $    $      </span></div>,\n",
       " <div class=\"rest-row-pricing\"> <i class=\"pricing--the-price\">  $    $    $    $  </i> <span class=\"pricing--not-the-price\"> </span></div>,\n",
       " <div class=\"rest-row-pricing\"> <i class=\"pricing--the-price\">  $    $    $    </i> <span class=\"pricing--not-the-price\">  $        </span></div>,\n",
       " <div class=\"rest-row-pricing\"> <i class=\"pricing--the-price\">  $    $    $    </i> <span class=\"pricing--not-the-price\">  $        </span></div>,\n",
       " <div class=\"rest-row-pricing\"> <i class=\"pricing--the-price\">  $    $    $    </i> <span class=\"pricing--not-the-price\">  $        </span></div>,\n",
       " <div class=\"rest-row-pricing\"> <i class=\"pricing--the-price\">  $    $    $    </i> <span class=\"pricing--not-the-price\">  $        </span></div>,\n",
       " <div class=\"rest-row-pricing\"> <i class=\"pricing--the-price\">  $    $    $    </i> <span class=\"pricing--not-the-price\">  $        </span></div>,\n",
       " <div class=\"rest-row-pricing\"> <i class=\"pricing--the-price\">  $    $    $    $  </i> <span class=\"pricing--not-the-price\"> </span></div>,\n",
       " <div class=\"rest-row-pricing\"> <i class=\"pricing--the-price\">  $    $    $    </i> <span class=\"pricing--not-the-price\">  $        </span></div>,\n",
       " <div class=\"rest-row-pricing\"> <i class=\"pricing--the-price\">  $    $    $    $  </i> <span class=\"pricing--not-the-price\"> </span></div>,\n",
       " <div class=\"rest-row-pricing\"> <i class=\"pricing--the-price\">  $    $    $    $  </i> <span class=\"pricing--not-the-price\"> </span></div>,\n",
       " <div class=\"rest-row-pricing\"> <i class=\"pricing--the-price\">  $    $    $    $  </i> <span class=\"pricing--not-the-price\"> </span></div>,\n",
       " <div class=\"rest-row-pricing\"> <i class=\"pricing--the-price\">  $    $    $    </i> <span class=\"pricing--not-the-price\">  $        </span></div>,\n",
       " <div class=\"rest-row-pricing\"> <i class=\"pricing--the-price\">  $    $    $    </i> <span class=\"pricing--not-the-price\">  $        </span></div>,\n",
       " <div class=\"rest-row-pricing\"> <i class=\"pricing--the-price\">  $    $      </i> <span class=\"pricing--not-the-price\">  $    $      </span></div>,\n",
       " <div class=\"rest-row-pricing\"> <i class=\"pricing--the-price\">  $    $    $    </i> <span class=\"pricing--not-the-price\">  $        </span></div>,\n",
       " <div class=\"rest-row-pricing\"> <i class=\"pricing--the-price\">  $    $    $    </i> <span class=\"pricing--not-the-price\">  $        </span></div>,\n",
       " <div class=\"rest-row-pricing\"> <i class=\"pricing--the-price\">  $    $      </i> <span class=\"pricing--not-the-price\">  $    $      </span></div>,\n",
       " <div class=\"rest-row-pricing\"> <i class=\"pricing--the-price\">  $    $      </i> <span class=\"pricing--not-the-price\">  $    $      </span></div>]"
      ]
     },
     "execution_count": 9,
     "metadata": {},
     "output_type": "execute_result"
    }
   ],
   "source": [
    "# print out all prices\n",
    "soup.find_all('div', {'class':'rest-row-pricing'})"
   ]
  },
  {
   "cell_type": "code",
   "execution_count": 66,
   "metadata": {},
   "outputs": [
    {
     "name": "stdout",
     "output_type": "stream",
     "text": [
      "  $    $       2\n",
      "  $    $    $    $   4\n",
      "  $    $    $     3\n",
      "  $    $       2\n",
      "  $    $       2\n",
      "  $    $       2\n",
      "  $    $       2\n",
      "  $    $    $    $   4\n",
      "  $    $    $     3\n",
      "  $    $    $     3\n",
      "  $    $    $     3\n",
      "  $    $    $     3\n",
      "  $    $       2\n",
      "  $    $    $    $   4\n",
      "  $    $    $    $   4\n",
      "  $    $       2\n",
      "  $    $       2\n",
      "  $    $    $    $   4\n",
      "  $    $    $     3\n",
      "  $    $    $     3\n",
      "  $    $    $     3\n",
      "  $    $       2\n",
      "  $    $       2\n",
      "  $    $       2\n",
      "  $    $    $     3\n",
      "  $    $    $     3\n",
      "  $    $    $    $   4\n",
      "  $    $    $    $   4\n",
      "  $    $    $    $   4\n",
      "  $    $    $    $   4\n",
      "  $    $    $     3\n",
      "  $    $    $    $   4\n",
      "  $    $       2\n",
      "  $    $       2\n",
      "  $    $       2\n",
      "  $    $    $    $   4\n",
      "  $    $    $     3\n",
      "  $    $    $     3\n",
      "  $    $       2\n",
      "  $    $    $     3\n",
      "  $    $       2\n",
      "  $    $    $     3\n",
      "  $    $       2\n",
      "  $    $    $    $   4\n",
      "  $    $       2\n",
      "  $    $    $    $   4\n",
      "  $    $    $    $   4\n",
      "  $    $    $     3\n",
      "  $    $       2\n",
      "  $    $       2\n",
      "  $    $       2\n",
      "  $    $    $     3\n",
      "  $    $    $     3\n",
      "  $    $    $     3\n",
      "  $    $    $     3\n",
      "  $    $    $    $   4\n",
      "  $    $    $     3\n",
      "  $    $    $    $   4\n",
      "  $    $    $    $   4\n",
      "  $    $    $     3\n",
      "  $    $    $    $   4\n",
      "  $    $    $    $   4\n",
      "  $    $    $     3\n",
      "  $    $    $    $   4\n",
      "  $    $    $    $   4\n",
      "  $    $       2\n",
      "  $    $    $    $   4\n",
      "  $    $    $     3\n",
      "  $    $       2\n",
      "  $    $    $    $   4\n",
      "  $    $    $    $   4\n",
      "  $    $    $    $   4\n",
      "  $    $       2\n",
      "  $    $    $    $   4\n",
      "  $    $       2\n",
      "  $    $    $    $   4\n",
      "  $    $    $     3\n",
      "  $    $    $     3\n",
      "  $    $       2\n",
      "  $    $    $     3\n",
      "  $    $       2\n",
      "  $    $       2\n",
      "  $    $    $    $   4\n",
      "  $    $    $     3\n",
      "  $    $    $     3\n",
      "  $    $    $     3\n",
      "  $    $    $     3\n",
      "  $    $    $     3\n",
      "  $    $    $    $   4\n",
      "  $    $    $     3\n",
      "  $    $    $    $   4\n",
      "  $    $    $    $   4\n",
      "  $    $    $    $   4\n",
      "  $    $    $     3\n",
      "  $    $    $     3\n",
      "  $    $       2\n",
      "  $    $    $     3\n",
      "  $    $    $     3\n",
      "  $    $       2\n",
      "  $    $       2\n"
     ]
    }
   ],
   "source": [
    "# print out EACH number of dollar signs per restaurant\n",
    "# this one is trickier to eliminate the html. Hint: try a nested find\n",
    "for entry in soup.find_all('div', {'class':'rest-row-pricing'}):\n",
    "    print(entry.find('i').text, entry.find('i').text.count('$'))"
   ]
  },
  {
   "cell_type": "markdown",
   "metadata": {},
   "source": [
    "That looks great, but what if I wanted just the number of dollar signs per restaurant? Can you figure out a way to simply print out the number of dollar signs per restaurant listed?"
   ]
  },
  {
   "cell_type": "code",
   "execution_count": null,
   "metadata": {},
   "outputs": [],
   "source": [
    "# print the number of dollars signs per restaurant"
   ]
  },
  {
   "cell_type": "markdown",
   "metadata": {},
   "source": [
    "That's weird -- an empty set. Did we find the wrong element? What's going on here? Discuss.\n",
    "\n",
    "How can we debug this? Any ideas?"
   ]
  },
  {
   "cell_type": "markdown",
   "metadata": {},
   "source": [
    "<a id=\"selenium\"></a>\n",
    "## Introducing Selenium\n",
    "\n",
    "Selenium is a headless browser. It allows us to render JavaScript just as a human-navigated browser would.\n",
    "\n",
    "To install Selenium, use one of the following:\n",
    "- **Anaconda:** `conda install -c conda-forge selenium`\n",
    "- **pip:** `pip install selenium`\n",
    "\n",
    "You will also need GeckoDriver (this assumes you are using Homebrew for Mac): \n",
    "\n",
    "- ```brew install geckodriver```\n",
    "\n",
    "Additionally, you will need to have downloaded the [Firefox browser](https://www.mozilla.org/en-US/firefox/new/?utm_source=google&utm_medium=cpc&utm_campaign=Firefox-Brand-US-GGL-Exact&utm_term=firefox&utm_content=A144_A203_A006336&gclid=Cj0KEQjwnPLKBRC-j7nt1b7OlZwBEiQAv8lMLJUyReT6cPzSYdmEA6uD3YDoieuuuusddgAU7XH6smEaAoje8P8HAQ&gclsrc=aw.ds) for the application in this lesson."
   ]
  },
  {
   "cell_type": "code",
   "execution_count": null,
   "metadata": {},
   "outputs": [],
   "source": [
    "! pip install selenium"
   ]
  },
  {
   "cell_type": "code",
   "execution_count": 1,
   "metadata": {},
   "outputs": [],
   "source": [
    "# import\n",
    "from selenium import webdriver"
   ]
  },
  {
   "cell_type": "markdown",
   "metadata": {},
   "source": [
    "Selenium requires us to determine a default browser to run. I'm going to opt for Firefox, but Chromium is also a very common choice. http://selenium-python.readthedocs.io/faq.html"
   ]
  },
  {
   "cell_type": "code",
   "execution_count": 39,
   "metadata": {},
   "outputs": [],
   "source": [
    "# STOP\n",
    "# what is going to happen when I run the next cell?"
   ]
  },
  {
   "cell_type": "code",
   "execution_count": 3,
   "metadata": {},
   "outputs": [],
   "source": [
    "# create a driver called Firefox\n",
    "driver = webdriver.Firefox(executable_path = \"C:/Users/13305/Documents/data_science_ga/geckodriver.exe\")"
   ]
  },
  {
   "cell_type": "markdown",
   "metadata": {},
   "source": [
    "Pretty crazy, right? Let's close that driver."
   ]
  },
  {
   "cell_type": "code",
   "execution_count": 4,
   "metadata": {},
   "outputs": [],
   "source": [
    "# close it\n",
    "driver.close()"
   ]
  },
  {
   "cell_type": "code",
   "execution_count": 5,
   "metadata": {},
   "outputs": [],
   "source": [
    "# let's boot it up, and visit a URL of our choice\n",
    "driver = webdriver.Firefox(executable_path=\"C:/Users/13305/Documents/data_science_ga/geckodriver.exe\")\n",
    "driver.get(\"http://www.python.org\")"
   ]
  },
  {
   "cell_type": "markdown",
   "metadata": {},
   "source": [
    "Awesome. Now we're getting somewhere: programmatically controlling our browser like a human."
   ]
  },
  {
   "cell_type": "markdown",
   "metadata": {},
   "source": [
    "Let's return to our problem at hand. We need to visit the OpenTable listing for DC. Once there, we need to get the html to load. In the next cell, prove you can programmatically visit the page."
   ]
  },
  {
   "cell_type": "code",
   "execution_count": 6,
   "metadata": {},
   "outputs": [],
   "source": [
    "# visit our OpenTable page\n",
    "driver = webdriver.Firefox(executable_path=\"C:/Users/13305/Documents/data_science_ga/geckodriver.exe\")\n",
    "driver.get(\"http://www.opentable.com/washington-dc-restaurant-listings\")\n",
    "\n",
    "# always good to check we've got the page we think we do\n",
    "assert \"OpenTable\" in driver.title"
   ]
  },
  {
   "cell_type": "code",
   "execution_count": 7,
   "metadata": {},
   "outputs": [
    {
     "data": {
      "text/plain": [
       "'Washington, D.C. Area Restaurants List | OpenTable'"
      ]
     },
     "execution_count": 7,
     "metadata": {},
     "output_type": "execute_result"
    }
   ],
   "source": [
    "driver.title"
   ]
  },
  {
   "cell_type": "code",
   "execution_count": 8,
   "metadata": {},
   "outputs": [],
   "source": [
    "driver.close()"
   ]
  },
  {
   "cell_type": "markdown",
   "metadata": {},
   "source": [
    "<a id=\"selenium-js\"></a>\n",
    "### Running JavaScript before scraping\n",
    "\n",
    "Now, to resolve our JavaScript problem, there's a few things we can do. What I'll do in this case is request that the page load, wait one second, and then I'm going to grab the source html from the page. Because the page should believe I'm visiting from a live connection on a browser client, the JavaScript should render to be a part of the page source. I can then grab the page source."
   ]
  },
  {
   "cell_type": "code",
   "execution_count": 9,
   "metadata": {},
   "outputs": [],
   "source": [
    "# import sleep\n",
    "from time import sleep"
   ]
  },
  {
   "cell_type": "code",
   "execution_count": 10,
   "metadata": {},
   "outputs": [],
   "source": [
    "# visit our relevant page\n",
    "driver = webdriver.Firefox(executable_path=\"C:/Users/13305/Documents/data_science_ga/geckodriver.exe\")\n",
    "driver.get(\"http://www.opentable.com/washington-dc-restaurant-listings\")\n",
    "\n",
    "# wait one second\n",
    "sleep(1)\n",
    "\n",
    "#grab the page source\n",
    "html = driver.page_source"
   ]
  },
  {
   "cell_type": "markdown",
   "metadata": {},
   "source": [
    "**Pop Quiz:** What do we need to do with this HTML?"
   ]
  },
  {
   "cell_type": "code",
   "execution_count": 36,
   "metadata": {},
   "outputs": [
    {
     "name": "stdout",
     "output_type": "stream",
     "text": [
      "Requirement already satisfied: lxml in c:\\programdata\\anaconda3\\lib\\site-packages (4.5.0)\n"
     ]
    }
   ],
   "source": [
    "! pip install lxml"
   ]
  },
  {
   "cell_type": "code",
   "execution_count": 11,
   "metadata": {},
   "outputs": [],
   "source": [
    "import lxml"
   ]
  },
  {
   "cell_type": "code",
   "execution_count": 14,
   "metadata": {},
   "outputs": [],
   "source": [
    "# BeautifulSoup it!\n",
    "html = BeautifulSoup(html, \"html.parser\")"
   ]
  },
  {
   "cell_type": "markdown",
   "metadata": {},
   "source": [
    "Now, let's return to our earlier problem: How do we locate bookings on the page?"
   ]
  },
  {
   "cell_type": "code",
   "execution_count": 15,
   "metadata": {},
   "outputs": [
    {
     "data": {
      "text/plain": [
       "[<div class=\"booking\"><span class=\"tadpole\"></span> Booked 22 times today</div>,\n",
       " <div class=\"booking\"><span class=\"tadpole\"></span> Booked 97 times today</div>,\n",
       " <div class=\"booking\"><span class=\"tadpole\"></span> Booked 7 times today</div>,\n",
       " <div class=\"booking\"><span class=\"tadpole\"></span> Booked 14 times today</div>,\n",
       " <div class=\"booking\"><span class=\"tadpole\"></span> Booked 28 times today</div>,\n",
       " <div class=\"booking\"><span class=\"tadpole\"></span> Booked 29 times today</div>,\n",
       " <div class=\"booking\"><span class=\"tadpole\"></span> Booked 12 times today</div>,\n",
       " <div class=\"booking\"><span class=\"tadpole\"></span> Booked 50 times today</div>,\n",
       " <div class=\"booking\"><span class=\"tadpole\"></span> Booked 16 times today</div>,\n",
       " <div class=\"booking\"><span class=\"tadpole\"></span> Booked 7 times today</div>,\n",
       " <div class=\"booking\"><span class=\"tadpole\"></span> Booked 28 times today</div>,\n",
       " <div class=\"booking\"><span class=\"tadpole\"></span> Booked 132 times today</div>,\n",
       " <div class=\"booking\"><span class=\"tadpole\"></span> Booked 5 times today</div>,\n",
       " <div class=\"booking\"><span class=\"tadpole\"></span> Booked 70 times today</div>,\n",
       " <div class=\"booking\"><span class=\"tadpole\"></span> Booked 40 times today</div>,\n",
       " <div class=\"booking\"><span class=\"tadpole\"></span> Booked 11 times today</div>,\n",
       " <div class=\"booking\"><span class=\"tadpole\"></span> Booked 13 times today</div>,\n",
       " <div class=\"booking\"><span class=\"tadpole\"></span> Booked 19 times today</div>,\n",
       " <div class=\"booking\"><span class=\"tadpole\"></span> Booked 15 times today</div>,\n",
       " <div class=\"booking\"><span class=\"tadpole\"></span> Booked 16 times today</div>,\n",
       " <div class=\"booking\"><span class=\"tadpole\"></span> Booked 12 times today</div>,\n",
       " <div class=\"booking\"><span class=\"tadpole\"></span> Booked 48 times today</div>,\n",
       " <div class=\"booking\"><span class=\"tadpole\"></span> Booked 11 times today</div>,\n",
       " <div class=\"booking\"><span class=\"tadpole\"></span> Booked 11 times today</div>,\n",
       " <div class=\"booking\"><span class=\"tadpole\"></span> Booked 10 times today</div>,\n",
       " <div class=\"booking\"><span class=\"tadpole\"></span> Booked 17 times today</div>,\n",
       " <div class=\"booking\"><span class=\"tadpole\"></span> Booked 16 times today</div>,\n",
       " <div class=\"booking\"><span class=\"tadpole\"></span> Booked 6 times today</div>,\n",
       " <div class=\"booking\"><span class=\"tadpole\"></span> Booked 3 times today</div>,\n",
       " <div class=\"booking\"><span class=\"tadpole\"></span> Booked 17 times today</div>,\n",
       " <div class=\"booking\"><span class=\"tadpole\"></span> Booked 26 times today</div>,\n",
       " <div class=\"booking\"><span class=\"tadpole\"></span> Booked 3 times today</div>]"
      ]
     },
     "execution_count": 15,
     "metadata": {},
     "output_type": "execute_result"
    }
   ],
   "source": [
    "# print out the number bookings for all restaurants\n",
    "html.find_all('div', {'class':'booking'})"
   ]
  },
  {
   "cell_type": "code",
   "execution_count": 16,
   "metadata": {
    "scrolled": true
   },
   "outputs": [
    {
     "name": "stdout",
     "output_type": "stream",
     "text": [
      "<div class=\"booking\"><span class=\"tadpole\"></span> Booked 22 times today</div>\n",
      "<div class=\"booking\"><span class=\"tadpole\"></span> Booked 97 times today</div>\n",
      "<div class=\"booking\"><span class=\"tadpole\"></span> Booked 7 times today</div>\n",
      "<div class=\"booking\"><span class=\"tadpole\"></span> Booked 14 times today</div>\n",
      "<div class=\"booking\"><span class=\"tadpole\"></span> Booked 28 times today</div>\n",
      "<div class=\"booking\"><span class=\"tadpole\"></span> Booked 29 times today</div>\n",
      "<div class=\"booking\"><span class=\"tadpole\"></span> Booked 12 times today</div>\n",
      "<div class=\"booking\"><span class=\"tadpole\"></span> Booked 50 times today</div>\n",
      "<div class=\"booking\"><span class=\"tadpole\"></span> Booked 16 times today</div>\n",
      "<div class=\"booking\"><span class=\"tadpole\"></span> Booked 7 times today</div>\n",
      "<div class=\"booking\"><span class=\"tadpole\"></span> Booked 28 times today</div>\n",
      "<div class=\"booking\"><span class=\"tadpole\"></span> Booked 132 times today</div>\n",
      "<div class=\"booking\"><span class=\"tadpole\"></span> Booked 5 times today</div>\n",
      "<div class=\"booking\"><span class=\"tadpole\"></span> Booked 70 times today</div>\n",
      "<div class=\"booking\"><span class=\"tadpole\"></span> Booked 40 times today</div>\n",
      "<div class=\"booking\"><span class=\"tadpole\"></span> Booked 11 times today</div>\n",
      "<div class=\"booking\"><span class=\"tadpole\"></span> Booked 13 times today</div>\n",
      "<div class=\"booking\"><span class=\"tadpole\"></span> Booked 19 times today</div>\n",
      "<div class=\"booking\"><span class=\"tadpole\"></span> Booked 15 times today</div>\n",
      "<div class=\"booking\"><span class=\"tadpole\"></span> Booked 16 times today</div>\n",
      "<div class=\"booking\"><span class=\"tadpole\"></span> Booked 12 times today</div>\n",
      "<div class=\"booking\"><span class=\"tadpole\"></span> Booked 48 times today</div>\n",
      "<div class=\"booking\"><span class=\"tadpole\"></span> Booked 11 times today</div>\n",
      "<div class=\"booking\"><span class=\"tadpole\"></span> Booked 11 times today</div>\n",
      "<div class=\"booking\"><span class=\"tadpole\"></span> Booked 10 times today</div>\n",
      "<div class=\"booking\"><span class=\"tadpole\"></span> Booked 17 times today</div>\n",
      "<div class=\"booking\"><span class=\"tadpole\"></span> Booked 16 times today</div>\n",
      "<div class=\"booking\"><span class=\"tadpole\"></span> Booked 6 times today</div>\n",
      "<div class=\"booking\"><span class=\"tadpole\"></span> Booked 3 times today</div>\n",
      "<div class=\"booking\"><span class=\"tadpole\"></span> Booked 17 times today</div>\n",
      "<div class=\"booking\"><span class=\"tadpole\"></span> Booked 26 times today</div>\n",
      "<div class=\"booking\"><span class=\"tadpole\"></span> Booked 3 times today</div>\n"
     ]
    }
   ],
   "source": [
    "# now print out each booking for the listings using a loop\n",
    "for entry in html.find_all('div', {'class':'booking'}):\n",
    "    print(entry)"
   ]
  },
  {
   "cell_type": "markdown",
   "metadata": {},
   "source": [
    "Let's grab just the text of each of these entries."
   ]
  },
  {
   "cell_type": "code",
   "execution_count": 17,
   "metadata": {},
   "outputs": [
    {
     "name": "stdout",
     "output_type": "stream",
     "text": [
      " Booked 22 times today\n",
      " Booked 97 times today\n",
      " Booked 7 times today\n",
      " Booked 14 times today\n",
      " Booked 28 times today\n",
      " Booked 29 times today\n",
      " Booked 12 times today\n",
      " Booked 50 times today\n",
      " Booked 16 times today\n",
      " Booked 7 times today\n",
      " Booked 28 times today\n",
      " Booked 132 times today\n",
      " Booked 5 times today\n",
      " Booked 70 times today\n",
      " Booked 40 times today\n",
      " Booked 11 times today\n",
      " Booked 13 times today\n",
      " Booked 19 times today\n",
      " Booked 15 times today\n",
      " Booked 16 times today\n",
      " Booked 12 times today\n",
      " Booked 48 times today\n",
      " Booked 11 times today\n",
      " Booked 11 times today\n",
      " Booked 10 times today\n",
      " Booked 17 times today\n",
      " Booked 16 times today\n",
      " Booked 6 times today\n",
      " Booked 3 times today\n",
      " Booked 17 times today\n",
      " Booked 26 times today\n",
      " Booked 3 times today\n"
     ]
    }
   ],
   "source": [
    "# do the same as above, but grabbing only the text content\n",
    "for entry in html.find_all('div', {'class':'booking'}):\n",
    "    print(entry.text)"
   ]
  },
  {
   "cell_type": "code",
   "execution_count": 18,
   "metadata": {},
   "outputs": [],
   "source": [
    "driver.close()"
   ]
  },
  {
   "cell_type": "markdown",
   "metadata": {},
   "source": [
    "We've succeeded!\n",
    "\n",
    "<a id=\"selenium-regex\"></a>\n",
    "### Using regex to only get digits\n",
    "\n",
    "But we can clean this up a little bit. We're going to use regular expressions (regex) to grab only the digits that are available in each of the text.\n",
    "\n",
    "The best way to get good at regex is to, well, just keep trying and testing: http://pythex.org/"
   ]
  },
  {
   "cell_type": "code",
   "execution_count": 19,
   "metadata": {},
   "outputs": [],
   "source": [
    "# import regex\n",
    "import re"
   ]
  },
  {
   "cell_type": "markdown",
   "metadata": {},
   "source": [
    "Given we haven't covered regex, I'll show you how to use the search function to match any given digit."
   ]
  },
  {
   "cell_type": "code",
   "execution_count": 20,
   "metadata": {},
   "outputs": [
    {
     "name": "stdout",
     "output_type": "stream",
     "text": [
      "22\n",
      "97\n",
      "7\n",
      "14\n",
      "28\n",
      "29\n",
      "12\n",
      "50\n",
      "16\n",
      "7\n",
      "28\n",
      "132\n",
      "5\n",
      "70\n",
      "40\n",
      "11\n",
      "13\n",
      "19\n",
      "15\n",
      "16\n",
      "12\n",
      "48\n",
      "11\n",
      "11\n",
      "10\n",
      "17\n",
      "16\n",
      "6\n",
      "3\n",
      "17\n",
      "26\n",
      "3\n"
     ]
    }
   ],
   "source": [
    "# for each entry, grab the text\n",
    "for booking in html.find_all('div', {'class':'booking'}):\n",
    "    # match all digits\n",
    "    match = re.search(r'\\d+', booking.text)\n",
    "    \n",
    "    if match:\n",
    "        # print if found\n",
    "        print(match.group())\n",
    "    else:\n",
    "        # otherwise pass\n",
    "        pass"
   ]
  },
  {
   "cell_type": "markdown",
   "metadata": {},
   "source": [
    "Before we demonstrate all the other amazing things about headless browsers, let's finish up collecting the data we want from this current example. Do you suppose the html parsing we wrote above will still work on the page source we've grabbed from our headless browser?"
   ]
  },
  {
   "cell_type": "markdown",
   "metadata": {},
   "source": [
    "To be most efficient, we want to only do a single loop for each entry on the page. That means we want to find what element all of other other elements (name, location, price, bookings) is housed within. Where on the page is each entry located?"
   ]
  },
  {
   "cell_type": "code",
   "execution_count": 23,
   "metadata": {},
   "outputs": [
    {
     "data": {
      "text/plain": [
       "[]"
      ]
     },
     "execution_count": 23,
     "metadata": {},
     "output_type": "execute_result"
    }
   ],
   "source": [
    "# print out all entries\n",
    "#   NOTE: Has many entries. Uncomment the below code to run it!\n",
    "\n",
    "soup.find_all('div', {'class':'result content-section-list-row cf with-times'})"
   ]
  },
  {
   "cell_type": "markdown",
   "metadata": {},
   "source": [
    "Look over the page. Does every single entry have each element we're seeking?\n",
    "> I did this previously. I know for a fact that not every element has a number of recent bookings. That's probably exactly why OpenTable houses this in JavaScript: they want to continously update the number of bookings with the most relevant number of values."
   ]
  },
  {
   "cell_type": "code",
   "execution_count": 24,
   "metadata": {
    "scrolled": true
   },
   "outputs": [],
   "source": [
    "# We want to only retrieve the text of the bookings.\n",
    "# But what would happen if we just naively print the text of each node?\n",
    "\n",
    "for entry in html.find_all('div', {'class':'result content-section-list-row cf with-times'}):\n",
    "    print(entry.find('div', {'class':'booking'}))   # try adding .text"
   ]
  },
  {
   "cell_type": "code",
   "execution_count": 25,
   "metadata": {},
   "outputs": [],
   "source": [
    "# if we find the element we want, we print it. Otherwise, we print 'ZERO'\n",
    "for entry in html.find_all('div', {'class':'result content-section-list-row cf with-times'}):\n",
    "        divs = entry.find('div', {'class':'booking'})\n",
    "        \n",
    "        if divs:\n",
    "            print(divs.text)\n",
    "        else:\n",
    "            print('ZERO')"
   ]
  },
  {
   "cell_type": "markdown",
   "metadata": {},
   "source": [
    "What do you notice takes the place when booking is not found?\n",
    "\n",
    "We could use exception handling (`try`/`except` blocks) to resolve this. However, exceptions should only be used to handle rare or unexpected errors -- never for normal program flow.\n",
    "\n",
    "In this case, we expect that some entries will be zero. So, we can just use an `if` statement that tests whether there are any `divs` present; if not, display `'ZERO'`. Here's a demo:"
   ]
  },
  {
   "cell_type": "code",
   "execution_count": 26,
   "metadata": {},
   "outputs": [],
   "source": [
    "# if we find the element we want, we print it. Otherwise, we print 'ZERO'\n",
    "for entry in html.find_all('div', {'class':'result content-section-list-row cf with-times'}):\n",
    "    booking_tag = entry.find('div', {'class':'booking'})\n",
    "    \n",
    "    if booking_tag:\n",
    "        print(booking_tag.text)\n",
    "    else:\n",
    "        print('ZERO')"
   ]
  },
  {
   "cell_type": "markdown",
   "metadata": {},
   "source": [
    "After previously completing this, we observed that all other elements WILL be returned. This means we do not have to always handle these cases.\n",
    "\n",
    "<a id=\"challenge-pandas\"></a>\n",
    "### Challenge: Use Pandas to create a DataFrame of bookings\n",
    "\n",
    "However, the onus is on you to now put all the pieces together.\n",
    "\n",
    "Loop through each entry. For each entry, grab the relevant information we want (name, location, price, bookings). Produce a dataframe with the columns \"name\",\"location\",\"price\",\"bookings\" that contains the 100 entries we would like."
   ]
  },
  {
   "cell_type": "code",
   "execution_count": 29,
   "metadata": {},
   "outputs": [],
   "source": [
    "import pandas as pd"
   ]
  },
  {
   "cell_type": "code",
   "execution_count": 30,
   "metadata": {},
   "outputs": [],
   "source": [
    "# I'm going to create my empty df first\n",
    "dc_eats = pd.DataFrame(columns=[\"name\",\"location\",\"price\",\"bookings\"])"
   ]
  },
  {
   "cell_type": "code",
   "execution_count": 27,
   "metadata": {},
   "outputs": [],
   "source": [
    "#A: \n",
    "for entry in html.find_all('div', {'class':'result content-section-list-row cf with-times'}):\n",
    "    # grab the name\n",
    "    entry.find(name='span', attrs={'class':'rest-row-name-text'}).text\n",
    "    # grab the location\n",
    "    entry.find(name='span', attrs={'class':'rest-row-meta--location rest-row-meta-text'}).text\n",
    "    # grab the pricing\n",
    "    entry.find('div', {'class':'rest-row-pricing'}).find('i').text.count('$')\n",
    "    # try to find the number of bookings:\n",
    "    bookings = 'NA'\n",
    "    booking_tag = entry.find('div', {'class':'booking'})\n",
    "    if booking_tag:\n",
    "        match=re.search('\\d+',booking_tag.text)\n",
    "        if match:\n",
    "            bookings = match.group()\n",
    "    dc_eats.loc[len(dc_eats)]=[name, location, price, bookings]\n",
    "    "
   ]
  },
  {
   "cell_type": "code",
   "execution_count": 31,
   "metadata": {},
   "outputs": [
    {
     "data": {
      "text/html": [
       "<div>\n",
       "<style scoped>\n",
       "    .dataframe tbody tr th:only-of-type {\n",
       "        vertical-align: middle;\n",
       "    }\n",
       "\n",
       "    .dataframe tbody tr th {\n",
       "        vertical-align: top;\n",
       "    }\n",
       "\n",
       "    .dataframe thead th {\n",
       "        text-align: right;\n",
       "    }\n",
       "</style>\n",
       "<table border=\"1\" class=\"dataframe\">\n",
       "  <thead>\n",
       "    <tr style=\"text-align: right;\">\n",
       "      <th></th>\n",
       "      <th>name</th>\n",
       "      <th>location</th>\n",
       "      <th>price</th>\n",
       "      <th>bookings</th>\n",
       "    </tr>\n",
       "  </thead>\n",
       "  <tbody>\n",
       "  </tbody>\n",
       "</table>\n",
       "</div>"
      ],
      "text/plain": [
       "Empty DataFrame\n",
       "Columns: [name, location, price, bookings]\n",
       "Index: []"
      ]
     },
     "execution_count": 31,
     "metadata": {},
     "output_type": "execute_result"
    }
   ],
   "source": [
    "# check out our work\n",
    "dc_eats.head()"
   ]
  },
  {
   "cell_type": "markdown",
   "metadata": {},
   "source": [
    "Awesome! We succeeded.\n",
    "\n",
    "<a id=\"selenium-typing\"></a>\n",
    "### Auto-typing using Selenium\n",
    "\n",
    "Now, let's explore some of the other functionality of a webdriver. We've barely scratched the surface."
   ]
  },
  {
   "cell_type": "code",
   "execution_count": 32,
   "metadata": {},
   "outputs": [],
   "source": [
    "# we can send keys as well\n",
    "# import\n",
    "from selenium.webdriver.common.keys import Keys"
   ]
  },
  {
   "cell_type": "code",
   "execution_count": 34,
   "metadata": {},
   "outputs": [],
   "source": [
    "# open Firefox\n",
    "driver = webdriver.Firefox(executable_path=\"C:/Users/13305/Documents/data_science_ga/geckodriver.exe\")\n",
    "# visit Python\n",
    "driver.get(\"http://www.python.org\")\n",
    "# verify we're in the right place\n",
    "assert \"Python\" in driver.title"
   ]
  },
  {
   "cell_type": "markdown",
   "metadata": {},
   "source": [
    "Let's try automatedly typing `pycon` in the search box and hitting the return key:"
   ]
  },
  {
   "cell_type": "code",
   "execution_count": 35,
   "metadata": {},
   "outputs": [],
   "source": [
    "# find the search position\n",
    "elem = driver.find_element_by_name(\"q\")\n",
    "\n",
    "# clear it\n",
    "elem.clear()\n",
    "\n",
    "# type in pycon\n",
    "elem.send_keys(\"pycon\")\n",
    "\n",
    "# send those keys\n",
    "elem.send_keys(Keys.RETURN)"
   ]
  },
  {
   "cell_type": "code",
   "execution_count": 36,
   "metadata": {},
   "outputs": [],
   "source": [
    "# close\n",
    "driver.close()"
   ]
  },
  {
   "cell_type": "code",
   "execution_count": 37,
   "metadata": {},
   "outputs": [],
   "source": [
    "# all at once:\n",
    "driver = webdriver.Firefox(executable_path=\"C:/Users/13305/Documents/data_science_ga/geckodriver.exe\")\n",
    "driver.get(\"http://www.python.org\")\n",
    "assert \"Python\" in driver.title\n",
    "\n",
    "elem = driver.find_element_by_name(\"q\")\n",
    "elem.clear()\n",
    "elem.send_keys(\"pycon\")\n",
    "elem.send_keys(Keys.RETURN)\n",
    "#assert \"No results found.\" not in driver.page_source\n",
    "driver.close()"
   ]
  },
  {
   "cell_type": "markdown",
   "metadata": {},
   "source": [
    "The above example (and many others) are available in the Selenium docs: http://selenium-python.readthedocs.io/getting-started.html\n",
    "\n",
    "What is especially important is exploring functionality like locating elements: http://selenium-python.readthedocs.io/locating-elements.html#locating-elements\n",
    "\n",
    "FAQ:\n",
    "http://selenium-python.readthedocs.io/faq.html"
   ]
  },
  {
   "cell_type": "markdown",
   "metadata": {},
   "source": [
    "### Summary\n",
    "\n",
    "In this lesson, we used the Beautiful Soup library to locate elements on a website then scrape their text. We also used the Selenium headless browser to run JavaScript first before retrieving the page contents."
   ]
  },
  {
   "cell_type": "code",
   "execution_count": null,
   "metadata": {},
   "outputs": [],
   "source": []
  },
  {
   "cell_type": "markdown",
   "metadata": {},
   "source": [
    "## Class Exercise\n",
    "- For all CL housing listings on the front page, scrape the price and title and any other attributes into a dataframe"
   ]
  },
  {
   "cell_type": "markdown",
   "metadata": {},
   "source": [
    "### Summary\n",
    "\n",
    "In this lesson, we used the Beautiful Soup library to locate elements on a website then scrape their text. We also used the Selenium headless browser to run JavaScript first before retrieving the page contents."
   ]
  },
  {
   "cell_type": "code",
   "execution_count": null,
   "metadata": {},
   "outputs": [],
   "source": []
  }
 ],
 "metadata": {
  "anaconda-cloud": {},
  "kernelspec": {
   "display_name": "Python 3",
   "language": "python",
   "name": "python3"
  },
  "language_info": {
   "codemirror_mode": {
    "name": "ipython",
    "version": 3
   },
   "file_extension": ".py",
   "mimetype": "text/x-python",
   "name": "python",
   "nbconvert_exporter": "python",
   "pygments_lexer": "ipython3",
   "version": "3.7.6"
  }
 },
 "nbformat": 4,
 "nbformat_minor": 1
}
