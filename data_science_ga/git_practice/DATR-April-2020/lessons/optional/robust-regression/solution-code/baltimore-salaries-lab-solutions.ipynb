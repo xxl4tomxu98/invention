{
 "cells": [
  {
   "cell_type": "markdown",
   "metadata": {},
   "source": [
    "<img src=\"http://imgur.com/1ZcRyrc.png\" style=\"float: left; margin: 20px; height: 55px\">\n",
    "\n",
    "# Baltimore Salaries\n",
    "\n",
    "_Authors: Greg Baker (SYD)_\n",
    "\n",
    "---\n",
    "\n",
    "The City of Baltimore publishes data about all of its employees, including their salaries. And these annual salaries can differ from their gross pay: Perhaps an employee works overtime and earns more than their official salary; perhaps they are only employed for a part of the year and earn less.\n",
    "\n",
    "In this lab, we'll estimate what a typical city employee's gross pay will be based on their annual salary."
   ]
  },
  {
   "cell_type": "code",
   "execution_count": null,
   "metadata": {},
   "outputs": [],
   "source": [
    "%matplotlib inline\n",
    "import pandas as pd\n",
    "import seaborn as sns\n",
    "import numpy as np\n",
    "import matplotlib.pyplot as plt\n",
    "import datetime as dt"
   ]
  },
  {
   "cell_type": "markdown",
   "metadata": {},
   "source": [
    "## Read the Data Set\n",
    "\n",
    "The Baltimore salaries data set is available in `datasets/Baltimore_City_Employee_Salaries_2011.csv`. You can use Column 0 as an index. Column 4 is a date."
   ]
  },
  {
   "cell_type": "code",
   "execution_count": null,
   "metadata": {},
   "outputs": [],
   "source": [
    "# A:\n",
    "salaries = pd.read_csv('datasets/Baltimore_City_Employee_Salaries_2011.csv', \n",
    "                       index_col=0,\n",
    "                      parse_dates=[4])\n",
    "salaries.head()"
   ]
  },
  {
   "cell_type": "markdown",
   "metadata": {},
   "source": [
    "## Pre-Process the Data (Convert Strings to Numbers)\n",
    "\n",
    "The `AnnualSalary` and `GrossPay` columns are strings and start with a `$`. Strip this off and convert these columns to floats."
   ]
  },
  {
   "cell_type": "code",
   "execution_count": null,
   "metadata": {},
   "outputs": [],
   "source": [
    "# A:\n",
    "salaries.AnnualSalary = salaries.AnnualSalary.str.strip('$').astype(float)\n",
    "salaries.GrossPay = salaries.GrossPay.str.strip('$').astype(float)\n",
    "salaries.head()"
   ]
  },
  {
   "cell_type": "markdown",
   "metadata": {},
   "source": [
    "## Perform Exploratory Data Analysis\n",
    "\n",
    "Create a scatterplot of annual salary versus gross pay."
   ]
  },
  {
   "cell_type": "code",
   "execution_count": null,
   "metadata": {},
   "outputs": [],
   "source": [
    "# A:\n",
    "salaries.plot.scatter(x='AnnualSalary', y='GrossPay')"
   ]
  },
  {
   "cell_type": "code",
   "execution_count": null,
   "metadata": {},
   "outputs": [],
   "source": [
    "sns.regplot('AnnualSalary', 'GrossPay', data=salaries)"
   ]
  },
  {
   "cell_type": "markdown",
   "metadata": {},
   "source": [
    "# Look for a Linear Relationship\n",
    "\n",
    "It seems like there is a linear relationship in there, but it's obscured by a lot of noise.\n",
    "\n",
    "Split the data into training and testing data sets."
   ]
  },
  {
   "cell_type": "code",
   "execution_count": null,
   "metadata": {},
   "outputs": [],
   "source": [
    "# A:\n",
    "import sklearn.model_selection\n",
    "(Xtrain, Xtest, Ytrain, Ytest) = sklearn.model_selection.train_test_split(salaries[['AnnualSalary']],\n",
    "                                                                          salaries.GrossPay)"
   ]
  },
  {
   "cell_type": "markdown",
   "metadata": {},
   "source": [
    "## Plot Ordinary Least Squares\n",
    "\n",
    "The errors in the graph above don't look evenly balanced, which doesn't bode well for ordinary least squares.\n",
    "\n",
    "Let's see what it gives us: Import `sklearn.linear_models`, create an ordinary least squares regressor, and train it."
   ]
  },
  {
   "cell_type": "code",
   "execution_count": null,
   "metadata": {},
   "outputs": [],
   "source": [
    "import sklearn.linear_model\n",
    "ols = sklearn.linear_model.LinearRegression()\n",
    "ols.fit(Xtrain, Ytrain)"
   ]
  },
  {
   "cell_type": "markdown",
   "metadata": {},
   "source": [
    "### Visualize\n",
    "\n",
    "Plot the test data, then plot the predictions from the linear model over it. OLS will generally predict a gross salary that's a little too high."
   ]
  },
  {
   "cell_type": "code",
   "execution_count": null,
   "metadata": {},
   "outputs": [],
   "source": [
    "ols_predictions = ols.predict(Xtest)\n",
    "(fig, ax) = plt.subplots()\n",
    "ax.scatter(Xtest, Ytest)\n",
    "ax.scatter(Xtest, ols_predictions, c='red', s=1)\n",
    "ax.set_xlabel('Annual Salary')\n",
    "ax.set_ylabel(\"Gross Salary\")"
   ]
  },
  {
   "cell_type": "markdown",
   "metadata": {},
   "source": [
    "### Measure\n",
    "\n",
    "Initially, let's look at three metrics to understand how well this line represents the data.\n",
    "\n",
    "- Calculate the $R^2$ score for the predictions it made.\n",
    "- Calculate the median absolute error.\n",
    "- Calculate the mean absolute error.\n",
    "\n",
    "Remember that `sklearn.metrics` has functions for all of these."
   ]
  },
  {
   "cell_type": "code",
   "execution_count": null,
   "metadata": {},
   "outputs": [],
   "source": [
    "# A:\n",
    "\n",
    "import sklearn.metrics\n",
    "print(\"R^2 = \",sklearn.metrics.r2_score(Xtest, ols_predictions))\n",
    "print(\"Median absolute error = \",sklearn.metrics.median_absolute_error(Xtest, ols_predictions))\n",
    "print(\"Mean absolute error = \",sklearn.metrics.mean_absolute_error(Xtest, ols_predictions))"
   ]
  },
  {
   "cell_type": "markdown",
   "metadata": {},
   "source": [
    "## Robust Regression\n",
    "\n",
    "Perform the same analysis using Theil-Sen, RANSAC, and Huber."
   ]
  },
  {
   "cell_type": "markdown",
   "metadata": {},
   "source": [
    "### Theil-Sen\n",
    "\n",
    "Train the Theil-Sen regressor, plot its predictions for the testing data, and calculate the three metrics above. You can copy and paste most of the code you wrote.\n",
    "\n",
    "Expect to see the $R^2$ be worse — and perhaps other metrics be worse — but to have a better-looking fit."
   ]
  },
  {
   "cell_type": "code",
   "execution_count": null,
   "metadata": {},
   "outputs": [],
   "source": [
    "import sklearn.linear_model\n",
    "ts = sklearn.linear_model.TheilSenRegressor()\n",
    "ts.fit(Xtrain, Ytrain)\n",
    "ts_predictions = ts.predict(Xtest)\n",
    "(fig, ax) = plt.subplots()\n",
    "ax.scatter(Xtest, Ytest)\n",
    "ax.scatter(Xtest, ts_predictions, c='red', s=1)\n",
    "ax.set_xlabel('Annual Salary')\n",
    "ax.set_ylabel(\"Gross Salary\")\n",
    "import sklearn.metrics\n",
    "print(\"R^2 = \",sklearn.metrics.r2_score(Xtest, ts_predictions))\n",
    "print(\"Median absolute error = \",sklearn.metrics.median_absolute_error(Xtest, ts_predictions))\n",
    "print(\"Mean absolute error = \",sklearn.metrics.mean_absolute_error(Xtest, ts_predictions))"
   ]
  },
  {
   "cell_type": "markdown",
   "metadata": {},
   "source": [
    "## RANSAC\n",
    "\n",
    "Perform this analysis again using RANSAC."
   ]
  },
  {
   "cell_type": "code",
   "execution_count": null,
   "metadata": {},
   "outputs": [],
   "source": [
    "import sklearn.linear_model\n",
    "ransac = sklearn.linear_model.RANSACRegressor()\n",
    "ransac.fit(Xtrain, Ytrain)\n",
    "ransac_predictions = ransac.predict(Xtest)\n",
    "(fig, ax) = plt.subplots()\n",
    "ax.scatter(Xtest, Ytest)\n",
    "ax.scatter(Xtest, ransac_predictions, c='red', s=1)\n",
    "ax.set_xlabel('Annual Salary')\n",
    "ax.set_ylabel(\"Gross Salary\")\n",
    "import sklearn.metrics\n",
    "print(\"R^2 = \",sklearn.metrics.r2_score(Xtest, ransac_predictions))\n",
    "print(\"Median absolute error = \",sklearn.metrics.median_absolute_error(Xtest, ransac_predictions))\n",
    "print(\"Mean absolute error = \",sklearn.metrics.mean_absolute_error(Xtest, ransac_predictions))"
   ]
  },
  {
   "cell_type": "markdown",
   "metadata": {},
   "source": [
    "## Huber\n",
    "\n",
    "If you are running an old version of scikit-learn (0.18 or earlier), you might not have the option to create a Huber regressor."
   ]
  },
  {
   "cell_type": "code",
   "execution_count": null,
   "metadata": {},
   "outputs": [],
   "source": [
    "import sklearn.linear_model\n",
    "huber = sklearn.linear_model.HuberRegressor()\n",
    "huber.fit(Xtrain, Ytrain)\n",
    "huber_predictions = huber.predict(Xtest)\n",
    "(fig, ax) = plt.subplots()\n",
    "ax.scatter(Xtest, Ytest)\n",
    "ax.scatter(Xtest, huber_predictions, c='red', s=1)\n",
    "ax.set_xlabel('Annual Salary')\n",
    "ax.set_ylabel(\"Gross Salary\")\n",
    "import sklearn.metrics\n",
    "print(\"R^2 = \",sklearn.metrics.r2_score(Xtest, huber_predictions))\n",
    "print(\"Median absolute error = \",sklearn.metrics.median_absolute_error(Xtest, huber_predictions))\n",
    "print(\"Mean absolute error = \",sklearn.metrics.mean_absolute_error(Xtest, huber_predictions))"
   ]
  },
  {
   "cell_type": "markdown",
   "metadata": {},
   "source": [
    "## Review\n",
    "\n",
    "- Which model had the highest $R^2$ score? Why is this obvious?\n",
    "- Which model had the lowest median absolute error?\n",
    "- Which model had the lowest mean absolute error?"
   ]
  },
  {
   "cell_type": "code",
   "execution_count": null,
   "metadata": {},
   "outputs": [],
   "source": [
    "# A:\n",
    "\n",
    "# OLS will always have the highest R^2 score, because that's what it maximizes.\n",
    "# Huber usually wins on median absolute error and mean absolute error."
   ]
  },
  {
   "cell_type": "markdown",
   "metadata": {},
   "source": [
    "# Commercial Analysis\n",
    "\n",
    "Say that you are the City of Baltimore's hiring manager. New employees regularly ask how much they are actually likely to earn given the salary to which they are about to agree.\n",
    "\n",
    "You don't want to give an answer that is too high because you might be putting the city at risk for a lawsuit for misrepresenting the job. On the other hand, you don't want to give an answer that's too low because the candidate might pass up on the job and work elsewhere.\n",
    "\n",
    "You decide that it will cost \\$0.05 in lawsuit risk for each dollar you overrepresent, but only \\$0.01 for each dollar you underrepresent.\n",
    "\n",
    "E.g., if a candidate is actually likely to earn \\$100,000 and you say \\$120,000, this is worth \\$10,000 in potential lawsuits for misrepresentation. If you say \\$80,000, then that will cost you \\$200 in potential recruiters' fees to find someone else."
   ]
  },
  {
   "cell_type": "markdown",
   "metadata": {},
   "source": [
    "## Evaluate Existing Models\n",
    "\n",
    "You will need to choose between the four models you've built. Select the one that costs the city the least amount of money if you were to use it on all of the employees in your testing set.\n",
    "\n",
    "Write a scoring function that returns the dollar value given an estimator, an $X$ testing set, and a $Y$ testing set."
   ]
  },
  {
   "cell_type": "code",
   "execution_count": null,
   "metadata": {},
   "outputs": [],
   "source": [
    "# A:\n",
    "def answer_cost(estimator, X, y):\n",
    "    predictions = list(estimator.predict(X))\n",
    "    y = list(y)\n",
    "    cost = 0.0\n",
    "    for i in range(len(y)):\n",
    "        if predictions[i] > y[i]:\n",
    "            cost += 0.05 * (predictions[i] - y[i])\n",
    "        elif predictions[i] < y[i]:\n",
    "            cost += 0.01 * (y[i] - predictions[i])\n",
    "        else:\n",
    "            cost += 0.0\n",
    "    return cost"
   ]
  },
  {
   "cell_type": "markdown",
   "metadata": {},
   "source": [
    "### Score the Four Models Using This Function\n",
    "\n",
    "- OLS\n",
    "- RANSAC\n",
    "- Theil-Sen\n",
    "- Huber"
   ]
  },
  {
   "cell_type": "code",
   "execution_count": null,
   "metadata": {},
   "outputs": [],
   "source": [
    "# A:\n",
    "print(\"Cost of OLS:\",answer_cost(ols, Xtest, Ytest))\n",
    "print(\"Cost of Theil-Sen:\",answer_cost(ts, Xtest, Ytest))\n",
    "print(\"Cost of RANSAC:\",answer_cost(ransac, Xtest, Ytest))\n",
    "print(\"Cost of Huber:\",answer_cost(huber, Xtest, Ytest))"
   ]
  },
  {
   "cell_type": "markdown",
   "metadata": {},
   "source": [
    "# Optional: Find the Optimal Coefficient\n",
    "\n",
    "In a later module, we'll talk about gradient descent, which would quickly find the best coefficient to minimize the dollar risk to the city. If you're familiar with this technique, feel free to use it here.\n",
    "\n",
    "Alternatively, you could brute-force through small ranges of coefficients to create a linear model that poses the least dollar risk.\n",
    "\n",
    "Remember that you can set the `coef_` and `intercept` attributes instead of training a regressor."
   ]
  },
  {
   "cell_type": "code",
   "execution_count": null,
   "metadata": {},
   "outputs": [],
   "source": [
    "# A:\n",
    "optimal = sklearn.linear_model.LinearRegression()\n",
    "optimal.intercept_ = np.array([0])\n",
    "# We would expect someone with 0 salary to earn $0.\n",
    "best_score = None\n",
    "best_coefficient = None\n",
    "for coef in np.arange(0.5,1.2,0.0001):\n",
    "    optimal.coef_ = np.array([coef])\n",
    "    score = answer_cost(optimal, Xtrain, Ytrain)\n",
    "    if best_score is None or score < best_score:\n",
    "        best_score = score\n",
    "        best_coefficient = coef\n",
    "optimal.coef_ = np.array([best_coefficient])\n",
    "optimal_predictions = optimal.predict(Xtest)\n",
    "(fig, ax) = plt.subplots()\n",
    "ax.scatter(Xtest, Ytest)\n",
    "ax.scatter(Xtest, optimal_predictions, c='red', s=1)\n",
    "ax.set_xlabel('Annual Salary')\n",
    "ax.set_ylabel(\"Gross Salary\")\n",
    "print(\"If we use: \", best_coefficient, \"it will only cost the city $\",answer_cost(optimal, Xtest, Ytest))\n"
   ]
  },
  {
   "cell_type": "markdown",
   "metadata": {},
   "source": [
    "# Optional (2): Improve the Model\n",
    "\n",
    "One factor that will make a big difference to an employee's gross salary is whether they were employed for the whole year.\n",
    "\n",
    "Can you improve the model if you exclude recent hires?"
   ]
  },
  {
   "cell_type": "code",
   "execution_count": null,
   "metadata": {},
   "outputs": [],
   "source": [
    "# A:\n",
    "\n",
    "long_term_employees = salaries[salaries.HireDate < dt.datetime(2011,1,1)]\n",
    "(Xtrain, Xtest, Ytrain, Ytest) = sklearn.model_selection.train_test_split(long_term_employees[['AnnualSalary']],\n",
    "                                                                          long_term_employees.GrossPay)\n",
    "huber = sklearn.linear_model.HuberRegressor()\n",
    "huber.fit(Xtrain, Ytrain)\n",
    "huber_predictions = huber.predict(Xtest)\n",
    "(fig, ax) = plt.subplots()\n",
    "ax.scatter(Xtest, Ytest)\n",
    "ax.scatter(Xtest, huber_predictions, c='red', s=1)\n",
    "ax.set_xlabel('Annual Salary')\n",
    "ax.set_ylabel(\"Gross Salary\")\n",
    "print(\"R^2 = \",sklearn.metrics.r2_score(Xtest, huber_predictions))\n",
    "print(\"Median absolute error = \",sklearn.metrics.median_absolute_error(Xtest, huber_predictions))\n",
    "print(\"Mean absolute error = \",sklearn.metrics.mean_absolute_error(Xtest, huber_predictions))\n",
    "print(\"Cost:\", answer_cost(huber, Xtest, Ytest))"
   ]
  },
  {
   "cell_type": "code",
   "execution_count": null,
   "metadata": {},
   "outputs": [],
   "source": []
  }
 ],
 "metadata": {
  "kernelspec": {
   "display_name": "Python 3",
   "language": "python",
   "name": "python3"
  },
  "language_info": {
   "codemirror_mode": {
    "name": "ipython",
    "version": 3
   },
   "file_extension": ".py",
   "mimetype": "text/x-python",
   "name": "python",
   "nbconvert_exporter": "python",
   "pygments_lexer": "ipython3",
   "version": "3.6.4"
  }
 },
 "nbformat": 4,
 "nbformat_minor": 1
}
