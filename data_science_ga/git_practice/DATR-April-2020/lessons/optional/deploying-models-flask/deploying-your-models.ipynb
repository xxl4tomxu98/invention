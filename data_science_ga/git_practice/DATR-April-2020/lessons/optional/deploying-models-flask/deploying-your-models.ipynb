{
 "cells": [
  {
   "cell_type": "markdown",
   "metadata": {
    "slideshow": {
     "slide_type": "slide"
    }
   },
   "source": [
    "# ![](https://ga-dash.s3.amazonaws.com/production/assets/logo-9f88ae6c9c3871690e33280fcf557f33.png) Deploying your work\n",
    "\n"
   ]
  },
  {
   "cell_type": "markdown",
   "metadata": {
    "slideshow": {
     "slide_type": "slide"
    }
   },
   "source": [
    "# Learning objectives\n",
    "*You will be able to...*\n",
    "\n",
    "- Identify use cases for *deploying* your ML models\n",
    "- Stand up a Flask server and API endpoint\n",
    "- Respond to an HTTP request with model predictions\n",
    "- Pickle your trained models for later use\n",
    "- Pass arguments to an endpoint via a simple web form\n"
   ]
  },
  {
   "cell_type": "markdown",
   "metadata": {
    "slideshow": {
     "slide_type": "slide"
    }
   },
   "source": [
    "### Why deploy your models?\n",
    "\n",
    "You've worked on amazing projects in this class.\n",
    "\n",
    "Your notebooks are great for prototypes, but let's set these models free!"
   ]
  },
  {
   "cell_type": "markdown",
   "metadata": {
    "slideshow": {
     "slide_type": "slide"
    }
   },
   "source": [
    "### Why deploy your models?\n",
    "\n",
    "*Productionalizing* a model means making it ready for real-world usage. This might require:\n",
    "- Dealing with high volumes of data\n",
    "- Being robust to malformed inputs\n",
    "- Integrating with existing tools through an API\n",
    "- Allowing access only to certain users\n",
    "- Handling edge cases, like empty inputs or outputs\n",
    "\n",
    "*Deploying* a productionalized model means making it available to use."
   ]
  },
  {
   "cell_type": "markdown",
   "metadata": {
    "slideshow": {
     "slide_type": "slide"
    }
   },
   "source": [
    "### How do you productionalize?\n",
    "\n",
    "This gets into *engineering*, and alas is not something we can cover in-depth. If you want to learn more, begin with:\n",
    "- Logging\n",
    "- Error handling\n",
    "- Feature branching\n",
    "- Database resiliency\n",
    "- Credentials\n",
    "- The causes of technical debt, in software engineering generally and machine learning specifically\n",
    "\n",
    "There is recommended reading on all of this in the Further Reading section."
   ]
  },
  {
   "cell_type": "markdown",
   "metadata": {
    "slideshow": {
     "slide_type": "slide"
    }
   },
   "source": [
    "### How will *we* productionalize and deploy?\n",
    "\n",
    "You can turn your models into a usable (protoype) services with three steps:\n",
    "- *Pickling* a trained model\n",
    "- Setting up a local web server\n",
    "- Hooking your trained model to an API endpoint on that server"
   ]
  },
  {
   "cell_type": "markdown",
   "metadata": {
    "slideshow": {
     "slide_type": "slide"
    }
   },
   "source": [
    "# Pickling\n",
    "\n",
    "This is the process of \"serializing\" a Python object, i.e. writing an object as a byte stream to a file.\n",
    "\n",
    "You can save this to disk and use it later!"
   ]
  },
  {
   "cell_type": "markdown",
   "metadata": {
    "slideshow": {
     "slide_type": "slide"
    }
   },
   "source": [
    "Let's say you have an object you need to work with again. Take a list as an example:"
   ]
  },
  {
   "cell_type": "code",
   "execution_count": null,
   "metadata": {
    "collapsed": true,
    "slideshow": {
     "slide_type": "fragment"
    }
   },
   "outputs": [],
   "source": [
    "sample = ['This', 'list', 'is', 'too', 'big']"
   ]
  },
  {
   "cell_type": "markdown",
   "metadata": {
    "slideshow": {
     "slide_type": "fragment"
    }
   },
   "source": [
    "Maybe that object is too big and is clogging up your notebook. Or maybe it took you a while to create that object, and you want to save it.\n",
    "\n",
    "Let's pickle it!"
   ]
  },
  {
   "cell_type": "code",
   "execution_count": null,
   "metadata": {
    "collapsed": true,
    "slideshow": {
     "slide_type": "slide"
    }
   },
   "outputs": [],
   "source": [
    "import pickle"
   ]
  },
  {
   "cell_type": "code",
   "execution_count": null,
   "metadata": {
    "collapsed": false,
    "slideshow": {
     "slide_type": "fragment"
    }
   },
   "outputs": [],
   "source": [
    "with open('my_pickled_sample.pkl', 'w') as picklefile:\n",
    "    pickle.dump(sample, picklefile)"
   ]
  },
  {
   "cell_type": "markdown",
   "metadata": {
    "slideshow": {
     "slide_type": "slide"
    }
   },
   "source": [
    "The object is still here:"
   ]
  },
  {
   "cell_type": "code",
   "execution_count": null,
   "metadata": {
    "collapsed": false,
    "slideshow": {
     "slide_type": "fragment"
    }
   },
   "outputs": [],
   "source": [
    "sample"
   ]
  },
  {
   "cell_type": "markdown",
   "metadata": {
    "slideshow": {
     "slide_type": "fragment"
    }
   },
   "source": [
    "And it's in our folder:"
   ]
  },
  {
   "cell_type": "code",
   "execution_count": null,
   "metadata": {
    "collapsed": false,
    "slideshow": {
     "slide_type": "fragment"
    }
   },
   "outputs": [],
   "source": [
    "!ls"
   ]
  },
  {
   "cell_type": "markdown",
   "metadata": {
    "slideshow": {
     "slide_type": "slide"
    }
   },
   "source": [
    "But we can delete the object:"
   ]
  },
  {
   "cell_type": "code",
   "execution_count": null,
   "metadata": {
    "collapsed": false,
    "slideshow": {
     "slide_type": "fragment"
    }
   },
   "outputs": [],
   "source": [
    "del(sample)"
   ]
  },
  {
   "cell_type": "markdown",
   "metadata": {
    "slideshow": {
     "slide_type": "fragment"
    }
   },
   "source": [
    "It's gone!"
   ]
  },
  {
   "cell_type": "code",
   "execution_count": null,
   "metadata": {
    "collapsed": false,
    "slideshow": {
     "slide_type": "fragment"
    }
   },
   "outputs": [],
   "source": [
    "print(sample)"
   ]
  },
  {
   "cell_type": "markdown",
   "metadata": {
    "slideshow": {
     "slide_type": "slide"
    }
   },
   "source": [
    "And reload it from the pickled file:"
   ]
  },
  {
   "cell_type": "code",
   "execution_count": null,
   "metadata": {
    "collapsed": true,
    "slideshow": {
     "slide_type": "fragment"
    }
   },
   "outputs": [],
   "source": [
    "with open('my_pickled_sample.pkl', 'r') as picklefile:\n",
    "    the_same_sample = pickle.load(picklefile)"
   ]
  },
  {
   "cell_type": "markdown",
   "metadata": {
    "slideshow": {
     "slide_type": "slide"
    }
   },
   "source": [
    "It's back!"
   ]
  },
  {
   "cell_type": "code",
   "execution_count": null,
   "metadata": {
    "collapsed": false,
    "slideshow": {
     "slide_type": "fragment"
    }
   },
   "outputs": [],
   "source": [
    "print(the_same_sample)"
   ]
  },
  {
   "cell_type": "markdown",
   "metadata": {
    "slideshow": {
     "slide_type": "slide"
    }
   },
   "source": [
    "You might be asking **wait, why would I pickle something instead of writing it to a file?**\n",
    "\n",
    "Good question. Saving things as .csv, .txt, and .json is still useful if you need to save a file. Especially if other people need to use it. \n",
    "\n"
   ]
  },
  {
   "cell_type": "markdown",
   "metadata": {
    "slideshow": {
     "slide_type": "slide"
    }
   },
   "source": [
    "But pickling is useful because it compresses your data **as is** -- you can pickle almost every Python data structure. That includes:\n",
    "- functions\n",
    "- classes\n",
    "- numpy arrays\n",
    "- fitted models"
   ]
  },
  {
   "cell_type": "markdown",
   "metadata": {
    "slideshow": {
     "slide_type": "slide"
    }
   },
   "source": [
    "If you have a model that took a long time to fit, and you want to save that model instead of refitting it, you can do something like this:\n",
    "\n",
    "```python\n",
    "X = df[features]\n",
    "y = df['price']\n",
    "\n",
    "model = lm.LinearRegression\n",
    "model.fit(X,y)\n",
    "\n",
    "#Now the model is fitted, so save it!\n",
    "\n",
    "with open('pickled_model.pkl', 'w') as picklefile:\n",
    "    pickle.dump(model, picklefile)\n",
    "```\n",
    "\n",
    "    "
   ]
  },
  {
   "cell_type": "markdown",
   "metadata": {
    "slideshow": {
     "slide_type": "slide"
    }
   },
   "source": [
    "### Let's do that with a Titanic survival model\n",
    "\n",
    "Our classifier algorithm will be a random forest, which as you know is relatively slow to train."
   ]
  },
  {
   "cell_type": "code",
   "execution_count": null,
   "metadata": {
    "collapsed": true,
    "slideshow": {
     "slide_type": "slide"
    }
   },
   "outputs": [],
   "source": [
    "import numpy as np\n",
    "import pandas as pd\n",
    "from sklearn.ensemble import RandomForestClassifier\n",
    "\n",
    "df = pd.read_csv('assets/datasets/titanic.csv')\n",
    "include = ['Pclass', 'Sex', 'Age', 'Fare', 'SibSp', 'Survived']\n",
    "\n",
    "# Create dummies and drop NaNs\n",
    "df['Sex'] = df['Sex'].apply(lambda x: 0 if x == 'male' else 1)\n",
    "df = df[include].dropna()\n",
    "\n",
    "X = df[['Pclass', 'Sex', 'Age', 'Fare', 'SibSp']]\n",
    "y = df['Survived']\n",
    "\n",
    "## Note we're fitting on the entire dataset; we'll assume\n",
    "## that 100 estimators and default hyperparameters are optimal\n",
    "PREDICTOR = RandomForestClassifier(n_estimators=100).fit(X, y)"
   ]
  },
  {
   "cell_type": "code",
   "execution_count": null,
   "metadata": {
    "collapsed": false,
    "slideshow": {
     "slide_type": "slide"
    }
   },
   "outputs": [],
   "source": [
    "with open('titanic_rfc.pkl', 'w') as picklefile:\n",
    "    pickle.dump(PREDICTOR, picklefile)"
   ]
  },
  {
   "cell_type": "markdown",
   "metadata": {
    "slideshow": {
     "slide_type": "slide"
    }
   },
   "source": [
    "# Warning\n",
    "\n",
    "### Never open a pickled file from an unknown source!"
   ]
  },
  {
   "cell_type": "markdown",
   "metadata": {
    "slideshow": {
     "slide_type": "slide"
    }
   },
   "source": [
    "## Introduction to Flask\n",
    "![flask logo](http://flask.pocoo.org/static/logo/flask.png)\n"
   ]
  },
  {
   "cell_type": "markdown",
   "metadata": {
    "slideshow": {
     "slide_type": "slide"
    }
   },
   "source": [
    "Flask is a fast, lightweight way to connect your Python scripts to a server. It's a simple and robust framework that can do small tasks (create a microblog, stand up a simple API) or complex ones (Pinterest's API, create a twitter clone).\n",
    "\n",
    "Let's jump in with a simple example. Then, we'll expand it to show what it can do with your models. But first you may need to:\n",
    "\n",
    "```bash\n",
    "$ pip install Flask\n",
    "```\n",
    "\n"
   ]
  },
  {
   "cell_type": "markdown",
   "metadata": {
    "slideshow": {
     "slide_type": "slide"
    }
   },
   "source": [
    "## Hello, world.\n",
    "Create a new file called `hello.py` . Type in this code line by line. No copy pasting!\n",
    "\n",
    "```Python\n",
    "import flask\n",
    "app = flask.Flask(__name__)\n",
    "\n",
    "@app.route(\"/\")\n",
    "def hello():\n",
    "    return \"Hello World!\"\n",
    "\n",
    "if __name__ == '__main__':\n",
    "    app.run(debug=True)\n",
    "```\n",
    "\n",
    "\n"
   ]
  },
  {
   "cell_type": "markdown",
   "metadata": {
    "slideshow": {
     "slide_type": "slide"
    }
   },
   "source": [
    "Three things happen here:\n",
    "- initialize the app\n",
    "- use built-in decorators\\* to define what happens on a page\n",
    "- launch the app\n",
    "\n",
    "\\* I'll explain soon..."
   ]
  },
  {
   "cell_type": "markdown",
   "metadata": {
    "slideshow": {
     "slide_type": "slide"
    }
   },
   "source": [
    "Now launch the file from your command line:\n",
    "\n",
    "```bash\n",
    "$ python hello.py\n",
    "* Running on http://127.0.0.1:5000/ (Press CTRL+C to quit)\n",
    "```\n",
    "\n",
    "Go to that URL$^*$ in your browser to see your app running on your `localhost`. (Or use `curl`!)\n",
    "\n",
    "\n",
    "$^*$ **Your port may not be 5000. There may also be a longer URL which you need to copy-paste exactly.**\n"
   ]
  },
  {
   "cell_type": "markdown",
   "metadata": {
    "slideshow": {
     "slide_type": "slide"
    }
   },
   "source": [
    "### Arguments and styling\n",
    "\n",
    "Add the following route underneath the hello() function:\n",
    "\n",
    "```Python\n",
    "@app.route('/greet/<name>')\n",
    "def greet(name):\n",
    "    '''Say hello to your first parameter'''\n",
    "    return \"Hello, {}!\".format(name)\n",
    "```\n",
    "\n",
    "Save, and the app should automatically restart; if it doesn't, you can `ctrl-C` and launch it again yourself. Now navigate to `http://127.0.0.1:5000/greet/Roger`. Your function should respond to that input!\n",
    "\n"
   ]
  },
  {
   "cell_type": "markdown",
   "metadata": {
    "slideshow": {
     "slide_type": "slide"
    }
   },
   "source": [
    "### Decorators\n",
    "\n",
    "What's a decorator? The short story: they put wrap one function around another. So the previous function is actually:\n",
    "\n",
    "```Python\n",
    "app.route(greet(name))\n",
    "```\n",
    "\n",
    "See the Further Reading section for a full tutorial. For now, we just need to know that the `@app.route(endpoint)` pattern is how you tell Flask to listen to a particular URL, and what to do if requests are sent there."
   ]
  },
  {
   "cell_type": "markdown",
   "metadata": {
    "slideshow": {
     "slide_type": "slide"
    }
   },
   "source": [
    "Since the `return` statement sends text to an HTML page, you can style it with HTML tags:\n",
    "\n",
    "```Python\n",
    "@app.route(\"/\")\n",
    "def hello():\n",
    "    return '''\n",
    "    <body>\n",
    "    <h2> Hello World! <h2>\n",
    "    </body>\n",
    "    '''\n",
    "```\n",
    "\n",
    "(If you make any coding mistakes, your server may shut down with an error message. Fix the code and rerun!)\n",
    "\n"
   ]
  },
  {
   "cell_type": "markdown",
   "metadata": {
    "slideshow": {
     "slide_type": "slide"
    }
   },
   "source": [
    "## Add in machine learning\n",
    "We can use Flask to share our machine learning predictions.\n",
    "\n",
    "Create a new file `application.py`. Import and initialize the flask app, and launch the server at the bottom. Leave room in the middle to add in your model and routes later on.\n",
    "\n",
    "\n"
   ]
  },
  {
   "cell_type": "markdown",
   "metadata": {
    "slideshow": {
     "slide_type": "slide"
    }
   },
   "source": [
    "```Python\n",
    "import flask\n",
    "app = flask.Flask(__name__)\n",
    "\n",
    "#-------- MODEL GOES HERE -----------#\n",
    "\n",
    "#-------- ROUTES GO HERE -----------#\n",
    "\n",
    "if __name__ == '__main__':\n",
    "    '''Connects to the server'''\n",
    "\n",
    "    HOST = '127.0.0.1'\n",
    "    PORT = '4000'\n",
    "    app.run(HOST, PORT)\n",
    "```\n",
    "\n",
    "Note that this time we specifed the host and port we want the app to run on.\n"
   ]
  },
  {
   "cell_type": "markdown",
   "metadata": {
    "slideshow": {
     "slide_type": "slide"
    }
   },
   "source": [
    "### Deploying an SMS spam detector\n",
    "\n",
    "Here's an idea for a first ML app: something to identify text message spam.\n",
    "\n",
    "You already know how to make this! Let's hook it up to an endpoint."
   ]
  },
  {
   "cell_type": "markdown",
   "metadata": {
    "slideshow": {
     "slide_type": "slide"
    }
   },
   "source": [
    "Import the libraries we need, load our SMS spam dataset from the NLP lesson, and define our target and feature variables.\n",
    "\n",
    "```Python\n",
    "\n",
    "#-------- MODEL GOES HERE -----------#\n",
    "import pandas as pd\n",
    "import numpy as np\n",
    "from sklearn.feature_extraction.text import TfidfVectorizer\n",
    "from sklearn.naive_bayes import MultinomialNB\n",
    "\n",
    "df = pd.read_csv('./assets/datasets/SMSSpamCollection.txt', sep='\\t', header=None)\n",
    "df.columns = ['target', 'msg']\n",
    "y = df['target']\n",
    "X = df['msg']\n",
    "```"
   ]
  },
  {
   "cell_type": "markdown",
   "metadata": {
    "slideshow": {
     "slide_type": "slide"
    }
   },
   "source": [
    "Now vectorize the features (with help from TfidfVectorizer) and fit a Naive Bayes model.\n",
    "\n",
    "```Python\n",
    "# Tfidf, filter stop words, 300 features\n",
    "cvec = TfidfVectorizer(stop_words='english', max_features = 300)\n",
    "X = cvec.fit_transform(X)\n",
    "clf = MultinomialNB()\n",
    "clf.fit(X, y)\n",
    "```\n"
   ]
  },
  {
   "cell_type": "markdown",
   "metadata": {
    "slideshow": {
     "slide_type": "slide"
    }
   },
   "source": [
    "### Make a simple API\n",
    "Here's the fun part. Now that we have a classifier, we need to get some values to make our predictions.\n",
    "\n",
    "One way to do this is to get information from the **URL parameters**. These are the part of a URL that come after the `?` and are matched by key:value pairs. For example, if you navigate to\n",
    "`http://localhost:4000/is_spam?msg=\"50% off fidget spinners!\"` Flask can retrieve that message data for you. Let's write a route to do just that:\n"
   ]
  },
  {
   "cell_type": "markdown",
   "metadata": {
    "slideshow": {
     "slide_type": "slide"
    }
   },
   "source": [
    "This will look for a `GET` request containing a `msg` key at the `/is_spam` endpoint.\n",
    "\n",
    "So visiting `http://localhost:4000/is_spam?msg=\"50% off fidget spinners!\"` will set `flask.request.args['msg']` to \"50% off fidget spinners!\". Then we transform this into something the model can read.\n",
    "\n",
    "```Python\n",
    "#-------- ROUTES GO HERE -----------#\n",
    "@app.route('/is_spam', methods=[\"GET\"])\n",
    "def is_spam():\n",
    "    msg = pd.Series(flask.request.args['msg'])\n",
    "    X_new = cvec.transform(msg)\n",
    "    score = clf.predict(X_new)\n",
    "    results = {'prediction': score[0]}\n",
    "    return flask.jsonify(results)\n",
    "```"
   ]
  },
  {
   "cell_type": "markdown",
   "metadata": {
    "slideshow": {
     "slide_type": "slide"
    }
   },
   "source": [
    "And... voila! Save the file. Launch your app. (Give it 5-10 seconds to start.) You now have a simple API for your model. Try visiting:\n",
    "\n",
    "`http://localhost:4000/is_spam?msg=\"50% off fidget spinners!\"`\n",
    "\n",
    "Or\n",
    "\n",
    "`http://localhost:4000/is_spam?msg=\"pick up milk at the store\"`\n",
    "\n",
    "Play with the message in the URL. You should get a single prediction of spam or ham in neatly formatted JSON. (`localhost` is just a variable set to 127.0.0.1 by default.)\n"
   ]
  },
  {
   "cell_type": "markdown",
   "metadata": {
    "slideshow": {
     "slide_type": "slide"
    }
   },
   "source": [
    "### Customizing your API\n",
    "\n",
    "`request.args` is just a dictionary holding the key:value pairs we sent to Flask.\n",
    "\n",
    "Let's write a new route for a Titanic predictor endpoint! Add this above your `is_spam()` function.\n"
   ]
  },
  {
   "cell_type": "markdown",
   "metadata": {
    "slideshow": {
     "slide_type": "slide"
    }
   },
   "source": [
    "```Python\n",
    "#-------- ROUTES GO HERE -----------#\n",
    "@app.route('/predict', methods=[\"GET\"])\n",
    "def predict():\n",
    "    pclass = flask.request.args['pclass']\n",
    "    sex = flask.request.args['sex']\n",
    "    age = flask.request.args['age']\n",
    "    fare = flask.request.args['fare']\n",
    "    sibsp = flask.request.args['sibsp']\n",
    "\n",
    "    item = [pclass, sex, age, fare, sibsp]\n",
    "    score = PREDICTOR.predict_proba(item)\n",
    "    results = {'survival chances': score[0,1], 'death chances': score[0,0]}\n",
    "    return flask.jsonify(results)\n",
    "```"
   ]
  },
  {
   "cell_type": "markdown",
   "metadata": {
    "slideshow": {
     "slide_type": "slide"
    }
   },
   "source": [
    "### Aren't we forgetting something...?\n",
    "\n",
    "We also need the model, `PREDICTOR`! We could rebuild it on the spot, like we did with our Naive Bayes model, but instead of doing all that work let's use the pickled version.\n",
    "\n",
    "(Plus, Random Forests are non-deterministic models -- so you need to use the pickled model to ensure you get the same results every time.)"
   ]
  },
  {
   "cell_type": "markdown",
   "metadata": {
    "slideshow": {
     "slide_type": "slide"
    }
   },
   "source": [
    "Add this above your spam/ham model code.\n",
    "\n",
    "```python\n",
    "#-------- MODEL GOES HERE -----------#\n",
    "import pickle\n",
    "\n",
    "with open('titanic_rfc.pkl', 'r') as picklefile:\n",
    "    PREDICTOR = pickle.load(picklefile)\n",
    "```"
   ]
  },
  {
   "cell_type": "markdown",
   "metadata": {
    "slideshow": {
     "slide_type": "slide"
    }
   },
   "source": [
    "Done! Save the file. Restart the app:\n",
    "\n",
    "```bash\n",
    "* Running on http://127.0.0.1:4000/ (Press CTRL+C to quit)\n",
    "> ^C\n",
    "> python application.py\n",
    "```\n",
    "Then try visiting:\n",
    "\n",
    "http://localhost:4000/predict?pclass=2&sex=1&age=18&fare=500&sibsp=1\n",
    "\n",
    "Play with the parameters in the URL. You should get the predicted probability of death and survival.\n",
    "\n"
   ]
  },
  {
   "cell_type": "markdown",
   "metadata": {
    "slideshow": {
     "slide_type": "slide"
    }
   },
   "source": [
    "Now try with `curl` at your command line:\n",
    "\n",
    "`curl -X GET \"http://localhost:4000/predict?pclass=2&sex=1&age=18&fare=500&sibsp=1\"`\n",
    "\n",
    "(Hitting the spam/ham endpoint with `curl` is a little more complicated, because you need encode special characters like whitespaces.)"
   ]
  },
  {
   "cell_type": "markdown",
   "metadata": {
    "slideshow": {
     "slide_type": "slide"
    }
   },
   "source": [
    "## Make a simple webform.\n",
    "Well that was exciting. But it doesn't look very nice. Let's create a simple webform to read in the inputs. Create a file named `page.html` with this HTML:\n",
    "\n",
    "```html\n",
    "<html>\n",
    "  <head>\n",
    "    <title> Titanic Survivor-O-Matic </title>\n",
    "  </head>\n",
    "   <body>\n",
    "      <form action = \"http://localhost:4000/result\" method = \"POST\">\n",
    "         <p>Class <input type = \"int\" name = \"pclass\" /></p>\n",
    "         <p>Sex <input type = \"int\" name = \"sex\" /></p>\n",
    "         <p>Age <input type = \"int\" name = \"age\" /></p>\n",
    "         <p>Fare <input type =\"int\" name = \"fare\" /></p>\n",
    "         <p># of siblings <input type =\"int\" name = \"sibsp\" /></p>\n",
    "\n",
    "         <p><input type = \"submit\" value = \"submit\" /></p>\n",
    "      </form>\n",
    "   </body>\n",
    "</html>\n",
    "```\n",
    "\n"
   ]
  },
  {
   "cell_type": "markdown",
   "metadata": {
    "slideshow": {
     "slide_type": "slide"
    }
   },
   "source": [
    "Flask knows how to read `form` tags in an HTML file that have been `POST`ed to the server.\n",
    "\n",
    "Add two new decorators in below your first one."
   ]
  },
  {
   "cell_type": "markdown",
   "metadata": {
    "slideshow": {
     "slide_type": "slide"
    }
   },
   "source": [
    "```Python\n",
    "#---------- CREATING AN API, METHOD 2 ----------------#\n",
    "\n",
    "# This method takes input via an HTML page\n",
    "@app.route('/page')\n",
    "def page():\n",
    "   with open(\"page.html\", 'r') as viz_file:\n",
    "       return viz_file.read()\n",
    "\n",
    "@app.route('/result', methods=['POST', 'GET'])\n",
    "def result():\n",
    "    '''Gets prediction using the HTML form'''\n",
    "    if flask.request.method == 'POST':\n",
    "\n",
    "       inputs = flask.request.form\n",
    "\n",
    "       pclass = inputs['pclass'][0]\n",
    "       sex = inputs['sex'][0]\n",
    "       age = inputs['age'][0]\n",
    "       fare = inputs['fare'][0]\n",
    "       sibsp = inputs['sibsp'][0]\n",
    "\n",
    "       item = np.array([pclass, sex, age, fare, sibsp])\n",
    "       score = PREDICTOR.predict_proba(item)\n",
    "       results = {'survival chances': score[0,1], 'death chances': score[0,0]}\n",
    "       return flask.jsonify(results)\n",
    "\n",
    "```"
   ]
  },
  {
   "cell_type": "markdown",
   "metadata": {
    "slideshow": {
     "slide_type": "slide"
    }
   },
   "source": [
    "Save, close, and relaunch the app. Go to `http://127.0.0.1:4000/page` and type in your inputs.\n",
    "\n",
    "Both methods should still be there. You can either play with the URL parameters at `/predict` or enter them at `/page`\n",
    "\n",
    "\n"
   ]
  },
  {
   "cell_type": "markdown",
   "metadata": {
    "slideshow": {
     "slide_type": "slide"
    }
   },
   "source": [
    "## Takehome exercises\n",
    "See if you can customize and play around with the app you just built. Try the following things:\n",
    "- Comment through the code so you understand what's happening.\n",
    "- Make the app look nicer by playing with the HTML.\n",
    "- Change the model or the features used for prediction.\n",
    "- See if you can return more values to the page, like the model's parameters.\n",
    "- Modularize! Take the modeling code out of this file. For the spam/ham model, fit the vectorizer *and* the model in a different .py file; pickle both and load those files into the app.\n",
    "\n"
   ]
  },
  {
   "cell_type": "markdown",
   "metadata": {
    "slideshow": {
     "slide_type": "slide"
    }
   },
   "source": [
    "## Examples\n",
    "Here are some examples of Flask apps in action. Fork and clone the apps you like so you can play with them and edit them on your local machine.\n",
    "\n",
    "Two apps using scikit-learn:\n",
    "- [Visualizing the Iris dataset using Flask and Angular JS](https://github.com/ColCarroll/flask_angular_example)\n",
    "- [Using Neural Nets to recognize images](https://github.com/mdlai/digit_recognition)\n",
    "\n",
    "More websites built in Flask:\n",
    "- [The Flask Website itself!](http://flask.pocoo.org/)\n",
    "- [A reddit clone](https://github.com/codelucas/flask_reddit)\n",
    "\n"
   ]
  },
  {
   "cell_type": "markdown",
   "metadata": {
    "slideshow": {
     "slide_type": "slide"
    }
   },
   "source": [
    "# Further reading\n",
    "\n",
    "### Flask\n",
    "\n",
    "- [The Flask Documentation](http://flask.pocoo.org/docs/0.11/)\n",
    "- [A Flask tutorial to follow along with](https://github.com/miguelgrinberg/flask-pycon2014)\n",
    "- [Another tutorial that gets into CSS styling](https://code.tutsplus.com/tutorials/an-introduction-to-pythons-flask-framework--net-28822)\n",
    "- [The Flask mega tutorial](http://blog.miguelgrinberg.com/post/the-flask-mega-tutorial-part-ii-templates)\n",
    "- [Flask's development server is not for production](https://stackoverflow.com/questions/12269537/is-the-server-bundled-with-flask-safe-to-use-in-production)\n",
    "- [Setting up Flask on AWS EC2](http://bathompso.com/blog/Flask-AWS-Setup/). This should be your next step if you want to share your model with the world!\n",
    "- [A great guide to those weird \"decorators\"](http://simeonfranklin.com/blog/2012/jul/1/python-decorators-in-12-steps/).\n",
    "\n",
    "### Production coding\n",
    "\n",
    "- Add [logging](https://fangpenlin.com/posts/2012/08/26/good-logging-practice-in-python/) to your code; you'll be very glad you did.\n",
    "- Think ahead and include [error handling](https://eli.thegreenplace.net/2008/08/21/robust-exception-handling/), via [try/except clauses](https://jeffknupp.com/blog/2013/02/06/write-cleaner-python-use-exceptions/)\n",
    "- Get more comfortable with git, including [feature branching](https://www.atlassian.com/git/tutorials/comparing-workflows/feature-branch-workflow).\n",
    "- Include [unit tests](http://www.diveintopython.net/unit_testing/index.html); the [pytest module](http://pythontesting.net/framework/pytest/pytest-introduction/) is great.\n",
    "- [Integrate databases](http://zetcode.com/db/sqlitepythontutorial/)!\n",
    "- Beware technical debt, especially [machine learning technical debt](https://static.googleusercontent.com/media/research.google.com/en//pubs/archive/43146.pdf)."
   ]
  }
 ],
 "metadata": {
  "celltoolbar": "Slideshow",
  "kernelspec": {
   "display_name": "Python 2",
   "language": "python",
   "name": "python2"
  },
  "language_info": {
   "codemirror_mode": {
    "name": "ipython",
    "version": 2
   },
   "file_extension": ".py",
   "mimetype": "text/x-python",
   "name": "python",
   "nbconvert_exporter": "python",
   "pygments_lexer": "ipython2",
   "version": "2.7.13"
  }
 },
 "nbformat": 4,
 "nbformat_minor": 0
}
