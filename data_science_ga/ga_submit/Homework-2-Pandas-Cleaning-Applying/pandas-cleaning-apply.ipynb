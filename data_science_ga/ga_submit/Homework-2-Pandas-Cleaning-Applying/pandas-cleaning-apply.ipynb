{
 "cells": [
  {
   "cell_type": "markdown",
   "metadata": {},
   "source": [
    "<img src=\"http://imgur.com/1ZcRyrc.png\" style=\"float: left; margin: 20px; height: 55px\">\n",
    "\n",
    "## Lab: Cleaning Rock Song Data\n",
    "\n",
    "_Authors: Dave Yerrington (SF)_\n",
    "\n",
    "---\n"
   ]
  },
  {
   "cell_type": "code",
   "execution_count": 2,
   "metadata": {},
   "outputs": [],
   "source": [
    "import pandas as pd\n",
    "import numpy as np \n",
    "import seaborn as sns\n",
    "\n",
    "%matplotlib inline"
   ]
  },
  {
   "cell_type": "markdown",
   "metadata": {},
   "source": [
    "### 1. Load `rock.csv` and do an initial examination of its data columns."
   ]
  },
  {
   "cell_type": "code",
   "execution_count": 3,
   "metadata": {},
   "outputs": [],
   "source": [
    "rockfile = \"./datasets/rock.csv\""
   ]
  },
  {
   "cell_type": "code",
   "execution_count": 4,
   "metadata": {},
   "outputs": [
    {
     "data": {
      "text/html": [
       "<div>\n",
       "<style scoped>\n",
       "    .dataframe tbody tr th:only-of-type {\n",
       "        vertical-align: middle;\n",
       "    }\n",
       "\n",
       "    .dataframe tbody tr th {\n",
       "        vertical-align: top;\n",
       "    }\n",
       "\n",
       "    .dataframe thead th {\n",
       "        text-align: right;\n",
       "    }\n",
       "</style>\n",
       "<table border=\"1\" class=\"dataframe\">\n",
       "  <thead>\n",
       "    <tr style=\"text-align: right;\">\n",
       "      <th></th>\n",
       "      <th>Song Clean</th>\n",
       "      <th>ARTIST CLEAN</th>\n",
       "      <th>Release Year</th>\n",
       "      <th>COMBINED</th>\n",
       "      <th>First?</th>\n",
       "      <th>Year?</th>\n",
       "      <th>PlayCount</th>\n",
       "      <th>F*G</th>\n",
       "    </tr>\n",
       "  </thead>\n",
       "  <tbody>\n",
       "    <tr>\n",
       "      <th>0</th>\n",
       "      <td>Caught Up in You</td>\n",
       "      <td>.38 Special</td>\n",
       "      <td>1982</td>\n",
       "      <td>Caught Up in You by .38 Special</td>\n",
       "      <td>1</td>\n",
       "      <td>1</td>\n",
       "      <td>82</td>\n",
       "      <td>82</td>\n",
       "    </tr>\n",
       "    <tr>\n",
       "      <th>1</th>\n",
       "      <td>Fantasy Girl</td>\n",
       "      <td>.38 Special</td>\n",
       "      <td>NaN</td>\n",
       "      <td>Fantasy Girl by .38 Special</td>\n",
       "      <td>1</td>\n",
       "      <td>0</td>\n",
       "      <td>3</td>\n",
       "      <td>0</td>\n",
       "    </tr>\n",
       "    <tr>\n",
       "      <th>2</th>\n",
       "      <td>Hold On Loosely</td>\n",
       "      <td>.38 Special</td>\n",
       "      <td>1981</td>\n",
       "      <td>Hold On Loosely by .38 Special</td>\n",
       "      <td>1</td>\n",
       "      <td>1</td>\n",
       "      <td>85</td>\n",
       "      <td>85</td>\n",
       "    </tr>\n",
       "    <tr>\n",
       "      <th>3</th>\n",
       "      <td>Rockin' Into the Night</td>\n",
       "      <td>.38 Special</td>\n",
       "      <td>1980</td>\n",
       "      <td>Rockin' Into the Night by .38 Special</td>\n",
       "      <td>1</td>\n",
       "      <td>1</td>\n",
       "      <td>18</td>\n",
       "      <td>18</td>\n",
       "    </tr>\n",
       "    <tr>\n",
       "      <th>4</th>\n",
       "      <td>Art For Arts Sake</td>\n",
       "      <td>10cc</td>\n",
       "      <td>1975</td>\n",
       "      <td>Art For Arts Sake by 10cc</td>\n",
       "      <td>1</td>\n",
       "      <td>1</td>\n",
       "      <td>1</td>\n",
       "      <td>1</td>\n",
       "    </tr>\n",
       "    <tr>\n",
       "      <th>...</th>\n",
       "      <td>...</td>\n",
       "      <td>...</td>\n",
       "      <td>...</td>\n",
       "      <td>...</td>\n",
       "      <td>...</td>\n",
       "      <td>...</td>\n",
       "      <td>...</td>\n",
       "      <td>...</td>\n",
       "    </tr>\n",
       "    <tr>\n",
       "      <th>2225</th>\n",
       "      <td>She Loves My Automobile</td>\n",
       "      <td>ZZ Top</td>\n",
       "      <td>NaN</td>\n",
       "      <td>She Loves My Automobile by ZZ Top</td>\n",
       "      <td>1</td>\n",
       "      <td>0</td>\n",
       "      <td>1</td>\n",
       "      <td>0</td>\n",
       "    </tr>\n",
       "    <tr>\n",
       "      <th>2226</th>\n",
       "      <td>Tube Snake Boogie</td>\n",
       "      <td>ZZ Top</td>\n",
       "      <td>1981</td>\n",
       "      <td>Tube Snake Boogie by ZZ Top</td>\n",
       "      <td>1</td>\n",
       "      <td>1</td>\n",
       "      <td>32</td>\n",
       "      <td>32</td>\n",
       "    </tr>\n",
       "    <tr>\n",
       "      <th>2227</th>\n",
       "      <td>Tush</td>\n",
       "      <td>ZZ Top</td>\n",
       "      <td>1975</td>\n",
       "      <td>Tush by ZZ Top</td>\n",
       "      <td>1</td>\n",
       "      <td>1</td>\n",
       "      <td>109</td>\n",
       "      <td>109</td>\n",
       "    </tr>\n",
       "    <tr>\n",
       "      <th>2228</th>\n",
       "      <td>TV Dinners</td>\n",
       "      <td>ZZ Top</td>\n",
       "      <td>1983</td>\n",
       "      <td>TV Dinners by ZZ Top</td>\n",
       "      <td>1</td>\n",
       "      <td>1</td>\n",
       "      <td>1</td>\n",
       "      <td>1</td>\n",
       "    </tr>\n",
       "    <tr>\n",
       "      <th>2229</th>\n",
       "      <td>WAITIN' FOR THE BUS/JESUS JUST LEFT CHICAGO</td>\n",
       "      <td>ZZ Top</td>\n",
       "      <td>1973</td>\n",
       "      <td>WAITIN' FOR THE BUS/JESUS JUST LEFT CHICAGO by...</td>\n",
       "      <td>1</td>\n",
       "      <td>1</td>\n",
       "      <td>2</td>\n",
       "      <td>2</td>\n",
       "    </tr>\n",
       "  </tbody>\n",
       "</table>\n",
       "<p>2230 rows × 8 columns</p>\n",
       "</div>"
      ],
      "text/plain": [
       "                                       Song Clean ARTIST CLEAN Release Year  \\\n",
       "0                                Caught Up in You  .38 Special         1982   \n",
       "1                                    Fantasy Girl  .38 Special          NaN   \n",
       "2                                 Hold On Loosely  .38 Special         1981   \n",
       "3                          Rockin' Into the Night  .38 Special         1980   \n",
       "4                               Art For Arts Sake         10cc         1975   \n",
       "...                                           ...          ...          ...   \n",
       "2225                      She Loves My Automobile       ZZ Top          NaN   \n",
       "2226                            Tube Snake Boogie       ZZ Top         1981   \n",
       "2227                                         Tush       ZZ Top         1975   \n",
       "2228                                   TV Dinners       ZZ Top         1983   \n",
       "2229  WAITIN' FOR THE BUS/JESUS JUST LEFT CHICAGO       ZZ Top         1973   \n",
       "\n",
       "                                               COMBINED  First?  Year?  \\\n",
       "0                       Caught Up in You by .38 Special       1      1   \n",
       "1                           Fantasy Girl by .38 Special       1      0   \n",
       "2                        Hold On Loosely by .38 Special       1      1   \n",
       "3                 Rockin' Into the Night by .38 Special       1      1   \n",
       "4                             Art For Arts Sake by 10cc       1      1   \n",
       "...                                                 ...     ...    ...   \n",
       "2225                  She Loves My Automobile by ZZ Top       1      0   \n",
       "2226                        Tube Snake Boogie by ZZ Top       1      1   \n",
       "2227                                     Tush by ZZ Top       1      1   \n",
       "2228                               TV Dinners by ZZ Top       1      1   \n",
       "2229  WAITIN' FOR THE BUS/JESUS JUST LEFT CHICAGO by...       1      1   \n",
       "\n",
       "      PlayCount  F*G  \n",
       "0            82   82  \n",
       "1             3    0  \n",
       "2            85   85  \n",
       "3            18   18  \n",
       "4             1    1  \n",
       "...         ...  ...  \n",
       "2225          1    0  \n",
       "2226         32   32  \n",
       "2227        109  109  \n",
       "2228          1    1  \n",
       "2229          2    2  \n",
       "\n",
       "[2230 rows x 8 columns]"
      ]
     },
     "execution_count": 4,
     "metadata": {},
     "output_type": "execute_result"
    }
   ],
   "source": [
    "# Load the data.\n",
    "rock = pd.read_csv(rockfile)\n",
    "rock"
   ]
  },
  {
   "cell_type": "code",
   "execution_count": 6,
   "metadata": {},
   "outputs": [
    {
     "data": {
      "text/plain": [
       "Index(['Song Clean', 'ARTIST CLEAN', 'Release Year', 'COMBINED', 'First?',\n",
       "       'Year?', 'PlayCount', 'F*G'],\n",
       "      dtype='object')"
      ]
     },
     "execution_count": 6,
     "metadata": {},
     "output_type": "execute_result"
    }
   ],
   "source": [
    "# Look at the information regarding its columns.\n",
    "rock.columns"
   ]
  },
  {
   "cell_type": "markdown",
   "metadata": {},
   "source": [
    "### 2.  Clean up the column names.\n",
    "\n",
    "Let's clean up the column names. There are two ways we can accomplish this:\n",
    "\n",
    "#### 2.A Change the column names when you import the data using `pd.read_csv()`.\n",
    "\n",
    "Notice that, when passing `names=[..A LIST OF STRING..]` with a number of columns that matches the number of strings in the passed list, you replace the column names.\n",
    "\n",
    "NOTE: When you create custom column names, the first row of the `.csv` already represents a header. It is important to tell `pandas` to skip that row. The `skiprows=1` keyword argument to `read_csv()` will tell `pandas` to skip the first row."
   ]
  },
  {
   "cell_type": "code",
   "execution_count": 6,
   "metadata": {},
   "outputs": [
    {
     "data": {
      "text/html": [
       "<div>\n",
       "<style scoped>\n",
       "    .dataframe tbody tr th:only-of-type {\n",
       "        vertical-align: middle;\n",
       "    }\n",
       "\n",
       "    .dataframe tbody tr th {\n",
       "        vertical-align: top;\n",
       "    }\n",
       "\n",
       "    .dataframe thead th {\n",
       "        text-align: right;\n",
       "    }\n",
       "</style>\n",
       "<table border=\"1\" class=\"dataframe\">\n",
       "  <thead>\n",
       "    <tr style=\"text-align: right;\">\n",
       "      <th></th>\n",
       "      <th>song</th>\n",
       "      <th>artist</th>\n",
       "      <th>release</th>\n",
       "      <th>combined</th>\n",
       "      <th>is_first</th>\n",
       "      <th>is_year</th>\n",
       "      <th>playcount</th>\n",
       "      <th>f_g</th>\n",
       "    </tr>\n",
       "  </thead>\n",
       "  <tbody>\n",
       "    <tr>\n",
       "      <th>0</th>\n",
       "      <td>Caught Up in You</td>\n",
       "      <td>.38 Special</td>\n",
       "      <td>1982</td>\n",
       "      <td>Caught Up in You by .38 Special</td>\n",
       "      <td>1</td>\n",
       "      <td>1</td>\n",
       "      <td>82</td>\n",
       "      <td>82</td>\n",
       "    </tr>\n",
       "    <tr>\n",
       "      <th>1</th>\n",
       "      <td>Fantasy Girl</td>\n",
       "      <td>.38 Special</td>\n",
       "      <td>NaN</td>\n",
       "      <td>Fantasy Girl by .38 Special</td>\n",
       "      <td>1</td>\n",
       "      <td>0</td>\n",
       "      <td>3</td>\n",
       "      <td>0</td>\n",
       "    </tr>\n",
       "    <tr>\n",
       "      <th>2</th>\n",
       "      <td>Hold On Loosely</td>\n",
       "      <td>.38 Special</td>\n",
       "      <td>1981</td>\n",
       "      <td>Hold On Loosely by .38 Special</td>\n",
       "      <td>1</td>\n",
       "      <td>1</td>\n",
       "      <td>85</td>\n",
       "      <td>85</td>\n",
       "    </tr>\n",
       "    <tr>\n",
       "      <th>3</th>\n",
       "      <td>Rockin' Into the Night</td>\n",
       "      <td>.38 Special</td>\n",
       "      <td>1980</td>\n",
       "      <td>Rockin' Into the Night by .38 Special</td>\n",
       "      <td>1</td>\n",
       "      <td>1</td>\n",
       "      <td>18</td>\n",
       "      <td>18</td>\n",
       "    </tr>\n",
       "    <tr>\n",
       "      <th>4</th>\n",
       "      <td>Art For Arts Sake</td>\n",
       "      <td>10cc</td>\n",
       "      <td>1975</td>\n",
       "      <td>Art For Arts Sake by 10cc</td>\n",
       "      <td>1</td>\n",
       "      <td>1</td>\n",
       "      <td>1</td>\n",
       "      <td>1</td>\n",
       "    </tr>\n",
       "    <tr>\n",
       "      <th>...</th>\n",
       "      <td>...</td>\n",
       "      <td>...</td>\n",
       "      <td>...</td>\n",
       "      <td>...</td>\n",
       "      <td>...</td>\n",
       "      <td>...</td>\n",
       "      <td>...</td>\n",
       "      <td>...</td>\n",
       "    </tr>\n",
       "    <tr>\n",
       "      <th>2225</th>\n",
       "      <td>She Loves My Automobile</td>\n",
       "      <td>ZZ Top</td>\n",
       "      <td>NaN</td>\n",
       "      <td>She Loves My Automobile by ZZ Top</td>\n",
       "      <td>1</td>\n",
       "      <td>0</td>\n",
       "      <td>1</td>\n",
       "      <td>0</td>\n",
       "    </tr>\n",
       "    <tr>\n",
       "      <th>2226</th>\n",
       "      <td>Tube Snake Boogie</td>\n",
       "      <td>ZZ Top</td>\n",
       "      <td>1981</td>\n",
       "      <td>Tube Snake Boogie by ZZ Top</td>\n",
       "      <td>1</td>\n",
       "      <td>1</td>\n",
       "      <td>32</td>\n",
       "      <td>32</td>\n",
       "    </tr>\n",
       "    <tr>\n",
       "      <th>2227</th>\n",
       "      <td>Tush</td>\n",
       "      <td>ZZ Top</td>\n",
       "      <td>1975</td>\n",
       "      <td>Tush by ZZ Top</td>\n",
       "      <td>1</td>\n",
       "      <td>1</td>\n",
       "      <td>109</td>\n",
       "      <td>109</td>\n",
       "    </tr>\n",
       "    <tr>\n",
       "      <th>2228</th>\n",
       "      <td>TV Dinners</td>\n",
       "      <td>ZZ Top</td>\n",
       "      <td>1983</td>\n",
       "      <td>TV Dinners by ZZ Top</td>\n",
       "      <td>1</td>\n",
       "      <td>1</td>\n",
       "      <td>1</td>\n",
       "      <td>1</td>\n",
       "    </tr>\n",
       "    <tr>\n",
       "      <th>2229</th>\n",
       "      <td>WAITIN' FOR THE BUS/JESUS JUST LEFT CHICAGO</td>\n",
       "      <td>ZZ Top</td>\n",
       "      <td>1973</td>\n",
       "      <td>WAITIN' FOR THE BUS/JESUS JUST LEFT CHICAGO by...</td>\n",
       "      <td>1</td>\n",
       "      <td>1</td>\n",
       "      <td>2</td>\n",
       "      <td>2</td>\n",
       "    </tr>\n",
       "  </tbody>\n",
       "</table>\n",
       "<p>2230 rows × 8 columns</p>\n",
       "</div>"
      ],
      "text/plain": [
       "                                             song       artist release  \\\n",
       "0                                Caught Up in You  .38 Special    1982   \n",
       "1                                    Fantasy Girl  .38 Special     NaN   \n",
       "2                                 Hold On Loosely  .38 Special    1981   \n",
       "3                          Rockin' Into the Night  .38 Special    1980   \n",
       "4                               Art For Arts Sake         10cc    1975   \n",
       "...                                           ...          ...     ...   \n",
       "2225                      She Loves My Automobile       ZZ Top     NaN   \n",
       "2226                            Tube Snake Boogie       ZZ Top    1981   \n",
       "2227                                         Tush       ZZ Top    1975   \n",
       "2228                                   TV Dinners       ZZ Top    1983   \n",
       "2229  WAITIN' FOR THE BUS/JESUS JUST LEFT CHICAGO       ZZ Top    1973   \n",
       "\n",
       "                                               combined  is_first  is_year  \\\n",
       "0                       Caught Up in You by .38 Special         1        1   \n",
       "1                           Fantasy Girl by .38 Special         1        0   \n",
       "2                        Hold On Loosely by .38 Special         1        1   \n",
       "3                 Rockin' Into the Night by .38 Special         1        1   \n",
       "4                             Art For Arts Sake by 10cc         1        1   \n",
       "...                                                 ...       ...      ...   \n",
       "2225                  She Loves My Automobile by ZZ Top         1        0   \n",
       "2226                        Tube Snake Boogie by ZZ Top         1        1   \n",
       "2227                                     Tush by ZZ Top         1        1   \n",
       "2228                               TV Dinners by ZZ Top         1        1   \n",
       "2229  WAITIN' FOR THE BUS/JESUS JUST LEFT CHICAGO by...         1        1   \n",
       "\n",
       "      playcount  f_g  \n",
       "0            82   82  \n",
       "1             3    0  \n",
       "2            85   85  \n",
       "3            18   18  \n",
       "4             1    1  \n",
       "...         ...  ...  \n",
       "2225          1    0  \n",
       "2226         32   32  \n",
       "2227        109  109  \n",
       "2228          1    1  \n",
       "2229          2    2  \n",
       "\n",
       "[2230 rows x 8 columns]"
      ]
     },
     "execution_count": 6,
     "metadata": {},
     "output_type": "execute_result"
    }
   ],
   "source": [
    "# Change the column names when loading the '.csv':\n",
    "col_names = ['song','artist','release','combined','is_first','is_year','playcount','f_g']\n",
    "rock = pd.read_csv(rockfile,skiprows=1,names=col_names)\n",
    "rock"
   ]
  },
  {
   "cell_type": "markdown",
   "metadata": {},
   "source": [
    "#### 2.B Change column names using the `.rename()` function.\n",
    "\n",
    "The `.rename()` function takes an argument, `columns=name_dict`, in which `name_dict` is a dictionary containing the original column names as keys and the new column names as values."
   ]
  },
  {
   "cell_type": "code",
   "execution_count": 15,
   "metadata": {},
   "outputs": [
    {
     "data": {
      "text/html": [
       "<div>\n",
       "<style scoped>\n",
       "    .dataframe tbody tr th:only-of-type {\n",
       "        vertical-align: middle;\n",
       "    }\n",
       "\n",
       "    .dataframe tbody tr th {\n",
       "        vertical-align: top;\n",
       "    }\n",
       "\n",
       "    .dataframe thead th {\n",
       "        text-align: right;\n",
       "    }\n",
       "</style>\n",
       "<table border=\"1\" class=\"dataframe\">\n",
       "  <thead>\n",
       "    <tr style=\"text-align: right;\">\n",
       "      <th></th>\n",
       "      <th>song</th>\n",
       "      <th>artist</th>\n",
       "      <th>release</th>\n",
       "      <th>combined</th>\n",
       "      <th>is_first</th>\n",
       "      <th>is_year</th>\n",
       "      <th>playcount</th>\n",
       "      <th>f_g</th>\n",
       "    </tr>\n",
       "  </thead>\n",
       "  <tbody>\n",
       "    <tr>\n",
       "      <th>0</th>\n",
       "      <td>Caught Up in You</td>\n",
       "      <td>.38 Special</td>\n",
       "      <td>1982</td>\n",
       "      <td>Caught Up in You by .38 Special</td>\n",
       "      <td>1</td>\n",
       "      <td>1</td>\n",
       "      <td>82</td>\n",
       "      <td>82</td>\n",
       "    </tr>\n",
       "    <tr>\n",
       "      <th>1</th>\n",
       "      <td>Fantasy Girl</td>\n",
       "      <td>.38 Special</td>\n",
       "      <td>NaN</td>\n",
       "      <td>Fantasy Girl by .38 Special</td>\n",
       "      <td>1</td>\n",
       "      <td>0</td>\n",
       "      <td>3</td>\n",
       "      <td>0</td>\n",
       "    </tr>\n",
       "    <tr>\n",
       "      <th>2</th>\n",
       "      <td>Hold On Loosely</td>\n",
       "      <td>.38 Special</td>\n",
       "      <td>1981</td>\n",
       "      <td>Hold On Loosely by .38 Special</td>\n",
       "      <td>1</td>\n",
       "      <td>1</td>\n",
       "      <td>85</td>\n",
       "      <td>85</td>\n",
       "    </tr>\n",
       "    <tr>\n",
       "      <th>3</th>\n",
       "      <td>Rockin' Into the Night</td>\n",
       "      <td>.38 Special</td>\n",
       "      <td>1980</td>\n",
       "      <td>Rockin' Into the Night by .38 Special</td>\n",
       "      <td>1</td>\n",
       "      <td>1</td>\n",
       "      <td>18</td>\n",
       "      <td>18</td>\n",
       "    </tr>\n",
       "    <tr>\n",
       "      <th>4</th>\n",
       "      <td>Art For Arts Sake</td>\n",
       "      <td>10cc</td>\n",
       "      <td>1975</td>\n",
       "      <td>Art For Arts Sake by 10cc</td>\n",
       "      <td>1</td>\n",
       "      <td>1</td>\n",
       "      <td>1</td>\n",
       "      <td>1</td>\n",
       "    </tr>\n",
       "    <tr>\n",
       "      <th>...</th>\n",
       "      <td>...</td>\n",
       "      <td>...</td>\n",
       "      <td>...</td>\n",
       "      <td>...</td>\n",
       "      <td>...</td>\n",
       "      <td>...</td>\n",
       "      <td>...</td>\n",
       "      <td>...</td>\n",
       "    </tr>\n",
       "    <tr>\n",
       "      <th>2225</th>\n",
       "      <td>She Loves My Automobile</td>\n",
       "      <td>ZZ Top</td>\n",
       "      <td>NaN</td>\n",
       "      <td>She Loves My Automobile by ZZ Top</td>\n",
       "      <td>1</td>\n",
       "      <td>0</td>\n",
       "      <td>1</td>\n",
       "      <td>0</td>\n",
       "    </tr>\n",
       "    <tr>\n",
       "      <th>2226</th>\n",
       "      <td>Tube Snake Boogie</td>\n",
       "      <td>ZZ Top</td>\n",
       "      <td>1981</td>\n",
       "      <td>Tube Snake Boogie by ZZ Top</td>\n",
       "      <td>1</td>\n",
       "      <td>1</td>\n",
       "      <td>32</td>\n",
       "      <td>32</td>\n",
       "    </tr>\n",
       "    <tr>\n",
       "      <th>2227</th>\n",
       "      <td>Tush</td>\n",
       "      <td>ZZ Top</td>\n",
       "      <td>1975</td>\n",
       "      <td>Tush by ZZ Top</td>\n",
       "      <td>1</td>\n",
       "      <td>1</td>\n",
       "      <td>109</td>\n",
       "      <td>109</td>\n",
       "    </tr>\n",
       "    <tr>\n",
       "      <th>2228</th>\n",
       "      <td>TV Dinners</td>\n",
       "      <td>ZZ Top</td>\n",
       "      <td>1983</td>\n",
       "      <td>TV Dinners by ZZ Top</td>\n",
       "      <td>1</td>\n",
       "      <td>1</td>\n",
       "      <td>1</td>\n",
       "      <td>1</td>\n",
       "    </tr>\n",
       "    <tr>\n",
       "      <th>2229</th>\n",
       "      <td>WAITIN' FOR THE BUS/JESUS JUST LEFT CHICAGO</td>\n",
       "      <td>ZZ Top</td>\n",
       "      <td>1973</td>\n",
       "      <td>WAITIN' FOR THE BUS/JESUS JUST LEFT CHICAGO by...</td>\n",
       "      <td>1</td>\n",
       "      <td>1</td>\n",
       "      <td>2</td>\n",
       "      <td>2</td>\n",
       "    </tr>\n",
       "  </tbody>\n",
       "</table>\n",
       "<p>2230 rows × 8 columns</p>\n",
       "</div>"
      ],
      "text/plain": [
       "                                             song       artist release  \\\n",
       "0                                Caught Up in You  .38 Special    1982   \n",
       "1                                    Fantasy Girl  .38 Special     NaN   \n",
       "2                                 Hold On Loosely  .38 Special    1981   \n",
       "3                          Rockin' Into the Night  .38 Special    1980   \n",
       "4                               Art For Arts Sake         10cc    1975   \n",
       "...                                           ...          ...     ...   \n",
       "2225                      She Loves My Automobile       ZZ Top     NaN   \n",
       "2226                            Tube Snake Boogie       ZZ Top    1981   \n",
       "2227                                         Tush       ZZ Top    1975   \n",
       "2228                                   TV Dinners       ZZ Top    1983   \n",
       "2229  WAITIN' FOR THE BUS/JESUS JUST LEFT CHICAGO       ZZ Top    1973   \n",
       "\n",
       "                                               combined  is_first  is_year  \\\n",
       "0                       Caught Up in You by .38 Special         1        1   \n",
       "1                           Fantasy Girl by .38 Special         1        0   \n",
       "2                        Hold On Loosely by .38 Special         1        1   \n",
       "3                 Rockin' Into the Night by .38 Special         1        1   \n",
       "4                             Art For Arts Sake by 10cc         1        1   \n",
       "...                                                 ...       ...      ...   \n",
       "2225                  She Loves My Automobile by ZZ Top         1        0   \n",
       "2226                        Tube Snake Boogie by ZZ Top         1        1   \n",
       "2227                                     Tush by ZZ Top         1        1   \n",
       "2228                               TV Dinners by ZZ Top         1        1   \n",
       "2229  WAITIN' FOR THE BUS/JESUS JUST LEFT CHICAGO by...         1        1   \n",
       "\n",
       "      playcount  f_g  \n",
       "0            82   82  \n",
       "1             3    0  \n",
       "2            85   85  \n",
       "3            18   18  \n",
       "4             1    1  \n",
       "...         ...  ...  \n",
       "2225          1    0  \n",
       "2226         32   32  \n",
       "2227        109  109  \n",
       "2228          1    1  \n",
       "2229          2    2  \n",
       "\n",
       "[2230 rows x 8 columns]"
      ]
     },
     "execution_count": 15,
     "metadata": {},
     "output_type": "execute_result"
    }
   ],
   "source": [
    "# Change the column names using the `.rename()` function.\n",
    "rock.rename(columns={'Song Clean':'song', 'ARTIST CLEAN':'artist','Release Year':'release','COMBINED':'combined', 'First?':'is_first',\n",
    "                    'Year?':'is_year','PlayCount':'playcount','F*G':'f_g'})"
   ]
  },
  {
   "cell_type": "markdown",
   "metadata": {},
   "source": [
    "#### 2.C Reassigning the `.columns` attribute of a DataFrame.\n",
    "\n",
    "You can also just reassign the `.columns` attribute to a list of strings containing the new column names. \n",
    "\n",
    "The only caveat with reassigning `.columns` is that you have to reassign all of the column names at once. You can't partially replace a value by working on `.columns` directly. You have to reassign `.columns` with a list of equal length. "
   ]
  },
  {
   "cell_type": "code",
   "execution_count": 7,
   "metadata": {},
   "outputs": [
    {
     "data": {
      "text/plain": [
       "Index(['song', 'artist', 'release', 'combined', 'is_first', 'is_year',\n",
       "       'playcount', 'f_g'],\n",
       "      dtype='object')"
      ]
     },
     "execution_count": 7,
     "metadata": {},
     "output_type": "execute_result"
    }
   ],
   "source": [
    "# Replace the column names by reassigning the `.columns` attribute.\n",
    "rock.columns = col_names\n",
    "rock.columns"
   ]
  },
  {
   "cell_type": "markdown",
   "metadata": {},
   "source": [
    "### 3. Subsetting data where null values exist.\n",
    "\n",
    "We have mixed `str` and `NaN` values in the `release` column. `NaN` stands for \"not a number\" and is the way `pandas` handles \"nulls\" or nonexistent data. We can use the `.isnull()` method of a Series to find null values.\n",
    "\n",
    "Print the header of the data subset to where the `release` column is null values."
   ]
  },
  {
   "cell_type": "code",
   "execution_count": 18,
   "metadata": {},
   "outputs": [
    {
     "data": {
      "text/plain": [
       "0    False\n",
       "1     True\n",
       "2    False\n",
       "3    False\n",
       "4    False\n",
       "Name: release, dtype: bool"
      ]
     },
     "execution_count": 18,
     "metadata": {},
     "output_type": "execute_result"
    }
   ],
   "source": [
    "# Show records where df['release'] is null\n",
    "rock.release.isnull().head()"
   ]
  },
  {
   "cell_type": "markdown",
   "metadata": {},
   "source": [
    "### 4. Update slices of your DataFrame based on mask selection/slices.\n",
    "\n",
    "In many scenarios, we want to upate values in our DataFrame according to criteria. Let's say we wanted to set all of the null values in `release` to 0.\n",
    "\n",
    "With newer versions of `pandas`, in order to manipulate data in the original DataFrame, we have to use `.loc` while performing reassignment using a mask and an index.\n",
    "\n",
    "For example, the following won't always work:\n",
    "```python\n",
    "df[row_mask]['column_name'] = new_value\n",
    "```\n",
    "\n",
    "The best way to accomplish the same task is:\n",
    "```python\n",
    "df.loc[row_mask, 'column_name'] = new_value\n",
    "```\n",
    "\n",
    "For multiple column assignment, you would use:\n",
    "```python\n",
    "df.loc[row_mask, ['col_1', 'col_2', 'col_3']] = new_value\n",
    "```\n",
    "\n",
    "#### 4.A Let's try it out. Make all of the null values in `release` 0."
   ]
  },
  {
   "cell_type": "code",
   "execution_count": 8,
   "metadata": {},
   "outputs": [],
   "source": [
    "# Replace release nulls with 0\n",
    "rock.release.fillna(value=0, inplace=True)"
   ]
  },
  {
   "cell_type": "markdown",
   "metadata": {},
   "source": [
    "#### 4.B Verify that `release` contains no null values."
   ]
  },
  {
   "cell_type": "code",
   "execution_count": 26,
   "metadata": {},
   "outputs": [
    {
     "data": {
      "text/plain": [
       "False    2230\n",
       "Name: release, dtype: int64"
      ]
     },
     "execution_count": 26,
     "metadata": {},
     "output_type": "execute_result"
    }
   ],
   "source": [
    "# A:\n",
    "rock.release.isnull().value_counts()"
   ]
  },
  {
   "cell_type": "markdown",
   "metadata": {},
   "source": [
    "### 5. Ensure that the data types of the columns make sense. \n",
    "\n",
    "Verifying column data types is a critical part of data munging. If columns have the wrong data type, then there is usually corrupted or incorrect data in some of the observations.\n",
    "\n",
    "#### 5.A Look at the data types for the columns. Are any incorrect given what the data represents?"
   ]
  },
  {
   "cell_type": "code",
   "execution_count": 30,
   "metadata": {},
   "outputs": [
    {
     "data": {
      "text/plain": [
       "song         object\n",
       "artist       object\n",
       "release      object\n",
       "combined     object\n",
       "is_first      int64\n",
       "is_year       int64\n",
       "playcount     int64\n",
       "f_g           int64\n",
       "dtype: object"
      ]
     },
     "execution_count": 30,
     "metadata": {},
     "output_type": "execute_result"
    }
   ],
   "source": [
    "# A:\n",
    "rock.dtypes"
   ]
  },
  {
   "cell_type": "markdown",
   "metadata": {},
   "source": [
    "### 6. Investigate and clean up the `release` column.\n",
    "\n",
    "The `release` column is a string data type when it should be an integer.\n",
    "\n",
    "#### 6.A Figure out what value(s) are causing the `release` column to be encoded as a string instead of an integer."
   ]
  },
  {
   "cell_type": "code",
   "execution_count": 35,
   "metadata": {},
   "outputs": [
    {
     "data": {
      "text/plain": [
       "0                577\n",
       "1973             104\n",
       "1977              83\n",
       "1975              83\n",
       "1970              81\n",
       "1971              75\n",
       "1969              72\n",
       "1980              70\n",
       "1978              64\n",
       "1979              63\n",
       "1967              61\n",
       "1981              61\n",
       "1983              60\n",
       "1976              56\n",
       "1982              54\n",
       "1984              51\n",
       "1972              50\n",
       "1974              48\n",
       "1968              46\n",
       "1985              39\n",
       "1987              39\n",
       "1986              37\n",
       "1991              34\n",
       "1989              32\n",
       "1966              30\n",
       "1988              29\n",
       "1965              28\n",
       "1994              25\n",
       "1990              22\n",
       "1993              19\n",
       "1992              14\n",
       "1964              14\n",
       "1999              13\n",
       "1995              10\n",
       "1963               9\n",
       "1997               9\n",
       "1996               9\n",
       "1998               6\n",
       "2002               6\n",
       "2005               5\n",
       "2004               5\n",
       "2012               5\n",
       "2001               4\n",
       "1962               3\n",
       "2008               3\n",
       "2000               3\n",
       "2011               3\n",
       "2003               3\n",
       "2007               3\n",
       "2013               2\n",
       "2014               2\n",
       "1071               1\n",
       "1958               1\n",
       "1961               1\n",
       "SONGFACTS.COM      1\n",
       "2006               1\n",
       "1955               1\n",
       "Name: release, dtype: int64"
      ]
     },
     "execution_count": 35,
     "metadata": {},
     "output_type": "execute_result"
    }
   ],
   "source": [
    "# A:\n",
    "rock.release.value_counts()\n",
    "#rock.release.isnull().sum()"
   ]
  },
  {
   "cell_type": "markdown",
   "metadata": {},
   "source": [
    "#### 6.B Look at the rows in which there is incorrect data in the `release` column."
   ]
  },
  {
   "cell_type": "code",
   "execution_count": 36,
   "metadata": {},
   "outputs": [
    {
     "data": {
      "text/html": [
       "<div>\n",
       "<style scoped>\n",
       "    .dataframe tbody tr th:only-of-type {\n",
       "        vertical-align: middle;\n",
       "    }\n",
       "\n",
       "    .dataframe tbody tr th {\n",
       "        vertical-align: top;\n",
       "    }\n",
       "\n",
       "    .dataframe thead th {\n",
       "        text-align: right;\n",
       "    }\n",
       "</style>\n",
       "<table border=\"1\" class=\"dataframe\">\n",
       "  <thead>\n",
       "    <tr style=\"text-align: right;\">\n",
       "      <th></th>\n",
       "      <th>song</th>\n",
       "      <th>artist</th>\n",
       "      <th>release</th>\n",
       "      <th>combined</th>\n",
       "      <th>is_first</th>\n",
       "      <th>is_year</th>\n",
       "      <th>playcount</th>\n",
       "      <th>f_g</th>\n",
       "    </tr>\n",
       "  </thead>\n",
       "  <tbody>\n",
       "    <tr>\n",
       "      <th>1504</th>\n",
       "      <td>Bullfrog Blues</td>\n",
       "      <td>Rory Gallagher</td>\n",
       "      <td>SONGFACTS.COM</td>\n",
       "      <td>Bullfrog Blues by Rory Gallagher</td>\n",
       "      <td>1</td>\n",
       "      <td>1</td>\n",
       "      <td>1</td>\n",
       "      <td>1</td>\n",
       "    </tr>\n",
       "  </tbody>\n",
       "</table>\n",
       "</div>"
      ],
      "text/plain": [
       "                song          artist        release  \\\n",
       "1504  Bullfrog Blues  Rory Gallagher  SONGFACTS.COM   \n",
       "\n",
       "                              combined  is_first  is_year  playcount  f_g  \n",
       "1504  Bullfrog Blues by Rory Gallagher         1        1          1    1  "
      ]
     },
     "execution_count": 36,
     "metadata": {},
     "output_type": "execute_result"
    }
   ],
   "source": [
    "# A:\n",
    "rock[rock.release == 'SONGFACTS.COM']"
   ]
  },
  {
   "cell_type": "markdown",
   "metadata": {},
   "source": [
    "#### 6.C. Clean up the data. Normally we may replace the offending data with null np.nan values, however we previously converted all of the nan values in the release column to zeros so we might as well continue with the same practice. Replacing with 0 (or nan) will allow us to convert the column to numeric."
   ]
  },
  {
   "cell_type": "code",
   "execution_count": 9,
   "metadata": {},
   "outputs": [
    {
     "name": "stderr",
     "output_type": "stream",
     "text": [
      "C:\\ProgramData\\Anaconda3\\lib\\site-packages\\pandas\\core\\indexing.py:670: SettingWithCopyWarning: \n",
      "A value is trying to be set on a copy of a slice from a DataFrame\n",
      "\n",
      "See the caveats in the documentation: https://pandas.pydata.org/pandas-docs/stable/user_guide/indexing.html#returning-a-view-versus-a-copy\n",
      "  self._setitem_with_indexer(indexer, value)\n"
     ]
    },
    {
     "data": {
      "text/plain": [
       "0       578\n",
       "1973    104\n",
       "1975     83\n",
       "1977     83\n",
       "1970     81\n",
       "1971     75\n",
       "1969     72\n",
       "1980     70\n",
       "1978     64\n",
       "1979     63\n",
       "1967     61\n",
       "1981     61\n",
       "1983     60\n",
       "1976     56\n",
       "1982     54\n",
       "1984     51\n",
       "1972     50\n",
       "1974     48\n",
       "1968     46\n",
       "1987     39\n",
       "1985     39\n",
       "1986     37\n",
       "1991     34\n",
       "1989     32\n",
       "1966     30\n",
       "1988     29\n",
       "1965     28\n",
       "1994     25\n",
       "1990     22\n",
       "1993     19\n",
       "1964     14\n",
       "1992     14\n",
       "1999     13\n",
       "1995     10\n",
       "1996      9\n",
       "1963      9\n",
       "1997      9\n",
       "1998      6\n",
       "2002      6\n",
       "2012      5\n",
       "2004      5\n",
       "2005      5\n",
       "2001      4\n",
       "2008      3\n",
       "2007      3\n",
       "1962      3\n",
       "2003      3\n",
       "2000      3\n",
       "2011      3\n",
       "2014      2\n",
       "2013      2\n",
       "2006      1\n",
       "1961      1\n",
       "1071      1\n",
       "1955      1\n",
       "1958      1\n",
       "Name: release, dtype: int64"
      ]
     },
     "execution_count": 9,
     "metadata": {},
     "output_type": "execute_result"
    }
   ],
   "source": [
    "# A:\n",
    "rock.release.loc[rock.release=='SONGFACTS.COM'] = 0\n",
    "rock.release.value_counts()"
   ]
  },
  {
   "cell_type": "markdown",
   "metadata": {},
   "source": [
    "### 7. Get summary statistics for the `release` column using the `.describe()` function.\n",
    "\n",
    "Now that the `release` column is finally a numeric data type, we can apply the `.describe()` function.  \n",
    "\n",
    "#### 7.A Print out the summary stats for the `release` column. What is the earliest and latest release date?"
   ]
  },
  {
   "cell_type": "code",
   "execution_count": 10,
   "metadata": {},
   "outputs": [
    {
     "name": "stdout",
     "output_type": "stream",
     "text": [
      "count     2230\n",
      "unique      56\n",
      "top          0\n",
      "freq       578\n",
      "Name: release, dtype: int64\n",
      "2014\n",
      "0\n"
     ]
    }
   ],
   "source": [
    "# A:\n",
    "print(rock.release.describe())\n",
    "rock.release = pd.to_numeric(rock.release)\n",
    "print(rock.release.max())\n",
    "print(rock.release.min())"
   ]
  },
  {
   "cell_type": "markdown",
   "metadata": {},
   "source": [
    "#### 7.B Based on the summary statistics, is there anything else wrong with the `release` column? "
   ]
  },
  {
   "cell_type": "code",
   "execution_count": 11,
   "metadata": {},
   "outputs": [
    {
     "data": {
      "text/plain": [
       "0       578\n",
       "1973    104\n",
       "1977     83\n",
       "1975     83\n",
       "1970     81\n",
       "1971     76\n",
       "1969     72\n",
       "1980     70\n",
       "1978     64\n",
       "1979     63\n",
       "1981     61\n",
       "1967     61\n",
       "1983     60\n",
       "1976     56\n",
       "1982     54\n",
       "1984     51\n",
       "1972     50\n",
       "1974     48\n",
       "1968     46\n",
       "1985     39\n",
       "1987     39\n",
       "1986     37\n",
       "1991     34\n",
       "1989     32\n",
       "1966     30\n",
       "1988     29\n",
       "1965     28\n",
       "1994     25\n",
       "1990     22\n",
       "1993     19\n",
       "1964     14\n",
       "1992     14\n",
       "1999     13\n",
       "1995     10\n",
       "1996      9\n",
       "1997      9\n",
       "1963      9\n",
       "2002      6\n",
       "1998      6\n",
       "2012      5\n",
       "2005      5\n",
       "2004      5\n",
       "2001      4\n",
       "2000      3\n",
       "2008      3\n",
       "1962      3\n",
       "2007      3\n",
       "2003      3\n",
       "2011      3\n",
       "2013      2\n",
       "2014      2\n",
       "2006      1\n",
       "1955      1\n",
       "1961      1\n",
       "1958      1\n",
       "Name: release, dtype: int64"
      ]
     },
     "execution_count": 11,
     "metadata": {},
     "output_type": "execute_result"
    }
   ],
   "source": [
    "# A:\n",
    "# assume 1071 is a typo and actually should be 1971\n",
    "rock.release.loc[rock.release==1071] = 1971\n",
    "rock.release.value_counts()"
   ]
  },
  {
   "cell_type": "markdown",
   "metadata": {
    "collapsed": true
   },
   "source": [
    "_Looking at the DataFrame that contains the year 1071, we can see that the year was probably corrupted and should be replaced with something else if possible._"
   ]
  },
  {
   "cell_type": "markdown",
   "metadata": {
    "collapsed": true
   },
   "source": [
    "### 8. Make changes and investigate using custom functions with `.apply()`.\n",
    "\n",
    "Let's say we want to traverse every single row in our data set and apply a function to that row.\n",
    "\n",
    "#### 8.A Write a function that will take a row of a DataFrame and print out the song, artist, and whether or not the release date is < 1970.\n"
   ]
  },
  {
   "cell_type": "code",
   "execution_count": 12,
   "metadata": {},
   "outputs": [
    {
     "name": "stdout",
     "output_type": "stream",
     "text": [
      "Caught Up in You .38 Special False\n"
     ]
    }
   ],
   "source": [
    "# A:\n",
    "def print_row(row):\n",
    "    is_pre_1970 = row['release'] < 1970\n",
    "    print (row.song, row.artist, is_pre_1970)\n",
    "print_row(rock.iloc[0])"
   ]
  },
  {
   "cell_type": "markdown",
   "metadata": {},
   "source": [
    "#### 8.B Using the `.apply()` function, apply the function you wrote to the first four rows of the DataFrame.\n",
    "\n",
    "You will need to tell the `apply` function to operate row by row. Setting the keyword argument as `axis=1` indicates that the function should be applied to each row individually."
   ]
  },
  {
   "cell_type": "code",
   "execution_count": 13,
   "metadata": {
    "scrolled": true
   },
   "outputs": [
    {
     "name": "stdout",
     "output_type": "stream",
     "text": [
      "Caught Up in You .38 Special False\n",
      "Fantasy Girl .38 Special True\n",
      "Hold On Loosely .38 Special False\n",
      "Rockin' Into the Night .38 Special False\n"
     ]
    },
    {
     "data": {
      "text/plain": [
       "0    None\n",
       "1    None\n",
       "2    None\n",
       "3    None\n",
       "dtype: object"
      ]
     },
     "execution_count": 13,
     "metadata": {},
     "output_type": "execute_result"
    }
   ],
   "source": [
    "# A:\n",
    "rock.head(4).apply(print_row, axis=1)"
   ]
  },
  {
   "cell_type": "markdown",
   "metadata": {},
   "source": [
    "You'll notice that there will be a final output Series of `None` values. The `.apply()` function, if a return value is not specified, will return a Series of `None` values (similar to how the default return for Python functions is `None` when a return statement is not specified)."
   ]
  },
  {
   "cell_type": "markdown",
   "metadata": {},
   "source": [
    "### 9. Write a function that converts cells in a DataFrame to float and otherwise replaces them with `np.nan`.\n",
    "\n",
    "If applied to our data, it would keep only the numeric information and otherwise input null values.\n",
    "\n",
    "Recall that the try-except syntax in Python is a great way to try something and take another action if the initial step fails:\n",
    "\n",
    "```python\n",
    "try:\n",
    "    Perform some action.\n",
    "except:\n",
    "   Perform some other action if the first failed with an error.\n",
    "```\n",
    "\n",
    "#### 9.A Write the function that takes a column and converts all of its values to float if possible and `np.nan` otherwise. The return value should be the converted Series."
   ]
  },
  {
   "cell_type": "code",
   "execution_count": 27,
   "metadata": {},
   "outputs": [],
   "source": [
    "# A:\n",
    "def to_float(column):\n",
    "    for i in column.index:\n",
    "        try:\n",
    "            column.iloc[i] = float(column[i])\n",
    "        except:\n",
    "            column.iloc[i] = np.nan\n",
    "    return column"
   ]
  },
  {
   "cell_type": "markdown",
   "metadata": {},
   "source": [
    "#### 9.B Try your function out on the rock song data and ensure the output is what you expected.\n"
   ]
  },
  {
   "cell_type": "code",
   "execution_count": 28,
   "metadata": {},
   "outputs": [
    {
     "data": {
      "text/plain": [
       "0       NaN\n",
       "1       NaN\n",
       "2       NaN\n",
       "3       NaN\n",
       "4       NaN\n",
       "       ... \n",
       "2225    NaN\n",
       "2226    NaN\n",
       "2227    NaN\n",
       "2228    NaN\n",
       "2229    NaN\n",
       "Name: song, Length: 2230, dtype: object"
      ]
     },
     "execution_count": 28,
     "metadata": {},
     "output_type": "execute_result"
    }
   ],
   "source": [
    "# A:\n",
    "to_float(rock.song)"
   ]
  },
  {
   "cell_type": "markdown",
   "metadata": {
    "collapsed": true
   },
   "source": [
    "#### 9.C Describe the new float-only DataFrame."
   ]
  },
  {
   "cell_type": "code",
   "execution_count": 29,
   "metadata": {},
   "outputs": [
    {
     "data": {
      "text/html": [
       "<div>\n",
       "<style scoped>\n",
       "    .dataframe tbody tr th:only-of-type {\n",
       "        vertical-align: middle;\n",
       "    }\n",
       "\n",
       "    .dataframe tbody tr th {\n",
       "        vertical-align: top;\n",
       "    }\n",
       "\n",
       "    .dataframe thead th {\n",
       "        text-align: right;\n",
       "    }\n",
       "</style>\n",
       "<table border=\"1\" class=\"dataframe\">\n",
       "  <thead>\n",
       "    <tr style=\"text-align: right;\">\n",
       "      <th></th>\n",
       "      <th>release</th>\n",
       "      <th>is_first</th>\n",
       "      <th>is_year</th>\n",
       "      <th>playcount</th>\n",
       "      <th>f_g</th>\n",
       "    </tr>\n",
       "  </thead>\n",
       "  <tbody>\n",
       "    <tr>\n",
       "      <th>count</th>\n",
       "      <td>2230.000000</td>\n",
       "      <td>2230.0</td>\n",
       "      <td>2230.000000</td>\n",
       "      <td>2230.000000</td>\n",
       "      <td>2230.000000</td>\n",
       "    </tr>\n",
       "    <tr>\n",
       "      <th>mean</th>\n",
       "      <td>1465.734978</td>\n",
       "      <td>1.0</td>\n",
       "      <td>0.741256</td>\n",
       "      <td>16.872646</td>\n",
       "      <td>15.048430</td>\n",
       "    </tr>\n",
       "    <tr>\n",
       "      <th>std</th>\n",
       "      <td>867.221986</td>\n",
       "      <td>0.0</td>\n",
       "      <td>0.438043</td>\n",
       "      <td>25.302972</td>\n",
       "      <td>25.288366</td>\n",
       "    </tr>\n",
       "    <tr>\n",
       "      <th>min</th>\n",
       "      <td>0.000000</td>\n",
       "      <td>1.0</td>\n",
       "      <td>0.000000</td>\n",
       "      <td>0.000000</td>\n",
       "      <td>0.000000</td>\n",
       "    </tr>\n",
       "    <tr>\n",
       "      <th>25%</th>\n",
       "      <td>0.000000</td>\n",
       "      <td>1.0</td>\n",
       "      <td>0.000000</td>\n",
       "      <td>1.000000</td>\n",
       "      <td>0.000000</td>\n",
       "    </tr>\n",
       "    <tr>\n",
       "      <th>50%</th>\n",
       "      <td>1973.000000</td>\n",
       "      <td>1.0</td>\n",
       "      <td>1.000000</td>\n",
       "      <td>4.000000</td>\n",
       "      <td>3.000000</td>\n",
       "    </tr>\n",
       "    <tr>\n",
       "      <th>75%</th>\n",
       "      <td>1981.000000</td>\n",
       "      <td>1.0</td>\n",
       "      <td>1.000000</td>\n",
       "      <td>21.000000</td>\n",
       "      <td>18.000000</td>\n",
       "    </tr>\n",
       "    <tr>\n",
       "      <th>max</th>\n",
       "      <td>2014.000000</td>\n",
       "      <td>1.0</td>\n",
       "      <td>1.000000</td>\n",
       "      <td>142.000000</td>\n",
       "      <td>142.000000</td>\n",
       "    </tr>\n",
       "  </tbody>\n",
       "</table>\n",
       "</div>"
      ],
      "text/plain": [
       "           release  is_first      is_year    playcount          f_g\n",
       "count  2230.000000    2230.0  2230.000000  2230.000000  2230.000000\n",
       "mean   1465.734978       1.0     0.741256    16.872646    15.048430\n",
       "std     867.221986       0.0     0.438043    25.302972    25.288366\n",
       "min       0.000000       1.0     0.000000     0.000000     0.000000\n",
       "25%       0.000000       1.0     0.000000     1.000000     0.000000\n",
       "50%    1973.000000       1.0     1.000000     4.000000     3.000000\n",
       "75%    1981.000000       1.0     1.000000    21.000000    18.000000\n",
       "max    2014.000000       1.0     1.000000   142.000000   142.000000"
      ]
     },
     "execution_count": 29,
     "metadata": {},
     "output_type": "execute_result"
    }
   ],
   "source": [
    "# A:\n",
    "rock.describe()"
   ]
  }
 ],
 "metadata": {
  "anaconda-cloud": {},
  "kernelspec": {
   "display_name": "Python 3",
   "language": "python",
   "name": "python3"
  },
  "language_info": {
   "codemirror_mode": {
    "name": "ipython",
    "version": 3
   },
   "file_extension": ".py",
   "mimetype": "text/x-python",
   "name": "python",
   "nbconvert_exporter": "python",
   "pygments_lexer": "ipython3",
   "version": "3.7.6"
  }
 },
 "nbformat": 4,
 "nbformat_minor": 1
}
